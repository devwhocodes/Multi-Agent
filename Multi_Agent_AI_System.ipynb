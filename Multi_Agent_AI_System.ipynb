{
  "nbformat": 4,
  "nbformat_minor": 0,
  "metadata": {
    "colab": {
      "provenance": [],
      "toc_visible": true
    },
    "kernelspec": {
      "name": "python3",
      "display_name": "Python 3"
    },
    "language_info": {
      "name": "python"
    },
    "widgets": {
      "application/vnd.jupyter.widget-state+json": {
        "ad6381264fea4684834938285dee74e3": {
          "model_module": "@jupyter-widgets/controls",
          "model_name": "HBoxModel",
          "model_module_version": "1.5.0",
          "state": {
            "_dom_classes": [],
            "_model_module": "@jupyter-widgets/controls",
            "_model_module_version": "1.5.0",
            "_model_name": "HBoxModel",
            "_view_count": null,
            "_view_module": "@jupyter-widgets/controls",
            "_view_module_version": "1.5.0",
            "_view_name": "HBoxView",
            "box_style": "",
            "children": [
              "IPY_MODEL_0470c69682ff4f359f21881c05a45bde",
              "IPY_MODEL_f6fc9dc6573c40618b8393c4660ad31c",
              "IPY_MODEL_e91e593f05554204a5739457a515180c"
            ],
            "layout": "IPY_MODEL_56574283c43348b4b07cc623f7400dff"
          }
        },
        "0470c69682ff4f359f21881c05a45bde": {
          "model_module": "@jupyter-widgets/controls",
          "model_name": "HTMLModel",
          "model_module_version": "1.5.0",
          "state": {
            "_dom_classes": [],
            "_model_module": "@jupyter-widgets/controls",
            "_model_module_version": "1.5.0",
            "_model_name": "HTMLModel",
            "_view_count": null,
            "_view_module": "@jupyter-widgets/controls",
            "_view_module_version": "1.5.0",
            "_view_name": "HTMLView",
            "description": "",
            "description_tooltip": null,
            "layout": "IPY_MODEL_bc46e2fa09fd4955964faf39b488c343",
            "placeholder": "​",
            "style": "IPY_MODEL_c603be3ef059418fbb86b9a7feeb5f92",
            "value": ""
          }
        },
        "f6fc9dc6573c40618b8393c4660ad31c": {
          "model_module": "@jupyter-widgets/controls",
          "model_name": "FloatProgressModel",
          "model_module_version": "1.5.0",
          "state": {
            "_dom_classes": [],
            "_model_module": "@jupyter-widgets/controls",
            "_model_module_version": "1.5.0",
            "_model_name": "FloatProgressModel",
            "_view_count": null,
            "_view_module": "@jupyter-widgets/controls",
            "_view_module_version": "1.5.0",
            "_view_name": "ProgressView",
            "bar_style": "success",
            "description": "",
            "description_tooltip": null,
            "layout": "IPY_MODEL_981e17a423e54d99ba94f735b84572a1",
            "max": 1,
            "min": 0,
            "orientation": "horizontal",
            "style": "IPY_MODEL_093b407107954780a76362fa16700391",
            "value": 1
          }
        },
        "e91e593f05554204a5739457a515180c": {
          "model_module": "@jupyter-widgets/controls",
          "model_name": "HTMLModel",
          "model_module_version": "1.5.0",
          "state": {
            "_dom_classes": [],
            "_model_module": "@jupyter-widgets/controls",
            "_model_module_version": "1.5.0",
            "_model_name": "HTMLModel",
            "_view_count": null,
            "_view_module": "@jupyter-widgets/controls",
            "_view_module_version": "1.5.0",
            "_view_name": "HTMLView",
            "description": "",
            "description_tooltip": null,
            "layout": "IPY_MODEL_be1cd82c08264428acb50e36704fc396",
            "placeholder": "​",
            "style": "IPY_MODEL_20df13eaf21947c2a8fd7e43909c7ab4",
            "value": " 4/? [00:05&lt;00:00,  1.10it/s]"
          }
        },
        "56574283c43348b4b07cc623f7400dff": {
          "model_module": "@jupyter-widgets/base",
          "model_name": "LayoutModel",
          "model_module_version": "1.2.0",
          "state": {
            "_model_module": "@jupyter-widgets/base",
            "_model_module_version": "1.2.0",
            "_model_name": "LayoutModel",
            "_view_count": null,
            "_view_module": "@jupyter-widgets/base",
            "_view_module_version": "1.2.0",
            "_view_name": "LayoutView",
            "align_content": null,
            "align_items": null,
            "align_self": null,
            "border": null,
            "bottom": null,
            "display": null,
            "flex": null,
            "flex_flow": null,
            "grid_area": null,
            "grid_auto_columns": null,
            "grid_auto_flow": null,
            "grid_auto_rows": null,
            "grid_column": null,
            "grid_gap": null,
            "grid_row": null,
            "grid_template_areas": null,
            "grid_template_columns": null,
            "grid_template_rows": null,
            "height": null,
            "justify_content": null,
            "justify_items": null,
            "left": null,
            "margin": null,
            "max_height": null,
            "max_width": null,
            "min_height": null,
            "min_width": null,
            "object_fit": null,
            "object_position": null,
            "order": null,
            "overflow": null,
            "overflow_x": null,
            "overflow_y": null,
            "padding": null,
            "right": null,
            "top": null,
            "visibility": null,
            "width": null
          }
        },
        "bc46e2fa09fd4955964faf39b488c343": {
          "model_module": "@jupyter-widgets/base",
          "model_name": "LayoutModel",
          "model_module_version": "1.2.0",
          "state": {
            "_model_module": "@jupyter-widgets/base",
            "_model_module_version": "1.2.0",
            "_model_name": "LayoutModel",
            "_view_count": null,
            "_view_module": "@jupyter-widgets/base",
            "_view_module_version": "1.2.0",
            "_view_name": "LayoutView",
            "align_content": null,
            "align_items": null,
            "align_self": null,
            "border": null,
            "bottom": null,
            "display": null,
            "flex": null,
            "flex_flow": null,
            "grid_area": null,
            "grid_auto_columns": null,
            "grid_auto_flow": null,
            "grid_auto_rows": null,
            "grid_column": null,
            "grid_gap": null,
            "grid_row": null,
            "grid_template_areas": null,
            "grid_template_columns": null,
            "grid_template_rows": null,
            "height": null,
            "justify_content": null,
            "justify_items": null,
            "left": null,
            "margin": null,
            "max_height": null,
            "max_width": null,
            "min_height": null,
            "min_width": null,
            "object_fit": null,
            "object_position": null,
            "order": null,
            "overflow": null,
            "overflow_x": null,
            "overflow_y": null,
            "padding": null,
            "right": null,
            "top": null,
            "visibility": null,
            "width": null
          }
        },
        "c603be3ef059418fbb86b9a7feeb5f92": {
          "model_module": "@jupyter-widgets/controls",
          "model_name": "DescriptionStyleModel",
          "model_module_version": "1.5.0",
          "state": {
            "_model_module": "@jupyter-widgets/controls",
            "_model_module_version": "1.5.0",
            "_model_name": "DescriptionStyleModel",
            "_view_count": null,
            "_view_module": "@jupyter-widgets/base",
            "_view_module_version": "1.2.0",
            "_view_name": "StyleView",
            "description_width": ""
          }
        },
        "981e17a423e54d99ba94f735b84572a1": {
          "model_module": "@jupyter-widgets/base",
          "model_name": "LayoutModel",
          "model_module_version": "1.2.0",
          "state": {
            "_model_module": "@jupyter-widgets/base",
            "_model_module_version": "1.2.0",
            "_model_name": "LayoutModel",
            "_view_count": null,
            "_view_module": "@jupyter-widgets/base",
            "_view_module_version": "1.2.0",
            "_view_name": "LayoutView",
            "align_content": null,
            "align_items": null,
            "align_self": null,
            "border": null,
            "bottom": null,
            "display": null,
            "flex": null,
            "flex_flow": null,
            "grid_area": null,
            "grid_auto_columns": null,
            "grid_auto_flow": null,
            "grid_auto_rows": null,
            "grid_column": null,
            "grid_gap": null,
            "grid_row": null,
            "grid_template_areas": null,
            "grid_template_columns": null,
            "grid_template_rows": null,
            "height": null,
            "justify_content": null,
            "justify_items": null,
            "left": null,
            "margin": null,
            "max_height": null,
            "max_width": null,
            "min_height": null,
            "min_width": null,
            "object_fit": null,
            "object_position": null,
            "order": null,
            "overflow": null,
            "overflow_x": null,
            "overflow_y": null,
            "padding": null,
            "right": null,
            "top": null,
            "visibility": null,
            "width": "20px"
          }
        },
        "093b407107954780a76362fa16700391": {
          "model_module": "@jupyter-widgets/controls",
          "model_name": "ProgressStyleModel",
          "model_module_version": "1.5.0",
          "state": {
            "_model_module": "@jupyter-widgets/controls",
            "_model_module_version": "1.5.0",
            "_model_name": "ProgressStyleModel",
            "_view_count": null,
            "_view_module": "@jupyter-widgets/base",
            "_view_module_version": "1.2.0",
            "_view_name": "StyleView",
            "bar_color": null,
            "description_width": ""
          }
        },
        "be1cd82c08264428acb50e36704fc396": {
          "model_module": "@jupyter-widgets/base",
          "model_name": "LayoutModel",
          "model_module_version": "1.2.0",
          "state": {
            "_model_module": "@jupyter-widgets/base",
            "_model_module_version": "1.2.0",
            "_model_name": "LayoutModel",
            "_view_count": null,
            "_view_module": "@jupyter-widgets/base",
            "_view_module_version": "1.2.0",
            "_view_name": "LayoutView",
            "align_content": null,
            "align_items": null,
            "align_self": null,
            "border": null,
            "bottom": null,
            "display": null,
            "flex": null,
            "flex_flow": null,
            "grid_area": null,
            "grid_auto_columns": null,
            "grid_auto_flow": null,
            "grid_auto_rows": null,
            "grid_column": null,
            "grid_gap": null,
            "grid_row": null,
            "grid_template_areas": null,
            "grid_template_columns": null,
            "grid_template_rows": null,
            "height": null,
            "justify_content": null,
            "justify_items": null,
            "left": null,
            "margin": null,
            "max_height": null,
            "max_width": null,
            "min_height": null,
            "min_width": null,
            "object_fit": null,
            "object_position": null,
            "order": null,
            "overflow": null,
            "overflow_x": null,
            "overflow_y": null,
            "padding": null,
            "right": null,
            "top": null,
            "visibility": null,
            "width": null
          }
        },
        "20df13eaf21947c2a8fd7e43909c7ab4": {
          "model_module": "@jupyter-widgets/controls",
          "model_name": "DescriptionStyleModel",
          "model_module_version": "1.5.0",
          "state": {
            "_model_module": "@jupyter-widgets/controls",
            "_model_module_version": "1.5.0",
            "_model_name": "DescriptionStyleModel",
            "_view_count": null,
            "_view_module": "@jupyter-widgets/base",
            "_view_module_version": "1.2.0",
            "_view_name": "StyleView",
            "description_width": ""
          }
        }
      }
    }
  },
  "cells": [
    {
      "cell_type": "markdown",
      "source": [
        "# **Multi Agent AI System**\n",
        "\n",
        "**It is now becoming a trend that a powerful AI agent gets created by combining several smaller subagents. But this also brings challenges like reducing hallucinations, managing the conversation flow, keeping an eye on how the agent works during testing, allowing human in the loop, and evaluating its performance. You need to do a lot of trial and error.**\n",
        "\n",
        "**In this work, we will start by creating two simple subagents, then build a multi-agent system using a supervisor approach. Along the way, we will cover the basics, the challenges you might face when creating complex AI agentic architecture, and how to evaluate and improve them.**\n",
        "\n",
        "**We will use tools like LangGraph and LangSmith to help us with this process.**"
      ],
      "metadata": {
        "id": "GFbn3My8yFLm"
      }
    },
    {
      "cell_type": "markdown",
      "source": [
        "Multi-Agent-AI-System/\n",
        "\n",
        "├── .env                # Environment variables for API keys\n",
        "\n",
        "├── README.md           # Project documentation\n",
        "\n",
        "├── requirements.txt    # Python dependencies\n",
        "\n",
        "├── multi_agent.ipynb   # Jupyter notebook for the multi-agent AI system\n",
        "\n",
        "├── utils.py            # Utility functions for the project\n",
        "\n",
        "└── LICENSE             # Project license information (MIT License)"
      ],
      "metadata": {
        "id": "DtIsnD7SyPqw"
      }
    },
    {
      "cell_type": "code",
      "source": [
        "# Clone the Multi-Agent AI System repository from GitHub\n",
        "!git clone https://github.com/devwhocodes/Multi-Agent.git"
      ],
      "metadata": {
        "colab": {
          "base_uri": "https://localhost:8080/"
        },
        "id": "dZJPkJbgyXwo",
        "outputId": "bc431bc2-27a9-4792-e6bc-03f2cb0c00af"
      },
      "execution_count": 1,
      "outputs": [
        {
          "output_type": "stream",
          "name": "stdout",
          "text": [
            "Cloning into 'Multi-Agent'...\n",
            "remote: Enumerating objects: 9, done.\u001b[K\n",
            "remote: Counting objects: 100% (9/9), done.\u001b[K\n",
            "remote: Compressing objects: 100% (8/8), done.\u001b[K\n",
            "remote: Total 9 (delta 0), reused 0 (delta 0), pack-reused 0 (from 0)\u001b[K\n",
            "Receiving objects: 100% (9/9), 128.19 KiB | 2.21 MiB/s, done.\n"
          ]
        }
      ]
    },
    {
      "cell_type": "code",
      "source": [
        "# Navigate into the project directory\n",
        "!cd Multi-Agent"
      ],
      "metadata": {
        "id": "cDW-NkH9JxC_"
      },
      "execution_count": 2,
      "outputs": []
    },
    {
      "cell_type": "code",
      "source": [
        "# Install all required Python dependencies from requirements.txt\n",
        "!pip install -r /content/Multi-Agent/requirements.txt"
      ],
      "metadata": {
        "colab": {
          "base_uri": "https://localhost:8080/"
        },
        "id": "dUrjfR8KJ0Qf",
        "outputId": "f5c10aee-fa79-4fb0-c545-15e196ebcadc"
      },
      "execution_count": 3,
      "outputs": [
        {
          "output_type": "stream",
          "name": "stdout",
          "text": [
            "Collecting langgraph (from -r /content/Multi-Agent/requirements.txt (line 1))\n",
            "  Downloading langgraph-0.5.0-py3-none-any.whl.metadata (6.7 kB)\n",
            "Collecting langgraph-cli (from -r /content/Multi-Agent/requirements.txt (line 2))\n",
            "  Downloading langgraph_cli-0.3.3-py3-none-any.whl.metadata (3.8 kB)\n",
            "Collecting langgraph-sdk (from -r /content/Multi-Agent/requirements.txt (line 3))\n",
            "  Downloading langgraph_sdk-0.1.72-py3-none-any.whl.metadata (1.5 kB)\n",
            "Collecting langgraph-checkpoint-sqlite (from -r /content/Multi-Agent/requirements.txt (line 4))\n",
            "  Downloading langgraph_checkpoint_sqlite-2.0.10-py3-none-any.whl.metadata (2.7 kB)\n",
            "Requirement already satisfied: langsmith in /usr/local/lib/python3.11/dist-packages (from -r /content/Multi-Agent/requirements.txt (line 5)) (0.4.1)\n",
            "Collecting langchain-community (from -r /content/Multi-Agent/requirements.txt (line 6))\n",
            "  Downloading langchain_community-0.3.26-py3-none-any.whl.metadata (2.9 kB)\n",
            "Requirement already satisfied: langchain-core in /usr/local/lib/python3.11/dist-packages (from -r /content/Multi-Agent/requirements.txt (line 7)) (0.3.66)\n",
            "Collecting langchain-openai (from -r /content/Multi-Agent/requirements.txt (line 8))\n",
            "  Downloading langchain_openai-0.3.27-py3-none-any.whl.metadata (2.3 kB)\n",
            "Collecting langchain-experimental (from -r /content/Multi-Agent/requirements.txt (line 9))\n",
            "  Downloading langchain_experimental-0.3.4-py3-none-any.whl.metadata (1.7 kB)\n",
            "Requirement already satisfied: notebook in /usr/local/lib/python3.11/dist-packages (from -r /content/Multi-Agent/requirements.txt (line 10)) (6.5.7)\n",
            "Collecting python-dotenv (from -r /content/Multi-Agent/requirements.txt (line 11))\n",
            "  Downloading python_dotenv-1.1.1-py3-none-any.whl.metadata (24 kB)\n",
            "Collecting langchain-chroma (from -r /content/Multi-Agent/requirements.txt (line 12))\n",
            "  Downloading langchain_chroma-0.2.4-py3-none-any.whl.metadata (1.1 kB)\n",
            "Collecting azure-identity (from -r /content/Multi-Agent/requirements.txt (line 13))\n",
            "  Downloading azure_identity-1.23.0-py3-none-any.whl.metadata (81 kB)\n",
            "\u001b[2K     \u001b[90m━━━━━━━━━━━━━━━━━━━━━━━━━━━━━━━━━━━━━━━━\u001b[0m \u001b[32m81.9/81.9 kB\u001b[0m \u001b[31m4.4 MB/s\u001b[0m eta \u001b[36m0:00:00\u001b[0m\n",
            "\u001b[?25hRequirement already satisfied: scikit-learn in /usr/local/lib/python3.11/dist-packages (from -r /content/Multi-Agent/requirements.txt (line 14)) (1.6.1)\n",
            "Collecting openevals (from -r /content/Multi-Agent/requirements.txt (line 15))\n",
            "  Downloading openevals-0.1.0-py3-none-any.whl.metadata (74 kB)\n",
            "\u001b[2K     \u001b[90m━━━━━━━━━━━━━━━━━━━━━━━━━━━━━━━━━━━━━━━━\u001b[0m \u001b[32m74.1/74.1 kB\u001b[0m \u001b[31m6.2 MB/s\u001b[0m eta \u001b[36m0:00:00\u001b[0m\n",
            "\u001b[?25hRequirement already satisfied: openai in /usr/local/lib/python3.11/dist-packages (from -r /content/Multi-Agent/requirements.txt (line 16)) (1.91.0)\n",
            "Requirement already satisfied: ipython in /usr/local/lib/python3.11/dist-packages (from -r /content/Multi-Agent/requirements.txt (line 17)) (7.34.0)\n",
            "Collecting pyppeteer (from -r /content/Multi-Agent/requirements.txt (line 18))\n",
            "  Downloading pyppeteer-2.0.0-py3-none-any.whl.metadata (7.1 kB)\n",
            "Collecting langgraph-supervisor (from -r /content/Multi-Agent/requirements.txt (line 19))\n",
            "  Downloading langgraph_supervisor-0.0.27-py3-none-any.whl.metadata (13 kB)\n",
            "Collecting langchain-anthropic (from -r /content/Multi-Agent/requirements.txt (line 21))\n",
            "  Downloading langchain_anthropic-0.3.16-py3-none-any.whl.metadata (1.9 kB)\n",
            "Collecting langchain-google-vertexai (from -r /content/Multi-Agent/requirements.txt (line 22))\n",
            "  Downloading langchain_google_vertexai-2.0.26-py3-none-any.whl.metadata (4.8 kB)\n",
            "Collecting langgraph-swarm (from -r /content/Multi-Agent/requirements.txt (line 24))\n",
            "  Downloading langgraph_swarm-0.0.11-py3-none-any.whl.metadata (10 kB)\n",
            "Collecting langchain-together (from -r /content/Multi-Agent/requirements.txt (line 25))\n",
            "  Downloading langchain_together-0.3.0-py3-none-any.whl.metadata (1.9 kB)\n",
            "Collecting langgraph-checkpoint>=2.1.0 (from langgraph->-r /content/Multi-Agent/requirements.txt (line 1))\n",
            "  Downloading langgraph_checkpoint-2.1.0-py3-none-any.whl.metadata (4.2 kB)\n",
            "Collecting langgraph-prebuilt>=0.5.0 (from langgraph->-r /content/Multi-Agent/requirements.txt (line 1))\n",
            "  Downloading langgraph_prebuilt-0.5.1-py3-none-any.whl.metadata (4.5 kB)\n",
            "Requirement already satisfied: pydantic>=2.7.4 in /usr/local/lib/python3.11/dist-packages (from langgraph->-r /content/Multi-Agent/requirements.txt (line 1)) (2.11.7)\n",
            "Requirement already satisfied: xxhash>=3.5.0 in /usr/local/lib/python3.11/dist-packages (from langgraph->-r /content/Multi-Agent/requirements.txt (line 1)) (3.5.0)\n",
            "Requirement already satisfied: click>=8.1.7 in /usr/local/lib/python3.11/dist-packages (from langgraph-cli->-r /content/Multi-Agent/requirements.txt (line 2)) (8.2.1)\n",
            "Requirement already satisfied: httpx>=0.25.2 in /usr/local/lib/python3.11/dist-packages (from langgraph-sdk->-r /content/Multi-Agent/requirements.txt (line 3)) (0.28.1)\n",
            "Requirement already satisfied: orjson>=3.10.1 in /usr/local/lib/python3.11/dist-packages (from langgraph-sdk->-r /content/Multi-Agent/requirements.txt (line 3)) (3.10.18)\n",
            "Collecting aiosqlite>=0.20 (from langgraph-checkpoint-sqlite->-r /content/Multi-Agent/requirements.txt (line 4))\n",
            "  Downloading aiosqlite-0.21.0-py3-none-any.whl.metadata (4.3 kB)\n",
            "Collecting sqlite-vec>=0.1.6 (from langgraph-checkpoint-sqlite->-r /content/Multi-Agent/requirements.txt (line 4))\n",
            "  Downloading sqlite_vec-0.1.6-py3-none-manylinux_2_17_x86_64.manylinux2014_x86_64.manylinux1_x86_64.whl.metadata (198 bytes)\n",
            "Requirement already satisfied: packaging>=23.2 in /usr/local/lib/python3.11/dist-packages (from langsmith->-r /content/Multi-Agent/requirements.txt (line 5)) (24.2)\n",
            "Requirement already satisfied: requests<3,>=2 in /usr/local/lib/python3.11/dist-packages (from langsmith->-r /content/Multi-Agent/requirements.txt (line 5)) (2.32.3)\n",
            "Requirement already satisfied: requests-toolbelt<2.0.0,>=1.0.0 in /usr/local/lib/python3.11/dist-packages (from langsmith->-r /content/Multi-Agent/requirements.txt (line 5)) (1.0.0)\n",
            "Requirement already satisfied: zstandard<0.24.0,>=0.23.0 in /usr/local/lib/python3.11/dist-packages (from langsmith->-r /content/Multi-Agent/requirements.txt (line 5)) (0.23.0)\n",
            "Requirement already satisfied: langchain<1.0.0,>=0.3.26 in /usr/local/lib/python3.11/dist-packages (from langchain-community->-r /content/Multi-Agent/requirements.txt (line 6)) (0.3.26)\n",
            "Requirement already satisfied: SQLAlchemy<3,>=1.4 in /usr/local/lib/python3.11/dist-packages (from langchain-community->-r /content/Multi-Agent/requirements.txt (line 6)) (2.0.41)\n",
            "Requirement already satisfied: PyYAML>=5.3 in /usr/local/lib/python3.11/dist-packages (from langchain-community->-r /content/Multi-Agent/requirements.txt (line 6)) (6.0.2)\n",
            "Requirement already satisfied: aiohttp<4.0.0,>=3.8.3 in /usr/local/lib/python3.11/dist-packages (from langchain-community->-r /content/Multi-Agent/requirements.txt (line 6)) (3.11.15)\n",
            "Requirement already satisfied: tenacity!=8.4.0,<10,>=8.1.0 in /usr/local/lib/python3.11/dist-packages (from langchain-community->-r /content/Multi-Agent/requirements.txt (line 6)) (8.5.0)\n",
            "Collecting dataclasses-json<0.7,>=0.5.7 (from langchain-community->-r /content/Multi-Agent/requirements.txt (line 6))\n",
            "  Downloading dataclasses_json-0.6.7-py3-none-any.whl.metadata (25 kB)\n",
            "Collecting pydantic-settings<3.0.0,>=2.4.0 (from langchain-community->-r /content/Multi-Agent/requirements.txt (line 6))\n",
            "  Downloading pydantic_settings-2.10.1-py3-none-any.whl.metadata (3.4 kB)\n",
            "Collecting httpx-sse<1.0.0,>=0.4.0 (from langchain-community->-r /content/Multi-Agent/requirements.txt (line 6))\n",
            "  Downloading httpx_sse-0.4.1-py3-none-any.whl.metadata (9.4 kB)\n",
            "Requirement already satisfied: numpy>=1.26.2 in /usr/local/lib/python3.11/dist-packages (from langchain-community->-r /content/Multi-Agent/requirements.txt (line 6)) (2.0.2)\n",
            "Requirement already satisfied: jsonpatch<2.0,>=1.33 in /usr/local/lib/python3.11/dist-packages (from langchain-core->-r /content/Multi-Agent/requirements.txt (line 7)) (1.33)\n",
            "Requirement already satisfied: typing-extensions>=4.7 in /usr/local/lib/python3.11/dist-packages (from langchain-core->-r /content/Multi-Agent/requirements.txt (line 7)) (4.14.0)\n",
            "Requirement already satisfied: tiktoken<1,>=0.7 in /usr/local/lib/python3.11/dist-packages (from langchain-openai->-r /content/Multi-Agent/requirements.txt (line 8)) (0.9.0)\n",
            "Requirement already satisfied: jinja2 in /usr/local/lib/python3.11/dist-packages (from notebook->-r /content/Multi-Agent/requirements.txt (line 10)) (3.1.6)\n",
            "Requirement already satisfied: tornado>=6.1 in /usr/local/lib/python3.11/dist-packages (from notebook->-r /content/Multi-Agent/requirements.txt (line 10)) (6.4.2)\n",
            "Requirement already satisfied: pyzmq>=17 in /usr/local/lib/python3.11/dist-packages (from notebook->-r /content/Multi-Agent/requirements.txt (line 10)) (24.0.1)\n",
            "Requirement already satisfied: argon2-cffi in /usr/local/lib/python3.11/dist-packages (from notebook->-r /content/Multi-Agent/requirements.txt (line 10)) (25.1.0)\n",
            "Requirement already satisfied: traitlets>=4.2.1 in /usr/local/lib/python3.11/dist-packages (from notebook->-r /content/Multi-Agent/requirements.txt (line 10)) (5.7.1)\n",
            "Requirement already satisfied: jupyter-core>=4.6.1 in /usr/local/lib/python3.11/dist-packages (from notebook->-r /content/Multi-Agent/requirements.txt (line 10)) (5.8.1)\n",
            "Requirement already satisfied: jupyter-client<8,>=5.3.4 in /usr/local/lib/python3.11/dist-packages (from notebook->-r /content/Multi-Agent/requirements.txt (line 10)) (6.1.12)\n",
            "Requirement already satisfied: ipython-genutils in /usr/local/lib/python3.11/dist-packages (from notebook->-r /content/Multi-Agent/requirements.txt (line 10)) (0.2.0)\n",
            "Requirement already satisfied: nbformat in /usr/local/lib/python3.11/dist-packages (from notebook->-r /content/Multi-Agent/requirements.txt (line 10)) (5.10.4)\n",
            "Requirement already satisfied: nbconvert>=5 in /usr/local/lib/python3.11/dist-packages (from notebook->-r /content/Multi-Agent/requirements.txt (line 10)) (7.16.6)\n",
            "Requirement already satisfied: nest-asyncio>=1.5 in /usr/local/lib/python3.11/dist-packages (from notebook->-r /content/Multi-Agent/requirements.txt (line 10)) (1.6.0)\n",
            "Requirement already satisfied: ipykernel in /usr/local/lib/python3.11/dist-packages (from notebook->-r /content/Multi-Agent/requirements.txt (line 10)) (6.17.1)\n",
            "Requirement already satisfied: Send2Trash>=1.8.0 in /usr/local/lib/python3.11/dist-packages (from notebook->-r /content/Multi-Agent/requirements.txt (line 10)) (1.8.3)\n",
            "Requirement already satisfied: terminado>=0.8.3 in /usr/local/lib/python3.11/dist-packages (from notebook->-r /content/Multi-Agent/requirements.txt (line 10)) (0.18.1)\n",
            "Requirement already satisfied: prometheus-client in /usr/local/lib/python3.11/dist-packages (from notebook->-r /content/Multi-Agent/requirements.txt (line 10)) (0.22.1)\n",
            "Requirement already satisfied: nbclassic>=0.4.7 in /usr/local/lib/python3.11/dist-packages (from notebook->-r /content/Multi-Agent/requirements.txt (line 10)) (1.3.1)\n",
            "Collecting chromadb>=1.0.9 (from langchain-chroma->-r /content/Multi-Agent/requirements.txt (line 12))\n",
            "  Downloading chromadb-1.0.13-cp39-abi3-manylinux_2_17_x86_64.manylinux2014_x86_64.whl.metadata (7.0 kB)\n",
            "Collecting azure-core>=1.31.0 (from azure-identity->-r /content/Multi-Agent/requirements.txt (line 13))\n",
            "  Downloading azure_core-1.34.0-py3-none-any.whl.metadata (42 kB)\n",
            "\u001b[2K     \u001b[90m━━━━━━━━━━━━━━━━━━━━━━━━━━━━━━━━━━━━━━━━\u001b[0m \u001b[32m42.9/42.9 kB\u001b[0m \u001b[31m3.0 MB/s\u001b[0m eta \u001b[36m0:00:00\u001b[0m\n",
            "\u001b[?25hRequirement already satisfied: cryptography>=2.5 in /usr/local/lib/python3.11/dist-packages (from azure-identity->-r /content/Multi-Agent/requirements.txt (line 13)) (43.0.3)\n",
            "Collecting msal>=1.30.0 (from azure-identity->-r /content/Multi-Agent/requirements.txt (line 13))\n",
            "  Downloading msal-1.32.3-py3-none-any.whl.metadata (11 kB)\n",
            "Collecting msal-extensions>=1.2.0 (from azure-identity->-r /content/Multi-Agent/requirements.txt (line 13))\n",
            "  Downloading msal_extensions-1.3.1-py3-none-any.whl.metadata (7.8 kB)\n",
            "Requirement already satisfied: scipy>=1.6.0 in /usr/local/lib/python3.11/dist-packages (from scikit-learn->-r /content/Multi-Agent/requirements.txt (line 14)) (1.15.3)\n",
            "Requirement already satisfied: joblib>=1.2.0 in /usr/local/lib/python3.11/dist-packages (from scikit-learn->-r /content/Multi-Agent/requirements.txt (line 14)) (1.5.1)\n",
            "Requirement already satisfied: threadpoolctl>=3.1.0 in /usr/local/lib/python3.11/dist-packages (from scikit-learn->-r /content/Multi-Agent/requirements.txt (line 14)) (3.6.0)\n",
            "Requirement already satisfied: rich>=13.9.4 in /usr/local/lib/python3.11/dist-packages (from openevals->-r /content/Multi-Agent/requirements.txt (line 15)) (13.9.4)\n",
            "Requirement already satisfied: anyio<5,>=3.5.0 in /usr/local/lib/python3.11/dist-packages (from openai->-r /content/Multi-Agent/requirements.txt (line 16)) (4.9.0)\n",
            "Requirement already satisfied: distro<2,>=1.7.0 in /usr/local/lib/python3.11/dist-packages (from openai->-r /content/Multi-Agent/requirements.txt (line 16)) (1.9.0)\n",
            "Requirement already satisfied: jiter<1,>=0.4.0 in /usr/local/lib/python3.11/dist-packages (from openai->-r /content/Multi-Agent/requirements.txt (line 16)) (0.10.0)\n",
            "Requirement already satisfied: sniffio in /usr/local/lib/python3.11/dist-packages (from openai->-r /content/Multi-Agent/requirements.txt (line 16)) (1.3.1)\n",
            "Requirement already satisfied: tqdm>4 in /usr/local/lib/python3.11/dist-packages (from openai->-r /content/Multi-Agent/requirements.txt (line 16)) (4.67.1)\n",
            "Requirement already satisfied: setuptools>=18.5 in /usr/local/lib/python3.11/dist-packages (from ipython->-r /content/Multi-Agent/requirements.txt (line 17)) (75.2.0)\n",
            "Collecting jedi>=0.16 (from ipython->-r /content/Multi-Agent/requirements.txt (line 17))\n",
            "  Downloading jedi-0.19.2-py2.py3-none-any.whl.metadata (22 kB)\n",
            "Requirement already satisfied: decorator in /usr/local/lib/python3.11/dist-packages (from ipython->-r /content/Multi-Agent/requirements.txt (line 17)) (4.4.2)\n",
            "Requirement already satisfied: pickleshare in /usr/local/lib/python3.11/dist-packages (from ipython->-r /content/Multi-Agent/requirements.txt (line 17)) (0.7.5)\n",
            "Requirement already satisfied: prompt-toolkit!=3.0.0,!=3.0.1,<3.1.0,>=2.0.0 in /usr/local/lib/python3.11/dist-packages (from ipython->-r /content/Multi-Agent/requirements.txt (line 17)) (3.0.51)\n",
            "Requirement already satisfied: pygments in /usr/local/lib/python3.11/dist-packages (from ipython->-r /content/Multi-Agent/requirements.txt (line 17)) (2.19.2)\n",
            "Requirement already satisfied: backcall in /usr/local/lib/python3.11/dist-packages (from ipython->-r /content/Multi-Agent/requirements.txt (line 17)) (0.2.0)\n",
            "Requirement already satisfied: matplotlib-inline in /usr/local/lib/python3.11/dist-packages (from ipython->-r /content/Multi-Agent/requirements.txt (line 17)) (0.1.7)\n",
            "Requirement already satisfied: pexpect>4.3 in /usr/local/lib/python3.11/dist-packages (from ipython->-r /content/Multi-Agent/requirements.txt (line 17)) (4.9.0)\n",
            "Collecting appdirs<2.0.0,>=1.4.3 (from pyppeteer->-r /content/Multi-Agent/requirements.txt (line 18))\n",
            "  Downloading appdirs-1.4.4-py2.py3-none-any.whl.metadata (9.0 kB)\n",
            "Requirement already satisfied: certifi>=2023 in /usr/local/lib/python3.11/dist-packages (from pyppeteer->-r /content/Multi-Agent/requirements.txt (line 18)) (2025.6.15)\n",
            "Requirement already satisfied: importlib-metadata>=1.4 in /usr/local/lib/python3.11/dist-packages (from pyppeteer->-r /content/Multi-Agent/requirements.txt (line 18)) (8.7.0)\n",
            "Collecting pyee<12.0.0,>=11.0.0 (from pyppeteer->-r /content/Multi-Agent/requirements.txt (line 18))\n",
            "  Downloading pyee-11.1.1-py3-none-any.whl.metadata (2.8 kB)\n",
            "Collecting urllib3<2.0.0,>=1.25.8 (from pyppeteer->-r /content/Multi-Agent/requirements.txt (line 18))\n",
            "  Downloading urllib3-1.26.20-py2.py3-none-any.whl.metadata (50 kB)\n",
            "\u001b[2K     \u001b[90m━━━━━━━━━━━━━━━━━━━━━━━━━━━━━━━━━━━━━━━━\u001b[0m \u001b[32m50.1/50.1 kB\u001b[0m \u001b[31m3.9 MB/s\u001b[0m eta \u001b[36m0:00:00\u001b[0m\n",
            "\u001b[?25hCollecting websockets<11.0,>=10.0 (from pyppeteer->-r /content/Multi-Agent/requirements.txt (line 18))\n",
            "  Downloading websockets-10.4-cp311-cp311-manylinux_2_5_x86_64.manylinux1_x86_64.manylinux_2_17_x86_64.manylinux2014_x86_64.whl.metadata (6.4 kB)\n",
            "Collecting langgraph-api>=0.1.20 (from langgraph-cli[inmem]->-r /content/Multi-Agent/requirements.txt (line 20))\n",
            "  Downloading langgraph_api-0.2.72-py3-none-any.whl.metadata (3.9 kB)\n",
            "Collecting langgraph-runtime-inmem>=0.0.8 (from langgraph-cli[inmem]->-r /content/Multi-Agent/requirements.txt (line 20))\n",
            "  Downloading langgraph_runtime_inmem-0.3.3-py3-none-any.whl.metadata (565 bytes)\n",
            "Collecting anthropic<1,>=0.52.0 (from langchain-anthropic->-r /content/Multi-Agent/requirements.txt (line 21))\n",
            "  Downloading anthropic-0.55.0-py3-none-any.whl.metadata (27 kB)\n",
            "Requirement already satisfied: bottleneck<2.0.0,>=1.4.2 in /usr/local/lib/python3.11/dist-packages (from langchain-google-vertexai->-r /content/Multi-Agent/requirements.txt (line 22)) (1.4.2)\n",
            "Requirement already satisfied: google-cloud-aiplatform<2.0.0,>=1.97.0 in /usr/local/lib/python3.11/dist-packages (from langchain-google-vertexai->-r /content/Multi-Agent/requirements.txt (line 22)) (1.99.0)\n",
            "Requirement already satisfied: google-cloud-storage<3.0.0,>=2.18.0 in /usr/local/lib/python3.11/dist-packages (from langchain-google-vertexai->-r /content/Multi-Agent/requirements.txt (line 22)) (2.19.0)\n",
            "Requirement already satisfied: numexpr<3.0.0,>=2.8.6 in /usr/local/lib/python3.11/dist-packages (from langchain-google-vertexai->-r /content/Multi-Agent/requirements.txt (line 22)) (2.11.0)\n",
            "Collecting pyarrow<20.0.0,>=19.0.1 (from langchain-google-vertexai->-r /content/Multi-Agent/requirements.txt (line 22))\n",
            "  Downloading pyarrow-19.0.1-cp311-cp311-manylinux_2_28_x86_64.whl.metadata (3.3 kB)\n",
            "Collecting validators<1,>=0.22.0 (from langchain-google-vertexai->-r /content/Multi-Agent/requirements.txt (line 22))\n",
            "  Downloading validators-0.35.0-py3-none-any.whl.metadata (3.9 kB)\n",
            "Requirement already satisfied: aiohappyeyeballs>=2.3.0 in /usr/local/lib/python3.11/dist-packages (from aiohttp<4.0.0,>=3.8.3->langchain-community->-r /content/Multi-Agent/requirements.txt (line 6)) (2.6.1)\n",
            "Requirement already satisfied: aiosignal>=1.1.2 in /usr/local/lib/python3.11/dist-packages (from aiohttp<4.0.0,>=3.8.3->langchain-community->-r /content/Multi-Agent/requirements.txt (line 6)) (1.3.2)\n",
            "Requirement already satisfied: attrs>=17.3.0 in /usr/local/lib/python3.11/dist-packages (from aiohttp<4.0.0,>=3.8.3->langchain-community->-r /content/Multi-Agent/requirements.txt (line 6)) (25.3.0)\n",
            "Requirement already satisfied: frozenlist>=1.1.1 in /usr/local/lib/python3.11/dist-packages (from aiohttp<4.0.0,>=3.8.3->langchain-community->-r /content/Multi-Agent/requirements.txt (line 6)) (1.7.0)\n",
            "Requirement already satisfied: multidict<7.0,>=4.5 in /usr/local/lib/python3.11/dist-packages (from aiohttp<4.0.0,>=3.8.3->langchain-community->-r /content/Multi-Agent/requirements.txt (line 6)) (6.4.4)\n",
            "Requirement already satisfied: propcache>=0.2.0 in /usr/local/lib/python3.11/dist-packages (from aiohttp<4.0.0,>=3.8.3->langchain-community->-r /content/Multi-Agent/requirements.txt (line 6)) (0.3.2)\n",
            "Requirement already satisfied: yarl<2.0,>=1.17.0 in /usr/local/lib/python3.11/dist-packages (from aiohttp<4.0.0,>=3.8.3->langchain-community->-r /content/Multi-Agent/requirements.txt (line 6)) (1.20.1)\n",
            "Requirement already satisfied: idna>=2.8 in /usr/local/lib/python3.11/dist-packages (from anyio<5,>=3.5.0->openai->-r /content/Multi-Agent/requirements.txt (line 16)) (3.10)\n",
            "Requirement already satisfied: six>=1.11.0 in /usr/local/lib/python3.11/dist-packages (from azure-core>=1.31.0->azure-identity->-r /content/Multi-Agent/requirements.txt (line 13)) (1.17.0)\n",
            "Requirement already satisfied: build>=1.0.3 in /usr/local/lib/python3.11/dist-packages (from chromadb>=1.0.9->langchain-chroma->-r /content/Multi-Agent/requirements.txt (line 12)) (1.2.2.post1)\n",
            "Collecting pybase64>=1.4.1 (from chromadb>=1.0.9->langchain-chroma->-r /content/Multi-Agent/requirements.txt (line 12))\n",
            "  Downloading pybase64-1.4.1-cp311-cp311-manylinux_2_5_x86_64.manylinux1_x86_64.manylinux_2_17_x86_64.manylinux2014_x86_64.whl.metadata (8.4 kB)\n",
            "Requirement already satisfied: uvicorn>=0.18.3 in /usr/local/lib/python3.11/dist-packages (from uvicorn[standard]>=0.18.3->chromadb>=1.0.9->langchain-chroma->-r /content/Multi-Agent/requirements.txt (line 12)) (0.34.3)\n",
            "Collecting posthog>=2.4.0 (from chromadb>=1.0.9->langchain-chroma->-r /content/Multi-Agent/requirements.txt (line 12))\n",
            "  Downloading posthog-6.0.0-py3-none-any.whl.metadata (6.0 kB)\n",
            "Collecting onnxruntime>=1.14.1 (from chromadb>=1.0.9->langchain-chroma->-r /content/Multi-Agent/requirements.txt (line 12))\n",
            "  Downloading onnxruntime-1.22.0-cp311-cp311-manylinux_2_27_x86_64.manylinux_2_28_x86_64.whl.metadata (4.5 kB)\n",
            "Collecting opentelemetry-api>=1.2.0 (from chromadb>=1.0.9->langchain-chroma->-r /content/Multi-Agent/requirements.txt (line 12))\n",
            "  Downloading opentelemetry_api-1.34.1-py3-none-any.whl.metadata (1.5 kB)\n",
            "Collecting opentelemetry-exporter-otlp-proto-grpc>=1.2.0 (from chromadb>=1.0.9->langchain-chroma->-r /content/Multi-Agent/requirements.txt (line 12))\n",
            "  Downloading opentelemetry_exporter_otlp_proto_grpc-1.34.1-py3-none-any.whl.metadata (2.4 kB)\n",
            "Collecting opentelemetry-sdk>=1.2.0 (from chromadb>=1.0.9->langchain-chroma->-r /content/Multi-Agent/requirements.txt (line 12))\n",
            "  Downloading opentelemetry_sdk-1.34.1-py3-none-any.whl.metadata (1.6 kB)\n",
            "Requirement already satisfied: tokenizers>=0.13.2 in /usr/local/lib/python3.11/dist-packages (from chromadb>=1.0.9->langchain-chroma->-r /content/Multi-Agent/requirements.txt (line 12)) (0.21.2)\n",
            "Collecting pypika>=0.48.9 (from chromadb>=1.0.9->langchain-chroma->-r /content/Multi-Agent/requirements.txt (line 12))\n",
            "  Downloading PyPika-0.48.9.tar.gz (67 kB)\n",
            "\u001b[2K     \u001b[90m━━━━━━━━━━━━━━━━━━━━━━━━━━━━━━━━━━━━━━━━\u001b[0m \u001b[32m67.3/67.3 kB\u001b[0m \u001b[31m5.6 MB/s\u001b[0m eta \u001b[36m0:00:00\u001b[0m\n",
            "\u001b[?25h  Installing build dependencies ... \u001b[?25l\u001b[?25hdone\n",
            "  Getting requirements to build wheel ... \u001b[?25l\u001b[?25hdone\n",
            "  Preparing metadata (pyproject.toml) ... \u001b[?25l\u001b[?25hdone\n",
            "Collecting overrides>=7.3.1 (from chromadb>=1.0.9->langchain-chroma->-r /content/Multi-Agent/requirements.txt (line 12))\n",
            "  Downloading overrides-7.7.0-py3-none-any.whl.metadata (5.8 kB)\n",
            "Requirement already satisfied: importlib-resources in /usr/local/lib/python3.11/dist-packages (from chromadb>=1.0.9->langchain-chroma->-r /content/Multi-Agent/requirements.txt (line 12)) (6.5.2)\n",
            "Requirement already satisfied: grpcio>=1.58.0 in /usr/local/lib/python3.11/dist-packages (from chromadb>=1.0.9->langchain-chroma->-r /content/Multi-Agent/requirements.txt (line 12)) (1.73.0)\n",
            "Collecting bcrypt>=4.0.1 (from chromadb>=1.0.9->langchain-chroma->-r /content/Multi-Agent/requirements.txt (line 12))\n",
            "  Downloading bcrypt-4.3.0-cp39-abi3-manylinux_2_34_x86_64.whl.metadata (10 kB)\n",
            "Requirement already satisfied: typer>=0.9.0 in /usr/local/lib/python3.11/dist-packages (from chromadb>=1.0.9->langchain-chroma->-r /content/Multi-Agent/requirements.txt (line 12)) (0.16.0)\n",
            "Collecting kubernetes>=28.1.0 (from chromadb>=1.0.9->langchain-chroma->-r /content/Multi-Agent/requirements.txt (line 12))\n",
            "  Downloading kubernetes-33.1.0-py2.py3-none-any.whl.metadata (1.7 kB)\n",
            "Collecting mmh3>=4.0.1 (from chromadb>=1.0.9->langchain-chroma->-r /content/Multi-Agent/requirements.txt (line 12))\n",
            "  Downloading mmh3-5.1.0-cp311-cp311-manylinux_2_5_x86_64.manylinux1_x86_64.manylinux_2_17_x86_64.manylinux2014_x86_64.whl.metadata (16 kB)\n",
            "Requirement already satisfied: jsonschema>=4.19.0 in /usr/local/lib/python3.11/dist-packages (from chromadb>=1.0.9->langchain-chroma->-r /content/Multi-Agent/requirements.txt (line 12)) (4.24.0)\n",
            "Requirement already satisfied: cffi>=1.12 in /usr/local/lib/python3.11/dist-packages (from cryptography>=2.5->azure-identity->-r /content/Multi-Agent/requirements.txt (line 13)) (1.17.1)\n",
            "Collecting marshmallow<4.0.0,>=3.18.0 (from dataclasses-json<0.7,>=0.5.7->langchain-community->-r /content/Multi-Agent/requirements.txt (line 6))\n",
            "  Downloading marshmallow-3.26.1-py3-none-any.whl.metadata (7.3 kB)\n",
            "Collecting typing-inspect<1,>=0.4.0 (from dataclasses-json<0.7,>=0.5.7->langchain-community->-r /content/Multi-Agent/requirements.txt (line 6))\n",
            "  Downloading typing_inspect-0.9.0-py3-none-any.whl.metadata (1.5 kB)\n",
            "Requirement already satisfied: google-api-core!=2.0.*,!=2.1.*,!=2.2.*,!=2.3.*,!=2.4.*,!=2.5.*,!=2.6.*,!=2.7.*,<3.0.0,>=1.34.1 in /usr/local/lib/python3.11/dist-packages (from google-api-core[grpc]!=2.0.*,!=2.1.*,!=2.2.*,!=2.3.*,!=2.4.*,!=2.5.*,!=2.6.*,!=2.7.*,<3.0.0,>=1.34.1->google-cloud-aiplatform<2.0.0,>=1.97.0->langchain-google-vertexai->-r /content/Multi-Agent/requirements.txt (line 22)) (2.25.1)\n",
            "Requirement already satisfied: google-auth<3.0.0,>=2.14.1 in /usr/local/lib/python3.11/dist-packages (from google-cloud-aiplatform<2.0.0,>=1.97.0->langchain-google-vertexai->-r /content/Multi-Agent/requirements.txt (line 22)) (2.38.0)\n",
            "Requirement already satisfied: proto-plus<2.0.0,>=1.22.3 in /usr/local/lib/python3.11/dist-packages (from google-cloud-aiplatform<2.0.0,>=1.97.0->langchain-google-vertexai->-r /content/Multi-Agent/requirements.txt (line 22)) (1.26.1)\n",
            "Requirement already satisfied: protobuf!=4.21.0,!=4.21.1,!=4.21.2,!=4.21.3,!=4.21.4,!=4.21.5,<7.0.0,>=3.20.2 in /usr/local/lib/python3.11/dist-packages (from google-cloud-aiplatform<2.0.0,>=1.97.0->langchain-google-vertexai->-r /content/Multi-Agent/requirements.txt (line 22)) (5.29.5)\n",
            "Requirement already satisfied: google-cloud-bigquery!=3.20.0,<4.0.0,>=1.15.0 in /usr/local/lib/python3.11/dist-packages (from google-cloud-aiplatform<2.0.0,>=1.97.0->langchain-google-vertexai->-r /content/Multi-Agent/requirements.txt (line 22)) (3.34.0)\n",
            "Requirement already satisfied: google-cloud-resource-manager<3.0.0,>=1.3.3 in /usr/local/lib/python3.11/dist-packages (from google-cloud-aiplatform<2.0.0,>=1.97.0->langchain-google-vertexai->-r /content/Multi-Agent/requirements.txt (line 22)) (1.14.2)\n",
            "Requirement already satisfied: shapely<3.0.0 in /usr/local/lib/python3.11/dist-packages (from google-cloud-aiplatform<2.0.0,>=1.97.0->langchain-google-vertexai->-r /content/Multi-Agent/requirements.txt (line 22)) (2.1.1)\n",
            "Requirement already satisfied: google-genai<2.0.0,>=1.0.0 in /usr/local/lib/python3.11/dist-packages (from google-cloud-aiplatform<2.0.0,>=1.97.0->langchain-google-vertexai->-r /content/Multi-Agent/requirements.txt (line 22)) (1.21.1)\n",
            "Requirement already satisfied: docstring_parser<1 in /usr/local/lib/python3.11/dist-packages (from google-cloud-aiplatform<2.0.0,>=1.97.0->langchain-google-vertexai->-r /content/Multi-Agent/requirements.txt (line 22)) (0.16)\n",
            "Requirement already satisfied: google-cloud-core<3.0dev,>=2.3.0 in /usr/local/lib/python3.11/dist-packages (from google-cloud-storage<3.0.0,>=2.18.0->langchain-google-vertexai->-r /content/Multi-Agent/requirements.txt (line 22)) (2.4.3)\n",
            "Requirement already satisfied: google-resumable-media>=2.7.2 in /usr/local/lib/python3.11/dist-packages (from google-cloud-storage<3.0.0,>=2.18.0->langchain-google-vertexai->-r /content/Multi-Agent/requirements.txt (line 22)) (2.7.2)\n",
            "Requirement already satisfied: google-crc32c<2.0dev,>=1.0 in /usr/local/lib/python3.11/dist-packages (from google-cloud-storage<3.0.0,>=2.18.0->langchain-google-vertexai->-r /content/Multi-Agent/requirements.txt (line 22)) (1.7.1)\n",
            "Requirement already satisfied: httpcore==1.* in /usr/local/lib/python3.11/dist-packages (from httpx>=0.25.2->langgraph-sdk->-r /content/Multi-Agent/requirements.txt (line 3)) (1.0.9)\n",
            "Requirement already satisfied: h11>=0.16 in /usr/local/lib/python3.11/dist-packages (from httpcore==1.*->httpx>=0.25.2->langgraph-sdk->-r /content/Multi-Agent/requirements.txt (line 3)) (0.16.0)\n",
            "Requirement already satisfied: zipp>=3.20 in /usr/local/lib/python3.11/dist-packages (from importlib-metadata>=1.4->pyppeteer->-r /content/Multi-Agent/requirements.txt (line 18)) (3.23.0)\n",
            "Requirement already satisfied: parso<0.9.0,>=0.8.4 in /usr/local/lib/python3.11/dist-packages (from jedi>=0.16->ipython->-r /content/Multi-Agent/requirements.txt (line 17)) (0.8.4)\n",
            "Requirement already satisfied: jsonpointer>=1.9 in /usr/local/lib/python3.11/dist-packages (from jsonpatch<2.0,>=1.33->langchain-core->-r /content/Multi-Agent/requirements.txt (line 7)) (3.0.0)\n",
            "Requirement already satisfied: python-dateutil>=2.1 in /usr/local/lib/python3.11/dist-packages (from jupyter-client<8,>=5.3.4->notebook->-r /content/Multi-Agent/requirements.txt (line 10)) (2.9.0.post0)\n",
            "Requirement already satisfied: platformdirs>=2.5 in /usr/local/lib/python3.11/dist-packages (from jupyter-core>=4.6.1->notebook->-r /content/Multi-Agent/requirements.txt (line 10)) (4.3.8)\n",
            "Requirement already satisfied: langchain-text-splitters<1.0.0,>=0.3.8 in /usr/local/lib/python3.11/dist-packages (from langchain<1.0.0,>=0.3.26->langchain-community->-r /content/Multi-Agent/requirements.txt (line 6)) (0.3.8)\n",
            "Requirement already satisfied: cloudpickle>=3.0.0 in /usr/local/lib/python3.11/dist-packages (from langgraph-api>=0.1.20->langgraph-cli[inmem]->-r /content/Multi-Agent/requirements.txt (line 20)) (3.1.1)\n",
            "Collecting jsonschema-rs<0.30,>=0.20.0 (from langgraph-api>=0.1.20->langgraph-cli[inmem]->-r /content/Multi-Agent/requirements.txt (line 20))\n",
            "  Downloading jsonschema_rs-0.29.1-cp311-cp311-manylinux_2_17_x86_64.manylinux2014_x86_64.whl.metadata (14 kB)\n",
            "Requirement already satisfied: pyjwt>=2.9.0 in /usr/local/lib/python3.11/dist-packages (from langgraph-api>=0.1.20->langgraph-cli[inmem]->-r /content/Multi-Agent/requirements.txt (line 20)) (2.10.1)\n",
            "Collecting sse-starlette<2.2.0,>=2.1.0 (from langgraph-api>=0.1.20->langgraph-cli[inmem]->-r /content/Multi-Agent/requirements.txt (line 20))\n",
            "  Downloading sse_starlette-2.1.3-py3-none-any.whl.metadata (5.8 kB)\n",
            "Requirement already satisfied: starlette>=0.38.6 in /usr/local/lib/python3.11/dist-packages (from langgraph-api>=0.1.20->langgraph-cli[inmem]->-r /content/Multi-Agent/requirements.txt (line 20)) (0.46.2)\n",
            "Collecting structlog<26,>=24.1.0 (from langgraph-api>=0.1.20->langgraph-cli[inmem]->-r /content/Multi-Agent/requirements.txt (line 20))\n",
            "  Downloading structlog-25.4.0-py3-none-any.whl.metadata (7.6 kB)\n",
            "Collecting truststore>=0.1 (from langgraph-api>=0.1.20->langgraph-cli[inmem]->-r /content/Multi-Agent/requirements.txt (line 20))\n",
            "  Downloading truststore-0.10.1-py3-none-any.whl.metadata (4.4 kB)\n",
            "Collecting watchfiles>=0.13 (from langgraph-api>=0.1.20->langgraph-cli[inmem]->-r /content/Multi-Agent/requirements.txt (line 20))\n",
            "  Downloading watchfiles-1.1.0-cp311-cp311-manylinux_2_17_x86_64.manylinux2014_x86_64.whl.metadata (4.9 kB)\n",
            "Collecting ormsgpack>=1.10.0 (from langgraph-checkpoint>=2.1.0->langgraph->-r /content/Multi-Agent/requirements.txt (line 1))\n",
            "  Downloading ormsgpack-1.10.0-cp311-cp311-manylinux_2_17_x86_64.manylinux2014_x86_64.whl.metadata (43 kB)\n",
            "\u001b[2K     \u001b[90m━━━━━━━━━━━━━━━━━━━━━━━━━━━━━━━━━━━━━━━━\u001b[0m \u001b[32m43.7/43.7 kB\u001b[0m \u001b[31m2.8 MB/s\u001b[0m eta \u001b[36m0:00:00\u001b[0m\n",
            "\u001b[?25hCollecting blockbuster<2.0.0,>=1.5.24 (from langgraph-runtime-inmem>=0.0.8->langgraph-cli[inmem]->-r /content/Multi-Agent/requirements.txt (line 20))\n",
            "  Downloading blockbuster-1.5.24-py3-none-any.whl.metadata (10 kB)\n",
            "Requirement already satisfied: notebook-shim>=0.2.3 in /usr/local/lib/python3.11/dist-packages (from nbclassic>=0.4.7->notebook->-r /content/Multi-Agent/requirements.txt (line 10)) (0.2.4)\n",
            "Requirement already satisfied: beautifulsoup4 in /usr/local/lib/python3.11/dist-packages (from nbconvert>=5->notebook->-r /content/Multi-Agent/requirements.txt (line 10)) (4.13.4)\n",
            "Requirement already satisfied: bleach!=5.0.0 in /usr/local/lib/python3.11/dist-packages (from bleach[css]!=5.0.0->nbconvert>=5->notebook->-r /content/Multi-Agent/requirements.txt (line 10)) (6.2.0)\n",
            "Requirement already satisfied: defusedxml in /usr/local/lib/python3.11/dist-packages (from nbconvert>=5->notebook->-r /content/Multi-Agent/requirements.txt (line 10)) (0.7.1)\n",
            "Requirement already satisfied: jupyterlab-pygments in /usr/local/lib/python3.11/dist-packages (from nbconvert>=5->notebook->-r /content/Multi-Agent/requirements.txt (line 10)) (0.3.0)\n",
            "Requirement already satisfied: markupsafe>=2.0 in /usr/local/lib/python3.11/dist-packages (from nbconvert>=5->notebook->-r /content/Multi-Agent/requirements.txt (line 10)) (3.0.2)\n",
            "Requirement already satisfied: mistune<4,>=2.0.3 in /usr/local/lib/python3.11/dist-packages (from nbconvert>=5->notebook->-r /content/Multi-Agent/requirements.txt (line 10)) (3.1.3)\n",
            "Requirement already satisfied: nbclient>=0.5.0 in /usr/local/lib/python3.11/dist-packages (from nbconvert>=5->notebook->-r /content/Multi-Agent/requirements.txt (line 10)) (0.10.2)\n",
            "Requirement already satisfied: pandocfilters>=1.4.1 in /usr/local/lib/python3.11/dist-packages (from nbconvert>=5->notebook->-r /content/Multi-Agent/requirements.txt (line 10)) (1.5.1)\n",
            "Requirement already satisfied: fastjsonschema>=2.15 in /usr/local/lib/python3.11/dist-packages (from nbformat->notebook->-r /content/Multi-Agent/requirements.txt (line 10)) (2.21.1)\n",
            "Requirement already satisfied: ptyprocess>=0.5 in /usr/local/lib/python3.11/dist-packages (from pexpect>4.3->ipython->-r /content/Multi-Agent/requirements.txt (line 17)) (0.7.0)\n",
            "Requirement already satisfied: wcwidth in /usr/local/lib/python3.11/dist-packages (from prompt-toolkit!=3.0.0,!=3.0.1,<3.1.0,>=2.0.0->ipython->-r /content/Multi-Agent/requirements.txt (line 17)) (0.2.13)\n",
            "Requirement already satisfied: annotated-types>=0.6.0 in /usr/local/lib/python3.11/dist-packages (from pydantic>=2.7.4->langgraph->-r /content/Multi-Agent/requirements.txt (line 1)) (0.7.0)\n",
            "Requirement already satisfied: pydantic-core==2.33.2 in /usr/local/lib/python3.11/dist-packages (from pydantic>=2.7.4->langgraph->-r /content/Multi-Agent/requirements.txt (line 1)) (2.33.2)\n",
            "Requirement already satisfied: typing-inspection>=0.4.0 in /usr/local/lib/python3.11/dist-packages (from pydantic>=2.7.4->langgraph->-r /content/Multi-Agent/requirements.txt (line 1)) (0.4.1)\n",
            "Requirement already satisfied: charset-normalizer<4,>=2 in /usr/local/lib/python3.11/dist-packages (from requests<3,>=2->langsmith->-r /content/Multi-Agent/requirements.txt (line 5)) (3.4.2)\n",
            "Requirement already satisfied: markdown-it-py>=2.2.0 in /usr/local/lib/python3.11/dist-packages (from rich>=13.9.4->openevals->-r /content/Multi-Agent/requirements.txt (line 15)) (3.0.0)\n",
            "Requirement already satisfied: greenlet>=1 in /usr/local/lib/python3.11/dist-packages (from SQLAlchemy<3,>=1.4->langchain-community->-r /content/Multi-Agent/requirements.txt (line 6)) (3.2.3)\n",
            "Requirement already satisfied: regex>=2022.1.18 in /usr/local/lib/python3.11/dist-packages (from tiktoken<1,>=0.7->langchain-openai->-r /content/Multi-Agent/requirements.txt (line 8)) (2024.11.6)\n",
            "Requirement already satisfied: argon2-cffi-bindings in /usr/local/lib/python3.11/dist-packages (from argon2-cffi->notebook->-r /content/Multi-Agent/requirements.txt (line 10)) (21.2.0)\n",
            "Requirement already satisfied: debugpy>=1.0 in /usr/local/lib/python3.11/dist-packages (from ipykernel->notebook->-r /content/Multi-Agent/requirements.txt (line 10)) (1.8.0)\n",
            "Requirement already satisfied: psutil in /usr/local/lib/python3.11/dist-packages (from ipykernel->notebook->-r /content/Multi-Agent/requirements.txt (line 10)) (5.9.5)\n",
            "Requirement already satisfied: webencodings in /usr/local/lib/python3.11/dist-packages (from bleach!=5.0.0->bleach[css]!=5.0.0->nbconvert>=5->notebook->-r /content/Multi-Agent/requirements.txt (line 10)) (0.5.1)\n",
            "Requirement already satisfied: tinycss2<1.5,>=1.1.0 in /usr/local/lib/python3.11/dist-packages (from bleach[css]!=5.0.0->nbconvert>=5->notebook->-r /content/Multi-Agent/requirements.txt (line 10)) (1.4.0)\n",
            "Collecting forbiddenfruit>=0.1.4 (from blockbuster<2.0.0,>=1.5.24->langgraph-runtime-inmem>=0.0.8->langgraph-cli[inmem]->-r /content/Multi-Agent/requirements.txt (line 20))\n",
            "  Downloading forbiddenfruit-0.1.4.tar.gz (43 kB)\n",
            "\u001b[2K     \u001b[90m━━━━━━━━━━━━━━━━━━━━━━━━━━━━━━━━━━━━━━━━\u001b[0m \u001b[32m43.8/43.8 kB\u001b[0m \u001b[31m3.1 MB/s\u001b[0m eta \u001b[36m0:00:00\u001b[0m\n",
            "\u001b[?25h  Preparing metadata (setup.py) ... \u001b[?25l\u001b[?25hdone\n",
            "Requirement already satisfied: pyproject_hooks in /usr/local/lib/python3.11/dist-packages (from build>=1.0.3->chromadb>=1.0.9->langchain-chroma->-r /content/Multi-Agent/requirements.txt (line 12)) (1.2.0)\n",
            "Requirement already satisfied: pycparser in /usr/local/lib/python3.11/dist-packages (from cffi>=1.12->cryptography>=2.5->azure-identity->-r /content/Multi-Agent/requirements.txt (line 13)) (2.22)\n",
            "Requirement already satisfied: googleapis-common-protos<2.0.0,>=1.56.2 in /usr/local/lib/python3.11/dist-packages (from google-api-core!=2.0.*,!=2.1.*,!=2.2.*,!=2.3.*,!=2.4.*,!=2.5.*,!=2.6.*,!=2.7.*,<3.0.0,>=1.34.1->google-api-core[grpc]!=2.0.*,!=2.1.*,!=2.2.*,!=2.3.*,!=2.4.*,!=2.5.*,!=2.6.*,!=2.7.*,<3.0.0,>=1.34.1->google-cloud-aiplatform<2.0.0,>=1.97.0->langchain-google-vertexai->-r /content/Multi-Agent/requirements.txt (line 22)) (1.70.0)\n",
            "Requirement already satisfied: grpcio-status<2.0.0,>=1.33.2 in /usr/local/lib/python3.11/dist-packages (from google-api-core[grpc]!=2.0.*,!=2.1.*,!=2.2.*,!=2.3.*,!=2.4.*,!=2.5.*,!=2.6.*,!=2.7.*,<3.0.0,>=1.34.1->google-cloud-aiplatform<2.0.0,>=1.97.0->langchain-google-vertexai->-r /content/Multi-Agent/requirements.txt (line 22)) (1.71.0)\n",
            "Requirement already satisfied: cachetools<6.0,>=2.0.0 in /usr/local/lib/python3.11/dist-packages (from google-auth<3.0.0,>=2.14.1->google-cloud-aiplatform<2.0.0,>=1.97.0->langchain-google-vertexai->-r /content/Multi-Agent/requirements.txt (line 22)) (5.5.2)\n",
            "Requirement already satisfied: pyasn1-modules>=0.2.1 in /usr/local/lib/python3.11/dist-packages (from google-auth<3.0.0,>=2.14.1->google-cloud-aiplatform<2.0.0,>=1.97.0->langchain-google-vertexai->-r /content/Multi-Agent/requirements.txt (line 22)) (0.4.2)\n",
            "Requirement already satisfied: rsa<5,>=3.1.4 in /usr/local/lib/python3.11/dist-packages (from google-auth<3.0.0,>=2.14.1->google-cloud-aiplatform<2.0.0,>=1.97.0->langchain-google-vertexai->-r /content/Multi-Agent/requirements.txt (line 22)) (4.9.1)\n",
            "Requirement already satisfied: grpc-google-iam-v1<1.0.0,>=0.14.0 in /usr/local/lib/python3.11/dist-packages (from google-cloud-resource-manager<3.0.0,>=1.3.3->google-cloud-aiplatform<2.0.0,>=1.97.0->langchain-google-vertexai->-r /content/Multi-Agent/requirements.txt (line 22)) (0.14.2)\n",
            "INFO: pip is looking at multiple versions of google-genai to determine which version is compatible with other requirements. This could take a while.\n",
            "Collecting google-genai<2.0.0,>=1.0.0 (from google-cloud-aiplatform<2.0.0,>=1.97.0->langchain-google-vertexai->-r /content/Multi-Agent/requirements.txt (line 22))\n",
            "  Downloading google_genai-1.23.0-py3-none-any.whl.metadata (38 kB)\n",
            "  Downloading google_genai-1.22.0-py3-none-any.whl.metadata (37 kB)\n",
            "  Downloading google_genai-1.21.0-py3-none-any.whl.metadata (37 kB)\n",
            "  Downloading google_genai-1.20.0-py3-none-any.whl.metadata (35 kB)\n",
            "  Downloading google_genai-1.19.0-py3-none-any.whl.metadata (35 kB)\n",
            "  Downloading google_genai-1.18.0-py3-none-any.whl.metadata (35 kB)\n",
            "  Downloading google_genai-1.17.0-py3-none-any.whl.metadata (35 kB)\n",
            "INFO: pip is still looking at multiple versions of google-genai to determine which version is compatible with other requirements. This could take a while.\n",
            "  Downloading google_genai-1.16.1-py3-none-any.whl.metadata (35 kB)\n",
            "  Downloading google_genai-1.15.0-py3-none-any.whl.metadata (35 kB)\n",
            "  Downloading google_genai-1.14.0-py3-none-any.whl.metadata (33 kB)\n",
            "  Downloading google_genai-1.13.0-py3-none-any.whl.metadata (32 kB)\n",
            "  Downloading google_genai-1.12.1-py3-none-any.whl.metadata (32 kB)\n",
            "INFO: This is taking longer than usual. You might need to provide the dependency resolver with stricter constraints to reduce runtime. See https://pip.pypa.io/warnings/backtracking for guidance. If you want to abort this run, press Ctrl + C.\n",
            "  Downloading google_genai-1.11.0-py3-none-any.whl.metadata (32 kB)\n",
            "  Downloading google_genai-1.10.0-py3-none-any.whl.metadata (32 kB)\n",
            "  Downloading google_genai-1.9.0-py3-none-any.whl.metadata (32 kB)\n",
            "  Downloading google_genai-1.8.0-py3-none-any.whl.metadata (32 kB)\n",
            "  Downloading google_genai-1.7.0-py3-none-any.whl.metadata (32 kB)\n",
            "  Downloading google_genai-1.5.0-py3-none-any.whl.metadata (29 kB)\n",
            "  Downloading google_genai-1.4.0-py3-none-any.whl.metadata (29 kB)\n",
            "  Downloading google_genai-1.3.0-py3-none-any.whl.metadata (28 kB)\n",
            "  Downloading google_genai-1.2.0-py3-none-any.whl.metadata (26 kB)\n",
            "  Downloading google_genai-1.1.0-py3-none-any.whl.metadata (26 kB)\n",
            "  Downloading google_genai-1.0.0-py3-none-any.whl.metadata (25 kB)\n",
            "Collecting google-cloud-aiplatform<2.0.0,>=1.97.0 (from langchain-google-vertexai->-r /content/Multi-Agent/requirements.txt (line 22))\n",
            "  Downloading google_cloud_aiplatform-1.100.0-py2.py3-none-any.whl.metadata (38 kB)\n",
            "  Downloading google_cloud_aiplatform-1.99.0-py2.py3-none-any.whl.metadata (38 kB)\n",
            "  Downloading google_cloud_aiplatform-1.98.0-py2.py3-none-any.whl.metadata (38 kB)\n",
            "  Downloading google_cloud_aiplatform-1.97.0-py2.py3-none-any.whl.metadata (36 kB)\n",
            "Collecting pyppeteer (from -r /content/Multi-Agent/requirements.txt (line 18))\n",
            "  Downloading pyppeteer-1.0.2-py3-none-any.whl.metadata (6.9 kB)\n",
            "Collecting pyee<9.0.0,>=8.1.0 (from pyppeteer->-r /content/Multi-Agent/requirements.txt (line 18))\n",
            "  Downloading pyee-8.2.2-py2.py3-none-any.whl.metadata (1.7 kB)\n",
            "Collecting pyppeteer (from -r /content/Multi-Agent/requirements.txt (line 18))\n",
            "  Downloading pyppeteer-1.0.1-py3-none-any.whl.metadata (6.9 kB)\n",
            "  Downloading pyppeteer-1.0.0-py3-none-any.whl.metadata (6.9 kB)\n",
            "  Downloading pyppeteer-0.2.6-py3-none-any.whl.metadata (6.9 kB)\n",
            "Collecting websockets<10.0,>=9.1 (from pyppeteer->-r /content/Multi-Agent/requirements.txt (line 18))\n",
            "  Downloading websockets-9.1.tar.gz (76 kB)\n",
            "\u001b[2K     \u001b[90m━━━━━━━━━━━━━━━━━━━━━━━━━━━━━━━━━━━━━━━━\u001b[0m \u001b[32m76.7/76.7 kB\u001b[0m \u001b[31m5.1 MB/s\u001b[0m eta \u001b[36m0:00:00\u001b[0m\n",
            "\u001b[?25h  Preparing metadata (setup.py) ... \u001b[?25l\u001b[?25hdone\n",
            "Collecting pyppeteer (from -r /content/Multi-Agent/requirements.txt (line 18))\n",
            "  Downloading pyppeteer-0.2.5-py3-none-any.whl.metadata (6.9 kB)\n",
            "Collecting websockets<9.0,>=8.1 (from pyppeteer->-r /content/Multi-Agent/requirements.txt (line 18))\n",
            "  Downloading websockets-8.1.tar.gz (58 kB)\n",
            "\u001b[2K     \u001b[90m━━━━━━━━━━━━━━━━━━━━━━━━━━━━━━━━━━━━━━━━\u001b[0m \u001b[32m58.9/58.9 kB\u001b[0m \u001b[31m3.9 MB/s\u001b[0m eta \u001b[36m0:00:00\u001b[0m\n",
            "\u001b[?25h  Preparing metadata (setup.py) ... \u001b[?25l\u001b[?25hdone\n",
            "Collecting pyppeteer (from -r /content/Multi-Agent/requirements.txt (line 18))\n",
            "  Downloading pyppeteer-0.2.4-py3-none-any.whl.metadata (6.8 kB)\n",
            "  Downloading pyppeteer-0.2.3-py3-none-any.whl.metadata (6.8 kB)\n",
            "Collecting pyee<8.0.0,>=7.0.1 (from pyppeteer->-r /content/Multi-Agent/requirements.txt (line 18))\n",
            "  Downloading pyee-7.0.4-py2.py3-none-any.whl.metadata (1.8 kB)\n",
            "Collecting pyppeteer (from -r /content/Multi-Agent/requirements.txt (line 18))\n",
            "  Downloading pyppeteer-0.2.2-py3-none-any.whl.metadata (6.6 kB)\n",
            "  Downloading pyppeteer-0.0.25.tar.gz (1.2 MB)\n",
            "\u001b[2K     \u001b[90m━━━━━━━━━━━━━━━━━━━━━━━━━━━━━━━━━━━━━━━━\u001b[0m \u001b[32m1.2/1.2 MB\u001b[0m \u001b[31m24.5 MB/s\u001b[0m eta \u001b[36m0:00:00\u001b[0m\n",
            "\u001b[?25h  Preparing metadata (setup.py) ... \u001b[?25l\u001b[?25hdone\n",
            "Collecting pyee (from pyppeteer->-r /content/Multi-Agent/requirements.txt (line 18))\n",
            "  Downloading pyee-13.0.0-py3-none-any.whl.metadata (2.9 kB)\n",
            "Requirement already satisfied: websockets in /usr/local/lib/python3.11/dist-packages (from pyppeteer->-r /content/Multi-Agent/requirements.txt (line 18)) (15.0.1)\n",
            "Requirement already satisfied: urllib3 in /usr/local/lib/python3.11/dist-packages (from pyppeteer->-r /content/Multi-Agent/requirements.txt (line 18)) (2.4.0)\n",
            "Requirement already satisfied: jsonschema-specifications>=2023.03.6 in /usr/local/lib/python3.11/dist-packages (from jsonschema>=4.19.0->chromadb>=1.0.9->langchain-chroma->-r /content/Multi-Agent/requirements.txt (line 12)) (2025.4.1)\n",
            "Requirement already satisfied: referencing>=0.28.4 in /usr/local/lib/python3.11/dist-packages (from jsonschema>=4.19.0->chromadb>=1.0.9->langchain-chroma->-r /content/Multi-Agent/requirements.txt (line 12)) (0.36.2)\n",
            "Requirement already satisfied: rpds-py>=0.7.1 in /usr/local/lib/python3.11/dist-packages (from jsonschema>=4.19.0->chromadb>=1.0.9->langchain-chroma->-r /content/Multi-Agent/requirements.txt (line 12)) (0.25.1)\n",
            "Requirement already satisfied: websocket-client!=0.40.0,!=0.41.*,!=0.42.*,>=0.32.0 in /usr/local/lib/python3.11/dist-packages (from kubernetes>=28.1.0->chromadb>=1.0.9->langchain-chroma->-r /content/Multi-Agent/requirements.txt (line 12)) (1.8.0)\n",
            "Requirement already satisfied: requests-oauthlib in /usr/local/lib/python3.11/dist-packages (from kubernetes>=28.1.0->chromadb>=1.0.9->langchain-chroma->-r /content/Multi-Agent/requirements.txt (line 12)) (2.0.0)\n",
            "Requirement already satisfied: oauthlib>=3.2.2 in /usr/local/lib/python3.11/dist-packages (from kubernetes>=28.1.0->chromadb>=1.0.9->langchain-chroma->-r /content/Multi-Agent/requirements.txt (line 12)) (3.3.1)\n",
            "Collecting durationpy>=0.7 (from kubernetes>=28.1.0->chromadb>=1.0.9->langchain-chroma->-r /content/Multi-Agent/requirements.txt (line 12))\n",
            "  Downloading durationpy-0.10-py3-none-any.whl.metadata (340 bytes)\n",
            "Requirement already satisfied: mdurl~=0.1 in /usr/local/lib/python3.11/dist-packages (from markdown-it-py>=2.2.0->rich>=13.9.4->openevals->-r /content/Multi-Agent/requirements.txt (line 15)) (0.1.2)\n",
            "Requirement already satisfied: jupyter-server<3,>=1.8 in /usr/local/lib/python3.11/dist-packages (from notebook-shim>=0.2.3->nbclassic>=0.4.7->notebook->-r /content/Multi-Agent/requirements.txt (line 10)) (1.16.0)\n",
            "Collecting coloredlogs (from onnxruntime>=1.14.1->chromadb>=1.0.9->langchain-chroma->-r /content/Multi-Agent/requirements.txt (line 12))\n",
            "  Downloading coloredlogs-15.0.1-py2.py3-none-any.whl.metadata (12 kB)\n",
            "Requirement already satisfied: flatbuffers in /usr/local/lib/python3.11/dist-packages (from onnxruntime>=1.14.1->chromadb>=1.0.9->langchain-chroma->-r /content/Multi-Agent/requirements.txt (line 12)) (25.2.10)\n",
            "Requirement already satisfied: sympy in /usr/local/lib/python3.11/dist-packages (from onnxruntime>=1.14.1->chromadb>=1.0.9->langchain-chroma->-r /content/Multi-Agent/requirements.txt (line 12)) (1.13.1)\n",
            "Collecting opentelemetry-exporter-otlp-proto-common==1.34.1 (from opentelemetry-exporter-otlp-proto-grpc>=1.2.0->chromadb>=1.0.9->langchain-chroma->-r /content/Multi-Agent/requirements.txt (line 12))\n",
            "  Downloading opentelemetry_exporter_otlp_proto_common-1.34.1-py3-none-any.whl.metadata (1.9 kB)\n",
            "Collecting opentelemetry-proto==1.34.1 (from opentelemetry-exporter-otlp-proto-grpc>=1.2.0->chromadb>=1.0.9->langchain-chroma->-r /content/Multi-Agent/requirements.txt (line 12))\n",
            "  Downloading opentelemetry_proto-1.34.1-py3-none-any.whl.metadata (2.4 kB)\n",
            "Collecting opentelemetry-semantic-conventions==0.55b1 (from opentelemetry-sdk>=1.2.0->chromadb>=1.0.9->langchain-chroma->-r /content/Multi-Agent/requirements.txt (line 12))\n",
            "  Downloading opentelemetry_semantic_conventions-0.55b1-py3-none-any.whl.metadata (2.5 kB)\n",
            "Collecting backoff>=1.10.0 (from posthog>=2.4.0->chromadb>=1.0.9->langchain-chroma->-r /content/Multi-Agent/requirements.txt (line 12))\n",
            "  Downloading backoff-2.2.1-py3-none-any.whl.metadata (14 kB)\n",
            "Requirement already satisfied: huggingface-hub<1.0,>=0.16.4 in /usr/local/lib/python3.11/dist-packages (from tokenizers>=0.13.2->chromadb>=1.0.9->langchain-chroma->-r /content/Multi-Agent/requirements.txt (line 12)) (0.33.0)\n",
            "Requirement already satisfied: shellingham>=1.3.0 in /usr/local/lib/python3.11/dist-packages (from typer>=0.9.0->chromadb>=1.0.9->langchain-chroma->-r /content/Multi-Agent/requirements.txt (line 12)) (1.5.4)\n",
            "Collecting mypy-extensions>=0.3.0 (from typing-inspect<1,>=0.4.0->dataclasses-json<0.7,>=0.5.7->langchain-community->-r /content/Multi-Agent/requirements.txt (line 6))\n",
            "  Downloading mypy_extensions-1.1.0-py3-none-any.whl.metadata (1.1 kB)\n",
            "Collecting httptools>=0.6.3 (from uvicorn[standard]>=0.18.3->chromadb>=1.0.9->langchain-chroma->-r /content/Multi-Agent/requirements.txt (line 12))\n",
            "  Downloading httptools-0.6.4-cp311-cp311-manylinux_2_5_x86_64.manylinux1_x86_64.manylinux_2_17_x86_64.manylinux2014_x86_64.whl.metadata (3.6 kB)\n",
            "Collecting uvloop>=0.15.1 (from uvicorn[standard]>=0.18.3->chromadb>=1.0.9->langchain-chroma->-r /content/Multi-Agent/requirements.txt (line 12))\n",
            "  Downloading uvloop-0.21.0-cp311-cp311-manylinux_2_17_x86_64.manylinux2014_x86_64.whl.metadata (4.9 kB)\n",
            "Requirement already satisfied: soupsieve>1.2 in /usr/local/lib/python3.11/dist-packages (from beautifulsoup4->nbconvert>=5->notebook->-r /content/Multi-Agent/requirements.txt (line 10)) (2.7)\n",
            "Requirement already satisfied: filelock in /usr/local/lib/python3.11/dist-packages (from huggingface-hub<1.0,>=0.16.4->tokenizers>=0.13.2->chromadb>=1.0.9->langchain-chroma->-r /content/Multi-Agent/requirements.txt (line 12)) (3.18.0)\n",
            "Requirement already satisfied: fsspec>=2023.5.0 in /usr/local/lib/python3.11/dist-packages (from huggingface-hub<1.0,>=0.16.4->tokenizers>=0.13.2->chromadb>=1.0.9->langchain-chroma->-r /content/Multi-Agent/requirements.txt (line 12)) (2025.3.2)\n",
            "Requirement already satisfied: hf-xet<2.0.0,>=1.1.2 in /usr/local/lib/python3.11/dist-packages (from huggingface-hub<1.0,>=0.16.4->tokenizers>=0.13.2->chromadb>=1.0.9->langchain-chroma->-r /content/Multi-Agent/requirements.txt (line 12)) (1.1.5)\n",
            "Requirement already satisfied: pyasn1<0.7.0,>=0.6.1 in /usr/local/lib/python3.11/dist-packages (from pyasn1-modules>=0.2.1->google-auth<3.0.0,>=2.14.1->google-cloud-aiplatform<2.0.0,>=1.97.0->langchain-google-vertexai->-r /content/Multi-Agent/requirements.txt (line 22)) (0.6.1)\n",
            "Collecting humanfriendly>=9.1 (from coloredlogs->onnxruntime>=1.14.1->chromadb>=1.0.9->langchain-chroma->-r /content/Multi-Agent/requirements.txt (line 12))\n",
            "  Downloading humanfriendly-10.0-py2.py3-none-any.whl.metadata (9.2 kB)\n",
            "Requirement already satisfied: mpmath<1.4,>=1.1.0 in /usr/local/lib/python3.11/dist-packages (from sympy->onnxruntime>=1.14.1->chromadb>=1.0.9->langchain-chroma->-r /content/Multi-Agent/requirements.txt (line 12)) (1.3.0)\n",
            "Downloading langgraph-0.5.0-py3-none-any.whl (143 kB)\n",
            "\u001b[2K   \u001b[90m━━━━━━━━━━━━━━━━━━━━━━━━━━━━━━━━━━━━━━━━\u001b[0m \u001b[32m143.7/143.7 kB\u001b[0m \u001b[31m12.1 MB/s\u001b[0m eta \u001b[36m0:00:00\u001b[0m\n",
            "\u001b[?25hDownloading langgraph_cli-0.3.3-py3-none-any.whl (35 kB)\n",
            "Downloading langgraph_sdk-0.1.72-py3-none-any.whl (50 kB)\n",
            "\u001b[2K   \u001b[90m━━━━━━━━━━━━━━━━━━━━━━━━━━━━━━━━━━━━━━━━\u001b[0m \u001b[32m50.1/50.1 kB\u001b[0m \u001b[31m3.9 MB/s\u001b[0m eta \u001b[36m0:00:00\u001b[0m\n",
            "\u001b[?25hDownloading langgraph_checkpoint_sqlite-2.0.10-py3-none-any.whl (30 kB)\n",
            "Downloading langchain_community-0.3.26-py3-none-any.whl (2.5 MB)\n",
            "\u001b[2K   \u001b[90m━━━━━━━━━━━━━━━━━━━━━━━━━━━━━━━━━━━━━━━━\u001b[0m \u001b[32m2.5/2.5 MB\u001b[0m \u001b[31m79.3 MB/s\u001b[0m eta \u001b[36m0:00:00\u001b[0m\n",
            "\u001b[?25hDownloading langchain_openai-0.3.27-py3-none-any.whl (70 kB)\n",
            "\u001b[2K   \u001b[90m━━━━━━━━━━━━━━━━━━━━━━━━━━━━━━━━━━━━━━━━\u001b[0m \u001b[32m70.4/70.4 kB\u001b[0m \u001b[31m5.0 MB/s\u001b[0m eta \u001b[36m0:00:00\u001b[0m\n",
            "\u001b[?25hDownloading langchain_experimental-0.3.4-py3-none-any.whl (209 kB)\n",
            "\u001b[2K   \u001b[90m━━━━━━━━━━━━━━━━━━━━━━━━━━━━━━━━━━━━━━━━\u001b[0m \u001b[32m209.2/209.2 kB\u001b[0m \u001b[31m15.0 MB/s\u001b[0m eta \u001b[36m0:00:00\u001b[0m\n",
            "\u001b[?25hDownloading python_dotenv-1.1.1-py3-none-any.whl (20 kB)\n",
            "Downloading langchain_chroma-0.2.4-py3-none-any.whl (11 kB)\n",
            "Downloading azure_identity-1.23.0-py3-none-any.whl (186 kB)\n",
            "\u001b[2K   \u001b[90m━━━━━━━━━━━━━━━━━━━━━━━━━━━━━━━━━━━━━━━━\u001b[0m \u001b[32m186.1/186.1 kB\u001b[0m \u001b[31m12.0 MB/s\u001b[0m eta \u001b[36m0:00:00\u001b[0m\n",
            "\u001b[?25hDownloading openevals-0.1.0-py3-none-any.whl (62 kB)\n",
            "\u001b[2K   \u001b[90m━━━━━━━━━━━━━━━━━━━━━━━━━━━━━━━━━━━━━━━━\u001b[0m \u001b[32m62.7/62.7 kB\u001b[0m \u001b[31m3.6 MB/s\u001b[0m eta \u001b[36m0:00:00\u001b[0m\n",
            "\u001b[?25hDownloading langgraph_supervisor-0.0.27-py3-none-any.whl (15 kB)\n",
            "Downloading langchain_anthropic-0.3.16-py3-none-any.whl (29 kB)\n",
            "Downloading langchain_google_vertexai-2.0.26-py3-none-any.whl (102 kB)\n",
            "\u001b[2K   \u001b[90m━━━━━━━━━━━━━━━━━━━━━━━━━━━━━━━━━━━━━━━━\u001b[0m \u001b[32m102.7/102.7 kB\u001b[0m \u001b[31m7.9 MB/s\u001b[0m eta \u001b[36m0:00:00\u001b[0m\n",
            "\u001b[?25hDownloading langgraph_swarm-0.0.11-py3-none-any.whl (9.5 kB)\n",
            "Downloading langchain_together-0.3.0-py3-none-any.whl (12 kB)\n",
            "Downloading aiosqlite-0.21.0-py3-none-any.whl (15 kB)\n",
            "Downloading anthropic-0.55.0-py3-none-any.whl (289 kB)\n",
            "\u001b[2K   \u001b[90m━━━━━━━━━━━━━━━━━━━━━━━━━━━━━━━━━━━━━━━━\u001b[0m \u001b[32m289.3/289.3 kB\u001b[0m \u001b[31m22.3 MB/s\u001b[0m eta \u001b[36m0:00:00\u001b[0m\n",
            "\u001b[?25hDownloading azure_core-1.34.0-py3-none-any.whl (207 kB)\n",
            "\u001b[2K   \u001b[90m━━━━━━━━━━━━━━━━━━━━━━━━━━━━━━━━━━━━━━━━\u001b[0m \u001b[32m207.4/207.4 kB\u001b[0m \u001b[31m16.6 MB/s\u001b[0m eta \u001b[36m0:00:00\u001b[0m\n",
            "\u001b[?25hDownloading chromadb-1.0.13-cp39-abi3-manylinux_2_17_x86_64.manylinux2014_x86_64.whl (19.3 MB)\n",
            "\u001b[2K   \u001b[90m━━━━━━━━━━━━━━━━━━━━━━━━━━━━━━━━━━━━━━━━\u001b[0m \u001b[32m19.3/19.3 MB\u001b[0m \u001b[31m81.4 MB/s\u001b[0m eta \u001b[36m0:00:00\u001b[0m\n",
            "\u001b[?25hDownloading dataclasses_json-0.6.7-py3-none-any.whl (28 kB)\n",
            "Downloading httpx_sse-0.4.1-py3-none-any.whl (8.1 kB)\n",
            "Downloading jedi-0.19.2-py2.py3-none-any.whl (1.6 MB)\n",
            "\u001b[2K   \u001b[90m━━━━━━━━━━━━━━━━━━━━━━━━━━━━━━━━━━━━━━━━\u001b[0m \u001b[32m1.6/1.6 MB\u001b[0m \u001b[31m70.7 MB/s\u001b[0m eta \u001b[36m0:00:00\u001b[0m\n",
            "\u001b[?25hDownloading langgraph_api-0.2.72-py3-none-any.whl (184 kB)\n",
            "\u001b[2K   \u001b[90m━━━━━━━━━━━━━━━━━━━━━━━━━━━━━━━━━━━━━━━━\u001b[0m \u001b[32m184.2/184.2 kB\u001b[0m \u001b[31m14.9 MB/s\u001b[0m eta \u001b[36m0:00:00\u001b[0m\n",
            "\u001b[?25hDownloading langgraph_checkpoint-2.1.0-py3-none-any.whl (43 kB)\n",
            "\u001b[2K   \u001b[90m━━━━━━━━━━━━━━━━━━━━━━━━━━━━━━━━━━━━━━━━\u001b[0m \u001b[32m43.8/43.8 kB\u001b[0m \u001b[31m2.9 MB/s\u001b[0m eta \u001b[36m0:00:00\u001b[0m\n",
            "\u001b[?25hDownloading langgraph_prebuilt-0.5.1-py3-none-any.whl (23 kB)\n",
            "Downloading langgraph_runtime_inmem-0.3.3-py3-none-any.whl (29 kB)\n",
            "Downloading msal-1.32.3-py3-none-any.whl (115 kB)\n",
            "\u001b[2K   \u001b[90m━━━━━━━━━━━━━━━━━━━━━━━━━━━━━━━━━━━━━━━━\u001b[0m \u001b[32m115.4/115.4 kB\u001b[0m \u001b[31m8.8 MB/s\u001b[0m eta \u001b[36m0:00:00\u001b[0m\n",
            "\u001b[?25hDownloading msal_extensions-1.3.1-py3-none-any.whl (20 kB)\n",
            "Downloading pyarrow-19.0.1-cp311-cp311-manylinux_2_28_x86_64.whl (42.1 MB)\n",
            "\u001b[2K   \u001b[90m━━━━━━━━━━━━━━━━━━━━━━━━━━━━━━━━━━━━━━━━\u001b[0m \u001b[32m42.1/42.1 MB\u001b[0m \u001b[31m19.8 MB/s\u001b[0m eta \u001b[36m0:00:00\u001b[0m\n",
            "\u001b[?25hDownloading pydantic_settings-2.10.1-py3-none-any.whl (45 kB)\n",
            "\u001b[2K   \u001b[90m━━━━━━━━━━━━━━━━━━━━━━━━━━━━━━━━━━━━━━━━\u001b[0m \u001b[32m45.2/45.2 kB\u001b[0m \u001b[31m3.3 MB/s\u001b[0m eta \u001b[36m0:00:00\u001b[0m\n",
            "\u001b[?25hDownloading sqlite_vec-0.1.6-py3-none-manylinux_2_17_x86_64.manylinux2014_x86_64.manylinux1_x86_64.whl (151 kB)\n",
            "\u001b[2K   \u001b[90m━━━━━━━━━━━━━━━━━━━━━━━━━━━━━━━━━━━━━━━━\u001b[0m \u001b[32m151.6/151.6 kB\u001b[0m \u001b[31m10.9 MB/s\u001b[0m eta \u001b[36m0:00:00\u001b[0m\n",
            "\u001b[?25hDownloading validators-0.35.0-py3-none-any.whl (44 kB)\n",
            "\u001b[2K   \u001b[90m━━━━━━━━━━━━━━━━━━━━━━━━━━━━━━━━━━━━━━━━\u001b[0m \u001b[32m44.7/44.7 kB\u001b[0m \u001b[31m3.3 MB/s\u001b[0m eta \u001b[36m0:00:00\u001b[0m\n",
            "\u001b[?25hDownloading appdirs-1.4.4-py2.py3-none-any.whl (9.6 kB)\n",
            "Downloading pyee-13.0.0-py3-none-any.whl (15 kB)\n",
            "Downloading bcrypt-4.3.0-cp39-abi3-manylinux_2_34_x86_64.whl (284 kB)\n",
            "\u001b[2K   \u001b[90m━━━━━━━━━━━━━━━━━━━━━━━━━━━━━━━━━━━━━━━━\u001b[0m \u001b[32m284.2/284.2 kB\u001b[0m \u001b[31m21.2 MB/s\u001b[0m eta \u001b[36m0:00:00\u001b[0m\n",
            "\u001b[?25hDownloading blockbuster-1.5.24-py3-none-any.whl (13 kB)\n",
            "Downloading jsonschema_rs-0.29.1-cp311-cp311-manylinux_2_17_x86_64.manylinux2014_x86_64.whl (2.1 MB)\n",
            "\u001b[2K   \u001b[90m━━━━━━━━━━━━━━━━━━━━━━━━━━━━━━━━━━━━━━━━\u001b[0m \u001b[32m2.1/2.1 MB\u001b[0m \u001b[31m74.1 MB/s\u001b[0m eta \u001b[36m0:00:00\u001b[0m\n",
            "\u001b[?25hDownloading kubernetes-33.1.0-py2.py3-none-any.whl (1.9 MB)\n",
            "\u001b[2K   \u001b[90m━━━━━━━━━━━━━━━━━━━━━━━━━━━━━━━━━━━━━━━━\u001b[0m \u001b[32m1.9/1.9 MB\u001b[0m \u001b[31m76.2 MB/s\u001b[0m eta \u001b[36m0:00:00\u001b[0m\n",
            "\u001b[?25hDownloading marshmallow-3.26.1-py3-none-any.whl (50 kB)\n",
            "\u001b[2K   \u001b[90m━━━━━━━━━━━━━━━━━━━━━━━━━━━━━━━━━━━━━━━━\u001b[0m \u001b[32m50.9/50.9 kB\u001b[0m \u001b[31m3.2 MB/s\u001b[0m eta \u001b[36m0:00:00\u001b[0m\n",
            "\u001b[?25hDownloading mmh3-5.1.0-cp311-cp311-manylinux_2_5_x86_64.manylinux1_x86_64.manylinux_2_17_x86_64.manylinux2014_x86_64.whl (101 kB)\n",
            "\u001b[2K   \u001b[90m━━━━━━━━━━━━━━━━━━━━━━━━━━━━━━━━━━━━━━━━\u001b[0m \u001b[32m101.6/101.6 kB\u001b[0m \u001b[31m7.9 MB/s\u001b[0m eta \u001b[36m0:00:00\u001b[0m\n",
            "\u001b[?25hDownloading onnxruntime-1.22.0-cp311-cp311-manylinux_2_27_x86_64.manylinux_2_28_x86_64.whl (16.4 MB)\n",
            "\u001b[2K   \u001b[90m━━━━━━━━━━━━━━━━━━━━━━━━━━━━━━━━━━━━━━━━\u001b[0m \u001b[32m16.4/16.4 MB\u001b[0m \u001b[31m88.1 MB/s\u001b[0m eta \u001b[36m0:00:00\u001b[0m\n",
            "\u001b[?25hDownloading opentelemetry_api-1.34.1-py3-none-any.whl (65 kB)\n",
            "\u001b[2K   \u001b[90m━━━━━━━━━━━━━━━━━━━━━━━━━━━━━━━━━━━━━━━━\u001b[0m \u001b[32m65.8/65.8 kB\u001b[0m \u001b[31m5.3 MB/s\u001b[0m eta \u001b[36m0:00:00\u001b[0m\n",
            "\u001b[?25hDownloading opentelemetry_exporter_otlp_proto_grpc-1.34.1-py3-none-any.whl (18 kB)\n",
            "Downloading opentelemetry_exporter_otlp_proto_common-1.34.1-py3-none-any.whl (18 kB)\n",
            "Downloading opentelemetry_proto-1.34.1-py3-none-any.whl (55 kB)\n",
            "\u001b[2K   \u001b[90m━━━━━━━━━━━━━━━━━━━━━━━━━━━━━━━━━━━━━━━━\u001b[0m \u001b[32m55.7/55.7 kB\u001b[0m \u001b[31m3.7 MB/s\u001b[0m eta \u001b[36m0:00:00\u001b[0m\n",
            "\u001b[?25hDownloading opentelemetry_sdk-1.34.1-py3-none-any.whl (118 kB)\n",
            "\u001b[2K   \u001b[90m━━━━━━━━━━━━━━━━━━━━━━━━━━━━━━━━━━━━━━━━\u001b[0m \u001b[32m118.5/118.5 kB\u001b[0m \u001b[31m9.8 MB/s\u001b[0m eta \u001b[36m0:00:00\u001b[0m\n",
            "\u001b[?25hDownloading opentelemetry_semantic_conventions-0.55b1-py3-none-any.whl (196 kB)\n",
            "\u001b[2K   \u001b[90m━━━━━━━━━━━━━━━━━━━━━━━━━━━━━━━━━━━━━━━━\u001b[0m \u001b[32m196.2/196.2 kB\u001b[0m \u001b[31m14.4 MB/s\u001b[0m eta \u001b[36m0:00:00\u001b[0m\n",
            "\u001b[?25hDownloading ormsgpack-1.10.0-cp311-cp311-manylinux_2_17_x86_64.manylinux2014_x86_64.whl (216 kB)\n",
            "\u001b[2K   \u001b[90m━━━━━━━━━━━━━━━━━━━━━━━━━━━━━━━━━━━━━━━━\u001b[0m \u001b[32m216.5/216.5 kB\u001b[0m \u001b[31m15.9 MB/s\u001b[0m eta \u001b[36m0:00:00\u001b[0m\n",
            "\u001b[?25hDownloading overrides-7.7.0-py3-none-any.whl (17 kB)\n",
            "Downloading posthog-6.0.0-py3-none-any.whl (104 kB)\n",
            "\u001b[2K   \u001b[90m━━━━━━━━━━━━━━━━━━━━━━━━━━━━━━━━━━━━━━━━\u001b[0m \u001b[32m104.9/104.9 kB\u001b[0m \u001b[31m9.0 MB/s\u001b[0m eta \u001b[36m0:00:00\u001b[0m\n",
            "\u001b[?25hDownloading pybase64-1.4.1-cp311-cp311-manylinux_2_5_x86_64.manylinux1_x86_64.manylinux_2_17_x86_64.manylinux2014_x86_64.whl (71 kB)\n",
            "\u001b[2K   \u001b[90m━━━━━━━━━━━━━━━━━━━━━━━━━━━━━━━━━━━━━━━━\u001b[0m \u001b[32m71.2/71.2 kB\u001b[0m \u001b[31m5.5 MB/s\u001b[0m eta \u001b[36m0:00:00\u001b[0m\n",
            "\u001b[?25hDownloading sse_starlette-2.1.3-py3-none-any.whl (9.4 kB)\n",
            "Downloading structlog-25.4.0-py3-none-any.whl (68 kB)\n",
            "\u001b[2K   \u001b[90m━━━━━━━━━━━━━━━━━━━━━━━━━━━━━━━━━━━━━━━━\u001b[0m \u001b[32m68.7/68.7 kB\u001b[0m \u001b[31m5.6 MB/s\u001b[0m eta \u001b[36m0:00:00\u001b[0m\n",
            "\u001b[?25hDownloading truststore-0.10.1-py3-none-any.whl (18 kB)\n",
            "Downloading typing_inspect-0.9.0-py3-none-any.whl (8.8 kB)\n",
            "Downloading watchfiles-1.1.0-cp311-cp311-manylinux_2_17_x86_64.manylinux2014_x86_64.whl (453 kB)\n",
            "\u001b[2K   \u001b[90m━━━━━━━━━━━━━━━━━━━━━━━━━━━━━━━━━━━━━━━━\u001b[0m \u001b[32m453.1/453.1 kB\u001b[0m \u001b[31m32.9 MB/s\u001b[0m eta \u001b[36m0:00:00\u001b[0m\n",
            "\u001b[?25hDownloading backoff-2.2.1-py3-none-any.whl (15 kB)\n",
            "Downloading durationpy-0.10-py3-none-any.whl (3.9 kB)\n",
            "Downloading httptools-0.6.4-cp311-cp311-manylinux_2_5_x86_64.manylinux1_x86_64.manylinux_2_17_x86_64.manylinux2014_x86_64.whl (459 kB)\n",
            "\u001b[2K   \u001b[90m━━━━━━━━━━━━━━━━━━━━━━━━━━━━━━━━━━━━━━━━\u001b[0m \u001b[32m459.8/459.8 kB\u001b[0m \u001b[31m28.9 MB/s\u001b[0m eta \u001b[36m0:00:00\u001b[0m\n",
            "\u001b[?25hDownloading mypy_extensions-1.1.0-py3-none-any.whl (5.0 kB)\n",
            "Downloading uvloop-0.21.0-cp311-cp311-manylinux_2_17_x86_64.manylinux2014_x86_64.whl (4.0 MB)\n",
            "\u001b[2K   \u001b[90m━━━━━━━━━━━━━━━━━━━━━━━━━━━━━━━━━━━━━━━━\u001b[0m \u001b[32m4.0/4.0 MB\u001b[0m \u001b[31m90.5 MB/s\u001b[0m eta \u001b[36m0:00:00\u001b[0m\n",
            "\u001b[?25hDownloading coloredlogs-15.0.1-py2.py3-none-any.whl (46 kB)\n",
            "\u001b[2K   \u001b[90m━━━━━━━━━━━━━━━━━━━━━━━━━━━━━━━━━━━━━━━━\u001b[0m \u001b[32m46.0/46.0 kB\u001b[0m \u001b[31m3.1 MB/s\u001b[0m eta \u001b[36m0:00:00\u001b[0m\n",
            "\u001b[?25hDownloading humanfriendly-10.0-py2.py3-none-any.whl (86 kB)\n",
            "\u001b[2K   \u001b[90m━━━━━━━━━━━━━━━━━━━━━━━━━━━━━━━━━━━━━━━━\u001b[0m \u001b[32m86.8/86.8 kB\u001b[0m \u001b[31m6.2 MB/s\u001b[0m eta \u001b[36m0:00:00\u001b[0m\n",
            "\u001b[?25hBuilding wheels for collected packages: pyppeteer, pypika, forbiddenfruit\n",
            "  Building wheel for pyppeteer (setup.py) ... \u001b[?25l\u001b[?25hdone\n",
            "  Created wheel for pyppeteer: filename=pyppeteer-0.0.25-py3-none-any.whl size=78356 sha256=1e1adc32ae04eabb4cd31c675d72690de9124fc4eaac5276b0112d6e952b1887\n",
            "  Stored in directory: /root/.cache/pip/wheels/73/a3/1e/3a15782836222d82b917f1ebf652f9db54eec93f3268a42bcf\n",
            "  Building wheel for pypika (pyproject.toml) ... \u001b[?25l\u001b[?25hdone\n",
            "  Created wheel for pypika: filename=pypika-0.48.9-py2.py3-none-any.whl size=53803 sha256=9a504e1c0e6ea2cac2eff9ef8747a5ec375c08192d9c131ac456877b2cc2d58b\n",
            "  Stored in directory: /root/.cache/pip/wheels/a3/01/bd/4c40ceb9d5354160cb186dcc153360f4ab7eb23e2b24daf96d\n",
            "  Building wheel for forbiddenfruit (setup.py) ... \u001b[?25l\u001b[?25hdone\n",
            "  Created wheel for forbiddenfruit: filename=forbiddenfruit-0.1.4-py3-none-any.whl size=21789 sha256=27534875d1671f4d5015c35aa3b87c72c8cade922ad927a4d9fc33e9178473a8\n",
            "  Stored in directory: /root/.cache/pip/wheels/a3/09/38/5a94e2df4ae8f2cfc8053997507ad46b07009af3afc34a9a9c\n",
            "Successfully built pyppeteer pypika forbiddenfruit\n",
            "Installing collected packages: sqlite-vec, pypika, forbiddenfruit, durationpy, appdirs, validators, uvloop, truststore, structlog, python-dotenv, pyee, pybase64, pyarrow, overrides, ormsgpack, opentelemetry-proto, mypy-extensions, mmh3, marshmallow, jsonschema-rs, jedi, humanfriendly, httpx-sse, httptools, blockbuster, bcrypt, backoff, aiosqlite, watchfiles, typing-inspect, pyppeteer, posthog, opentelemetry-exporter-otlp-proto-common, opentelemetry-api, coloredlogs, azure-core, sse-starlette, pydantic-settings, opentelemetry-semantic-conventions, onnxruntime, langgraph-sdk, kubernetes, dataclasses-json, anthropic, opentelemetry-sdk, msal, langgraph-cli, opentelemetry-exporter-otlp-proto-grpc, msal-extensions, langgraph-checkpoint, langchain-openai, langchain-anthropic, langgraph-prebuilt, langgraph-checkpoint-sqlite, langchain-together, chromadb, azure-identity, openevals, langgraph, langchain-google-vertexai, langchain-community, langchain-chroma, langgraph-swarm, langgraph-supervisor, langgraph-runtime-inmem, langchain-experimental, langgraph-api\n",
            "  Attempting uninstall: pyarrow\n",
            "    Found existing installation: pyarrow 18.1.0\n",
            "    Uninstalling pyarrow-18.1.0:\n",
            "      Successfully uninstalled pyarrow-18.1.0\n",
            "Successfully installed aiosqlite-0.21.0 anthropic-0.55.0 appdirs-1.4.4 azure-core-1.34.0 azure-identity-1.23.0 backoff-2.2.1 bcrypt-4.3.0 blockbuster-1.5.24 chromadb-1.0.13 coloredlogs-15.0.1 dataclasses-json-0.6.7 durationpy-0.10 forbiddenfruit-0.1.4 httptools-0.6.4 httpx-sse-0.4.1 humanfriendly-10.0 jedi-0.19.2 jsonschema-rs-0.29.1 kubernetes-33.1.0 langchain-anthropic-0.3.16 langchain-chroma-0.2.4 langchain-community-0.3.26 langchain-experimental-0.3.4 langchain-google-vertexai-2.0.26 langchain-openai-0.3.27 langchain-together-0.3.0 langgraph-0.5.0 langgraph-api-0.2.72 langgraph-checkpoint-2.1.0 langgraph-checkpoint-sqlite-2.0.10 langgraph-cli-0.3.3 langgraph-prebuilt-0.5.1 langgraph-runtime-inmem-0.3.3 langgraph-sdk-0.1.72 langgraph-supervisor-0.0.27 langgraph-swarm-0.0.11 marshmallow-3.26.1 mmh3-5.1.0 msal-1.32.3 msal-extensions-1.3.1 mypy-extensions-1.1.0 onnxruntime-1.22.0 openevals-0.1.0 opentelemetry-api-1.34.1 opentelemetry-exporter-otlp-proto-common-1.34.1 opentelemetry-exporter-otlp-proto-grpc-1.34.1 opentelemetry-proto-1.34.1 opentelemetry-sdk-1.34.1 opentelemetry-semantic-conventions-0.55b1 ormsgpack-1.10.0 overrides-7.7.0 posthog-6.0.0 pyarrow-19.0.1 pybase64-1.4.1 pydantic-settings-2.10.1 pyee-13.0.0 pypika-0.48.9 pyppeteer-0.0.25 python-dotenv-1.1.1 sqlite-vec-0.1.6 sse-starlette-2.1.3 structlog-25.4.0 truststore-0.10.1 typing-inspect-0.9.0 uvloop-0.21.0 validators-0.35.0 watchfiles-1.1.0\n"
          ]
        }
      ]
    },
    {
      "cell_type": "markdown",
      "source": [
        "## **Setting up the Environment**\n"
      ],
      "metadata": {
        "id": "ynOmrzQIx626"
      }
    },
    {
      "cell_type": "markdown",
      "source": [
        "**So, LangChain, LangGraph all these modules form an entire architecture. If I import all the libraries at once, it will definitely create confusion.**\n",
        "\n",
        "**So we will only import modules when they are needed, as it will help us learn in a proper way.**\n",
        "\n",
        "**The very first step is to create environment variables that will hold our sensitive info like API keys and other such things.**"
      ],
      "metadata": {
        "id": "e7ksxJFDykIp"
      }
    },
    {
      "cell_type": "code",
      "execution_count": null,
      "metadata": {
        "id": "42ZTiidJxry2"
      },
      "outputs": [],
      "source": [
        "import os\n",
        "from google.colab import userdata\n",
        "\n",
        "# Setting up the API Keys and other tracking & tracing mechanisms\n",
        "os.environ[\"OPENAI_API_KEY\"] = userdata.get(\"GPTKEY\")\n",
        "os.environ[\"LANGSMITH_API_KEY\"] = userdata.get(\"LangSmith\")\n",
        "os.environ[\"LANGSMITH_TRACING\"] = \"true\"\n",
        "os.environ[\"LANGSMITH_PROJECT\"] = \"intelligent-agent-rag-system\""
      ]
    },
    {
      "cell_type": "markdown",
      "source": [
        "**We will be using OpenAI models for both text generation and embeddings in this project. While the original notebook may reference other providers like Nebius AI or Together AI, LangChain offers extensive support for various model providers.**\n",
        "\n",
        "**To get the LangSmith API key, you can go to their [website](https://www.langchain.com/langsmith) and create an account. After that, under settings, you will find your API key.**"
      ],
      "metadata": {
        "id": "z26qunCPzlKU"
      }
    },
    {
      "cell_type": "code",
      "source": [
        "from langsmith import utils\n",
        "\n",
        "# Check and print whether LangSmith tracing is currently enabled\n",
        "print(f\"LangSmith tracing is enabled: {utils.tracing_is_enabled()}\")"
      ],
      "metadata": {
        "colab": {
          "base_uri": "https://localhost:8080/"
        },
        "id": "n3tn9pn-zEIr",
        "outputId": "a29e9c62-edcb-4496-9709-3164e52441cd"
      },
      "execution_count": null,
      "outputs": [
        {
          "output_type": "stream",
          "name": "stdout",
          "text": [
            "LangSmith tracing is enabled: True\n"
          ]
        }
      ]
    },
    {
      "cell_type": "markdown",
      "source": [
        "**We just imported the utils from LangSmith that we will be using later, and tracing is set to true because previously we set the environment variable `LANGSMITH_TRACING = TRUE`, which helps us record and visualize the execution of our AI Agent application.**"
      ],
      "metadata": {
        "id": "KlpCBi71zzHT"
      }
    },
    {
      "cell_type": "markdown",
      "source": [
        "## **Purpose of LangSmith**\n",
        "\n",
        "**When we build AI agentic apps with LLMs, LangSmith helps you understand and improve them. It works like a dashboard that shows what is happening inside your app and lets you**\n",
        "\n",
        "<img src = \"https://camo.githubusercontent.com/5e3cb806016667f3a895d211785e7da565ff14807c74b80c530f4b63ca5a18c1/68747470733a2f2f6d69726f2e6d656469756d2e636f6d2f76322f726573697a653a6669743a313130302f666f726d61743a776562702f312a4258356c4f644a56576f5734436653364636594541412e706e67\"/>\n",
        "\n",
        "* **Debug when things go wrong**\n",
        "* **Test your prompts and logic**\n",
        "* **Evaluate how good the answers are**\n",
        "* **Monitor your app in real time**\n",
        "* **Track usage, speed, and cost**\n",
        "\n",
        "**LangSmith makes all of this easy to use, even if you are not a developer.**\n",
        "\n",
        "**So, now that we understand the high-level purpose of LangSmith, and since we will be coding within it from time to time, let's import it.**"
      ],
      "metadata": {
        "id": "8eTe94qP0AGa"
      }
    },
    {
      "cell_type": "markdown",
      "source": [
        "## **Choosing our Dataset**\n",
        "\n",
        "**We are going to use the [\"Chinook Database\"](https://github.com/lerocha/chinook-database), which is a popular sample database used for learning and testing SQL. It simulates a digital music store’s data and operations, such as customer information, purchase history, and music catalog.**\n",
        "\n",
        "**It comes in multiple formats like MySQL, PostgreSQL, and others, but we are going to use the SQLite version of the data, as it also helps us learn how an AI agent interacts with a database, especially useful for someone who is new to this AI agent guide.**\n",
        "\n",
        "**So, let's define a function that will set up the SQLite database for us.**"
      ],
      "metadata": {
        "id": "RzqjG7y60Uaz"
      }
    },
    {
      "cell_type": "code",
      "source": [
        "import sqlite3\n",
        "import requests\n",
        "from sqlalchemy import StaticPool\n",
        "from sqlalchemy import create_engine\n",
        "from langchain_community.utilities.sql_database import SQLDatabase"
      ],
      "metadata": {
        "id": "bgAxamA-zxb_"
      },
      "execution_count": null,
      "outputs": []
    },
    {
      "cell_type": "markdown",
      "source": [
        "### **Function for getting data from Chinook**"
      ],
      "metadata": {
        "id": "GTFoqiTc3P0W"
      }
    },
    {
      "cell_type": "code",
      "source": [
        "def create_engine_for_chinook_db():\n",
        "  \"\"\"\n",
        "  Pull SQL file, populate in-memory SQLite database, and return the engine.\n",
        "\n",
        "  This will download the chinook database SQL script from Git and creates and\n",
        "  in-memory SQLite database populated with the sample data\n",
        "  \"\"\"\n",
        "\n",
        "  # This will download the official sql script from the github\n",
        "  url = \"https://raw.githubusercontent.com/lerocha/chinook-database/master/ChinookDatabase/DataSources/Chinook_Sqlite.sql\"\n",
        "  resp = requests.get(url)\n",
        "  sql_srcpt = resp.text\n",
        "\n",
        "  # Now, we will create the in-memory database SQLite database connection\n",
        "  # check_same_thread = False allows the connection to be used across threads\n",
        "  conn = sqlite3.connect(\":memory:\", check_same_thread = False)\n",
        "\n",
        "  # initiating connection to populate the sample data\n",
        "  conn.executescript(sql_srcpt)\n",
        "\n",
        "  # create and return a sqlalchemy engine that uses the populated connection\n",
        "  return create_engine(\n",
        "      \"sqlite://\",             # SQLite URL schema\n",
        "      creator = lambda:conn,\n",
        "      poolclass = StaticPool,\n",
        "      connect_args = {\"check_same_thread\":False},\n",
        "      echo = True\n",
        "  )"
      ],
      "metadata": {
        "id": "qqwBjDFu03X3"
      },
      "execution_count": null,
      "outputs": []
    },
    {
      "cell_type": "markdown",
      "source": [
        "**This function sets up a temporay in-memory sqlite database using chinook sample dataset**\n",
        "\n",
        "**It downloads the SQL script from github, and creates a database in memory, runs the script to populate the tables, and the returns SQLAlchemy engine connected to this database**"
      ],
      "metadata": {
        "id": "btylTfXR2WmE"
      }
    },
    {
      "cell_type": "markdown",
      "source": [
        "### **Initializing the database**"
      ],
      "metadata": {
        "id": "E4DMd_6-3UGv"
      }
    },
    {
      "cell_type": "code",
      "source": [
        "# Now we need to initialize this function so that the SQLite database gets created\n",
        "engine = create_engine_for_chinook_db()"
      ],
      "metadata": {
        "id": "j1Puiisg2Vgb"
      },
      "execution_count": null,
      "outputs": []
    },
    {
      "cell_type": "code",
      "source": [
        "# Create a langchain SQLDatabase wrapper around the engine.\n",
        "db = SQLDatabase(engine)"
      ],
      "metadata": {
        "colab": {
          "base_uri": "https://localhost:8080/"
        },
        "id": "y1eRYzVm2z03",
        "outputId": "c02fb03a-31d4-4113-e016-41a5c73e0c0f"
      },
      "execution_count": null,
      "outputs": [
        {
          "output_type": "stream",
          "name": "stdout",
          "text": [
            "2025-06-17 05:51:34,452 INFO sqlalchemy.engine.Engine BEGIN (implicit)\n"
          ]
        },
        {
          "output_type": "stream",
          "name": "stderr",
          "text": [
            "INFO:sqlalchemy.engine.Engine:BEGIN (implicit)\n"
          ]
        },
        {
          "output_type": "stream",
          "name": "stdout",
          "text": [
            "2025-06-17 05:51:34,466 INFO sqlalchemy.engine.Engine SELECT name FROM sqlite_master WHERE type='table' AND name NOT LIKE 'sqlite~_%' ESCAPE '~' ORDER BY name\n"
          ]
        },
        {
          "output_type": "stream",
          "name": "stderr",
          "text": [
            "INFO:sqlalchemy.engine.Engine:SELECT name FROM sqlite_master WHERE type='table' AND name NOT LIKE 'sqlite~_%' ESCAPE '~' ORDER BY name\n"
          ]
        },
        {
          "output_type": "stream",
          "name": "stdout",
          "text": [
            "2025-06-17 05:51:34,470 INFO sqlalchemy.engine.Engine [raw sql] ()\n"
          ]
        },
        {
          "output_type": "stream",
          "name": "stderr",
          "text": [
            "INFO:sqlalchemy.engine.Engine:[raw sql] ()\n"
          ]
        },
        {
          "output_type": "stream",
          "name": "stdout",
          "text": [
            "2025-06-17 05:51:34,474 INFO sqlalchemy.engine.Engine ROLLBACK\n"
          ]
        },
        {
          "output_type": "stream",
          "name": "stderr",
          "text": [
            "INFO:sqlalchemy.engine.Engine:ROLLBACK\n"
          ]
        },
        {
          "output_type": "stream",
          "name": "stdout",
          "text": [
            "2025-06-17 05:51:34,480 INFO sqlalchemy.engine.Engine BEGIN (implicit)\n"
          ]
        },
        {
          "output_type": "stream",
          "name": "stderr",
          "text": [
            "INFO:sqlalchemy.engine.Engine:BEGIN (implicit)\n"
          ]
        },
        {
          "output_type": "stream",
          "name": "stdout",
          "text": [
            "2025-06-17 05:51:34,485 INFO sqlalchemy.engine.Engine SELECT name FROM sqlite_master WHERE type='table' AND name NOT LIKE 'sqlite~_%' ESCAPE '~' ORDER BY name\n"
          ]
        },
        {
          "output_type": "stream",
          "name": "stderr",
          "text": [
            "INFO:sqlalchemy.engine.Engine:SELECT name FROM sqlite_master WHERE type='table' AND name NOT LIKE 'sqlite~_%' ESCAPE '~' ORDER BY name\n"
          ]
        },
        {
          "output_type": "stream",
          "name": "stdout",
          "text": [
            "2025-06-17 05:51:34,492 INFO sqlalchemy.engine.Engine [raw sql] ()\n"
          ]
        },
        {
          "output_type": "stream",
          "name": "stderr",
          "text": [
            "INFO:sqlalchemy.engine.Engine:[raw sql] ()\n"
          ]
        },
        {
          "output_type": "stream",
          "name": "stdout",
          "text": [
            "2025-06-17 05:51:34,496 INFO sqlalchemy.engine.Engine SELECT name FROM sqlite_temp_master WHERE type='table' AND name NOT LIKE 'sqlite~_%' ESCAPE '~' ORDER BY name\n"
          ]
        },
        {
          "output_type": "stream",
          "name": "stderr",
          "text": [
            "INFO:sqlalchemy.engine.Engine:SELECT name FROM sqlite_temp_master WHERE type='table' AND name NOT LIKE 'sqlite~_%' ESCAPE '~' ORDER BY name\n"
          ]
        },
        {
          "output_type": "stream",
          "name": "stdout",
          "text": [
            "2025-06-17 05:51:34,499 INFO sqlalchemy.engine.Engine [raw sql] ()\n"
          ]
        },
        {
          "output_type": "stream",
          "name": "stderr",
          "text": [
            "INFO:sqlalchemy.engine.Engine:[raw sql] ()\n"
          ]
        },
        {
          "output_type": "stream",
          "name": "stdout",
          "text": [
            "2025-06-17 05:51:34,505 INFO sqlalchemy.engine.Engine PRAGMA main.table_xinfo(\"Album\")\n"
          ]
        },
        {
          "output_type": "stream",
          "name": "stderr",
          "text": [
            "INFO:sqlalchemy.engine.Engine:PRAGMA main.table_xinfo(\"Album\")\n"
          ]
        },
        {
          "output_type": "stream",
          "name": "stdout",
          "text": [
            "2025-06-17 05:51:34,507 INFO sqlalchemy.engine.Engine [raw sql] ()\n"
          ]
        },
        {
          "output_type": "stream",
          "name": "stderr",
          "text": [
            "INFO:sqlalchemy.engine.Engine:[raw sql] ()\n"
          ]
        },
        {
          "output_type": "stream",
          "name": "stdout",
          "text": [
            "2025-06-17 05:51:34,517 INFO sqlalchemy.engine.Engine PRAGMA main.table_xinfo(\"Artist\")\n"
          ]
        },
        {
          "output_type": "stream",
          "name": "stderr",
          "text": [
            "INFO:sqlalchemy.engine.Engine:PRAGMA main.table_xinfo(\"Artist\")\n"
          ]
        },
        {
          "output_type": "stream",
          "name": "stdout",
          "text": [
            "2025-06-17 05:51:34,521 INFO sqlalchemy.engine.Engine [raw sql] ()\n"
          ]
        },
        {
          "output_type": "stream",
          "name": "stderr",
          "text": [
            "INFO:sqlalchemy.engine.Engine:[raw sql] ()\n"
          ]
        },
        {
          "output_type": "stream",
          "name": "stdout",
          "text": [
            "2025-06-17 05:51:34,529 INFO sqlalchemy.engine.Engine PRAGMA main.table_xinfo(\"Customer\")\n"
          ]
        },
        {
          "output_type": "stream",
          "name": "stderr",
          "text": [
            "INFO:sqlalchemy.engine.Engine:PRAGMA main.table_xinfo(\"Customer\")\n"
          ]
        },
        {
          "output_type": "stream",
          "name": "stdout",
          "text": [
            "2025-06-17 05:51:34,532 INFO sqlalchemy.engine.Engine [raw sql] ()\n"
          ]
        },
        {
          "output_type": "stream",
          "name": "stderr",
          "text": [
            "INFO:sqlalchemy.engine.Engine:[raw sql] ()\n"
          ]
        },
        {
          "output_type": "stream",
          "name": "stdout",
          "text": [
            "2025-06-17 05:51:34,536 INFO sqlalchemy.engine.Engine PRAGMA main.table_xinfo(\"Employee\")\n"
          ]
        },
        {
          "output_type": "stream",
          "name": "stderr",
          "text": [
            "INFO:sqlalchemy.engine.Engine:PRAGMA main.table_xinfo(\"Employee\")\n"
          ]
        },
        {
          "output_type": "stream",
          "name": "stdout",
          "text": [
            "2025-06-17 05:51:34,542 INFO sqlalchemy.engine.Engine [raw sql] ()\n"
          ]
        },
        {
          "output_type": "stream",
          "name": "stderr",
          "text": [
            "INFO:sqlalchemy.engine.Engine:[raw sql] ()\n"
          ]
        },
        {
          "output_type": "stream",
          "name": "stdout",
          "text": [
            "2025-06-17 05:51:34,546 INFO sqlalchemy.engine.Engine PRAGMA main.table_xinfo(\"Genre\")\n"
          ]
        },
        {
          "output_type": "stream",
          "name": "stderr",
          "text": [
            "INFO:sqlalchemy.engine.Engine:PRAGMA main.table_xinfo(\"Genre\")\n"
          ]
        },
        {
          "output_type": "stream",
          "name": "stdout",
          "text": [
            "2025-06-17 05:51:34,549 INFO sqlalchemy.engine.Engine [raw sql] ()\n"
          ]
        },
        {
          "output_type": "stream",
          "name": "stderr",
          "text": [
            "INFO:sqlalchemy.engine.Engine:[raw sql] ()\n"
          ]
        },
        {
          "output_type": "stream",
          "name": "stdout",
          "text": [
            "2025-06-17 05:51:34,554 INFO sqlalchemy.engine.Engine PRAGMA main.table_xinfo(\"Invoice\")\n"
          ]
        },
        {
          "output_type": "stream",
          "name": "stderr",
          "text": [
            "INFO:sqlalchemy.engine.Engine:PRAGMA main.table_xinfo(\"Invoice\")\n"
          ]
        },
        {
          "output_type": "stream",
          "name": "stdout",
          "text": [
            "2025-06-17 05:51:34,555 INFO sqlalchemy.engine.Engine [raw sql] ()\n"
          ]
        },
        {
          "output_type": "stream",
          "name": "stderr",
          "text": [
            "INFO:sqlalchemy.engine.Engine:[raw sql] ()\n"
          ]
        },
        {
          "output_type": "stream",
          "name": "stdout",
          "text": [
            "2025-06-17 05:51:34,556 INFO sqlalchemy.engine.Engine PRAGMA main.table_xinfo(\"InvoiceLine\")\n"
          ]
        },
        {
          "output_type": "stream",
          "name": "stderr",
          "text": [
            "INFO:sqlalchemy.engine.Engine:PRAGMA main.table_xinfo(\"InvoiceLine\")\n"
          ]
        },
        {
          "output_type": "stream",
          "name": "stdout",
          "text": [
            "2025-06-17 05:51:34,561 INFO sqlalchemy.engine.Engine [raw sql] ()\n"
          ]
        },
        {
          "output_type": "stream",
          "name": "stderr",
          "text": [
            "INFO:sqlalchemy.engine.Engine:[raw sql] ()\n"
          ]
        },
        {
          "output_type": "stream",
          "name": "stdout",
          "text": [
            "2025-06-17 05:51:34,563 INFO sqlalchemy.engine.Engine PRAGMA main.table_xinfo(\"MediaType\")\n"
          ]
        },
        {
          "output_type": "stream",
          "name": "stderr",
          "text": [
            "INFO:sqlalchemy.engine.Engine:PRAGMA main.table_xinfo(\"MediaType\")\n"
          ]
        },
        {
          "output_type": "stream",
          "name": "stdout",
          "text": [
            "2025-06-17 05:51:34,564 INFO sqlalchemy.engine.Engine [raw sql] ()\n"
          ]
        },
        {
          "output_type": "stream",
          "name": "stderr",
          "text": [
            "INFO:sqlalchemy.engine.Engine:[raw sql] ()\n"
          ]
        },
        {
          "output_type": "stream",
          "name": "stdout",
          "text": [
            "2025-06-17 05:51:34,572 INFO sqlalchemy.engine.Engine PRAGMA main.table_xinfo(\"Playlist\")\n"
          ]
        },
        {
          "output_type": "stream",
          "name": "stderr",
          "text": [
            "INFO:sqlalchemy.engine.Engine:PRAGMA main.table_xinfo(\"Playlist\")\n"
          ]
        },
        {
          "output_type": "stream",
          "name": "stdout",
          "text": [
            "2025-06-17 05:51:34,573 INFO sqlalchemy.engine.Engine [raw sql] ()\n"
          ]
        },
        {
          "output_type": "stream",
          "name": "stderr",
          "text": [
            "INFO:sqlalchemy.engine.Engine:[raw sql] ()\n"
          ]
        },
        {
          "output_type": "stream",
          "name": "stdout",
          "text": [
            "2025-06-17 05:51:34,574 INFO sqlalchemy.engine.Engine PRAGMA main.table_xinfo(\"PlaylistTrack\")\n"
          ]
        },
        {
          "output_type": "stream",
          "name": "stderr",
          "text": [
            "INFO:sqlalchemy.engine.Engine:PRAGMA main.table_xinfo(\"PlaylistTrack\")\n"
          ]
        },
        {
          "output_type": "stream",
          "name": "stdout",
          "text": [
            "2025-06-17 05:51:34,575 INFO sqlalchemy.engine.Engine [raw sql] ()\n"
          ]
        },
        {
          "output_type": "stream",
          "name": "stderr",
          "text": [
            "INFO:sqlalchemy.engine.Engine:[raw sql] ()\n"
          ]
        },
        {
          "output_type": "stream",
          "name": "stdout",
          "text": [
            "2025-06-17 05:51:34,576 INFO sqlalchemy.engine.Engine PRAGMA main.table_xinfo(\"Track\")\n"
          ]
        },
        {
          "output_type": "stream",
          "name": "stderr",
          "text": [
            "INFO:sqlalchemy.engine.Engine:PRAGMA main.table_xinfo(\"Track\")\n"
          ]
        },
        {
          "output_type": "stream",
          "name": "stdout",
          "text": [
            "2025-06-17 05:51:34,582 INFO sqlalchemy.engine.Engine [raw sql] ()\n"
          ]
        },
        {
          "output_type": "stream",
          "name": "stderr",
          "text": [
            "INFO:sqlalchemy.engine.Engine:[raw sql] ()\n"
          ]
        },
        {
          "output_type": "stream",
          "name": "stdout",
          "text": [
            "2025-06-17 05:51:34,587 INFO sqlalchemy.engine.Engine SELECT sql FROM  (SELECT * FROM sqlite_master UNION ALL   SELECT * FROM sqlite_temp_master) WHERE name = ? AND type in ('table', 'view')\n"
          ]
        },
        {
          "output_type": "stream",
          "name": "stderr",
          "text": [
            "INFO:sqlalchemy.engine.Engine:SELECT sql FROM  (SELECT * FROM sqlite_master UNION ALL   SELECT * FROM sqlite_temp_master) WHERE name = ? AND type in ('table', 'view')\n"
          ]
        },
        {
          "output_type": "stream",
          "name": "stdout",
          "text": [
            "2025-06-17 05:51:34,588 INFO sqlalchemy.engine.Engine [raw sql] ('Album',)\n"
          ]
        },
        {
          "output_type": "stream",
          "name": "stderr",
          "text": [
            "INFO:sqlalchemy.engine.Engine:[raw sql] ('Album',)\n"
          ]
        },
        {
          "output_type": "stream",
          "name": "stdout",
          "text": [
            "2025-06-17 05:51:34,590 INFO sqlalchemy.engine.Engine SELECT sql FROM  (SELECT * FROM sqlite_master UNION ALL   SELECT * FROM sqlite_temp_master) WHERE name = ? AND type in ('table', 'view')\n"
          ]
        },
        {
          "output_type": "stream",
          "name": "stderr",
          "text": [
            "INFO:sqlalchemy.engine.Engine:SELECT sql FROM  (SELECT * FROM sqlite_master UNION ALL   SELECT * FROM sqlite_temp_master) WHERE name = ? AND type in ('table', 'view')\n"
          ]
        },
        {
          "output_type": "stream",
          "name": "stdout",
          "text": [
            "2025-06-17 05:51:34,600 INFO sqlalchemy.engine.Engine [raw sql] ('Artist',)\n"
          ]
        },
        {
          "output_type": "stream",
          "name": "stderr",
          "text": [
            "INFO:sqlalchemy.engine.Engine:[raw sql] ('Artist',)\n"
          ]
        },
        {
          "output_type": "stream",
          "name": "stdout",
          "text": [
            "2025-06-17 05:51:34,602 INFO sqlalchemy.engine.Engine SELECT sql FROM  (SELECT * FROM sqlite_master UNION ALL   SELECT * FROM sqlite_temp_master) WHERE name = ? AND type in ('table', 'view')\n"
          ]
        },
        {
          "output_type": "stream",
          "name": "stderr",
          "text": [
            "INFO:sqlalchemy.engine.Engine:SELECT sql FROM  (SELECT * FROM sqlite_master UNION ALL   SELECT * FROM sqlite_temp_master) WHERE name = ? AND type in ('table', 'view')\n"
          ]
        },
        {
          "output_type": "stream",
          "name": "stdout",
          "text": [
            "2025-06-17 05:51:34,606 INFO sqlalchemy.engine.Engine [raw sql] ('Customer',)\n"
          ]
        },
        {
          "output_type": "stream",
          "name": "stderr",
          "text": [
            "INFO:sqlalchemy.engine.Engine:[raw sql] ('Customer',)\n"
          ]
        },
        {
          "output_type": "stream",
          "name": "stdout",
          "text": [
            "2025-06-17 05:51:34,608 INFO sqlalchemy.engine.Engine SELECT sql FROM  (SELECT * FROM sqlite_master UNION ALL   SELECT * FROM sqlite_temp_master) WHERE name = ? AND type in ('table', 'view')\n"
          ]
        },
        {
          "output_type": "stream",
          "name": "stderr",
          "text": [
            "INFO:sqlalchemy.engine.Engine:SELECT sql FROM  (SELECT * FROM sqlite_master UNION ALL   SELECT * FROM sqlite_temp_master) WHERE name = ? AND type in ('table', 'view')\n"
          ]
        },
        {
          "output_type": "stream",
          "name": "stdout",
          "text": [
            "2025-06-17 05:51:34,609 INFO sqlalchemy.engine.Engine [raw sql] ('Employee',)\n"
          ]
        },
        {
          "output_type": "stream",
          "name": "stderr",
          "text": [
            "INFO:sqlalchemy.engine.Engine:[raw sql] ('Employee',)\n"
          ]
        },
        {
          "output_type": "stream",
          "name": "stdout",
          "text": [
            "2025-06-17 05:51:34,614 INFO sqlalchemy.engine.Engine SELECT sql FROM  (SELECT * FROM sqlite_master UNION ALL   SELECT * FROM sqlite_temp_master) WHERE name = ? AND type in ('table', 'view')\n"
          ]
        },
        {
          "output_type": "stream",
          "name": "stderr",
          "text": [
            "INFO:sqlalchemy.engine.Engine:SELECT sql FROM  (SELECT * FROM sqlite_master UNION ALL   SELECT * FROM sqlite_temp_master) WHERE name = ? AND type in ('table', 'view')\n"
          ]
        },
        {
          "output_type": "stream",
          "name": "stdout",
          "text": [
            "2025-06-17 05:51:34,618 INFO sqlalchemy.engine.Engine [raw sql] ('Genre',)\n"
          ]
        },
        {
          "output_type": "stream",
          "name": "stderr",
          "text": [
            "INFO:sqlalchemy.engine.Engine:[raw sql] ('Genre',)\n"
          ]
        },
        {
          "output_type": "stream",
          "name": "stdout",
          "text": [
            "2025-06-17 05:51:34,619 INFO sqlalchemy.engine.Engine SELECT sql FROM  (SELECT * FROM sqlite_master UNION ALL   SELECT * FROM sqlite_temp_master) WHERE name = ? AND type in ('table', 'view')\n"
          ]
        },
        {
          "output_type": "stream",
          "name": "stderr",
          "text": [
            "INFO:sqlalchemy.engine.Engine:SELECT sql FROM  (SELECT * FROM sqlite_master UNION ALL   SELECT * FROM sqlite_temp_master) WHERE name = ? AND type in ('table', 'view')\n"
          ]
        },
        {
          "output_type": "stream",
          "name": "stdout",
          "text": [
            "2025-06-17 05:51:34,620 INFO sqlalchemy.engine.Engine [raw sql] ('Invoice',)\n"
          ]
        },
        {
          "output_type": "stream",
          "name": "stderr",
          "text": [
            "INFO:sqlalchemy.engine.Engine:[raw sql] ('Invoice',)\n"
          ]
        },
        {
          "output_type": "stream",
          "name": "stdout",
          "text": [
            "2025-06-17 05:51:34,622 INFO sqlalchemy.engine.Engine SELECT sql FROM  (SELECT * FROM sqlite_master UNION ALL   SELECT * FROM sqlite_temp_master) WHERE name = ? AND type in ('table', 'view')\n"
          ]
        },
        {
          "output_type": "stream",
          "name": "stderr",
          "text": [
            "INFO:sqlalchemy.engine.Engine:SELECT sql FROM  (SELECT * FROM sqlite_master UNION ALL   SELECT * FROM sqlite_temp_master) WHERE name = ? AND type in ('table', 'view')\n"
          ]
        },
        {
          "output_type": "stream",
          "name": "stdout",
          "text": [
            "2025-06-17 05:51:34,626 INFO sqlalchemy.engine.Engine [raw sql] ('InvoiceLine',)\n"
          ]
        },
        {
          "output_type": "stream",
          "name": "stderr",
          "text": [
            "INFO:sqlalchemy.engine.Engine:[raw sql] ('InvoiceLine',)\n"
          ]
        },
        {
          "output_type": "stream",
          "name": "stdout",
          "text": [
            "2025-06-17 05:51:34,628 INFO sqlalchemy.engine.Engine SELECT sql FROM  (SELECT * FROM sqlite_master UNION ALL   SELECT * FROM sqlite_temp_master) WHERE name = ? AND type in ('table', 'view')\n"
          ]
        },
        {
          "output_type": "stream",
          "name": "stderr",
          "text": [
            "INFO:sqlalchemy.engine.Engine:SELECT sql FROM  (SELECT * FROM sqlite_master UNION ALL   SELECT * FROM sqlite_temp_master) WHERE name = ? AND type in ('table', 'view')\n"
          ]
        },
        {
          "output_type": "stream",
          "name": "stdout",
          "text": [
            "2025-06-17 05:51:34,629 INFO sqlalchemy.engine.Engine [raw sql] ('MediaType',)\n"
          ]
        },
        {
          "output_type": "stream",
          "name": "stderr",
          "text": [
            "INFO:sqlalchemy.engine.Engine:[raw sql] ('MediaType',)\n"
          ]
        },
        {
          "output_type": "stream",
          "name": "stdout",
          "text": [
            "2025-06-17 05:51:34,630 INFO sqlalchemy.engine.Engine SELECT sql FROM  (SELECT * FROM sqlite_master UNION ALL   SELECT * FROM sqlite_temp_master) WHERE name = ? AND type in ('table', 'view')\n"
          ]
        },
        {
          "output_type": "stream",
          "name": "stderr",
          "text": [
            "INFO:sqlalchemy.engine.Engine:SELECT sql FROM  (SELECT * FROM sqlite_master UNION ALL   SELECT * FROM sqlite_temp_master) WHERE name = ? AND type in ('table', 'view')\n"
          ]
        },
        {
          "output_type": "stream",
          "name": "stdout",
          "text": [
            "2025-06-17 05:51:34,634 INFO sqlalchemy.engine.Engine [raw sql] ('Playlist',)\n"
          ]
        },
        {
          "output_type": "stream",
          "name": "stderr",
          "text": [
            "INFO:sqlalchemy.engine.Engine:[raw sql] ('Playlist',)\n"
          ]
        },
        {
          "output_type": "stream",
          "name": "stdout",
          "text": [
            "2025-06-17 05:51:34,635 INFO sqlalchemy.engine.Engine SELECT sql FROM  (SELECT * FROM sqlite_master UNION ALL   SELECT * FROM sqlite_temp_master) WHERE name = ? AND type in ('table', 'view')\n"
          ]
        },
        {
          "output_type": "stream",
          "name": "stderr",
          "text": [
            "INFO:sqlalchemy.engine.Engine:SELECT sql FROM  (SELECT * FROM sqlite_master UNION ALL   SELECT * FROM sqlite_temp_master) WHERE name = ? AND type in ('table', 'view')\n"
          ]
        },
        {
          "output_type": "stream",
          "name": "stdout",
          "text": [
            "2025-06-17 05:51:34,639 INFO sqlalchemy.engine.Engine [raw sql] ('PlaylistTrack',)\n"
          ]
        },
        {
          "output_type": "stream",
          "name": "stderr",
          "text": [
            "INFO:sqlalchemy.engine.Engine:[raw sql] ('PlaylistTrack',)\n"
          ]
        },
        {
          "output_type": "stream",
          "name": "stdout",
          "text": [
            "2025-06-17 05:51:34,640 INFO sqlalchemy.engine.Engine SELECT sql FROM  (SELECT * FROM sqlite_master UNION ALL   SELECT * FROM sqlite_temp_master) WHERE name = ? AND type in ('table', 'view')\n"
          ]
        },
        {
          "output_type": "stream",
          "name": "stderr",
          "text": [
            "INFO:sqlalchemy.engine.Engine:SELECT sql FROM  (SELECT * FROM sqlite_master UNION ALL   SELECT * FROM sqlite_temp_master) WHERE name = ? AND type in ('table', 'view')\n"
          ]
        },
        {
          "output_type": "stream",
          "name": "stdout",
          "text": [
            "2025-06-17 05:51:34,645 INFO sqlalchemy.engine.Engine [raw sql] ('Track',)\n"
          ]
        },
        {
          "output_type": "stream",
          "name": "stderr",
          "text": [
            "INFO:sqlalchemy.engine.Engine:[raw sql] ('Track',)\n"
          ]
        },
        {
          "output_type": "stream",
          "name": "stdout",
          "text": [
            "2025-06-17 05:51:34,647 INFO sqlalchemy.engine.Engine PRAGMA main.foreign_key_list(\"Album\")\n"
          ]
        },
        {
          "output_type": "stream",
          "name": "stderr",
          "text": [
            "INFO:sqlalchemy.engine.Engine:PRAGMA main.foreign_key_list(\"Album\")\n"
          ]
        },
        {
          "output_type": "stream",
          "name": "stdout",
          "text": [
            "2025-06-17 05:51:34,648 INFO sqlalchemy.engine.Engine [raw sql] ()\n"
          ]
        },
        {
          "output_type": "stream",
          "name": "stderr",
          "text": [
            "INFO:sqlalchemy.engine.Engine:[raw sql] ()\n"
          ]
        },
        {
          "output_type": "stream",
          "name": "stdout",
          "text": [
            "2025-06-17 05:51:34,649 INFO sqlalchemy.engine.Engine SELECT sql FROM  (SELECT * FROM sqlite_master UNION ALL   SELECT * FROM sqlite_temp_master) WHERE name = ? AND type in ('table', 'view')\n"
          ]
        },
        {
          "output_type": "stream",
          "name": "stderr",
          "text": [
            "INFO:sqlalchemy.engine.Engine:SELECT sql FROM  (SELECT * FROM sqlite_master UNION ALL   SELECT * FROM sqlite_temp_master) WHERE name = ? AND type in ('table', 'view')\n"
          ]
        },
        {
          "output_type": "stream",
          "name": "stdout",
          "text": [
            "2025-06-17 05:51:34,653 INFO sqlalchemy.engine.Engine [raw sql] ('Album',)\n"
          ]
        },
        {
          "output_type": "stream",
          "name": "stderr",
          "text": [
            "INFO:sqlalchemy.engine.Engine:[raw sql] ('Album',)\n"
          ]
        },
        {
          "output_type": "stream",
          "name": "stdout",
          "text": [
            "2025-06-17 05:51:34,658 INFO sqlalchemy.engine.Engine PRAGMA main.foreign_key_list(\"Artist\")\n"
          ]
        },
        {
          "output_type": "stream",
          "name": "stderr",
          "text": [
            "INFO:sqlalchemy.engine.Engine:PRAGMA main.foreign_key_list(\"Artist\")\n"
          ]
        },
        {
          "output_type": "stream",
          "name": "stdout",
          "text": [
            "2025-06-17 05:51:34,663 INFO sqlalchemy.engine.Engine [raw sql] ()\n"
          ]
        },
        {
          "output_type": "stream",
          "name": "stderr",
          "text": [
            "INFO:sqlalchemy.engine.Engine:[raw sql] ()\n"
          ]
        },
        {
          "output_type": "stream",
          "name": "stdout",
          "text": [
            "2025-06-17 05:51:34,667 INFO sqlalchemy.engine.Engine PRAGMA temp.foreign_key_list(\"Artist\")\n"
          ]
        },
        {
          "output_type": "stream",
          "name": "stderr",
          "text": [
            "INFO:sqlalchemy.engine.Engine:PRAGMA temp.foreign_key_list(\"Artist\")\n"
          ]
        },
        {
          "output_type": "stream",
          "name": "stdout",
          "text": [
            "2025-06-17 05:51:34,669 INFO sqlalchemy.engine.Engine [raw sql] ()\n"
          ]
        },
        {
          "output_type": "stream",
          "name": "stderr",
          "text": [
            "INFO:sqlalchemy.engine.Engine:[raw sql] ()\n"
          ]
        },
        {
          "output_type": "stream",
          "name": "stdout",
          "text": [
            "2025-06-17 05:51:34,670 INFO sqlalchemy.engine.Engine SELECT sql FROM  (SELECT * FROM sqlite_master UNION ALL   SELECT * FROM sqlite_temp_master) WHERE name = ? AND type in ('table', 'view')\n"
          ]
        },
        {
          "output_type": "stream",
          "name": "stderr",
          "text": [
            "INFO:sqlalchemy.engine.Engine:SELECT sql FROM  (SELECT * FROM sqlite_master UNION ALL   SELECT * FROM sqlite_temp_master) WHERE name = ? AND type in ('table', 'view')\n"
          ]
        },
        {
          "output_type": "stream",
          "name": "stdout",
          "text": [
            "2025-06-17 05:51:34,671 INFO sqlalchemy.engine.Engine [raw sql] ('Artist',)\n"
          ]
        },
        {
          "output_type": "stream",
          "name": "stderr",
          "text": [
            "INFO:sqlalchemy.engine.Engine:[raw sql] ('Artist',)\n"
          ]
        },
        {
          "output_type": "stream",
          "name": "stdout",
          "text": [
            "2025-06-17 05:51:34,676 INFO sqlalchemy.engine.Engine PRAGMA main.foreign_key_list(\"Customer\")\n"
          ]
        },
        {
          "output_type": "stream",
          "name": "stderr",
          "text": [
            "INFO:sqlalchemy.engine.Engine:PRAGMA main.foreign_key_list(\"Customer\")\n"
          ]
        },
        {
          "output_type": "stream",
          "name": "stdout",
          "text": [
            "2025-06-17 05:51:34,677 INFO sqlalchemy.engine.Engine [raw sql] ()\n"
          ]
        },
        {
          "output_type": "stream",
          "name": "stderr",
          "text": [
            "INFO:sqlalchemy.engine.Engine:[raw sql] ()\n"
          ]
        },
        {
          "output_type": "stream",
          "name": "stdout",
          "text": [
            "2025-06-17 05:51:34,678 INFO sqlalchemy.engine.Engine SELECT sql FROM  (SELECT * FROM sqlite_master UNION ALL   SELECT * FROM sqlite_temp_master) WHERE name = ? AND type in ('table', 'view')\n"
          ]
        },
        {
          "output_type": "stream",
          "name": "stderr",
          "text": [
            "INFO:sqlalchemy.engine.Engine:SELECT sql FROM  (SELECT * FROM sqlite_master UNION ALL   SELECT * FROM sqlite_temp_master) WHERE name = ? AND type in ('table', 'view')\n"
          ]
        },
        {
          "output_type": "stream",
          "name": "stdout",
          "text": [
            "2025-06-17 05:51:34,683 INFO sqlalchemy.engine.Engine [raw sql] ('Customer',)\n"
          ]
        },
        {
          "output_type": "stream",
          "name": "stderr",
          "text": [
            "INFO:sqlalchemy.engine.Engine:[raw sql] ('Customer',)\n"
          ]
        },
        {
          "output_type": "stream",
          "name": "stdout",
          "text": [
            "2025-06-17 05:51:34,685 INFO sqlalchemy.engine.Engine PRAGMA main.foreign_key_list(\"Employee\")\n"
          ]
        },
        {
          "output_type": "stream",
          "name": "stderr",
          "text": [
            "INFO:sqlalchemy.engine.Engine:PRAGMA main.foreign_key_list(\"Employee\")\n"
          ]
        },
        {
          "output_type": "stream",
          "name": "stdout",
          "text": [
            "2025-06-17 05:51:34,686 INFO sqlalchemy.engine.Engine [raw sql] ()\n"
          ]
        },
        {
          "output_type": "stream",
          "name": "stderr",
          "text": [
            "INFO:sqlalchemy.engine.Engine:[raw sql] ()\n"
          ]
        },
        {
          "output_type": "stream",
          "name": "stdout",
          "text": [
            "2025-06-17 05:51:34,687 INFO sqlalchemy.engine.Engine SELECT sql FROM  (SELECT * FROM sqlite_master UNION ALL   SELECT * FROM sqlite_temp_master) WHERE name = ? AND type in ('table', 'view')\n"
          ]
        },
        {
          "output_type": "stream",
          "name": "stderr",
          "text": [
            "INFO:sqlalchemy.engine.Engine:SELECT sql FROM  (SELECT * FROM sqlite_master UNION ALL   SELECT * FROM sqlite_temp_master) WHERE name = ? AND type in ('table', 'view')\n"
          ]
        },
        {
          "output_type": "stream",
          "name": "stdout",
          "text": [
            "2025-06-17 05:51:34,693 INFO sqlalchemy.engine.Engine [raw sql] ('Employee',)\n"
          ]
        },
        {
          "output_type": "stream",
          "name": "stderr",
          "text": [
            "INFO:sqlalchemy.engine.Engine:[raw sql] ('Employee',)\n"
          ]
        },
        {
          "output_type": "stream",
          "name": "stdout",
          "text": [
            "2025-06-17 05:51:34,694 INFO sqlalchemy.engine.Engine PRAGMA main.foreign_key_list(\"Genre\")\n"
          ]
        },
        {
          "output_type": "stream",
          "name": "stderr",
          "text": [
            "INFO:sqlalchemy.engine.Engine:PRAGMA main.foreign_key_list(\"Genre\")\n"
          ]
        },
        {
          "output_type": "stream",
          "name": "stdout",
          "text": [
            "2025-06-17 05:51:34,695 INFO sqlalchemy.engine.Engine [raw sql] ()\n"
          ]
        },
        {
          "output_type": "stream",
          "name": "stderr",
          "text": [
            "INFO:sqlalchemy.engine.Engine:[raw sql] ()\n"
          ]
        },
        {
          "output_type": "stream",
          "name": "stdout",
          "text": [
            "2025-06-17 05:51:34,696 INFO sqlalchemy.engine.Engine PRAGMA temp.foreign_key_list(\"Genre\")\n"
          ]
        },
        {
          "output_type": "stream",
          "name": "stderr",
          "text": [
            "INFO:sqlalchemy.engine.Engine:PRAGMA temp.foreign_key_list(\"Genre\")\n"
          ]
        },
        {
          "output_type": "stream",
          "name": "stdout",
          "text": [
            "2025-06-17 05:51:34,697 INFO sqlalchemy.engine.Engine [raw sql] ()\n"
          ]
        },
        {
          "output_type": "stream",
          "name": "stderr",
          "text": [
            "INFO:sqlalchemy.engine.Engine:[raw sql] ()\n"
          ]
        },
        {
          "output_type": "stream",
          "name": "stdout",
          "text": [
            "2025-06-17 05:51:34,708 INFO sqlalchemy.engine.Engine SELECT sql FROM  (SELECT * FROM sqlite_master UNION ALL   SELECT * FROM sqlite_temp_master) WHERE name = ? AND type in ('table', 'view')\n"
          ]
        },
        {
          "output_type": "stream",
          "name": "stderr",
          "text": [
            "INFO:sqlalchemy.engine.Engine:SELECT sql FROM  (SELECT * FROM sqlite_master UNION ALL   SELECT * FROM sqlite_temp_master) WHERE name = ? AND type in ('table', 'view')\n"
          ]
        },
        {
          "output_type": "stream",
          "name": "stdout",
          "text": [
            "2025-06-17 05:51:34,709 INFO sqlalchemy.engine.Engine [raw sql] ('Genre',)\n"
          ]
        },
        {
          "output_type": "stream",
          "name": "stderr",
          "text": [
            "INFO:sqlalchemy.engine.Engine:[raw sql] ('Genre',)\n"
          ]
        },
        {
          "output_type": "stream",
          "name": "stdout",
          "text": [
            "2025-06-17 05:51:34,710 INFO sqlalchemy.engine.Engine PRAGMA main.foreign_key_list(\"Invoice\")\n"
          ]
        },
        {
          "output_type": "stream",
          "name": "stderr",
          "text": [
            "INFO:sqlalchemy.engine.Engine:PRAGMA main.foreign_key_list(\"Invoice\")\n"
          ]
        },
        {
          "output_type": "stream",
          "name": "stdout",
          "text": [
            "2025-06-17 05:51:34,711 INFO sqlalchemy.engine.Engine [raw sql] ()\n"
          ]
        },
        {
          "output_type": "stream",
          "name": "stderr",
          "text": [
            "INFO:sqlalchemy.engine.Engine:[raw sql] ()\n"
          ]
        },
        {
          "output_type": "stream",
          "name": "stdout",
          "text": [
            "2025-06-17 05:51:34,712 INFO sqlalchemy.engine.Engine SELECT sql FROM  (SELECT * FROM sqlite_master UNION ALL   SELECT * FROM sqlite_temp_master) WHERE name = ? AND type in ('table', 'view')\n"
          ]
        },
        {
          "output_type": "stream",
          "name": "stderr",
          "text": [
            "INFO:sqlalchemy.engine.Engine:SELECT sql FROM  (SELECT * FROM sqlite_master UNION ALL   SELECT * FROM sqlite_temp_master) WHERE name = ? AND type in ('table', 'view')\n"
          ]
        },
        {
          "output_type": "stream",
          "name": "stdout",
          "text": [
            "2025-06-17 05:51:34,719 INFO sqlalchemy.engine.Engine [raw sql] ('Invoice',)\n"
          ]
        },
        {
          "output_type": "stream",
          "name": "stderr",
          "text": [
            "INFO:sqlalchemy.engine.Engine:[raw sql] ('Invoice',)\n"
          ]
        },
        {
          "output_type": "stream",
          "name": "stdout",
          "text": [
            "2025-06-17 05:51:34,720 INFO sqlalchemy.engine.Engine PRAGMA main.foreign_key_list(\"InvoiceLine\")\n"
          ]
        },
        {
          "output_type": "stream",
          "name": "stderr",
          "text": [
            "INFO:sqlalchemy.engine.Engine:PRAGMA main.foreign_key_list(\"InvoiceLine\")\n"
          ]
        },
        {
          "output_type": "stream",
          "name": "stdout",
          "text": [
            "2025-06-17 05:51:34,721 INFO sqlalchemy.engine.Engine [raw sql] ()\n"
          ]
        },
        {
          "output_type": "stream",
          "name": "stderr",
          "text": [
            "INFO:sqlalchemy.engine.Engine:[raw sql] ()\n"
          ]
        },
        {
          "output_type": "stream",
          "name": "stdout",
          "text": [
            "2025-06-17 05:51:34,722 INFO sqlalchemy.engine.Engine SELECT sql FROM  (SELECT * FROM sqlite_master UNION ALL   SELECT * FROM sqlite_temp_master) WHERE name = ? AND type in ('table', 'view')\n"
          ]
        },
        {
          "output_type": "stream",
          "name": "stderr",
          "text": [
            "INFO:sqlalchemy.engine.Engine:SELECT sql FROM  (SELECT * FROM sqlite_master UNION ALL   SELECT * FROM sqlite_temp_master) WHERE name = ? AND type in ('table', 'view')\n"
          ]
        },
        {
          "output_type": "stream",
          "name": "stdout",
          "text": [
            "2025-06-17 05:51:34,723 INFO sqlalchemy.engine.Engine [raw sql] ('InvoiceLine',)\n"
          ]
        },
        {
          "output_type": "stream",
          "name": "stderr",
          "text": [
            "INFO:sqlalchemy.engine.Engine:[raw sql] ('InvoiceLine',)\n"
          ]
        },
        {
          "output_type": "stream",
          "name": "stdout",
          "text": [
            "2025-06-17 05:51:34,729 INFO sqlalchemy.engine.Engine PRAGMA main.foreign_key_list(\"MediaType\")\n"
          ]
        },
        {
          "output_type": "stream",
          "name": "stderr",
          "text": [
            "INFO:sqlalchemy.engine.Engine:PRAGMA main.foreign_key_list(\"MediaType\")\n"
          ]
        },
        {
          "output_type": "stream",
          "name": "stdout",
          "text": [
            "2025-06-17 05:51:34,730 INFO sqlalchemy.engine.Engine [raw sql] ()\n"
          ]
        },
        {
          "output_type": "stream",
          "name": "stderr",
          "text": [
            "INFO:sqlalchemy.engine.Engine:[raw sql] ()\n"
          ]
        },
        {
          "output_type": "stream",
          "name": "stdout",
          "text": [
            "2025-06-17 05:51:34,731 INFO sqlalchemy.engine.Engine PRAGMA temp.foreign_key_list(\"MediaType\")\n"
          ]
        },
        {
          "output_type": "stream",
          "name": "stderr",
          "text": [
            "INFO:sqlalchemy.engine.Engine:PRAGMA temp.foreign_key_list(\"MediaType\")\n"
          ]
        },
        {
          "output_type": "stream",
          "name": "stdout",
          "text": [
            "2025-06-17 05:51:34,732 INFO sqlalchemy.engine.Engine [raw sql] ()\n"
          ]
        },
        {
          "output_type": "stream",
          "name": "stderr",
          "text": [
            "INFO:sqlalchemy.engine.Engine:[raw sql] ()\n"
          ]
        },
        {
          "output_type": "stream",
          "name": "stdout",
          "text": [
            "2025-06-17 05:51:34,733 INFO sqlalchemy.engine.Engine SELECT sql FROM  (SELECT * FROM sqlite_master UNION ALL   SELECT * FROM sqlite_temp_master) WHERE name = ? AND type in ('table', 'view')\n"
          ]
        },
        {
          "output_type": "stream",
          "name": "stderr",
          "text": [
            "INFO:sqlalchemy.engine.Engine:SELECT sql FROM  (SELECT * FROM sqlite_master UNION ALL   SELECT * FROM sqlite_temp_master) WHERE name = ? AND type in ('table', 'view')\n"
          ]
        },
        {
          "output_type": "stream",
          "name": "stdout",
          "text": [
            "2025-06-17 05:51:34,735 INFO sqlalchemy.engine.Engine [raw sql] ('MediaType',)\n"
          ]
        },
        {
          "output_type": "stream",
          "name": "stderr",
          "text": [
            "INFO:sqlalchemy.engine.Engine:[raw sql] ('MediaType',)\n"
          ]
        },
        {
          "output_type": "stream",
          "name": "stdout",
          "text": [
            "2025-06-17 05:51:34,738 INFO sqlalchemy.engine.Engine PRAGMA main.foreign_key_list(\"Playlist\")\n"
          ]
        },
        {
          "output_type": "stream",
          "name": "stderr",
          "text": [
            "INFO:sqlalchemy.engine.Engine:PRAGMA main.foreign_key_list(\"Playlist\")\n"
          ]
        },
        {
          "output_type": "stream",
          "name": "stdout",
          "text": [
            "2025-06-17 05:51:34,741 INFO sqlalchemy.engine.Engine [raw sql] ()\n"
          ]
        },
        {
          "output_type": "stream",
          "name": "stderr",
          "text": [
            "INFO:sqlalchemy.engine.Engine:[raw sql] ()\n"
          ]
        },
        {
          "output_type": "stream",
          "name": "stdout",
          "text": [
            "2025-06-17 05:51:34,743 INFO sqlalchemy.engine.Engine PRAGMA temp.foreign_key_list(\"Playlist\")\n"
          ]
        },
        {
          "output_type": "stream",
          "name": "stderr",
          "text": [
            "INFO:sqlalchemy.engine.Engine:PRAGMA temp.foreign_key_list(\"Playlist\")\n"
          ]
        },
        {
          "output_type": "stream",
          "name": "stdout",
          "text": [
            "2025-06-17 05:51:34,747 INFO sqlalchemy.engine.Engine [raw sql] ()\n"
          ]
        },
        {
          "output_type": "stream",
          "name": "stderr",
          "text": [
            "INFO:sqlalchemy.engine.Engine:[raw sql] ()\n"
          ]
        },
        {
          "output_type": "stream",
          "name": "stdout",
          "text": [
            "2025-06-17 05:51:34,748 INFO sqlalchemy.engine.Engine SELECT sql FROM  (SELECT * FROM sqlite_master UNION ALL   SELECT * FROM sqlite_temp_master) WHERE name = ? AND type in ('table', 'view')\n"
          ]
        },
        {
          "output_type": "stream",
          "name": "stderr",
          "text": [
            "INFO:sqlalchemy.engine.Engine:SELECT sql FROM  (SELECT * FROM sqlite_master UNION ALL   SELECT * FROM sqlite_temp_master) WHERE name = ? AND type in ('table', 'view')\n"
          ]
        },
        {
          "output_type": "stream",
          "name": "stdout",
          "text": [
            "2025-06-17 05:51:34,749 INFO sqlalchemy.engine.Engine [raw sql] ('Playlist',)\n"
          ]
        },
        {
          "output_type": "stream",
          "name": "stderr",
          "text": [
            "INFO:sqlalchemy.engine.Engine:[raw sql] ('Playlist',)\n"
          ]
        },
        {
          "output_type": "stream",
          "name": "stdout",
          "text": [
            "2025-06-17 05:51:34,756 INFO sqlalchemy.engine.Engine PRAGMA main.foreign_key_list(\"PlaylistTrack\")\n"
          ]
        },
        {
          "output_type": "stream",
          "name": "stderr",
          "text": [
            "INFO:sqlalchemy.engine.Engine:PRAGMA main.foreign_key_list(\"PlaylistTrack\")\n"
          ]
        },
        {
          "output_type": "stream",
          "name": "stdout",
          "text": [
            "2025-06-17 05:51:34,757 INFO sqlalchemy.engine.Engine [raw sql] ()\n"
          ]
        },
        {
          "output_type": "stream",
          "name": "stderr",
          "text": [
            "INFO:sqlalchemy.engine.Engine:[raw sql] ()\n"
          ]
        },
        {
          "output_type": "stream",
          "name": "stdout",
          "text": [
            "2025-06-17 05:51:34,758 INFO sqlalchemy.engine.Engine SELECT sql FROM  (SELECT * FROM sqlite_master UNION ALL   SELECT * FROM sqlite_temp_master) WHERE name = ? AND type in ('table', 'view')\n"
          ]
        },
        {
          "output_type": "stream",
          "name": "stderr",
          "text": [
            "INFO:sqlalchemy.engine.Engine:SELECT sql FROM  (SELECT * FROM sqlite_master UNION ALL   SELECT * FROM sqlite_temp_master) WHERE name = ? AND type in ('table', 'view')\n"
          ]
        },
        {
          "output_type": "stream",
          "name": "stdout",
          "text": [
            "2025-06-17 05:51:34,759 INFO sqlalchemy.engine.Engine [raw sql] ('PlaylistTrack',)\n"
          ]
        },
        {
          "output_type": "stream",
          "name": "stderr",
          "text": [
            "INFO:sqlalchemy.engine.Engine:[raw sql] ('PlaylistTrack',)\n"
          ]
        },
        {
          "output_type": "stream",
          "name": "stdout",
          "text": [
            "2025-06-17 05:51:34,764 INFO sqlalchemy.engine.Engine PRAGMA main.foreign_key_list(\"Track\")\n"
          ]
        },
        {
          "output_type": "stream",
          "name": "stderr",
          "text": [
            "INFO:sqlalchemy.engine.Engine:PRAGMA main.foreign_key_list(\"Track\")\n"
          ]
        },
        {
          "output_type": "stream",
          "name": "stdout",
          "text": [
            "2025-06-17 05:51:34,765 INFO sqlalchemy.engine.Engine [raw sql] ()\n"
          ]
        },
        {
          "output_type": "stream",
          "name": "stderr",
          "text": [
            "INFO:sqlalchemy.engine.Engine:[raw sql] ()\n"
          ]
        },
        {
          "output_type": "stream",
          "name": "stdout",
          "text": [
            "2025-06-17 05:51:34,766 INFO sqlalchemy.engine.Engine SELECT sql FROM  (SELECT * FROM sqlite_master UNION ALL   SELECT * FROM sqlite_temp_master) WHERE name = ? AND type in ('table', 'view')\n"
          ]
        },
        {
          "output_type": "stream",
          "name": "stderr",
          "text": [
            "INFO:sqlalchemy.engine.Engine:SELECT sql FROM  (SELECT * FROM sqlite_master UNION ALL   SELECT * FROM sqlite_temp_master) WHERE name = ? AND type in ('table', 'view')\n"
          ]
        },
        {
          "output_type": "stream",
          "name": "stdout",
          "text": [
            "2025-06-17 05:51:34,770 INFO sqlalchemy.engine.Engine [raw sql] ('Track',)\n"
          ]
        },
        {
          "output_type": "stream",
          "name": "stderr",
          "text": [
            "INFO:sqlalchemy.engine.Engine:[raw sql] ('Track',)\n"
          ]
        },
        {
          "output_type": "stream",
          "name": "stdout",
          "text": [
            "2025-06-17 05:51:34,771 INFO sqlalchemy.engine.Engine PRAGMA main.index_list(\"Album\")\n"
          ]
        },
        {
          "output_type": "stream",
          "name": "stderr",
          "text": [
            "INFO:sqlalchemy.engine.Engine:PRAGMA main.index_list(\"Album\")\n"
          ]
        },
        {
          "output_type": "stream",
          "name": "stdout",
          "text": [
            "2025-06-17 05:51:34,775 INFO sqlalchemy.engine.Engine [raw sql] ()\n"
          ]
        },
        {
          "output_type": "stream",
          "name": "stderr",
          "text": [
            "INFO:sqlalchemy.engine.Engine:[raw sql] ()\n"
          ]
        },
        {
          "output_type": "stream",
          "name": "stdout",
          "text": [
            "2025-06-17 05:51:34,776 INFO sqlalchemy.engine.Engine PRAGMA main.index_info(\"IFK_AlbumArtistId\")\n"
          ]
        },
        {
          "output_type": "stream",
          "name": "stderr",
          "text": [
            "INFO:sqlalchemy.engine.Engine:PRAGMA main.index_info(\"IFK_AlbumArtistId\")\n"
          ]
        },
        {
          "output_type": "stream",
          "name": "stdout",
          "text": [
            "2025-06-17 05:51:34,780 INFO sqlalchemy.engine.Engine [raw sql] ()\n"
          ]
        },
        {
          "output_type": "stream",
          "name": "stderr",
          "text": [
            "INFO:sqlalchemy.engine.Engine:[raw sql] ()\n"
          ]
        },
        {
          "output_type": "stream",
          "name": "stdout",
          "text": [
            "2025-06-17 05:51:34,781 INFO sqlalchemy.engine.Engine PRAGMA main.index_list(\"Artist\")\n"
          ]
        },
        {
          "output_type": "stream",
          "name": "stderr",
          "text": [
            "INFO:sqlalchemy.engine.Engine:PRAGMA main.index_list(\"Artist\")\n"
          ]
        },
        {
          "output_type": "stream",
          "name": "stdout",
          "text": [
            "2025-06-17 05:51:34,786 INFO sqlalchemy.engine.Engine [raw sql] ()\n"
          ]
        },
        {
          "output_type": "stream",
          "name": "stderr",
          "text": [
            "INFO:sqlalchemy.engine.Engine:[raw sql] ()\n"
          ]
        },
        {
          "output_type": "stream",
          "name": "stdout",
          "text": [
            "2025-06-17 05:51:34,787 INFO sqlalchemy.engine.Engine PRAGMA temp.index_list(\"Artist\")\n"
          ]
        },
        {
          "output_type": "stream",
          "name": "stderr",
          "text": [
            "INFO:sqlalchemy.engine.Engine:PRAGMA temp.index_list(\"Artist\")\n"
          ]
        },
        {
          "output_type": "stream",
          "name": "stdout",
          "text": [
            "2025-06-17 05:51:34,788 INFO sqlalchemy.engine.Engine [raw sql] ()\n"
          ]
        },
        {
          "output_type": "stream",
          "name": "stderr",
          "text": [
            "INFO:sqlalchemy.engine.Engine:[raw sql] ()\n"
          ]
        },
        {
          "output_type": "stream",
          "name": "stdout",
          "text": [
            "2025-06-17 05:51:34,794 INFO sqlalchemy.engine.Engine PRAGMA main.table_info(\"Artist\")\n"
          ]
        },
        {
          "output_type": "stream",
          "name": "stderr",
          "text": [
            "INFO:sqlalchemy.engine.Engine:PRAGMA main.table_info(\"Artist\")\n"
          ]
        },
        {
          "output_type": "stream",
          "name": "stdout",
          "text": [
            "2025-06-17 05:51:34,795 INFO sqlalchemy.engine.Engine [raw sql] ()\n"
          ]
        },
        {
          "output_type": "stream",
          "name": "stderr",
          "text": [
            "INFO:sqlalchemy.engine.Engine:[raw sql] ()\n"
          ]
        },
        {
          "output_type": "stream",
          "name": "stdout",
          "text": [
            "2025-06-17 05:51:34,796 INFO sqlalchemy.engine.Engine PRAGMA main.index_list(\"Customer\")\n"
          ]
        },
        {
          "output_type": "stream",
          "name": "stderr",
          "text": [
            "INFO:sqlalchemy.engine.Engine:PRAGMA main.index_list(\"Customer\")\n"
          ]
        },
        {
          "output_type": "stream",
          "name": "stdout",
          "text": [
            "2025-06-17 05:51:34,797 INFO sqlalchemy.engine.Engine [raw sql] ()\n"
          ]
        },
        {
          "output_type": "stream",
          "name": "stderr",
          "text": [
            "INFO:sqlalchemy.engine.Engine:[raw sql] ()\n"
          ]
        },
        {
          "output_type": "stream",
          "name": "stdout",
          "text": [
            "2025-06-17 05:51:34,804 INFO sqlalchemy.engine.Engine PRAGMA main.index_info(\"IFK_CustomerSupportRepId\")\n"
          ]
        },
        {
          "output_type": "stream",
          "name": "stderr",
          "text": [
            "INFO:sqlalchemy.engine.Engine:PRAGMA main.index_info(\"IFK_CustomerSupportRepId\")\n"
          ]
        },
        {
          "output_type": "stream",
          "name": "stdout",
          "text": [
            "2025-06-17 05:51:34,805 INFO sqlalchemy.engine.Engine [raw sql] ()\n"
          ]
        },
        {
          "output_type": "stream",
          "name": "stderr",
          "text": [
            "INFO:sqlalchemy.engine.Engine:[raw sql] ()\n"
          ]
        },
        {
          "output_type": "stream",
          "name": "stdout",
          "text": [
            "2025-06-17 05:51:34,806 INFO sqlalchemy.engine.Engine PRAGMA main.index_list(\"Employee\")\n"
          ]
        },
        {
          "output_type": "stream",
          "name": "stderr",
          "text": [
            "INFO:sqlalchemy.engine.Engine:PRAGMA main.index_list(\"Employee\")\n"
          ]
        },
        {
          "output_type": "stream",
          "name": "stdout",
          "text": [
            "2025-06-17 05:51:34,807 INFO sqlalchemy.engine.Engine [raw sql] ()\n"
          ]
        },
        {
          "output_type": "stream",
          "name": "stderr",
          "text": [
            "INFO:sqlalchemy.engine.Engine:[raw sql] ()\n"
          ]
        },
        {
          "output_type": "stream",
          "name": "stdout",
          "text": [
            "2025-06-17 05:51:34,809 INFO sqlalchemy.engine.Engine PRAGMA main.index_info(\"IFK_EmployeeReportsTo\")\n"
          ]
        },
        {
          "output_type": "stream",
          "name": "stderr",
          "text": [
            "INFO:sqlalchemy.engine.Engine:PRAGMA main.index_info(\"IFK_EmployeeReportsTo\")\n"
          ]
        },
        {
          "output_type": "stream",
          "name": "stdout",
          "text": [
            "2025-06-17 05:51:34,810 INFO sqlalchemy.engine.Engine [raw sql] ()\n"
          ]
        },
        {
          "output_type": "stream",
          "name": "stderr",
          "text": [
            "INFO:sqlalchemy.engine.Engine:[raw sql] ()\n"
          ]
        },
        {
          "output_type": "stream",
          "name": "stdout",
          "text": [
            "2025-06-17 05:51:34,813 INFO sqlalchemy.engine.Engine PRAGMA main.index_list(\"Genre\")\n"
          ]
        },
        {
          "output_type": "stream",
          "name": "stderr",
          "text": [
            "INFO:sqlalchemy.engine.Engine:PRAGMA main.index_list(\"Genre\")\n"
          ]
        },
        {
          "output_type": "stream",
          "name": "stdout",
          "text": [
            "2025-06-17 05:51:34,814 INFO sqlalchemy.engine.Engine [raw sql] ()\n"
          ]
        },
        {
          "output_type": "stream",
          "name": "stderr",
          "text": [
            "INFO:sqlalchemy.engine.Engine:[raw sql] ()\n"
          ]
        },
        {
          "output_type": "stream",
          "name": "stdout",
          "text": [
            "2025-06-17 05:51:34,819 INFO sqlalchemy.engine.Engine PRAGMA temp.index_list(\"Genre\")\n"
          ]
        },
        {
          "output_type": "stream",
          "name": "stderr",
          "text": [
            "INFO:sqlalchemy.engine.Engine:PRAGMA temp.index_list(\"Genre\")\n"
          ]
        },
        {
          "output_type": "stream",
          "name": "stdout",
          "text": [
            "2025-06-17 05:51:34,820 INFO sqlalchemy.engine.Engine [raw sql] ()\n"
          ]
        },
        {
          "output_type": "stream",
          "name": "stderr",
          "text": [
            "INFO:sqlalchemy.engine.Engine:[raw sql] ()\n"
          ]
        },
        {
          "output_type": "stream",
          "name": "stdout",
          "text": [
            "2025-06-17 05:51:34,821 INFO sqlalchemy.engine.Engine PRAGMA main.table_info(\"Genre\")\n"
          ]
        },
        {
          "output_type": "stream",
          "name": "stderr",
          "text": [
            "INFO:sqlalchemy.engine.Engine:PRAGMA main.table_info(\"Genre\")\n"
          ]
        },
        {
          "output_type": "stream",
          "name": "stdout",
          "text": [
            "2025-06-17 05:51:34,822 INFO sqlalchemy.engine.Engine [raw sql] ()\n"
          ]
        },
        {
          "output_type": "stream",
          "name": "stderr",
          "text": [
            "INFO:sqlalchemy.engine.Engine:[raw sql] ()\n"
          ]
        },
        {
          "output_type": "stream",
          "name": "stdout",
          "text": [
            "2025-06-17 05:51:34,829 INFO sqlalchemy.engine.Engine PRAGMA main.index_list(\"Invoice\")\n"
          ]
        },
        {
          "output_type": "stream",
          "name": "stderr",
          "text": [
            "INFO:sqlalchemy.engine.Engine:PRAGMA main.index_list(\"Invoice\")\n"
          ]
        },
        {
          "output_type": "stream",
          "name": "stdout",
          "text": [
            "2025-06-17 05:51:34,830 INFO sqlalchemy.engine.Engine [raw sql] ()\n"
          ]
        },
        {
          "output_type": "stream",
          "name": "stderr",
          "text": [
            "INFO:sqlalchemy.engine.Engine:[raw sql] ()\n"
          ]
        },
        {
          "output_type": "stream",
          "name": "stdout",
          "text": [
            "2025-06-17 05:51:34,831 INFO sqlalchemy.engine.Engine PRAGMA main.index_info(\"IFK_InvoiceCustomerId\")\n"
          ]
        },
        {
          "output_type": "stream",
          "name": "stderr",
          "text": [
            "INFO:sqlalchemy.engine.Engine:PRAGMA main.index_info(\"IFK_InvoiceCustomerId\")\n"
          ]
        },
        {
          "output_type": "stream",
          "name": "stdout",
          "text": [
            "2025-06-17 05:51:34,832 INFO sqlalchemy.engine.Engine [raw sql] ()\n"
          ]
        },
        {
          "output_type": "stream",
          "name": "stderr",
          "text": [
            "INFO:sqlalchemy.engine.Engine:[raw sql] ()\n"
          ]
        },
        {
          "output_type": "stream",
          "name": "stdout",
          "text": [
            "2025-06-17 05:51:34,833 INFO sqlalchemy.engine.Engine PRAGMA main.index_list(\"InvoiceLine\")\n"
          ]
        },
        {
          "output_type": "stream",
          "name": "stderr",
          "text": [
            "INFO:sqlalchemy.engine.Engine:PRAGMA main.index_list(\"InvoiceLine\")\n"
          ]
        },
        {
          "output_type": "stream",
          "name": "stdout",
          "text": [
            "2025-06-17 05:51:34,834 INFO sqlalchemy.engine.Engine [raw sql] ()\n"
          ]
        },
        {
          "output_type": "stream",
          "name": "stderr",
          "text": [
            "INFO:sqlalchemy.engine.Engine:[raw sql] ()\n"
          ]
        },
        {
          "output_type": "stream",
          "name": "stdout",
          "text": [
            "2025-06-17 05:51:34,840 INFO sqlalchemy.engine.Engine PRAGMA main.index_info(\"IFK_InvoiceLineTrackId\")\n"
          ]
        },
        {
          "output_type": "stream",
          "name": "stderr",
          "text": [
            "INFO:sqlalchemy.engine.Engine:PRAGMA main.index_info(\"IFK_InvoiceLineTrackId\")\n"
          ]
        },
        {
          "output_type": "stream",
          "name": "stdout",
          "text": [
            "2025-06-17 05:51:34,841 INFO sqlalchemy.engine.Engine [raw sql] ()\n"
          ]
        },
        {
          "output_type": "stream",
          "name": "stderr",
          "text": [
            "INFO:sqlalchemy.engine.Engine:[raw sql] ()\n"
          ]
        },
        {
          "output_type": "stream",
          "name": "stdout",
          "text": [
            "2025-06-17 05:51:34,842 INFO sqlalchemy.engine.Engine PRAGMA main.index_info(\"IFK_InvoiceLineInvoiceId\")\n"
          ]
        },
        {
          "output_type": "stream",
          "name": "stderr",
          "text": [
            "INFO:sqlalchemy.engine.Engine:PRAGMA main.index_info(\"IFK_InvoiceLineInvoiceId\")\n"
          ]
        },
        {
          "output_type": "stream",
          "name": "stdout",
          "text": [
            "2025-06-17 05:51:34,843 INFO sqlalchemy.engine.Engine [raw sql] ()\n"
          ]
        },
        {
          "output_type": "stream",
          "name": "stderr",
          "text": [
            "INFO:sqlalchemy.engine.Engine:[raw sql] ()\n"
          ]
        },
        {
          "output_type": "stream",
          "name": "stdout",
          "text": [
            "2025-06-17 05:51:34,844 INFO sqlalchemy.engine.Engine PRAGMA main.index_list(\"MediaType\")\n"
          ]
        },
        {
          "output_type": "stream",
          "name": "stderr",
          "text": [
            "INFO:sqlalchemy.engine.Engine:PRAGMA main.index_list(\"MediaType\")\n"
          ]
        },
        {
          "output_type": "stream",
          "name": "stdout",
          "text": [
            "2025-06-17 05:51:34,845 INFO sqlalchemy.engine.Engine [raw sql] ()\n"
          ]
        },
        {
          "output_type": "stream",
          "name": "stderr",
          "text": [
            "INFO:sqlalchemy.engine.Engine:[raw sql] ()\n"
          ]
        },
        {
          "output_type": "stream",
          "name": "stdout",
          "text": [
            "2025-06-17 05:51:34,846 INFO sqlalchemy.engine.Engine PRAGMA temp.index_list(\"MediaType\")\n"
          ]
        },
        {
          "output_type": "stream",
          "name": "stderr",
          "text": [
            "INFO:sqlalchemy.engine.Engine:PRAGMA temp.index_list(\"MediaType\")\n"
          ]
        },
        {
          "output_type": "stream",
          "name": "stdout",
          "text": [
            "2025-06-17 05:51:34,852 INFO sqlalchemy.engine.Engine [raw sql] ()\n"
          ]
        },
        {
          "output_type": "stream",
          "name": "stderr",
          "text": [
            "INFO:sqlalchemy.engine.Engine:[raw sql] ()\n"
          ]
        },
        {
          "output_type": "stream",
          "name": "stdout",
          "text": [
            "2025-06-17 05:51:34,853 INFO sqlalchemy.engine.Engine PRAGMA main.table_info(\"MediaType\")\n"
          ]
        },
        {
          "output_type": "stream",
          "name": "stderr",
          "text": [
            "INFO:sqlalchemy.engine.Engine:PRAGMA main.table_info(\"MediaType\")\n"
          ]
        },
        {
          "output_type": "stream",
          "name": "stdout",
          "text": [
            "2025-06-17 05:51:34,854 INFO sqlalchemy.engine.Engine [raw sql] ()\n"
          ]
        },
        {
          "output_type": "stream",
          "name": "stderr",
          "text": [
            "INFO:sqlalchemy.engine.Engine:[raw sql] ()\n"
          ]
        },
        {
          "output_type": "stream",
          "name": "stdout",
          "text": [
            "2025-06-17 05:51:34,857 INFO sqlalchemy.engine.Engine PRAGMA main.index_list(\"Playlist\")\n"
          ]
        },
        {
          "output_type": "stream",
          "name": "stderr",
          "text": [
            "INFO:sqlalchemy.engine.Engine:PRAGMA main.index_list(\"Playlist\")\n"
          ]
        },
        {
          "output_type": "stream",
          "name": "stdout",
          "text": [
            "2025-06-17 05:51:34,858 INFO sqlalchemy.engine.Engine [raw sql] ()\n"
          ]
        },
        {
          "output_type": "stream",
          "name": "stderr",
          "text": [
            "INFO:sqlalchemy.engine.Engine:[raw sql] ()\n"
          ]
        },
        {
          "output_type": "stream",
          "name": "stdout",
          "text": [
            "2025-06-17 05:51:34,859 INFO sqlalchemy.engine.Engine PRAGMA temp.index_list(\"Playlist\")\n"
          ]
        },
        {
          "output_type": "stream",
          "name": "stderr",
          "text": [
            "INFO:sqlalchemy.engine.Engine:PRAGMA temp.index_list(\"Playlist\")\n"
          ]
        },
        {
          "output_type": "stream",
          "name": "stdout",
          "text": [
            "2025-06-17 05:51:34,862 INFO sqlalchemy.engine.Engine [raw sql] ()\n"
          ]
        },
        {
          "output_type": "stream",
          "name": "stderr",
          "text": [
            "INFO:sqlalchemy.engine.Engine:[raw sql] ()\n"
          ]
        },
        {
          "output_type": "stream",
          "name": "stdout",
          "text": [
            "2025-06-17 05:51:34,863 INFO sqlalchemy.engine.Engine PRAGMA main.table_info(\"Playlist\")\n"
          ]
        },
        {
          "output_type": "stream",
          "name": "stderr",
          "text": [
            "INFO:sqlalchemy.engine.Engine:PRAGMA main.table_info(\"Playlist\")\n"
          ]
        },
        {
          "output_type": "stream",
          "name": "stdout",
          "text": [
            "2025-06-17 05:51:34,864 INFO sqlalchemy.engine.Engine [raw sql] ()\n"
          ]
        },
        {
          "output_type": "stream",
          "name": "stderr",
          "text": [
            "INFO:sqlalchemy.engine.Engine:[raw sql] ()\n"
          ]
        },
        {
          "output_type": "stream",
          "name": "stdout",
          "text": [
            "2025-06-17 05:51:34,866 INFO sqlalchemy.engine.Engine PRAGMA main.index_list(\"PlaylistTrack\")\n"
          ]
        },
        {
          "output_type": "stream",
          "name": "stderr",
          "text": [
            "INFO:sqlalchemy.engine.Engine:PRAGMA main.index_list(\"PlaylistTrack\")\n"
          ]
        },
        {
          "output_type": "stream",
          "name": "stdout",
          "text": [
            "2025-06-17 05:51:34,866 INFO sqlalchemy.engine.Engine [raw sql] ()\n"
          ]
        },
        {
          "output_type": "stream",
          "name": "stderr",
          "text": [
            "INFO:sqlalchemy.engine.Engine:[raw sql] ()\n"
          ]
        },
        {
          "output_type": "stream",
          "name": "stdout",
          "text": [
            "2025-06-17 05:51:34,868 INFO sqlalchemy.engine.Engine PRAGMA main.index_info(\"IFK_PlaylistTrackTrackId\")\n"
          ]
        },
        {
          "output_type": "stream",
          "name": "stderr",
          "text": [
            "INFO:sqlalchemy.engine.Engine:PRAGMA main.index_info(\"IFK_PlaylistTrackTrackId\")\n"
          ]
        },
        {
          "output_type": "stream",
          "name": "stdout",
          "text": [
            "2025-06-17 05:51:34,869 INFO sqlalchemy.engine.Engine [raw sql] ()\n"
          ]
        },
        {
          "output_type": "stream",
          "name": "stderr",
          "text": [
            "INFO:sqlalchemy.engine.Engine:[raw sql] ()\n"
          ]
        },
        {
          "output_type": "stream",
          "name": "stdout",
          "text": [
            "2025-06-17 05:51:34,874 INFO sqlalchemy.engine.Engine PRAGMA main.index_info(\"IFK_PlaylistTrackPlaylistId\")\n"
          ]
        },
        {
          "output_type": "stream",
          "name": "stderr",
          "text": [
            "INFO:sqlalchemy.engine.Engine:PRAGMA main.index_info(\"IFK_PlaylistTrackPlaylistId\")\n"
          ]
        },
        {
          "output_type": "stream",
          "name": "stdout",
          "text": [
            "2025-06-17 05:51:34,875 INFO sqlalchemy.engine.Engine [raw sql] ()\n"
          ]
        },
        {
          "output_type": "stream",
          "name": "stderr",
          "text": [
            "INFO:sqlalchemy.engine.Engine:[raw sql] ()\n"
          ]
        },
        {
          "output_type": "stream",
          "name": "stdout",
          "text": [
            "2025-06-17 05:51:34,876 INFO sqlalchemy.engine.Engine PRAGMA main.index_list(\"Track\")\n"
          ]
        },
        {
          "output_type": "stream",
          "name": "stderr",
          "text": [
            "INFO:sqlalchemy.engine.Engine:PRAGMA main.index_list(\"Track\")\n"
          ]
        },
        {
          "output_type": "stream",
          "name": "stdout",
          "text": [
            "2025-06-17 05:51:34,877 INFO sqlalchemy.engine.Engine [raw sql] ()\n"
          ]
        },
        {
          "output_type": "stream",
          "name": "stderr",
          "text": [
            "INFO:sqlalchemy.engine.Engine:[raw sql] ()\n"
          ]
        },
        {
          "output_type": "stream",
          "name": "stdout",
          "text": [
            "2025-06-17 05:51:34,878 INFO sqlalchemy.engine.Engine PRAGMA main.index_info(\"IFK_TrackMediaTypeId\")\n"
          ]
        },
        {
          "output_type": "stream",
          "name": "stderr",
          "text": [
            "INFO:sqlalchemy.engine.Engine:PRAGMA main.index_info(\"IFK_TrackMediaTypeId\")\n"
          ]
        },
        {
          "output_type": "stream",
          "name": "stdout",
          "text": [
            "2025-06-17 05:51:34,879 INFO sqlalchemy.engine.Engine [raw sql] ()\n"
          ]
        },
        {
          "output_type": "stream",
          "name": "stderr",
          "text": [
            "INFO:sqlalchemy.engine.Engine:[raw sql] ()\n"
          ]
        },
        {
          "output_type": "stream",
          "name": "stdout",
          "text": [
            "2025-06-17 05:51:34,880 INFO sqlalchemy.engine.Engine PRAGMA main.index_info(\"IFK_TrackGenreId\")\n"
          ]
        },
        {
          "output_type": "stream",
          "name": "stderr",
          "text": [
            "INFO:sqlalchemy.engine.Engine:PRAGMA main.index_info(\"IFK_TrackGenreId\")\n"
          ]
        },
        {
          "output_type": "stream",
          "name": "stdout",
          "text": [
            "2025-06-17 05:51:34,885 INFO sqlalchemy.engine.Engine [raw sql] ()\n"
          ]
        },
        {
          "output_type": "stream",
          "name": "stderr",
          "text": [
            "INFO:sqlalchemy.engine.Engine:[raw sql] ()\n"
          ]
        },
        {
          "output_type": "stream",
          "name": "stdout",
          "text": [
            "2025-06-17 05:51:34,886 INFO sqlalchemy.engine.Engine PRAGMA main.index_info(\"IFK_TrackAlbumId\")\n"
          ]
        },
        {
          "output_type": "stream",
          "name": "stderr",
          "text": [
            "INFO:sqlalchemy.engine.Engine:PRAGMA main.index_info(\"IFK_TrackAlbumId\")\n"
          ]
        },
        {
          "output_type": "stream",
          "name": "stdout",
          "text": [
            "2025-06-17 05:51:34,887 INFO sqlalchemy.engine.Engine [raw sql] ()\n"
          ]
        },
        {
          "output_type": "stream",
          "name": "stderr",
          "text": [
            "INFO:sqlalchemy.engine.Engine:[raw sql] ()\n"
          ]
        },
        {
          "output_type": "stream",
          "name": "stdout",
          "text": [
            "2025-06-17 05:51:34,889 INFO sqlalchemy.engine.Engine PRAGMA main.index_list(\"Album\")\n"
          ]
        },
        {
          "output_type": "stream",
          "name": "stderr",
          "text": [
            "INFO:sqlalchemy.engine.Engine:PRAGMA main.index_list(\"Album\")\n"
          ]
        },
        {
          "output_type": "stream",
          "name": "stdout",
          "text": [
            "2025-06-17 05:51:34,890 INFO sqlalchemy.engine.Engine [raw sql] ()\n"
          ]
        },
        {
          "output_type": "stream",
          "name": "stderr",
          "text": [
            "INFO:sqlalchemy.engine.Engine:[raw sql] ()\n"
          ]
        },
        {
          "output_type": "stream",
          "name": "stdout",
          "text": [
            "2025-06-17 05:51:34,891 INFO sqlalchemy.engine.Engine PRAGMA main.index_info(\"IFK_AlbumArtistId\")\n"
          ]
        },
        {
          "output_type": "stream",
          "name": "stderr",
          "text": [
            "INFO:sqlalchemy.engine.Engine:PRAGMA main.index_info(\"IFK_AlbumArtistId\")\n"
          ]
        },
        {
          "output_type": "stream",
          "name": "stdout",
          "text": [
            "2025-06-17 05:51:34,892 INFO sqlalchemy.engine.Engine [raw sql] ()\n"
          ]
        },
        {
          "output_type": "stream",
          "name": "stderr",
          "text": [
            "INFO:sqlalchemy.engine.Engine:[raw sql] ()\n"
          ]
        },
        {
          "output_type": "stream",
          "name": "stdout",
          "text": [
            "2025-06-17 05:51:34,893 INFO sqlalchemy.engine.Engine SELECT sql FROM  (SELECT * FROM sqlite_master UNION ALL   SELECT * FROM sqlite_temp_master) WHERE name = ? AND type in ('table', 'view')\n"
          ]
        },
        {
          "output_type": "stream",
          "name": "stderr",
          "text": [
            "INFO:sqlalchemy.engine.Engine:SELECT sql FROM  (SELECT * FROM sqlite_master UNION ALL   SELECT * FROM sqlite_temp_master) WHERE name = ? AND type in ('table', 'view')\n"
          ]
        },
        {
          "output_type": "stream",
          "name": "stdout",
          "text": [
            "2025-06-17 05:51:34,898 INFO sqlalchemy.engine.Engine [raw sql] ('Album',)\n"
          ]
        },
        {
          "output_type": "stream",
          "name": "stderr",
          "text": [
            "INFO:sqlalchemy.engine.Engine:[raw sql] ('Album',)\n"
          ]
        },
        {
          "output_type": "stream",
          "name": "stdout",
          "text": [
            "2025-06-17 05:51:34,901 INFO sqlalchemy.engine.Engine PRAGMA main.index_list(\"Artist\")\n"
          ]
        },
        {
          "output_type": "stream",
          "name": "stderr",
          "text": [
            "INFO:sqlalchemy.engine.Engine:PRAGMA main.index_list(\"Artist\")\n"
          ]
        },
        {
          "output_type": "stream",
          "name": "stdout",
          "text": [
            "2025-06-17 05:51:34,902 INFO sqlalchemy.engine.Engine [raw sql] ()\n"
          ]
        },
        {
          "output_type": "stream",
          "name": "stderr",
          "text": [
            "INFO:sqlalchemy.engine.Engine:[raw sql] ()\n"
          ]
        },
        {
          "output_type": "stream",
          "name": "stdout",
          "text": [
            "2025-06-17 05:51:34,903 INFO sqlalchemy.engine.Engine PRAGMA temp.index_list(\"Artist\")\n"
          ]
        },
        {
          "output_type": "stream",
          "name": "stderr",
          "text": [
            "INFO:sqlalchemy.engine.Engine:PRAGMA temp.index_list(\"Artist\")\n"
          ]
        },
        {
          "output_type": "stream",
          "name": "stdout",
          "text": [
            "2025-06-17 05:51:34,904 INFO sqlalchemy.engine.Engine [raw sql] ()\n"
          ]
        },
        {
          "output_type": "stream",
          "name": "stderr",
          "text": [
            "INFO:sqlalchemy.engine.Engine:[raw sql] ()\n"
          ]
        },
        {
          "output_type": "stream",
          "name": "stdout",
          "text": [
            "2025-06-17 05:51:34,905 INFO sqlalchemy.engine.Engine PRAGMA main.table_info(\"Artist\")\n"
          ]
        },
        {
          "output_type": "stream",
          "name": "stderr",
          "text": [
            "INFO:sqlalchemy.engine.Engine:PRAGMA main.table_info(\"Artist\")\n"
          ]
        },
        {
          "output_type": "stream",
          "name": "stdout",
          "text": [
            "2025-06-17 05:51:34,910 INFO sqlalchemy.engine.Engine [raw sql] ()\n"
          ]
        },
        {
          "output_type": "stream",
          "name": "stderr",
          "text": [
            "INFO:sqlalchemy.engine.Engine:[raw sql] ()\n"
          ]
        },
        {
          "output_type": "stream",
          "name": "stdout",
          "text": [
            "2025-06-17 05:51:34,911 INFO sqlalchemy.engine.Engine SELECT sql FROM  (SELECT * FROM sqlite_master UNION ALL   SELECT * FROM sqlite_temp_master) WHERE name = ? AND type in ('table', 'view')\n"
          ]
        },
        {
          "output_type": "stream",
          "name": "stderr",
          "text": [
            "INFO:sqlalchemy.engine.Engine:SELECT sql FROM  (SELECT * FROM sqlite_master UNION ALL   SELECT * FROM sqlite_temp_master) WHERE name = ? AND type in ('table', 'view')\n"
          ]
        },
        {
          "output_type": "stream",
          "name": "stdout",
          "text": [
            "2025-06-17 05:51:34,912 INFO sqlalchemy.engine.Engine [raw sql] ('Artist',)\n"
          ]
        },
        {
          "output_type": "stream",
          "name": "stderr",
          "text": [
            "INFO:sqlalchemy.engine.Engine:[raw sql] ('Artist',)\n"
          ]
        },
        {
          "output_type": "stream",
          "name": "stdout",
          "text": [
            "2025-06-17 05:51:34,914 INFO sqlalchemy.engine.Engine PRAGMA main.index_list(\"Customer\")\n"
          ]
        },
        {
          "output_type": "stream",
          "name": "stderr",
          "text": [
            "INFO:sqlalchemy.engine.Engine:PRAGMA main.index_list(\"Customer\")\n"
          ]
        },
        {
          "output_type": "stream",
          "name": "stdout",
          "text": [
            "2025-06-17 05:51:34,915 INFO sqlalchemy.engine.Engine [raw sql] ()\n"
          ]
        },
        {
          "output_type": "stream",
          "name": "stderr",
          "text": [
            "INFO:sqlalchemy.engine.Engine:[raw sql] ()\n"
          ]
        },
        {
          "output_type": "stream",
          "name": "stdout",
          "text": [
            "2025-06-17 05:51:34,916 INFO sqlalchemy.engine.Engine PRAGMA main.index_info(\"IFK_CustomerSupportRepId\")\n"
          ]
        },
        {
          "output_type": "stream",
          "name": "stderr",
          "text": [
            "INFO:sqlalchemy.engine.Engine:PRAGMA main.index_info(\"IFK_CustomerSupportRepId\")\n"
          ]
        },
        {
          "output_type": "stream",
          "name": "stdout",
          "text": [
            "2025-06-17 05:51:34,917 INFO sqlalchemy.engine.Engine [raw sql] ()\n"
          ]
        },
        {
          "output_type": "stream",
          "name": "stderr",
          "text": [
            "INFO:sqlalchemy.engine.Engine:[raw sql] ()\n"
          ]
        },
        {
          "output_type": "stream",
          "name": "stdout",
          "text": [
            "2025-06-17 05:51:34,918 INFO sqlalchemy.engine.Engine SELECT sql FROM  (SELECT * FROM sqlite_master UNION ALL   SELECT * FROM sqlite_temp_master) WHERE name = ? AND type in ('table', 'view')\n"
          ]
        },
        {
          "output_type": "stream",
          "name": "stderr",
          "text": [
            "INFO:sqlalchemy.engine.Engine:SELECT sql FROM  (SELECT * FROM sqlite_master UNION ALL   SELECT * FROM sqlite_temp_master) WHERE name = ? AND type in ('table', 'view')\n"
          ]
        },
        {
          "output_type": "stream",
          "name": "stdout",
          "text": [
            "2025-06-17 05:51:34,923 INFO sqlalchemy.engine.Engine [raw sql] ('Customer',)\n"
          ]
        },
        {
          "output_type": "stream",
          "name": "stderr",
          "text": [
            "INFO:sqlalchemy.engine.Engine:[raw sql] ('Customer',)\n"
          ]
        },
        {
          "output_type": "stream",
          "name": "stdout",
          "text": [
            "2025-06-17 05:51:34,925 INFO sqlalchemy.engine.Engine PRAGMA main.index_list(\"Employee\")\n"
          ]
        },
        {
          "output_type": "stream",
          "name": "stderr",
          "text": [
            "INFO:sqlalchemy.engine.Engine:PRAGMA main.index_list(\"Employee\")\n"
          ]
        },
        {
          "output_type": "stream",
          "name": "stdout",
          "text": [
            "2025-06-17 05:51:34,926 INFO sqlalchemy.engine.Engine [raw sql] ()\n"
          ]
        },
        {
          "output_type": "stream",
          "name": "stderr",
          "text": [
            "INFO:sqlalchemy.engine.Engine:[raw sql] ()\n"
          ]
        },
        {
          "output_type": "stream",
          "name": "stdout",
          "text": [
            "2025-06-17 05:51:34,926 INFO sqlalchemy.engine.Engine PRAGMA main.index_info(\"IFK_EmployeeReportsTo\")\n"
          ]
        },
        {
          "output_type": "stream",
          "name": "stderr",
          "text": [
            "INFO:sqlalchemy.engine.Engine:PRAGMA main.index_info(\"IFK_EmployeeReportsTo\")\n"
          ]
        },
        {
          "output_type": "stream",
          "name": "stdout",
          "text": [
            "2025-06-17 05:51:34,927 INFO sqlalchemy.engine.Engine [raw sql] ()\n"
          ]
        },
        {
          "output_type": "stream",
          "name": "stderr",
          "text": [
            "INFO:sqlalchemy.engine.Engine:[raw sql] ()\n"
          ]
        },
        {
          "output_type": "stream",
          "name": "stdout",
          "text": [
            "2025-06-17 05:51:34,928 INFO sqlalchemy.engine.Engine SELECT sql FROM  (SELECT * FROM sqlite_master UNION ALL   SELECT * FROM sqlite_temp_master) WHERE name = ? AND type in ('table', 'view')\n"
          ]
        },
        {
          "output_type": "stream",
          "name": "stderr",
          "text": [
            "INFO:sqlalchemy.engine.Engine:SELECT sql FROM  (SELECT * FROM sqlite_master UNION ALL   SELECT * FROM sqlite_temp_master) WHERE name = ? AND type in ('table', 'view')\n"
          ]
        },
        {
          "output_type": "stream",
          "name": "stdout",
          "text": [
            "2025-06-17 05:51:34,929 INFO sqlalchemy.engine.Engine [raw sql] ('Employee',)\n"
          ]
        },
        {
          "output_type": "stream",
          "name": "stderr",
          "text": [
            "INFO:sqlalchemy.engine.Engine:[raw sql] ('Employee',)\n"
          ]
        },
        {
          "output_type": "stream",
          "name": "stdout",
          "text": [
            "2025-06-17 05:51:34,931 INFO sqlalchemy.engine.Engine PRAGMA main.index_list(\"Genre\")\n"
          ]
        },
        {
          "output_type": "stream",
          "name": "stderr",
          "text": [
            "INFO:sqlalchemy.engine.Engine:PRAGMA main.index_list(\"Genre\")\n"
          ]
        },
        {
          "output_type": "stream",
          "name": "stdout",
          "text": [
            "2025-06-17 05:51:34,932 INFO sqlalchemy.engine.Engine [raw sql] ()\n"
          ]
        },
        {
          "output_type": "stream",
          "name": "stderr",
          "text": [
            "INFO:sqlalchemy.engine.Engine:[raw sql] ()\n"
          ]
        },
        {
          "output_type": "stream",
          "name": "stdout",
          "text": [
            "2025-06-17 05:51:34,933 INFO sqlalchemy.engine.Engine PRAGMA temp.index_list(\"Genre\")\n"
          ]
        },
        {
          "output_type": "stream",
          "name": "stderr",
          "text": [
            "INFO:sqlalchemy.engine.Engine:PRAGMA temp.index_list(\"Genre\")\n"
          ]
        },
        {
          "output_type": "stream",
          "name": "stdout",
          "text": [
            "2025-06-17 05:51:34,934 INFO sqlalchemy.engine.Engine [raw sql] ()\n"
          ]
        },
        {
          "output_type": "stream",
          "name": "stderr",
          "text": [
            "INFO:sqlalchemy.engine.Engine:[raw sql] ()\n"
          ]
        },
        {
          "output_type": "stream",
          "name": "stdout",
          "text": [
            "2025-06-17 05:51:34,935 INFO sqlalchemy.engine.Engine PRAGMA main.table_info(\"Genre\")\n"
          ]
        },
        {
          "output_type": "stream",
          "name": "stderr",
          "text": [
            "INFO:sqlalchemy.engine.Engine:PRAGMA main.table_info(\"Genre\")\n"
          ]
        },
        {
          "output_type": "stream",
          "name": "stdout",
          "text": [
            "2025-06-17 05:51:34,936 INFO sqlalchemy.engine.Engine [raw sql] ()\n"
          ]
        },
        {
          "output_type": "stream",
          "name": "stderr",
          "text": [
            "INFO:sqlalchemy.engine.Engine:[raw sql] ()\n"
          ]
        },
        {
          "output_type": "stream",
          "name": "stdout",
          "text": [
            "2025-06-17 05:51:34,937 INFO sqlalchemy.engine.Engine SELECT sql FROM  (SELECT * FROM sqlite_master UNION ALL   SELECT * FROM sqlite_temp_master) WHERE name = ? AND type in ('table', 'view')\n"
          ]
        },
        {
          "output_type": "stream",
          "name": "stderr",
          "text": [
            "INFO:sqlalchemy.engine.Engine:SELECT sql FROM  (SELECT * FROM sqlite_master UNION ALL   SELECT * FROM sqlite_temp_master) WHERE name = ? AND type in ('table', 'view')\n"
          ]
        },
        {
          "output_type": "stream",
          "name": "stdout",
          "text": [
            "2025-06-17 05:51:34,938 INFO sqlalchemy.engine.Engine [raw sql] ('Genre',)\n"
          ]
        },
        {
          "output_type": "stream",
          "name": "stderr",
          "text": [
            "INFO:sqlalchemy.engine.Engine:[raw sql] ('Genre',)\n"
          ]
        },
        {
          "output_type": "stream",
          "name": "stdout",
          "text": [
            "2025-06-17 05:51:34,939 INFO sqlalchemy.engine.Engine PRAGMA main.index_list(\"Invoice\")\n"
          ]
        },
        {
          "output_type": "stream",
          "name": "stderr",
          "text": [
            "INFO:sqlalchemy.engine.Engine:PRAGMA main.index_list(\"Invoice\")\n"
          ]
        },
        {
          "output_type": "stream",
          "name": "stdout",
          "text": [
            "2025-06-17 05:51:34,940 INFO sqlalchemy.engine.Engine [raw sql] ()\n"
          ]
        },
        {
          "output_type": "stream",
          "name": "stderr",
          "text": [
            "INFO:sqlalchemy.engine.Engine:[raw sql] ()\n"
          ]
        },
        {
          "output_type": "stream",
          "name": "stdout",
          "text": [
            "2025-06-17 05:51:34,941 INFO sqlalchemy.engine.Engine PRAGMA main.index_info(\"IFK_InvoiceCustomerId\")\n"
          ]
        },
        {
          "output_type": "stream",
          "name": "stderr",
          "text": [
            "INFO:sqlalchemy.engine.Engine:PRAGMA main.index_info(\"IFK_InvoiceCustomerId\")\n"
          ]
        },
        {
          "output_type": "stream",
          "name": "stdout",
          "text": [
            "2025-06-17 05:51:34,946 INFO sqlalchemy.engine.Engine [raw sql] ()\n"
          ]
        },
        {
          "output_type": "stream",
          "name": "stderr",
          "text": [
            "INFO:sqlalchemy.engine.Engine:[raw sql] ()\n"
          ]
        },
        {
          "output_type": "stream",
          "name": "stdout",
          "text": [
            "2025-06-17 05:51:34,947 INFO sqlalchemy.engine.Engine SELECT sql FROM  (SELECT * FROM sqlite_master UNION ALL   SELECT * FROM sqlite_temp_master) WHERE name = ? AND type in ('table', 'view')\n"
          ]
        },
        {
          "output_type": "stream",
          "name": "stderr",
          "text": [
            "INFO:sqlalchemy.engine.Engine:SELECT sql FROM  (SELECT * FROM sqlite_master UNION ALL   SELECT * FROM sqlite_temp_master) WHERE name = ? AND type in ('table', 'view')\n"
          ]
        },
        {
          "output_type": "stream",
          "name": "stdout",
          "text": [
            "2025-06-17 05:51:34,948 INFO sqlalchemy.engine.Engine [raw sql] ('Invoice',)\n"
          ]
        },
        {
          "output_type": "stream",
          "name": "stderr",
          "text": [
            "INFO:sqlalchemy.engine.Engine:[raw sql] ('Invoice',)\n"
          ]
        },
        {
          "output_type": "stream",
          "name": "stdout",
          "text": [
            "2025-06-17 05:51:34,949 INFO sqlalchemy.engine.Engine PRAGMA main.index_list(\"InvoiceLine\")\n"
          ]
        },
        {
          "output_type": "stream",
          "name": "stderr",
          "text": [
            "INFO:sqlalchemy.engine.Engine:PRAGMA main.index_list(\"InvoiceLine\")\n"
          ]
        },
        {
          "output_type": "stream",
          "name": "stdout",
          "text": [
            "2025-06-17 05:51:34,950 INFO sqlalchemy.engine.Engine [raw sql] ()\n"
          ]
        },
        {
          "output_type": "stream",
          "name": "stderr",
          "text": [
            "INFO:sqlalchemy.engine.Engine:[raw sql] ()\n"
          ]
        },
        {
          "output_type": "stream",
          "name": "stdout",
          "text": [
            "2025-06-17 05:51:34,952 INFO sqlalchemy.engine.Engine PRAGMA main.index_info(\"IFK_InvoiceLineTrackId\")\n"
          ]
        },
        {
          "output_type": "stream",
          "name": "stderr",
          "text": [
            "INFO:sqlalchemy.engine.Engine:PRAGMA main.index_info(\"IFK_InvoiceLineTrackId\")\n"
          ]
        },
        {
          "output_type": "stream",
          "name": "stdout",
          "text": [
            "2025-06-17 05:51:34,952 INFO sqlalchemy.engine.Engine [raw sql] ()\n"
          ]
        },
        {
          "output_type": "stream",
          "name": "stderr",
          "text": [
            "INFO:sqlalchemy.engine.Engine:[raw sql] ()\n"
          ]
        },
        {
          "output_type": "stream",
          "name": "stdout",
          "text": [
            "2025-06-17 05:51:34,953 INFO sqlalchemy.engine.Engine PRAGMA main.index_info(\"IFK_InvoiceLineInvoiceId\")\n"
          ]
        },
        {
          "output_type": "stream",
          "name": "stderr",
          "text": [
            "INFO:sqlalchemy.engine.Engine:PRAGMA main.index_info(\"IFK_InvoiceLineInvoiceId\")\n"
          ]
        },
        {
          "output_type": "stream",
          "name": "stdout",
          "text": [
            "2025-06-17 05:51:34,954 INFO sqlalchemy.engine.Engine [raw sql] ()\n"
          ]
        },
        {
          "output_type": "stream",
          "name": "stderr",
          "text": [
            "INFO:sqlalchemy.engine.Engine:[raw sql] ()\n"
          ]
        },
        {
          "output_type": "stream",
          "name": "stdout",
          "text": [
            "2025-06-17 05:51:34,957 INFO sqlalchemy.engine.Engine SELECT sql FROM  (SELECT * FROM sqlite_master UNION ALL   SELECT * FROM sqlite_temp_master) WHERE name = ? AND type in ('table', 'view')\n"
          ]
        },
        {
          "output_type": "stream",
          "name": "stderr",
          "text": [
            "INFO:sqlalchemy.engine.Engine:SELECT sql FROM  (SELECT * FROM sqlite_master UNION ALL   SELECT * FROM sqlite_temp_master) WHERE name = ? AND type in ('table', 'view')\n"
          ]
        },
        {
          "output_type": "stream",
          "name": "stdout",
          "text": [
            "2025-06-17 05:51:34,958 INFO sqlalchemy.engine.Engine [raw sql] ('InvoiceLine',)\n"
          ]
        },
        {
          "output_type": "stream",
          "name": "stderr",
          "text": [
            "INFO:sqlalchemy.engine.Engine:[raw sql] ('InvoiceLine',)\n"
          ]
        },
        {
          "output_type": "stream",
          "name": "stdout",
          "text": [
            "2025-06-17 05:51:34,960 INFO sqlalchemy.engine.Engine PRAGMA main.index_list(\"MediaType\")\n"
          ]
        },
        {
          "output_type": "stream",
          "name": "stderr",
          "text": [
            "INFO:sqlalchemy.engine.Engine:PRAGMA main.index_list(\"MediaType\")\n"
          ]
        },
        {
          "output_type": "stream",
          "name": "stdout",
          "text": [
            "2025-06-17 05:51:34,961 INFO sqlalchemy.engine.Engine [raw sql] ()\n"
          ]
        },
        {
          "output_type": "stream",
          "name": "stderr",
          "text": [
            "INFO:sqlalchemy.engine.Engine:[raw sql] ()\n"
          ]
        },
        {
          "output_type": "stream",
          "name": "stdout",
          "text": [
            "2025-06-17 05:51:34,962 INFO sqlalchemy.engine.Engine PRAGMA temp.index_list(\"MediaType\")\n"
          ]
        },
        {
          "output_type": "stream",
          "name": "stderr",
          "text": [
            "INFO:sqlalchemy.engine.Engine:PRAGMA temp.index_list(\"MediaType\")\n"
          ]
        },
        {
          "output_type": "stream",
          "name": "stdout",
          "text": [
            "2025-06-17 05:51:34,963 INFO sqlalchemy.engine.Engine [raw sql] ()\n"
          ]
        },
        {
          "output_type": "stream",
          "name": "stderr",
          "text": [
            "INFO:sqlalchemy.engine.Engine:[raw sql] ()\n"
          ]
        },
        {
          "output_type": "stream",
          "name": "stdout",
          "text": [
            "2025-06-17 05:51:34,964 INFO sqlalchemy.engine.Engine PRAGMA main.table_info(\"MediaType\")\n"
          ]
        },
        {
          "output_type": "stream",
          "name": "stderr",
          "text": [
            "INFO:sqlalchemy.engine.Engine:PRAGMA main.table_info(\"MediaType\")\n"
          ]
        },
        {
          "output_type": "stream",
          "name": "stdout",
          "text": [
            "2025-06-17 05:51:34,965 INFO sqlalchemy.engine.Engine [raw sql] ()\n"
          ]
        },
        {
          "output_type": "stream",
          "name": "stderr",
          "text": [
            "INFO:sqlalchemy.engine.Engine:[raw sql] ()\n"
          ]
        },
        {
          "output_type": "stream",
          "name": "stdout",
          "text": [
            "2025-06-17 05:51:34,966 INFO sqlalchemy.engine.Engine SELECT sql FROM  (SELECT * FROM sqlite_master UNION ALL   SELECT * FROM sqlite_temp_master) WHERE name = ? AND type in ('table', 'view')\n"
          ]
        },
        {
          "output_type": "stream",
          "name": "stderr",
          "text": [
            "INFO:sqlalchemy.engine.Engine:SELECT sql FROM  (SELECT * FROM sqlite_master UNION ALL   SELECT * FROM sqlite_temp_master) WHERE name = ? AND type in ('table', 'view')\n"
          ]
        },
        {
          "output_type": "stream",
          "name": "stdout",
          "text": [
            "2025-06-17 05:51:34,967 INFO sqlalchemy.engine.Engine [raw sql] ('MediaType',)\n"
          ]
        },
        {
          "output_type": "stream",
          "name": "stderr",
          "text": [
            "INFO:sqlalchemy.engine.Engine:[raw sql] ('MediaType',)\n"
          ]
        },
        {
          "output_type": "stream",
          "name": "stdout",
          "text": [
            "2025-06-17 05:51:34,971 INFO sqlalchemy.engine.Engine PRAGMA main.index_list(\"Playlist\")\n"
          ]
        },
        {
          "output_type": "stream",
          "name": "stderr",
          "text": [
            "INFO:sqlalchemy.engine.Engine:PRAGMA main.index_list(\"Playlist\")\n"
          ]
        },
        {
          "output_type": "stream",
          "name": "stdout",
          "text": [
            "2025-06-17 05:51:34,972 INFO sqlalchemy.engine.Engine [raw sql] ()\n"
          ]
        },
        {
          "output_type": "stream",
          "name": "stderr",
          "text": [
            "INFO:sqlalchemy.engine.Engine:[raw sql] ()\n"
          ]
        },
        {
          "output_type": "stream",
          "name": "stdout",
          "text": [
            "2025-06-17 05:51:34,973 INFO sqlalchemy.engine.Engine PRAGMA temp.index_list(\"Playlist\")\n"
          ]
        },
        {
          "output_type": "stream",
          "name": "stderr",
          "text": [
            "INFO:sqlalchemy.engine.Engine:PRAGMA temp.index_list(\"Playlist\")\n"
          ]
        },
        {
          "output_type": "stream",
          "name": "stdout",
          "text": [
            "2025-06-17 05:51:34,974 INFO sqlalchemy.engine.Engine [raw sql] ()\n"
          ]
        },
        {
          "output_type": "stream",
          "name": "stderr",
          "text": [
            "INFO:sqlalchemy.engine.Engine:[raw sql] ()\n"
          ]
        },
        {
          "output_type": "stream",
          "name": "stdout",
          "text": [
            "2025-06-17 05:51:34,975 INFO sqlalchemy.engine.Engine PRAGMA main.table_info(\"Playlist\")\n"
          ]
        },
        {
          "output_type": "stream",
          "name": "stderr",
          "text": [
            "INFO:sqlalchemy.engine.Engine:PRAGMA main.table_info(\"Playlist\")\n"
          ]
        },
        {
          "output_type": "stream",
          "name": "stdout",
          "text": [
            "2025-06-17 05:51:34,976 INFO sqlalchemy.engine.Engine [raw sql] ()\n"
          ]
        },
        {
          "output_type": "stream",
          "name": "stderr",
          "text": [
            "INFO:sqlalchemy.engine.Engine:[raw sql] ()\n"
          ]
        },
        {
          "output_type": "stream",
          "name": "stdout",
          "text": [
            "2025-06-17 05:51:34,977 INFO sqlalchemy.engine.Engine SELECT sql FROM  (SELECT * FROM sqlite_master UNION ALL   SELECT * FROM sqlite_temp_master) WHERE name = ? AND type in ('table', 'view')\n"
          ]
        },
        {
          "output_type": "stream",
          "name": "stderr",
          "text": [
            "INFO:sqlalchemy.engine.Engine:SELECT sql FROM  (SELECT * FROM sqlite_master UNION ALL   SELECT * FROM sqlite_temp_master) WHERE name = ? AND type in ('table', 'view')\n"
          ]
        },
        {
          "output_type": "stream",
          "name": "stdout",
          "text": [
            "2025-06-17 05:51:34,978 INFO sqlalchemy.engine.Engine [raw sql] ('Playlist',)\n"
          ]
        },
        {
          "output_type": "stream",
          "name": "stderr",
          "text": [
            "INFO:sqlalchemy.engine.Engine:[raw sql] ('Playlist',)\n"
          ]
        },
        {
          "output_type": "stream",
          "name": "stdout",
          "text": [
            "2025-06-17 05:51:34,980 INFO sqlalchemy.engine.Engine PRAGMA main.index_list(\"PlaylistTrack\")\n"
          ]
        },
        {
          "output_type": "stream",
          "name": "stderr",
          "text": [
            "INFO:sqlalchemy.engine.Engine:PRAGMA main.index_list(\"PlaylistTrack\")\n"
          ]
        },
        {
          "output_type": "stream",
          "name": "stdout",
          "text": [
            "2025-06-17 05:51:34,983 INFO sqlalchemy.engine.Engine [raw sql] ()\n"
          ]
        },
        {
          "output_type": "stream",
          "name": "stderr",
          "text": [
            "INFO:sqlalchemy.engine.Engine:[raw sql] ()\n"
          ]
        },
        {
          "output_type": "stream",
          "name": "stdout",
          "text": [
            "2025-06-17 05:51:34,984 INFO sqlalchemy.engine.Engine PRAGMA main.index_info(\"IFK_PlaylistTrackTrackId\")\n"
          ]
        },
        {
          "output_type": "stream",
          "name": "stderr",
          "text": [
            "INFO:sqlalchemy.engine.Engine:PRAGMA main.index_info(\"IFK_PlaylistTrackTrackId\")\n"
          ]
        },
        {
          "output_type": "stream",
          "name": "stdout",
          "text": [
            "2025-06-17 05:51:34,985 INFO sqlalchemy.engine.Engine [raw sql] ()\n"
          ]
        },
        {
          "output_type": "stream",
          "name": "stderr",
          "text": [
            "INFO:sqlalchemy.engine.Engine:[raw sql] ()\n"
          ]
        },
        {
          "output_type": "stream",
          "name": "stdout",
          "text": [
            "2025-06-17 05:51:34,986 INFO sqlalchemy.engine.Engine PRAGMA main.index_info(\"IFK_PlaylistTrackPlaylistId\")\n"
          ]
        },
        {
          "output_type": "stream",
          "name": "stderr",
          "text": [
            "INFO:sqlalchemy.engine.Engine:PRAGMA main.index_info(\"IFK_PlaylistTrackPlaylistId\")\n"
          ]
        },
        {
          "output_type": "stream",
          "name": "stdout",
          "text": [
            "2025-06-17 05:51:34,987 INFO sqlalchemy.engine.Engine [raw sql] ()\n"
          ]
        },
        {
          "output_type": "stream",
          "name": "stderr",
          "text": [
            "INFO:sqlalchemy.engine.Engine:[raw sql] ()\n"
          ]
        },
        {
          "output_type": "stream",
          "name": "stdout",
          "text": [
            "2025-06-17 05:51:34,988 INFO sqlalchemy.engine.Engine PRAGMA main.index_info(\"sqlite_autoindex_PlaylistTrack_1\")\n"
          ]
        },
        {
          "output_type": "stream",
          "name": "stderr",
          "text": [
            "INFO:sqlalchemy.engine.Engine:PRAGMA main.index_info(\"sqlite_autoindex_PlaylistTrack_1\")\n"
          ]
        },
        {
          "output_type": "stream",
          "name": "stdout",
          "text": [
            "2025-06-17 05:51:34,989 INFO sqlalchemy.engine.Engine [raw sql] ()\n"
          ]
        },
        {
          "output_type": "stream",
          "name": "stderr",
          "text": [
            "INFO:sqlalchemy.engine.Engine:[raw sql] ()\n"
          ]
        },
        {
          "output_type": "stream",
          "name": "stdout",
          "text": [
            "2025-06-17 05:51:34,990 INFO sqlalchemy.engine.Engine SELECT sql FROM  (SELECT * FROM sqlite_master UNION ALL   SELECT * FROM sqlite_temp_master) WHERE name = ? AND type in ('table', 'view')\n"
          ]
        },
        {
          "output_type": "stream",
          "name": "stderr",
          "text": [
            "INFO:sqlalchemy.engine.Engine:SELECT sql FROM  (SELECT * FROM sqlite_master UNION ALL   SELECT * FROM sqlite_temp_master) WHERE name = ? AND type in ('table', 'view')\n"
          ]
        },
        {
          "output_type": "stream",
          "name": "stdout",
          "text": [
            "2025-06-17 05:51:34,991 INFO sqlalchemy.engine.Engine [raw sql] ('PlaylistTrack',)\n"
          ]
        },
        {
          "output_type": "stream",
          "name": "stderr",
          "text": [
            "INFO:sqlalchemy.engine.Engine:[raw sql] ('PlaylistTrack',)\n"
          ]
        },
        {
          "output_type": "stream",
          "name": "stdout",
          "text": [
            "2025-06-17 05:51:34,995 INFO sqlalchemy.engine.Engine PRAGMA main.index_list(\"Track\")\n"
          ]
        },
        {
          "output_type": "stream",
          "name": "stderr",
          "text": [
            "INFO:sqlalchemy.engine.Engine:PRAGMA main.index_list(\"Track\")\n"
          ]
        },
        {
          "output_type": "stream",
          "name": "stdout",
          "text": [
            "2025-06-17 05:51:34,997 INFO sqlalchemy.engine.Engine [raw sql] ()\n"
          ]
        },
        {
          "output_type": "stream",
          "name": "stderr",
          "text": [
            "INFO:sqlalchemy.engine.Engine:[raw sql] ()\n"
          ]
        },
        {
          "output_type": "stream",
          "name": "stdout",
          "text": [
            "2025-06-17 05:51:34,998 INFO sqlalchemy.engine.Engine PRAGMA main.index_info(\"IFK_TrackMediaTypeId\")\n"
          ]
        },
        {
          "output_type": "stream",
          "name": "stderr",
          "text": [
            "INFO:sqlalchemy.engine.Engine:PRAGMA main.index_info(\"IFK_TrackMediaTypeId\")\n"
          ]
        },
        {
          "output_type": "stream",
          "name": "stdout",
          "text": [
            "2025-06-17 05:51:34,999 INFO sqlalchemy.engine.Engine [raw sql] ()\n"
          ]
        },
        {
          "output_type": "stream",
          "name": "stderr",
          "text": [
            "INFO:sqlalchemy.engine.Engine:[raw sql] ()\n"
          ]
        },
        {
          "output_type": "stream",
          "name": "stdout",
          "text": [
            "2025-06-17 05:51:35,000 INFO sqlalchemy.engine.Engine PRAGMA main.index_info(\"IFK_TrackGenreId\")\n"
          ]
        },
        {
          "output_type": "stream",
          "name": "stderr",
          "text": [
            "INFO:sqlalchemy.engine.Engine:PRAGMA main.index_info(\"IFK_TrackGenreId\")\n"
          ]
        },
        {
          "output_type": "stream",
          "name": "stdout",
          "text": [
            "2025-06-17 05:51:35,001 INFO sqlalchemy.engine.Engine [raw sql] ()\n"
          ]
        },
        {
          "output_type": "stream",
          "name": "stderr",
          "text": [
            "INFO:sqlalchemy.engine.Engine:[raw sql] ()\n"
          ]
        },
        {
          "output_type": "stream",
          "name": "stdout",
          "text": [
            "2025-06-17 05:51:35,002 INFO sqlalchemy.engine.Engine PRAGMA main.index_info(\"IFK_TrackAlbumId\")\n"
          ]
        },
        {
          "output_type": "stream",
          "name": "stderr",
          "text": [
            "INFO:sqlalchemy.engine.Engine:PRAGMA main.index_info(\"IFK_TrackAlbumId\")\n"
          ]
        },
        {
          "output_type": "stream",
          "name": "stdout",
          "text": [
            "2025-06-17 05:51:35,002 INFO sqlalchemy.engine.Engine [raw sql] ()\n"
          ]
        },
        {
          "output_type": "stream",
          "name": "stderr",
          "text": [
            "INFO:sqlalchemy.engine.Engine:[raw sql] ()\n"
          ]
        },
        {
          "output_type": "stream",
          "name": "stdout",
          "text": [
            "2025-06-17 05:51:35,003 INFO sqlalchemy.engine.Engine SELECT sql FROM  (SELECT * FROM sqlite_master UNION ALL   SELECT * FROM sqlite_temp_master) WHERE name = ? AND type in ('table', 'view')\n"
          ]
        },
        {
          "output_type": "stream",
          "name": "stderr",
          "text": [
            "INFO:sqlalchemy.engine.Engine:SELECT sql FROM  (SELECT * FROM sqlite_master UNION ALL   SELECT * FROM sqlite_temp_master) WHERE name = ? AND type in ('table', 'view')\n"
          ]
        },
        {
          "output_type": "stream",
          "name": "stdout",
          "text": [
            "2025-06-17 05:51:35,004 INFO sqlalchemy.engine.Engine [raw sql] ('Track',)\n"
          ]
        },
        {
          "output_type": "stream",
          "name": "stderr",
          "text": [
            "INFO:sqlalchemy.engine.Engine:[raw sql] ('Track',)\n"
          ]
        },
        {
          "output_type": "stream",
          "name": "stdout",
          "text": [
            "2025-06-17 05:51:35,030 INFO sqlalchemy.engine.Engine ROLLBACK\n"
          ]
        },
        {
          "output_type": "stream",
          "name": "stderr",
          "text": [
            "INFO:sqlalchemy.engine.Engine:ROLLBACK\n"
          ]
        }
      ]
    },
    {
      "cell_type": "markdown",
      "source": [
        "**We just called the function and initialized the engine to run query operations on that database later on using the AI agent.**"
      ],
      "metadata": {
        "id": "hfa4XfoD3H8w"
      }
    },
    {
      "cell_type": "markdown",
      "source": [
        "## **Short-Term and Long-Term Memory**\n",
        "\n",
        "**Now, that we initialize our database, we are going to look for first advantage of our combo (LangGraph + LangSmith), which is the two different types of memory availability, but first understand what is memory.**\n",
        "\n",
        "**In any intelligent agent, memory plays a important role. Just like humans, an AI agent needs to remember past interactions to maintain context and provide personalized responses.**\n",
        "\n",
        "**In LangGraph, we differentiate between short-term memory and long-term memory, here is quick difference between them:**\n",
        "\n",
        "* **Short-term memory helps an agent keep track of the current conversation. In LangGraph, this is handled by a MemorySaver, which saves and resumes the state of the conversation.**\n",
        "* **While Long-term memory lets the agent remember information across different conversations, like user preferences. For example, we can use an InMemoryStore for quick storage, but in real apps, you’d use a more permanent database.**\n",
        "\n",
        "**Let’s initialize them both.**\n",
        "\n",
        "* **We are using `in_memory_store` as long-term memory which will let us save user preferences even after a conversation ends.**\n",
        "\n",
        "* **Meanwhile, the `MemorySaver` (checkpointer) keeps the current conversation’s context intact, enabling smooth multi-turn interactions.**\n",
        "\n",
        "---\n",
        "\n"
      ],
      "metadata": {
        "id": "36HNc9233N5q"
      }
    },
    {
      "cell_type": "code",
      "source": [
        "from langgraph.store.memory import InMemoryStore\n",
        "from langgraph.checkpoint.memory import MemorySaver\n",
        "\n",
        "# Initialize long-term memory store for persistent data between conversations\n",
        "in_memory_store = InMemoryStore()\n",
        "\n",
        "# Initialize checkpointer for short-term memory within a single thread/conversation\n",
        "checkpointer = MemorySaver()"
      ],
      "metadata": {
        "id": "D4UF3ixm3Jrb"
      },
      "execution_count": null,
      "outputs": []
    },
    {
      "cell_type": "markdown",
      "source": [
        "## **Our Multi-Agent Architecture**\n",
        "**So, our goal is to a realistic customer support agent which is not a single agent but through a multi-agent workflow in LangGraph.**\n",
        "\n",
        "**We will start from a simple ReAct agent and add additional steps into the workflow, simulating a realistic customer support example, showcasing human-in-the-loop, long term memory, and the LangGraph pre-built library.**\n",
        "\n",
        "<img src = \"https://camo.githubusercontent.com/ce65214827cf0c8776fd0ffd1eec84e3addc07c945b21a82ecf20e6b867a01b4/68747470733a2f2f6d69726f2e6d656469756d2e636f6d2f76322f726573697a653a6669743a313130302f666f726d61743a776562702f312a78513049736b766d5743784249637669344673624c672e706e67\"/>\n",
        "\n",
        "**We will be building each of these components of our multi-agent workflow step by step, as it contains two sub-agents, two specialized ReAct (Reasoning and Acting) sub-agents which will then combine to create a multi-agent workflow including additional steps.**\n",
        "\n",
        "**Our workflow starts with:**\n",
        "* **`human_input`, where the user provides account information.**\n",
        "* **Then, in `verify_info`, the system checks the account and clarifies the user’s intent if needed.**\n",
        "* **Next, `load_memory` retrieves the user’s music preferences.**\n",
        "* **The supervisor coordinates two sub-agents: `music_catalog` (for music data) and `invoice_info` (for billing).**\n",
        "* **Finally, `create_memory` updates the user’s memory with new info from the interaction.**\n",
        "\n",
        "**So now we have understand the basic, Let’s start building our first sub agent.**"
      ],
      "metadata": {
        "id": "89OPWyO04Kxh"
      }
    },
    {
      "cell_type": "markdown",
      "source": [
        "### **Catalog Information Sub-agent**\n",
        "\n",
        "**Our first sub-agent will be a music catalog information agent. Its primary role will be to assist customers with inquiries related to our digital music catalog, such as searching for artists, albums, or songs.**\n",
        "\n",
        "<img src = \"https://camo.githubusercontent.com/736d596ac38f9b5086b2335b525c3c5b09418c527ec93294cc4102c60ebccb16/68747470733a2f2f6d69726f2e6d656469756d2e636f6d2f76322f726573697a653a6669743a313130302f666f726d61743a776562702f312a5143506277694434436e31734b556b314844494f4b412e706e67\"/>\n",
        "\n",
        "**How will our agent remember information, decide what to do, and carry out actions? This brings us to three fundamental LangGraph concepts: State, Tools, and Nodes.**"
      ],
      "metadata": {
        "id": "4cUvoK6I42dq"
      }
    },
    {
      "cell_type": "markdown",
      "source": [
        "#### **Defining State, Tools and Nodes**\n",
        "\n",
        "**In LangGraph, the State holds the current data snapshot flowing through the graph, basically the agent’s memory.**\n",
        "\n",
        "**For our customer support agent, the State includes:**\n",
        "\n",
        "* **`customer_id`: Identifies the customer for personalized responses and data retrieval.**\n",
        "* **`messages`: A list of all messages exchanged in the conversation, giving context to the agent.**\n",
        "* **`loaded_memory`: Long-term user-specific info (like preferences) loaded into the conversation.**\n",
        "* **`remaining_steps`: Counts how many steps are left to prevent infinite loops.**\n",
        "\n",
        "**Each node updates this State as the conversation progresses. Let’s define our State using TypedDict for type hinting and Annotated from LangGraph's message module for easy message appending.**"
      ],
      "metadata": {
        "id": "gD57E4UD5DiS"
      }
    },
    {
      "cell_type": "code",
      "source": [
        "from typing import Annotated, List\n",
        "from typing_extensions import TypedDict\n",
        "from langgraph.managed.is_last_step import RemainingSteps\n",
        "from langgraph.graph.message import AnyMessage, add_messages"
      ],
      "metadata": {
        "id": "M0tsc13B4BEs"
      },
      "execution_count": null,
      "outputs": []
    },
    {
      "cell_type": "code",
      "source": [
        "class State(TypedDict):\n",
        "  \"\"\"\n",
        "  State Schema for multi-agent customer support workflow\n",
        "\n",
        "  This will define the share data structure that flows between the intra-node\n",
        "  structre in the graph, representing the current snapshot of the conversation\n",
        "  \"\"\"\n",
        "  # Customer Identifier\n",
        "  customer_id: str\n",
        "\n",
        "  # Conversation history with automatic message aggergation\n",
        "  messages: Annotated[list[AnyMessage], add_messages]\n",
        "\n",
        "  # User preferences and context loaded from long-term memory\n",
        "  loaded_memory: str\n",
        "\n",
        "  # Remaining steps in the workflow (Infinite loop)\n",
        "  remaining_steps: RemainingSteps\n"
      ],
      "metadata": {
        "id": "pTz41kw35i0k"
      },
      "execution_count": null,
      "outputs": []
    },
    {
      "cell_type": "markdown",
      "source": [
        "**This State class will serve as the blueprint for how information is managed and passed between different parts of our multi-agent system.**\n",
        "\n",
        "**Next, we’ll extend our agent’s abilities using Tools. Tools are functions that let the LLM do things it can’t do on its own, like calling APIs or accessing databases.**\n",
        "\n",
        "**For our agent, tools will connect to the Chinook database to fetch music-related info.**\n",
        "\n",
        "**We’ll define Python functions and mark them with @tool from langchain_core.tools, so the LLM can find and use them when needed.**"
      ],
      "metadata": {
        "id": "nFFyy0-B63Nz"
      }
    },
    {
      "cell_type": "markdown",
      "source": [
        "## **Defining the tools to integrate with Agents**"
      ],
      "metadata": {
        "id": "FuD-pUZJ7JuH"
      }
    },
    {
      "cell_type": "code",
      "source": [
        "import ast\n",
        "from langchain_core.tools import tool\n",
        "from langchain_openai import ChatOpenAI"
      ],
      "metadata": {
        "id": "d6r9b7XD7i29"
      },
      "execution_count": null,
      "outputs": []
    },
    {
      "cell_type": "code",
      "source": [
        "llm = ChatOpenAI(model = \"gpt-4.1-nano\")"
      ],
      "metadata": {
        "id": "tLWD8oBQC95j"
      },
      "execution_count": null,
      "outputs": []
    },
    {
      "cell_type": "markdown",
      "source": [
        "### **1. Tool for getting albums by artist**"
      ],
      "metadata": {
        "id": "Fv64eBqA7eVp"
      }
    },
    {
      "cell_type": "code",
      "source": [
        "@tool\n",
        "def get_albums_by_artist(artist: str):\n",
        "    \"\"\"Get albums by an artist.\"\"\"\n",
        "    # Execute a SQL query to retrieve album titles and artist names\n",
        "    # from the Album and Artist tables, joining them and filtering by artist name.\n",
        "    # `db.run` is a utility from LangChain's SQLDatabase to execute queries.\n",
        "    # `include_columns=True` ensures column names are included in the result for better readability.\n",
        "    return db.run(\n",
        "        f\"\"\"\n",
        "        SELECT Album.Title, Artist.Name\n",
        "        FROM Album\n",
        "        JOIN Artist ON Album.ArtistId = Artist.ArtistId\n",
        "        WHERE Artist.Name LIKE '%{artist}%';\n",
        "        \"\"\",\n",
        "        include_columns=True\n",
        "    )"
      ],
      "metadata": {
        "id": "OvWjrtKy6gVO"
      },
      "execution_count": null,
      "outputs": []
    },
    {
      "cell_type": "markdown",
      "source": [
        "### **2. Get Track by Artist**"
      ],
      "metadata": {
        "id": "-RQ-PwE58FW3"
      }
    },
    {
      "cell_type": "code",
      "source": [
        "@tool\n",
        "def get_track_by_artist(artist:str):\n",
        "  \"\"\"\n",
        "  Get Sound Track by name of an artist (or similar artist) from the database\n",
        "  Args:\n",
        "    artist: Name of the artist (Str)\n",
        "  Returns:\n",
        "    List of songs by the artist (List)\n",
        "  \"\"\"\n",
        "  return db.run(\n",
        "      f\"\"\"\n",
        "      SELECT Track.Name as SongName, Artist.Name as ArtistName\n",
        "      FROM Album\n",
        "      LEFT JOIN Artist ON Album.ArtistId = Artist.ArtistId\n",
        "      LEFT JOIN Track ON Track.AlbumId = Album.AlbumId\n",
        "      WHERE Artist.Name LIKE '%{artist}%';\n",
        "      \"\"\",\n",
        "      include_columns = True\n",
        "  )"
      ],
      "metadata": {
        "id": "bRLhowi78D6b"
      },
      "execution_count": null,
      "outputs": []
    },
    {
      "cell_type": "markdown",
      "source": [
        "### **3. Get Song by Genre**"
      ],
      "metadata": {
        "id": "c5hcYTSj8y7q"
      }
    },
    {
      "cell_type": "code",
      "source": [
        "@tool\n",
        "def get_song_by_genre(genre : str):\n",
        "  \"\"\"\n",
        "  Fetch songs from database that matches from a specific genre\n",
        "\n",
        "  This function firstly starts looking for genre IDs for a given genre,\n",
        "  then retrieves songs that belongs to that specific genre, we have limited\n",
        "  this results to 8 songs\n",
        "\n",
        "  Args:\n",
        "    genre: Name of the genre (Str)\n",
        "  Returns:\n",
        "    List of songs by the genre (List)\n",
        "  \"\"\"\n",
        "  genre_id_query = f\"SELECT GenreId FROM Genre WHERE Name = '{genre}';\"\n",
        "  genre_id = db.run(genre_id_query, include_columns = True)\n",
        "\n",
        "  # Confirming if there are any genre parts found\n",
        "  if not genre_id:\n",
        "    raise ValueError(f\"No genre found for {genre}\")\n",
        "\n",
        "  # Parse Genre ID and format then for SQL query\n",
        "  genre_ids = ast.literal_eval(genre_id)\n",
        "  genre_id_list = \", \".join(str(gid[0]) for gid in genre_id)\n",
        "\n",
        "  # SQL Query for songs from specific genre\n",
        "  song_query = f\"\"\"\n",
        "    SELECT Track.Name as SongName, Artist.Name as ArtistName\n",
        "    FROM Track\n",
        "    LEFT JOIN Genre ON Track.AlbumId = Album.AlbumId\n",
        "    LEFT JOIN Artist ON Album.ArtistId = Artist.ArtistId\n",
        "    WHERE Track.GenreId IN ({genre_id_list})\n",
        "    LIMIT 8;\n",
        "  \"\"\"\n",
        "\n",
        "  songs = db.run(song_query, include_columns = True)\n",
        "\n",
        "  # checking if the songs were found or not\n",
        "  if not songs:\n",
        "    raise ValueError(f\"No songs found for {genre}\")\n",
        "\n",
        "  # Formatting results into a structured list of dictionaries\n",
        "  formatted_songs = ast.literal_eval(songs)\n",
        "\n",
        "  return [\n",
        "      {\n",
        "        \"song_name\": song[\"SongName\"],\n",
        "        \"artist_name\": song[\"ArtistName\"]\n",
        "      }\n",
        "      for song in formatted_songs\n",
        "  ]"
      ],
      "metadata": {
        "id": "UaQdArqg8wza"
      },
      "execution_count": null,
      "outputs": []
    },
    {
      "cell_type": "markdown",
      "source": [
        "### **4. Check for the songs**"
      ],
      "metadata": {
        "id": "7v3aSOMNA0RT"
      }
    },
    {
      "cell_type": "code",
      "source": [
        "@tool\n",
        "def check_for_songs(song_title):\n",
        "  \"\"\"\n",
        "  This function would check if the song is there in the database\n",
        "\n",
        "  Args:\n",
        "    song_title: Name of the song (Str)\n",
        "  Returns:\n",
        "    str: Database Query contaning all the information for the songs\n",
        "  \"\"\"\n",
        "  return db.run(\n",
        "    f\"\"\"\n",
        "    SELECT * FROM Track WHERE Name LIKE '%{song_title}%';\n",
        "    \"\"\", include_columns = True\n",
        "  )"
      ],
      "metadata": {
        "id": "6irJ3xEmAqrA"
      },
      "execution_count": null,
      "outputs": []
    },
    {
      "cell_type": "markdown",
      "source": [
        "**In this block, we have defined four specific tools:**\n",
        "\n",
        "* **`get_albums_by_artist`: To find albums by a given artist**\n",
        "* **`get_tracks_by_artist`: To find individual songs by an artist**\n",
        "* **`get_songs_by_genre`: To retrieve songs belonging to a specific genre**\n",
        "* **`check_for_songs`: To verify if a particular song exists in the catalog**\n",
        "\n",
        "**Each of these tools interacts with our db (the SQLDatabase wrapper we initialized earlier) by executing a SQL query. The results are then returned in a structured format.**"
      ],
      "metadata": {
        "id": "VQdgu1JqBjGl"
      }
    },
    {
      "cell_type": "markdown",
      "source": [
        "### **Binding tools with LLM**"
      ],
      "metadata": {
        "id": "8y9tjZpuDa3d"
      }
    },
    {
      "cell_type": "code",
      "source": [
        "# Create a list of all the music-related tools for the agent\n",
        "music_tools = [get_albums_by_artist, get_song_by_genre, check_for_songs, get_track_by_artist]"
      ],
      "metadata": {
        "id": "x1ATHl6HBc8L"
      },
      "execution_count": null,
      "outputs": []
    },
    {
      "cell_type": "code",
      "source": [
        "# Binding our tools woth the llm\n",
        "llm_with_music_tools = llm.bind_tools(music_tools)"
      ],
      "metadata": {
        "id": "MmBu1kIaChb2"
      },
      "execution_count": null,
      "outputs": []
    },
    {
      "cell_type": "markdown",
      "source": [
        "**Finally, we bind these music_tools to our llm using llm.bind_tools().**\n",
        "\n",
        "**This crucial step allows the LLM to understand when and how to call these functions based on the user's query.**\n",
        "\n",
        "**Now that our State are being defined and Tools ready, we can now define the Nodes of our graph.**"
      ],
      "metadata": {
        "id": "zRm_QFHLDV8H"
      }
    },
    {
      "cell_type": "markdown",
      "source": [
        "## **Working with Nodes**\n",
        "\n",
        "**Nodes are the core processing units in a LangGraph application that take the graph current State as input, perform some logic, and return an updated State.**\n",
        "\n",
        "**For our ReAct agent, we will define two key types of nodes:**\n",
        "\n",
        "* **`music_assistant` is the LLM reasoning node. It uses the current conversation history and memory to decide the next action, either calling a tool or generating a response, and updates the State.**\n",
        "* **`music_tool_node` runs the tool selected by music_assistant. LangGraph ToolNode manages the tool call and updates the State with the result.**\n",
        "\n",
        "\n",
        "**By combining these nodes, we enable dynamic reasoning and action within our multi-agent workflow.**"
      ],
      "metadata": {
        "id": "xUUiX4BgDd2b"
      }
    },
    {
      "cell_type": "markdown",
      "source": [
        "### **Create ToolNode for the MusicTools**"
      ],
      "metadata": {
        "id": "EZz-17pVDoRK"
      }
    },
    {
      "cell_type": "code",
      "source": [
        "from langgraph.prebuilt import ToolNode\n",
        "\n",
        "# creating a tool node that executes the music related tools\n",
        "# ToolNode is a pre-built langgraph component that handles tool execution\n",
        "\n",
        "music_tool_handler = ToolNode(music_tools)"
      ],
      "metadata": {
        "id": "6vkV58TVDJ6I"
      },
      "execution_count": null,
      "outputs": []
    },
    {
      "cell_type": "markdown",
      "source": [
        "**Now, we can define the `music_assistant` node. This node will use our LLM to determine the next action**"
      ],
      "metadata": {
        "id": "Mb7m2-ccEAl6"
      }
    },
    {
      "cell_type": "code",
      "source": [
        "from langchain_core.runnables import RunnableConfig\n",
        "from langchain_core.messages import ToolMessage, SystemMessage, HumanMessage"
      ],
      "metadata": {
        "id": "9M50-tSdD6F7"
      },
      "execution_count": null,
      "outputs": []
    },
    {
      "cell_type": "code",
      "source": [
        "def generate_music_assistance_prompt(memory:str = \"None\") -> str:\n",
        "  \"\"\"\n",
        "  Generate a system prompt for the music assistant agent\n",
        "\n",
        "  Args:\n",
        "    memory (str): User preferences and context for long-term memorty store\n",
        "\n",
        "  Returns:\n",
        "    str: The generated prompt for the music assistant agent\n",
        "  \"\"\"\n",
        "\n",
        "  return f\"\"\"\n",
        "    You are a member of the assistant team, your role specifically is to focused on helping customers discover and learn about music in our digital catalog.\n",
        "    If you are unable to find playlists, songs, or albums associated with an artist, it is okay.\n",
        "    Just inform the customer that the catalog does not have any playlists, songs, or albums associated with that artist.\n",
        "    You also have context on any saved user preferences, helping you to tailor your response.\n",
        "\n",
        "    CORE RESPONSIBILITIES:\n",
        "    - Search and provide accurate information about songs, albums, artists, and playlists\n",
        "    - Offer relevant recommendations based on customer interests\n",
        "    - Handle music-related queries with attention to detail\n",
        "    - Help customers discover new music they might enjoy\n",
        "    - You are routed only when there are questions related to music catalog; ignore other questions.\n",
        "\n",
        "    SEARCH GUIDELINES:\n",
        "    1. Always perform thorough searches before concluding something is unavailable\n",
        "    2. If exact matches aren't found, try:\n",
        "       - Checking for alternative spellings\n",
        "       - Looking for similar artist names\n",
        "       - Searching by partial matches\n",
        "       - Checking different versions/remixes\n",
        "    3. When providing song lists:\n",
        "       - Include the artist name with each song\n",
        "       - Mention the album when relevant\n",
        "       - Note if it's part of any playlists\n",
        "       - Indicate if there are multiple versions\n",
        "\n",
        "    Additional context is provided below:\n",
        "\n",
        "    Prior saved user preferences: {memory}\n",
        "\n",
        "    Message history is also attached.\n",
        "  \"\"\""
      ],
      "metadata": {
        "id": "N13TXcNsEOHW"
      },
      "execution_count": null,
      "outputs": []
    },
    {
      "cell_type": "markdown",
      "source": [
        "**We also need to create a `music_assistant` function too, so let's create one.**"
      ],
      "metadata": {
        "id": "11X2wXREE4G0"
      }
    },
    {
      "cell_type": "code",
      "source": [
        "def music_assistant(state: State, config: RunnableConfig):\n",
        "  \"\"\"\n",
        "  Music assistant node that handles music catalog queries and recommendation.\n",
        "\n",
        "   This node processes customer requests related to music discovery, album searches,\n",
        "    artist information, and personalized recommendations based on stored preferences.\n",
        "\n",
        "    Args:\n",
        "        state (State): Current state containing customer_id, messages, loaded_memory, etc.\n",
        "        config (RunnableConfig): Configuration for the runnable execution\n",
        "\n",
        "    Returns:\n",
        "        dict: Updated state with the assistant's response message\n",
        "  \"\"\"\n",
        "  # Retrieve long-term memory preferences if available\n",
        "  memory = \"None\"\n",
        "  if \"loaded_memory\" in state:\n",
        "    memory = state[\"loaded_memory\"]\n",
        "\n",
        "  # Generate instruction for music assistant agent\n",
        "  prompt_for_assistant = generate_music_assistance_prompt(memory=memory)\n",
        "\n",
        "  # Invoke LLM with tools and system prompt\n",
        "  resp = llm_with_music_tools.invoke([SystemMessage(prompt_for_assistant)] + state[\"messages\"])\n",
        "\n",
        "  # Return the updated state with assistant's response\n",
        "  return {\"messages\": [resp]}"
      ],
      "metadata": {
        "id": "Se9DUluJE2pj"
      },
      "execution_count": null,
      "outputs": []
    },
    {
      "cell_type": "markdown",
      "source": [
        "**The `music_assistant` node constructs a detailed system prompt for the LLM, including general instructions and the `loaded_memory` for personalization.**\n",
        "\n",
        "**It then invokes the `llm_with_music_tool`s with this system message and the current conversation messages. Based on its reasoning, the LLM might output a final answer or a tool call.**\n",
        "\n",
        "**It simply returns this LLM response, which `add_messages` (from our State definition) will automatically append to the messages list in the State.**\n",
        "\n",
        "**With our State and Nodes in place, the next step is to connect them using Edges, which define the execution flow in the graph.**\n",
        "\n",
        "**Normal Edges are straightforward — they always route from one specific node to another.**\n",
        "\n",
        "**Conditional Edges are dynamic. These are Python functions that examine the current State and decide which node to visit next. For our ReAct agent, we need a conditional edge that checks whether the music_assistant should:**\n",
        "\n",
        "* **Invoke tools: If the LLM decides to call a tool, we route to music_tool_node to execute it.**\n",
        "* **End the process, If the LLM provides a final response without tool calls, we conclude the sub-agent’s execution.**"
      ],
      "metadata": {
        "id": "p1PyUQNJVBA3"
      }
    },
    {
      "cell_type": "markdown",
      "source": [
        "**To handle this logic, we define the `should_continue` function.**"
      ],
      "metadata": {
        "id": "Gl-NXaajVuyJ"
      }
    },
    {
      "cell_type": "code",
      "source": [
        "def should_continue(state: State, config: RunnableConfig):\n",
        "  \"\"\"\n",
        "  Conditional edge function that determines the next step in the ReAct Agent workflow.\n",
        "\n",
        "  This function checks the last message in the conversation to decide whether should\n",
        "  we continue to execute or end the conversation\n",
        "\n",
        "  Args:\n",
        "    state (State): Current state containing customer_id, messages, loaded_memory, etc.\n",
        "    config (RunnableConfig): Configuration for the runnable execution\n",
        "\n",
        "  Returns:\n",
        "    str: Either \"continue\" to execute or \"end\" to finish\n",
        "  \"\"\"\n",
        "\n",
        "  # Get all the messages from the current state\n",
        "  messages = state[\"messages\"]\n",
        "\n",
        "  # Check for the last message in the conversation\n",
        "  last_msg = messages[-1]\n",
        "\n",
        "  # If the last message is not a ToolMessage, it means the agent has likely finished.\n",
        "  # Otherwise, continue to the tool node.\n",
        "  if not isinstance(last_msg, ToolMessage):\n",
        "    return \"end\"\n",
        "  else:\n",
        "    return \"continue\""
      ],
      "metadata": {
        "id": "2OG5NeDSU5E7"
      },
      "execution_count": null,
      "outputs": []
    },
    {
      "cell_type": "markdown",
      "source": [
        "**The `should_continue` function checks the last message in the State. If it includes `tool_calls`, it means the LLM wants to use a tool, so the function returns \"continue\".**\n",
        "\n",
        "**Otherwise, it returns \"end\", indicating the LLM has provided a direct response and the sub-agent’s task is complete.**\n",
        "\n",
        "**Now that we have all the pieces, State, Nodes, and Edges.**\n",
        "\n",
        "**Let’s assemble them to construct our complete ReAct agent using StateGraph.**"
      ],
      "metadata": {
        "id": "lHWopWlIWrNm"
      }
    },
    {
      "cell_type": "code",
      "source": [
        "from utils import show_graph\n",
        "from langgraph.graph import StateGraph, START, END"
      ],
      "metadata": {
        "colab": {
          "base_uri": "https://localhost:8080/"
        },
        "id": "6phUWpsmW73R",
        "outputId": "f74294fb-2675-439d-ffa7-e8266670a03e"
      },
      "execution_count": null,
      "outputs": [
        {
          "output_type": "stream",
          "name": "stderr",
          "text": [
            "WARNING:langchain_community.utils.user_agent:USER_AGENT environment variable not set, consider setting it to identify your requests.\n"
          ]
        }
      ]
    },
    {
      "cell_type": "code",
      "source": [
        "music_workflow = StateGraph(State)"
      ],
      "metadata": {
        "id": "MuTvhcGfXbOn"
      },
      "execution_count": null,
      "outputs": []
    },
    {
      "cell_type": "code",
      "source": [
        "# Add nodes to the graph\n",
        "# music_assistant node: The execution node that handles all music-related tool calls\n",
        "music_workflow.add_node(\"music_assistant\", music_assistant)"
      ],
      "metadata": {
        "colab": {
          "base_uri": "https://localhost:8080/"
        },
        "id": "rtWvnT6DXN-H",
        "outputId": "e2ac379a-1907-4db1-a310-03f49e9b2e97"
      },
      "execution_count": null,
      "outputs": [
        {
          "output_type": "execute_result",
          "data": {
            "text/plain": [
              "<langgraph.graph.state.StateGraph at 0x783ef5c1cd50>"
            ]
          },
          "metadata": {},
          "execution_count": 26
        }
      ]
    },
    {
      "cell_type": "code",
      "source": [
        "# music_tool node: The execution that handles all the music related tools calls\n",
        "music_workflow.add_node(\"music_tool_node\", music_tool_handler)"
      ],
      "metadata": {
        "colab": {
          "base_uri": "https://localhost:8080/"
        },
        "id": "8bMXFtocXsIl",
        "outputId": "a1d73365-564a-4dc5-d93f-12f95f9c564b"
      },
      "execution_count": null,
      "outputs": [
        {
          "output_type": "execute_result",
          "data": {
            "text/plain": [
              "<langgraph.graph.state.StateGraph at 0x783ef5c1cd50>"
            ]
          },
          "metadata": {},
          "execution_count": 27
        }
      ]
    },
    {
      "cell_type": "code",
      "source": [
        "# Add edges to define the flow of the graph\n",
        "# Set the entry point - all queries start with the music assistant\n",
        "music_workflow.add_edge(START, \"music_assistant\")"
      ],
      "metadata": {
        "colab": {
          "base_uri": "https://localhost:8080/"
        },
        "id": "RveplId7Zydp",
        "outputId": "77031535-abb8-48c2-aaf6-14dd8cdb6896"
      },
      "execution_count": null,
      "outputs": [
        {
          "output_type": "execute_result",
          "data": {
            "text/plain": [
              "<langgraph.graph.state.StateGraph at 0x783ef5c1cd50>"
            ]
          },
          "metadata": {},
          "execution_count": 28
        }
      ]
    },
    {
      "cell_type": "code",
      "source": [
        "# Add conditional edge from music_assistant based on whether tools need to be called\n",
        "music_workflow.add_conditional_edges(\n",
        "    \"music_assistant\",\n",
        "    should_continue,\n",
        "    {\n",
        "        # if tools need to be executed, route to tool node\n",
        "        \"continue\": \"music_tool_node\",\n",
        "        # if not, end the sub-agent\n",
        "        \"end\":END,\n",
        "    },\n",
        ")"
      ],
      "metadata": {
        "colab": {
          "base_uri": "https://localhost:8080/"
        },
        "id": "0Zm4jrQrYU0g",
        "outputId": "65a9de6a-edae-4235-faee-f149ebd09184"
      },
      "execution_count": null,
      "outputs": [
        {
          "output_type": "execute_result",
          "data": {
            "text/plain": [
              "<langgraph.graph.state.StateGraph at 0x783ef5c1cd50>"
            ]
          },
          "metadata": {},
          "execution_count": 29
        }
      ]
    },
    {
      "cell_type": "code",
      "source": [
        "# After tool execution, we will return the assistant for further process\n",
        "music_workflow.add_edge(\"music_tool_node\", \"music_assistant\")"
      ],
      "metadata": {
        "colab": {
          "base_uri": "https://localhost:8080/"
        },
        "id": "7qRWYnWMY07T",
        "outputId": "cc2305a8-e99d-43f4-c6bf-b8e8ad0a2f98"
      },
      "execution_count": null,
      "outputs": [
        {
          "output_type": "execute_result",
          "data": {
            "text/plain": [
              "<langgraph.graph.state.StateGraph at 0x783ef5c1cd50>"
            ]
          },
          "metadata": {},
          "execution_count": 30
        }
      ]
    },
    {
      "cell_type": "code",
      "source": [
        "# Compiling the graph with checkpointer for short-term memory and store for long term memory\n",
        "music_catalog_subagent = music_workflow.compile(\n",
        "    name = \"music_catalog_subagent\",\n",
        "    checkpointer = checkpointer,\n",
        "    store = in_memory_store,\n",
        ")"
      ],
      "metadata": {
        "id": "P41j_m0WZCLl"
      },
      "execution_count": null,
      "outputs": []
    },
    {
      "cell_type": "code",
      "source": [
        "# Display the compiled graph structure\n",
        "show_graph(music_catalog_subagent)"
      ],
      "metadata": {
        "colab": {
          "base_uri": "https://localhost:8080/",
          "height": 290
        },
        "id": "4wO0oJOcZT14",
        "outputId": "86789d34-475b-46cf-bb10-0c9b9c09306d"
      },
      "execution_count": null,
      "outputs": [
        {
          "output_type": "execute_result",
          "data": {
            "image/png": "[encoded data removed]",
            "text/plain": [
              "<IPython.core.display.Image object>"
            ]
          },
          "metadata": {},
          "execution_count": 32
        }
      ]
    },
    {
      "cell_type": "markdown",
      "source": [
        "**In this final step, we create a StateGraph using our defined State. We add nodes for both `music_assistant` and `music_tool_node`.**\n",
        "\n",
        "**The graph starts at `START`, which leads to music_assistant. The core ReAct loop is set up with conditional edges from `music_assistant` that route to music_tool_node if a tool call is detected, or to `END` if the response is final.**\n",
        "\n",
        "**After `music_tool_node` runs, an edge brings the flow back to music_assistant, allowing the LLM to process the tool’s output and continue reasoning.**"
      ],
      "metadata": {
        "id": "ZeIqCsVIaCZ2"
      }
    },
    {
      "cell_type": "markdown",
      "source": [
        "## **Testing First Sub-agent**"
      ],
      "metadata": {
        "id": "c02sURXHahHm"
      }
    },
    {
      "cell_type": "code",
      "source": [
        "# query = input(\"Enter what you want to listen today\")"
      ],
      "metadata": {
        "id": "5_sKG2CHjdN6"
      },
      "execution_count": null,
      "outputs": []
    },
    {
      "cell_type": "code",
      "source": [
        "import uuid # Module for generating unique identifiers\n",
        "\n",
        "# Generate a unique thread ID for this conversation.\n",
        "# This ensures that the conversation state is isolated and can be resumed later.\n",
        "thread_id = uuid.uuid4()\n",
        "\n",
        "# Define the customer's question.\n",
        "question = \"I love Rolling Stones. Please give tracks from similar artist?\"\n",
        "\n",
        "# Create the configuration dictionary for invoking the graph.\n",
        "# The `thread_id` is essential for the checkpointer to manage state.\n",
        "config = {\"configurable\": {\"thread_id\": thread_id}}\n",
        "\n",
        "# Invoke the `music_catalog_subagent` with the initial human message and configuration.\n",
        "# The `invoke` method runs the graph to completion and returns the final state.\n",
        "result = music_catalog_subagent.invoke({\"messages\": [HumanMessage(content=question)]}, config=config)\n",
        "\n",
        "# Iterate through the messages in the final state and print them for observation.\n",
        "# `pretty_print()` provides a formatted output of the message content and role.\n",
        "for message in result[\"messages\"]:\n",
        "   message.pretty_print()"
      ],
      "metadata": {
        "colab": {
          "base_uri": "https://localhost:8080/"
        },
        "id": "Q_QapOWfbYYt",
        "outputId": "3a252c8d-bae4-4825-eb94-4ea9bd473b19"
      },
      "execution_count": null,
      "outputs": [
        {
          "output_type": "stream",
          "name": "stdout",
          "text": [
            "================================\u001b[1m Human Message \u001b[0m=================================\n",
            "\n",
            "I love Rolling Stones. Please give tracks from similar artist?\n",
            "==================================\u001b[1m Ai Message \u001b[0m==================================\n",
            "Tool Calls:\n",
            "  get_track_by_artist (call_1ABSNWpIXk9GKDqC2czZ6cvX)\n",
            " Call ID: call_1ABSNWpIXk9GKDqC2czZ6cvX\n",
            "  Args:\n",
            "    artist: The Rolling Stones\n"
          ]
        }
      ]
    },
    {
      "cell_type": "markdown",
      "source": [
        "**So, based on the human message which is our query, it responds with the correct tool get_tracks_by_artist which is responsible for finding recommendations based on the artist specified in our query.**"
      ],
      "metadata": {
        "id": "piyYeIFOiY8j"
      }
    },
    {
      "cell_type": "markdown",
      "source": [
        "## **Invoice Sub-agent**\n",
        "\n",
        "**While building a ReAct agent from scratch is great for understanding the fundamentals, LangGraph also offers pre-built libraries for common architectures.**\n",
        "\n",
        "**As it allow us to quickly set up standard patterns like ReAct without manually defining all nodes and edges. You can find a full list of these pre-built libraries in the [LangGraph documentation](https://langchain-ai.github.io/langgraph/how-tos/prebuilt/)**\n",
        "\n",
        "<img src = \"https://camo.githubusercontent.com/69104dc01f4af0292b06f97f8bfb9db9e1c9c9c5dfc0f833d30a367804882252/68747470733a2f2f6d69726f2e6d656469756d2e636f6d2f76322f726573697a653a6669743a313130302f666f726d61743a776562702f312a665131543136387055745142656459544a48414769772e706e67\"/>"
      ],
      "metadata": {
        "id": "CrLiSaaWjojy"
      }
    },
    {
      "cell_type": "markdown",
      "source": [
        " **We start by defining the specific tools and the prompt for our invoice_information_subagent. These tools will interact with the Chinook database to retrieve invoice details.**"
      ],
      "metadata": {
        "id": "Cby_n7QvtiRU"
      }
    },
    {
      "cell_type": "code",
      "source": [
        "from langchain_core.tools import tool"
      ],
      "metadata": {
        "id": "JEwFQBneb1SV"
      },
      "execution_count": null,
      "outputs": []
    },
    {
      "cell_type": "markdown",
      "source": [
        "### **1. Get Customer Invoices by Customer ID**"
      ],
      "metadata": {
        "id": "yIbKqtM7v3to"
      }
    },
    {
      "cell_type": "code",
      "source": [
        "@tool\n",
        "def get_invoices_by_customer_sorted_by_date(customer_id:str) -> list[dict]:\n",
        "  \"\"\"\n",
        "    This function will lookup for a customer using their IDs.\n",
        "    The invoices are sorted in descending order by invoice date, which helps\n",
        "    when the customer wants to view their most recent / oldest invoice or if\n",
        "    they want to view invoices withing a specific date range\n",
        "\n",
        "    Args:\n",
        "      customer_id (str): customer_id, which serves as the primary key\n",
        "    Returns:\n",
        "      list[dict]: A list of invoices for the customer\n",
        "  \"\"\"\n",
        "  return db.run(\n",
        "      f\"\"\"\n",
        "      SELECT * FROM Invoice\n",
        "      WHERE CustomerId = {customer_id}\n",
        "      ORDER BY InvoiceDate DESC;\n",
        "      \"\"\",\n",
        "      include_columns = True\n",
        "  )\n"
      ],
      "metadata": {
        "id": "xc0_Wetetot-"
      },
      "execution_count": null,
      "outputs": []
    },
    {
      "cell_type": "markdown",
      "source": [
        "### **2. Get Invoices sorted by unit price**"
      ],
      "metadata": {
        "id": "mmOFhCdUzQIH"
      }
    },
    {
      "cell_type": "code",
      "source": [
        "@tool\n",
        "def get_invoices_sorted_by_unit_prices(cust_id: str) -> list[dict]:\n",
        "  \"\"\"\n",
        "  This tool would be used when we need to find the details of the\n",
        "  one of their invoices based on the unit price.  This tool looks\n",
        "  up all invoices for a customer, and sorts the unit price from\n",
        "  highest to lowest. In order to find the invoice associated with\n",
        "  the customer, we need to know the customer ID.\n",
        "\n",
        "  Args:\n",
        "    cust_id (str): customer_id, which serves as the primary key\n",
        "  Returns:\n",
        "    list[dict]: A list of invoices for the customer\n",
        "  \"\"\"\n",
        "\n",
        "  query = f\"\"\"\n",
        "  SELECT Invoice.*, InvoiceLine.UnitPrice\n",
        "  FROM Invoice\n",
        "  JOIN InvoiceLine ON Invoice.InvoiceId = InvoiceLine.InvoiceId\n",
        "  WHERE Invoice.CustomerId = {cust_id}\n",
        "  ORDER BY InvoiceLine.UnitPrice DESC;\n",
        "  \"\"\"\n",
        "  return db.run(query)"
      ],
      "metadata": {
        "id": "z96YxEV-wwg8"
      },
      "execution_count": null,
      "outputs": []
    },
    {
      "cell_type": "markdown",
      "source": [
        "### **3. Get Employee using Invoice and Customer**"
      ],
      "metadata": {
        "id": "hwaf5JGb0ZuT"
      }
    },
    {
      "cell_type": "code",
      "source": [
        "@tool\n",
        "def get_employee_by_invoice_and_customer(invoice_id: str, cust_id:str) -> list[dict]:\n",
        "  \"\"\"\n",
        "  This tool would be used when we need to find the information associated with the invoice.\n",
        "\n",
        "  Args:\n",
        "    invoice_id (str): invoice_id, which serves as the primary key\n",
        "    cust_id (str): customer_id, which serves as the primary key\n",
        "  Returns:\n",
        "    list[dict]: A list of invoices for the customer\n",
        "  \"\"\"\n",
        "  query = f\"\"\"\n",
        "    SELECT Employee.FirstName, Employee.Title, Employee.Email\n",
        "    FROM Employee\n",
        "    JOIN Customer ON Employee.SupportRepId = Employee.EmployeeId\n",
        "    JOIN Invoice ON Invoice.CustomerId = Customer.CustomerId\n",
        "    WHERE Invoice.InvoiceId = {invoice_id} AND Invoice.CustomerId = {cust_id};\n",
        "  \"\"\"\n",
        "\n",
        "  employee_info = db.run(query, include_columns=True)\n",
        "\n",
        "  if not employee_info:\n",
        "    raise ValueError(f\"No employee found for invoice {invoice_id} and customer {cust_id}\")\n",
        "  return employee_info"
      ],
      "metadata": {
        "id": "g__NAWP10MOH"
      },
      "execution_count": null,
      "outputs": []
    },
    {
      "cell_type": "markdown",
      "source": [
        "**We have defined three specialized tools for invoice handling:**\n",
        "* **`get_invoices_by_customer_sorted_by_date`: Retrieves all invoices for a customer, sorted by date**\n",
        "* **`get_invoices_sorted_by_unit_price`: Retrieves invoices sorted by the unit price of items within them**\n",
        "* **`get_employee_by_invoice_and_customer`: Finds the support employee associated with a specific invoice**\n",
        "\n",
        "**Now, we can append all the tools together so, that later on we can feed these tools to the model**"
      ],
      "metadata": {
        "id": "6w9fBTXl13Wh"
      }
    },
    {
      "cell_type": "code",
      "source": [
        "invoice_tools = [get_invoices_sorted_by_unit_prices, get_employee_by_invoice_and_customer, get_invoices_by_customer_sorted_by_date]"
      ],
      "metadata": {
        "id": "94IEmEQK1rw2"
      },
      "execution_count": null,
      "outputs": []
    },
    {
      "cell_type": "markdown",
      "source": [
        "### **Defining the behaviour of the sub-agent**"
      ],
      "metadata": {
        "id": "JO57plVx2S8Q"
      }
    },
    {
      "cell_type": "code",
      "source": [
        "invoice_subagent_prompt = \"\"\"\n",
        "    You are a subagent among a team of assistants. You are specialized for retrieving and processing invoice information. You are routed for invoice-related portion of the questions, so only respond to them..\n",
        "\n",
        "    You have access to three tools. These tools enable you to retrieve and process invoice information from the database. Here are the tools:\n",
        "    - get_invoices_by_customer_sorted_by_date: This tool retrieves all invoices for a customer, sorted by invoice date.\n",
        "    - get_invoices_sorted_by_unit_price: This tool retrieves all invoices for a customer, sorted by unit price.\n",
        "    - get_employee_by_invoice_and_customer: This tool retrieves the employee information associated with an invoice and a customer.\n",
        "\n",
        "    If you are unable to retrieve the invoice information, inform the customer you are unable to retrieve the information, and ask if they would like to search for something else.\n",
        "\n",
        "    CORE RESPONSIBILITIES:\n",
        "    - Retrieve and process invoice information from the database\n",
        "    - Provide detailed information about invoices, including customer details, invoice dates, total amounts, employees associated with the invoice, etc. when the customer asks for it.\n",
        "    - Always maintain a professional, friendly, and patient demeanor\n",
        "\n",
        "    You may have additional context that you should use to help answer the customer's query. It will be provided to you below:\n",
        "    \"\"\""
      ],
      "metadata": {
        "id": "izXxMk2J2QyT"
      },
      "execution_count": null,
      "outputs": []
    },
    {
      "cell_type": "markdown",
      "source": [
        "**This prompt outlines the sub-agent's role, it's available tools, core responsiblities and guidelines for handling cases where information isn't found.**\n",
        "\n",
        "**This targeted information helps the LLM act effectively withing its specialized domain**\n",
        "\n",
        "**Now, instead of manually creating nodes and conditional edges for ReAct pattern as we did with our previous sub-agent, we will use LangGraph `create_react_act`, a pre-built function that will help us to do the same.**"
      ],
      "metadata": {
        "id": "Tf9Jn9uj3A5S"
      }
    },
    {
      "cell_type": "code",
      "source": [
        "from langgraph.prebuilt import create_react_agent"
      ],
      "metadata": {
        "id": "mXtU6kE325n7"
      },
      "execution_count": null,
      "outputs": []
    },
    {
      "cell_type": "markdown",
      "source": [
        "**Create the invoice information subagent using LangGraph's pre-built ReAct agent. This agent specializes in handling customer invoice queries and billing information**"
      ],
      "metadata": {
        "id": "UFwh6bAD36t_"
      }
    },
    {
      "cell_type": "code",
      "source": [
        "invoice_information_subagent = create_react_agent(\n",
        "    llm,\n",
        "    name = \"invoice_information_subagent\",\n",
        "    tools = invoice_tools,\n",
        "    prompt = invoice_subagent_prompt,\n",
        "    checkpointer = checkpointer,\n",
        "    store = in_memory_store,\n",
        "    state_schema = State\n",
        ")"
      ],
      "metadata": {
        "id": "qk-W8YaJ34d1"
      },
      "execution_count": null,
      "outputs": []
    },
    {
      "cell_type": "code",
      "source": [
        "invoice_information_subagent"
      ],
      "metadata": {
        "colab": {
          "base_uri": "https://localhost:8080/",
          "height": 266
        },
        "id": "8fPdyF5s4VbF",
        "outputId": "aac88e68-a3cd-4105-e54b-c805197e1974"
      },
      "execution_count": null,
      "outputs": [
        {
          "output_type": "execute_result",
          "data": {
            "text/plain": [
              "<langgraph.graph.state.CompiledStateGraph object at 0x783ef427ec50>"
            ],
            "image/png": "[encoded data removed]"
          },
          "metadata": {},
          "execution_count": 43
        }
      ]
    },
    {
      "cell_type": "markdown",
      "source": [
        "**The create_react_agent function takes our llm, the invoice_tools, a name for the agent (important for multi-agent routing), the prompt we just defined, our custom State schema, and hooks up the checkpointer and store for memory.**\n",
        "\n",
        "**With just few lines, we have a fully functional ReAct agent, this is the advantage we have using LangGraph.**"
      ],
      "metadata": {
        "id": "rciOsYRS4hud"
      }
    },
    {
      "cell_type": "markdown",
      "source": [
        "### **Testing Second Sub-agent**"
      ],
      "metadata": {
        "id": "B5Wnfw4K4uPk"
      }
    },
    {
      "cell_type": "markdown",
      "source": [
        "**Testing our second `invoice_information_subagent` ensure it works as expected. We'll provide a query that requires fetching invoice and employee information**"
      ],
      "metadata": {
        "id": "1zVcroKT5Iyb"
      }
    },
    {
      "cell_type": "code",
      "source": [
        "# Generating a unique thread id for this conversation\n",
        "thread_id = uuid.uuid4()"
      ],
      "metadata": {
        "id": "bIOR-1aG4erF"
      },
      "execution_count": null,
      "outputs": []
    },
    {
      "cell_type": "code",
      "source": [
        "question = \"My customer id is 1. What is most recent invoice, and who was the employee that helped me with it?\""
      ],
      "metadata": {
        "id": "V2biBmVn5atN"
      },
      "execution_count": null,
      "outputs": []
    },
    {
      "cell_type": "code",
      "source": [
        "# Setting up the configuration with the thread ID for maintaining the conversation context\n",
        "config = {\"configurable\": {\"thread_id\": thread_id}}"
      ],
      "metadata": {
        "id": "wVe_Xt1e5l1H"
      },
      "execution_count": null,
      "outputs": []
    },
    {
      "cell_type": "code",
      "source": [
        "# Invoking the information to the chain inorder to execute the context wiht the current thread ID\n",
        "resp = invoice_information_subagent.invoke({\n",
        "    \"messages\":[HumanMessage(content=question)]\n",
        "}, config=config)"
      ],
      "metadata": {
        "colab": {
          "base_uri": "https://localhost:8080/"
        },
        "id": "qwhJ7m-W5vpx",
        "outputId": "6f22866a-e6cf-4199-8d3e-eda346edcdce"
      },
      "execution_count": null,
      "outputs": [
        {
          "output_type": "stream",
          "name": "stdout",
          "text": [
            "2025-06-17 05:51:42,580 INFO sqlalchemy.engine.Engine BEGIN (implicit)\n"
          ]
        },
        {
          "output_type": "stream",
          "name": "stderr",
          "text": [
            "INFO:sqlalchemy.engine.Engine:BEGIN (implicit)\n"
          ]
        },
        {
          "output_type": "stream",
          "name": "stdout",
          "text": [
            "2025-06-17 05:51:42,588 INFO sqlalchemy.engine.Engine \n",
            "      SELECT * FROM Invoice\n",
            "      WHERE CustomerId = 1\n",
            "      ORDER BY InvoiceDate DESC;\n",
            "      \n",
            "2025-06-17 05:51:42,595 INFO sqlalchemy.engine.Engine BEGIN (implicit)\n"
          ]
        },
        {
          "output_type": "stream",
          "name": "stderr",
          "text": [
            "INFO:sqlalchemy.engine.Engine:\n",
            "      SELECT * FROM Invoice\n",
            "      WHERE CustomerId = 1\n",
            "      ORDER BY InvoiceDate DESC;\n",
            "      \n"
          ]
        },
        {
          "output_type": "stream",
          "name": "stdout",
          "text": [
            "2025-06-17 05:51:42,605 INFO sqlalchemy.engine.Engine [generated in 0.01696s] ()\n"
          ]
        },
        {
          "output_type": "stream",
          "name": "stderr",
          "text": [
            "INFO:sqlalchemy.engine.Engine:BEGIN (implicit)\n"
          ]
        },
        {
          "output_type": "stream",
          "name": "stdout",
          "text": [
            "2025-06-17 05:51:42,608 INFO sqlalchemy.engine.Engine \n",
            "  SELECT Invoice.*, InvoiceLine.UnitPrice\n",
            "  FROM Invoice\n",
            "  JOIN InvoiceLine ON Invoice.InvoiceId = InvoiceLine.InvoiceId\n",
            "  WHERE Invoice.CustomerId = 1\n",
            "  ORDER BY InvoiceLine.UnitPrice DESC;\n",
            "  \n"
          ]
        },
        {
          "output_type": "stream",
          "name": "stderr",
          "text": [
            "INFO:sqlalchemy.engine.Engine:[generated in 0.01696s] ()\n",
            "INFO:sqlalchemy.engine.Engine:\n",
            "  SELECT Invoice.*, InvoiceLine.UnitPrice\n",
            "  FROM Invoice\n",
            "  JOIN InvoiceLine ON Invoice.InvoiceId = InvoiceLine.InvoiceId\n",
            "  WHERE Invoice.CustomerId = 1\n",
            "  ORDER BY InvoiceLine.UnitPrice DESC;\n",
            "  \n"
          ]
        },
        {
          "output_type": "stream",
          "name": "stdout",
          "text": [
            "2025-06-17 05:51:42,612 INFO sqlalchemy.engine.Engine [generated in 0.00491s] ()\n"
          ]
        },
        {
          "output_type": "stream",
          "name": "stderr",
          "text": [
            "INFO:sqlalchemy.engine.Engine:[generated in 0.00491s] ()\n"
          ]
        },
        {
          "output_type": "stream",
          "name": "stdout",
          "text": [
            "2025-06-17 05:51:42,616 INFO sqlalchemy.engine.Engine COMMIT\n"
          ]
        },
        {
          "output_type": "stream",
          "name": "stderr",
          "text": [
            "INFO:sqlalchemy.engine.Engine:COMMIT\n"
          ]
        },
        {
          "output_type": "stream",
          "name": "stdout",
          "text": [
            "2025-06-17 05:51:42,619 INFO sqlalchemy.engine.Engine COMMIT\n"
          ]
        },
        {
          "output_type": "stream",
          "name": "stderr",
          "text": [
            "INFO:sqlalchemy.engine.Engine:COMMIT\n"
          ]
        }
      ]
    },
    {
      "cell_type": "code",
      "source": [
        "for msg in resp[\"messages\"]:\n",
        "  msg.pretty_print()"
      ],
      "metadata": {
        "colab": {
          "base_uri": "https://localhost:8080/"
        },
        "id": "AR2ksPvs6Kin",
        "outputId": "1c4c38c2-668b-429b-88ea-d9164700814e"
      },
      "execution_count": null,
      "outputs": [
        {
          "output_type": "stream",
          "name": "stdout",
          "text": [
            "================================\u001b[1m Human Message \u001b[0m=================================\n",
            "\n",
            "My customer id is 1. What is most recent invoice, and who was the employee that helped me with it?\n",
            "==================================\u001b[1m Ai Message \u001b[0m==================================\n",
            "Name: invoice_information_subagent\n",
            "Tool Calls:\n",
            "  get_invoices_by_customer_sorted_by_date (call_mRikro8LvqKHpJFPmSQQieM3)\n",
            " Call ID: call_mRikro8LvqKHpJFPmSQQieM3\n",
            "  Args:\n",
            "    customer_id: 1\n",
            "  get_invoices_sorted_by_unit_prices (call_tKZChUKHQuJNfIe97lqs0ROa)\n",
            " Call ID: call_tKZChUKHQuJNfIe97lqs0ROa\n",
            "  Args:\n",
            "    cust_id: 1\n",
            "=================================\u001b[1m Tool Message \u001b[0m=================================\n",
            "Name: get_invoices_by_customer_sorted_by_date\n",
            "\n",
            "[{'InvoiceId': 382, 'CustomerId': 1, 'InvoiceDate': '2025-08-07 00:00:00', 'BillingAddress': 'Av. Brigadeiro Faria Lima, 2170', 'BillingCity': 'São José dos Campos', 'BillingState': 'SP', 'BillingCountry': 'Brazil', 'BillingPostalCode': '12227-000', 'Total': 8.91}, {'InvoiceId': 327, 'CustomerId': 1, 'InvoiceDate': '2024-12-07 00:00:00', 'BillingAddress': 'Av. Brigadeiro Faria Lima, 2170', 'BillingCity': 'São José dos Campos', 'BillingState': 'SP', 'BillingCountry': 'Brazil', 'BillingPostalCode': '12227-000', 'Total': 13.86}, {'InvoiceId': 316, 'CustomerId': 1, 'InvoiceDate': '2024-10-27 00:00:00', 'BillingAddress': 'Av. Brigadeiro Faria Lima, 2170', 'BillingCity': 'São José dos Campos', 'BillingState': 'SP', 'BillingCountry': 'Brazil', 'BillingPostalCode': '12227-000', 'Total': 1.98}, {'InvoiceId': 195, 'CustomerId': 1, 'InvoiceDate': '2023-05-06 00:00:00', 'BillingAddress': 'Av. Brigadeiro Faria Lima, 2170', 'BillingCity': 'São José dos Campos', 'BillingState': 'SP', 'BillingCountry': 'Brazil', 'BillingPostalCode': '12227-000', 'Total': 0.99}, {'InvoiceId': 143, 'CustomerId': 1, 'InvoiceDate': '2022-09-15 00:00:00', 'BillingAddress': 'Av. Brigadeiro Faria Lima, 2170', 'BillingCity': 'São José dos Campos', 'BillingState': 'SP', 'BillingCountry': 'Brazil', 'BillingPostalCode': '12227-000', 'Total': 5.94}, {'InvoiceId': 121, 'CustomerId': 1, 'InvoiceDate': '2022-06-13 00:00:00', 'BillingAddress': 'Av. Brigadeiro Faria Lima, 2170', 'BillingCity': 'São José dos Campos', 'BillingState': 'SP', 'BillingCountry': 'Brazil', 'BillingPostalCode': '12227-000', 'Total': 3.96}, {'InvoiceId': 98, 'CustomerId': 1, 'InvoiceDate': '2022-03-11 00:00:00', 'BillingAddress': 'Av. Brigadeiro Faria Lima, 2170', 'BillingCity': 'São José dos Campos', 'BillingState': 'SP', 'BillingCountry': 'Brazil', 'BillingPostalCode': '12227-000', 'Total': 3.98}]\n",
            "=================================\u001b[1m Tool Message \u001b[0m=================================\n",
            "Name: get_invoices_sorted_by_unit_prices\n",
            "\n",
            "[(98, 1, '2022-03-11 00:00:00', 'Av. Brigadeiro Faria Lima, 2170', 'São José dos Campos', 'SP', 'Brazil', '12227-000', 3.98, 1.99), (98, 1, '2022-03-11 00:00:00', 'Av. Brigadeiro Faria Lima, 2170', 'São José dos Campos', 'SP', 'Brazil', '12227-000', 3.98, 1.99), (121, 1, '2022-06-13 00:00:00', 'Av. Brigadeiro Faria Lima, 2170', 'São José dos Campos', 'SP', 'Brazil', '12227-000', 3.96, 0.99), (121, 1, '2022-06-13 00:00:00', 'Av. Brigadeiro Faria Lima, 2170', 'São José dos Campos', 'SP', 'Brazil', '12227-000', 3.96, 0.99), (121, 1, '2022-06-13 00:00:00', 'Av. Brigadeiro Faria Lima, 2170', 'São José dos Campos', 'SP', 'Brazil', '12227-000', 3.96, 0.99), (121, 1, '2022-06-13 00:00:00', 'Av. Brigadeiro Faria Lima, 2170', 'São José dos Campos', 'SP', 'Brazil', '12227-000', 3.96, 0.99), (143, 1, '2022-09-15 00:00:00', 'Av. Brigadeiro Faria Lima, 2170', 'São José dos Campos', 'SP', 'Brazil', '12227-000', 5.94, 0.99), (143, 1, '2022-09-15 00:00:00', 'Av. Brigadeiro Faria Lima, 2170', 'São José dos Campos', 'SP', 'Brazil', '12227-000', 5.94, 0.99), (143, 1, '2022-09-15 00:00:00', 'Av. Brigadeiro Faria Lima, 2170', 'São José dos Campos', 'SP', 'Brazil', '12227-000', 5.94, 0.99), (143, 1, '2022-09-15 00:00:00', 'Av. Brigadeiro Faria Lima, 2170', 'São José dos Campos', 'SP', 'Brazil', '12227-000', 5.94, 0.99), (143, 1, '2022-09-15 00:00:00', 'Av. Brigadeiro Faria Lima, 2170', 'São José dos Campos', 'SP', 'Brazil', '12227-000', 5.94, 0.99), (143, 1, '2022-09-15 00:00:00', 'Av. Brigadeiro Faria Lima, 2170', 'São José dos Campos', 'SP', 'Brazil', '12227-000', 5.94, 0.99), (195, 1, '2023-05-06 00:00:00', 'Av. Brigadeiro Faria Lima, 2170', 'São José dos Campos', 'SP', 'Brazil', '12227-000', 0.99, 0.99), (316, 1, '2024-10-27 00:00:00', 'Av. Brigadeiro Faria Lima, 2170', 'São José dos Campos', 'SP', 'Brazil', '12227-000', 1.98, 0.99), (316, 1, '2024-10-27 00:00:00', 'Av. Brigadeiro Faria Lima, 2170', 'São José dos Campos', 'SP', 'Brazil', '12227-000', 1.98, 0.99), (327, 1, '2024-12-07 00:00:00', 'Av. Brigadeiro Faria Lima, 2170', 'São José dos Campos', 'SP', 'Brazil', '12227-000', 13.86, 0.99), (327, 1, '2024-12-07 00:00:00', 'Av. Brigadeiro Faria Lima, 2170', 'São José dos Campos', 'SP', 'Brazil', '12227-000', 13.86, 0.99), (327, 1, '2024-12-07 00:00:00', 'Av. Brigadeiro Faria Lima, 2170', 'São José dos Campos', 'SP', 'Brazil', '12227-000', 13.86, 0.99), (327, 1, '2024-12-07 00:00:00', 'Av. Brigadeiro Faria Lima, 2170', 'São José dos Campos', 'SP', 'Brazil', '12227-000', 13.86, 0.99), (327, 1, '2024-12-07 00:00:00', 'Av. Brigadeiro Faria Lima, 2170', 'São José dos Campos', 'SP', 'Brazil', '12227-000', 13.86, 0.99), (327, 1, '2024-12-07 00:00:00', 'Av. Brigadeiro Faria Lima, 2170', 'São José dos Campos', 'SP', 'Brazil', '12227-000', 13.86, 0.99), (327, 1, '2024-12-07 00:00:00', 'Av. Brigadeiro Faria Lima, 2170', 'São José dos Campos', 'SP', 'Brazil', '12227-000', 13.86, 0.99), (327, 1, '2024-12-07 00:00:00', 'Av. Brigadeiro Faria Lima, 2170', 'São José dos Campos', 'SP', 'Brazil', '12227-000', 13.86, 0.99), (327, 1, '2024-12-07 00:00:00', 'Av. Brigadeiro Faria Lima, 2170', 'São José dos Campos', 'SP', 'Brazil', '12227-000', 13.86, 0.99), (327, 1, '2024-12-07 00:00:00', 'Av. Brigadeiro Faria Lima, 2170', 'São José dos Campos', 'SP', 'Brazil', '12227-000', 13.86, 0.99), (327, 1, '2024-12-07 00:00:00', 'Av. Brigadeiro Faria Lima, 2170', 'São José dos Campos', 'SP', 'Brazil', '12227-000', 13.86, 0.99), (327, 1, '2024-12-07 00:00:00', 'Av. Brigadeiro Faria Lima, 2170', 'São José dos Campos', 'SP', 'Brazil', '12227-000', 13.86, 0.99), (327, 1, '2024-12-07 00:00:00', 'Av. Brigadeiro Faria Lima, 2170', 'São José dos Campos', 'SP', 'Brazil', '12227-000', 13.86, 0.99), (327, 1, '2024-12-07 00:00:00', 'Av. Brigadeiro Faria Lima, 2170', 'São José dos Campos', 'SP', 'Brazil', '12227-000', 13.86, 0.99), (382, 1, '2025-08-07 00:00:00', 'Av. Brigadeiro Faria Lima, 2170', 'São José dos Campos', 'SP', 'Brazil', '12227-000', 8.91, 0.99), (382, 1, '2025-08-07 00:00:00', 'Av. Brigadeiro Faria Lima, 2170', 'São José dos Campos', 'SP', 'Brazil', '12227-000', 8.91, 0.99), (382, 1, '2025-08-07 00:00:00', 'Av. Brigadeiro Faria Lima, 2170', 'São José dos Campos', 'SP', 'Brazil', '12227-000', 8.91, 0.99), (382, 1, '2025-08-07 00:00:00', 'Av. Brigadeiro Faria Lima, 2170', 'São José dos Campos', 'SP', 'Brazil', '12227-000', 8.91, 0.99), (382, 1, '2025-08-07 00:00:00', 'Av. Brigadeiro Faria Lima, 2170', 'São José dos Campos', 'SP', 'Brazil', '12227-000', 8.91, 0.99), (382, 1, '2025-08-07 00:00:00', 'Av. Brigadeiro Faria Lima, 2170', 'São José dos Campos', 'SP', 'Brazil', '12227-000', 8.91, 0.99), (382, 1, '2025-08-07 00:00:00', 'Av. Brigadeiro Faria Lima, 2170', 'São José dos Campos', 'SP', 'Brazil', '12227-000', 8.91, 0.99), (382, 1, '2025-08-07 00:00:00', 'Av. Brigadeiro Faria Lima, 2170', 'São José dos Campos', 'SP', 'Brazil', '12227-000', 8.91, 0.99), (382, 1, '2025-08-07 00:00:00', 'Av. Brigadeiro Faria Lima, 2170', 'São José dos Campos', 'SP', 'Brazil', '12227-000', 8.91, 0.99)]\n",
            "==================================\u001b[1m Ai Message \u001b[0m==================================\n",
            "Name: invoice_information_subagent\n",
            "\n",
            "The most recent invoice for customer ID 1 was issued on August 7, 2025. The invoice total was $8.91. \n",
            "\n",
            "The employee who assisted you with this invoice was associated with invoice ID 382. Would you like to know more details about this invoice or the employee?\n"
          ]
        }
      ]
    },
    {
      "cell_type": "markdown",
      "source": [
        "# **Creating Multi-Agent Using Supervisor**\n",
        "\n",
        "**Now, since we have two-agents: one for music operation and another for invoices. A natural question arises is `how do we ensure tasks are appropriately routed to the correct sub_agent?`**\n",
        "\n",
        "**This is where the concept of supervisor agent comes into play. It routes the respective request to their right sub-agent. After sub-agent finishes, control goes back to supervisor agent or can be passed to another sub-agent based on context**\n",
        "\n",
        "**Architecture for the same goes something like this:**\n",
        "<img src = \"https://camo.githubusercontent.com/a6fb2ba4f08ca3313246d2b5827f2ccae71da7c5456e5bed702b6a7a62821154/68747470733a2f2f6d69726f2e6d656469756d2e636f6d2f76322f726573697a653a6669743a313130302f666f726d61743a776562702f312a715179563261483268444a474943345a3548794356672e706e67\"/>"
      ],
      "metadata": {
        "id": "a9uvytqLFiUJ"
      }
    },
    {
      "cell_type": "markdown",
      "source": [
        "**We will use LangGraph built-in supervisor library to quickly build this multi-agent setup.**\n",
        "\n",
        "**First, we will create a set of instructions for our supervisor. This prompt will define its role, inform it about the available sub-agents and their capabilities, and guide its decision-making process for routing.**"
      ],
      "metadata": {
        "id": "lmM1pulBG3Td"
      }
    },
    {
      "cell_type": "code",
      "source": [
        "supervisor_prompt = \"\"\"You are an expert customer support assistant for a digital music store.\n",
        "You are dedicated to providing exceptional service and ensuring customer queries are answered thoroughly.\n",
        "You have a team of subagents that you can use to help answer queries from customers.\n",
        "Your primary role is to serve as a supervisor/planner for this multi-agent team that helps answer queries from customers.\n",
        "\n",
        "Your team is composed of two subagents that you can use to help answer the customer's request:\n",
        "1. music_catalog_subagent: this subagent has access to user's saved music preferences. It can also retrieve information about the digital music store's music\n",
        "catalog (albums, tracks, songs, etc.) from the database.\n",
        "3. invoice_information_subagent: this subagent is able to retrieve information about a customer's past purchases or invoices\n",
        "from the database.\n",
        "\n",
        "Based on the existing steps that have been taken in the messages, your role is to generate the next subagent that needs to be called.\n",
        "This could be one step in an inquiry that needs multiple sub-agent calls. \"\"\""
      ],
      "metadata": {
        "id": "JkEH5V-76QRP"
      },
      "execution_count": null,
      "outputs": []
    },
    {
      "cell_type": "markdown",
      "source": [
        "**This prompt defines roles as a router and planner, understanding what the `music_catalog_subagent` and `invoice_information_subagent` can do, and deciding which has be called next.**\n",
        "\n",
        "**Let's put our supervisor to work using `create_supervisor`function from Langgraph pre-built**"
      ],
      "metadata": {
        "id": "XwVjeryTHCzG"
      }
    },
    {
      "cell_type": "code",
      "source": [
        "from langgraph_supervisor import create_supervisor"
      ],
      "metadata": {
        "id": "3C6_oRznHB4q"
      },
      "execution_count": null,
      "outputs": []
    },
    {
      "cell_type": "markdown",
      "source": [
        "**Create supervisor workflow using LangGraph's pre-built supervisor. The supervisor coordinates between multiple subagents based on the incoming queries**"
      ],
      "metadata": {
        "id": "7q1nLmYCIagy"
      }
    },
    {
      "cell_type": "code",
      "source": [
        "from langgraph_supervisor import create_supervisor\n",
        "from langgraph.graph import StateGraph, START, END\n",
        "\n",
        "# Create supervisor workflow using LangGraph's pre-built supervisor\n",
        "# The supervisor coordinates between multiple subagents based on the incoming queries\n",
        "supervisor_prebuilt_workflow = create_supervisor(\n",
        "    agents=[invoice_information_subagent, music_catalog_subagent],  # List of subagents to supervise\n",
        "    # Change output_mode to \"messages\" to keep the full message history from sub-agents\n",
        "    output_mode=\"last_message\",\n",
        "    model=llm,  # Language model for supervisor reasoning and routing decisions\n",
        "    prompt=(supervisor_prompt),  # System instructions for the supervisor agent\n",
        "    state_schema=State  # State schema defining data flow structure\n",
        ")\n",
        "\n",
        "# Compile the supervisor workflow with memory components\n",
        "# - checkpointer: Enables short-term memory within conversation threads\n",
        "# - store: Provides long-term memory storage across conversations\n",
        "supervisor_prebuilt = supervisor_prebuilt_workflow.compile(\n",
        "    name=\"music_catalog_subagent\",\n",
        "    checkpointer=checkpointer,\n",
        "    store=in_memory_store\n",
        ")\n",
        "\n",
        "# Display the compiled supervisor graph structure\n",
        "show_graph(supervisor_prebuilt)"
      ],
      "metadata": {
        "colab": {
          "base_uri": "https://localhost:8080/",
          "height": 266
        },
        "id": "xX8DJzuOITD5",
        "outputId": "d040994e-fcf1-444c-d3ac-a798f8377aa1"
      },
      "execution_count": null,
      "outputs": [
        {
          "output_type": "execute_result",
          "data": {
            "image/png": "[encoded data removed]",
            "text/plain": [
              "<IPython.core.display.Image object>"
            ]
          },
          "metadata": {},
          "execution_count": 55
        }
      ]
    },
    {
      "cell_type": "markdown",
      "source": [
        "**This supervisor is not comprised based on Multi-agent architecture and this will act according to the supervisor prompt**"
      ],
      "metadata": {
        "id": "XxpKjRqQJv1A"
      }
    },
    {
      "cell_type": "markdown",
      "source": [
        "## **Testing the Multi-Agent Architecture**"
      ],
      "metadata": {
        "id": "K-uyOdogKkit"
      }
    },
    {
      "cell_type": "code",
      "source": [
        "# Generate a unique thread ID for this conversation session\n",
        "thread_id = uuid.uuid4()\n",
        "\n",
        "# Define a question that tests both invoice and music catalog capabilities\n",
        "question = \"My customer ID is 1. How much was my most recent purchase? What albums do you have by U2?\"\n",
        "\n",
        "# Set up configuration with the thread ID for maintaining conversation context\n",
        "config = {\"configurable\": {\"thread_id\": thread_id}}\n",
        "\n",
        "# Invoke the supervisor workflow with the multi-part question\n",
        "# The supervisor will route to appropriate subagents for invoice and music queries\n",
        "result = supervisor_prebuilt.invoke({\"messages\": [HumanMessage(content=question)]}, config=config)\n",
        "\n",
        "# Display all messages from the conversation in a formatted way\n",
        "for message in result[\"messages\"]:\n",
        "    message.pretty_print()"
      ],
      "metadata": {
        "colab": {
          "base_uri": "https://localhost:8080/",
          "height": 720
        },
        "id": "BluhXPR2U8ey",
        "outputId": "f5a2491e-0a22-42d5-f781-ba1e7fc0b4f8"
      },
      "execution_count": null,
      "outputs": [
        {
          "output_type": "stream",
          "name": "stdout",
          "text": [
            "2025-06-17 05:52:38,747 INFO sqlalchemy.engine.Engine BEGIN (implicit)\n"
          ]
        },
        {
          "output_type": "stream",
          "name": "stderr",
          "text": [
            "INFO:sqlalchemy.engine.Engine:BEGIN (implicit)\n"
          ]
        },
        {
          "output_type": "stream",
          "name": "stdout",
          "text": [
            "2025-06-17 05:52:38,750 INFO sqlalchemy.engine.Engine \n",
            "      SELECT * FROM Invoice\n",
            "      WHERE CustomerId = 1\n",
            "      ORDER BY InvoiceDate DESC;\n",
            "      \n"
          ]
        },
        {
          "output_type": "stream",
          "name": "stderr",
          "text": [
            "INFO:sqlalchemy.engine.Engine:\n",
            "      SELECT * FROM Invoice\n",
            "      WHERE CustomerId = 1\n",
            "      ORDER BY InvoiceDate DESC;\n",
            "      \n"
          ]
        },
        {
          "output_type": "stream",
          "name": "stdout",
          "text": [
            "2025-06-17 05:52:38,751 INFO sqlalchemy.engine.Engine [cached since 56.16s ago] ()\n"
          ]
        },
        {
          "output_type": "stream",
          "name": "stderr",
          "text": [
            "INFO:sqlalchemy.engine.Engine:[cached since 56.16s ago] ()\n"
          ]
        },
        {
          "output_type": "stream",
          "name": "stdout",
          "text": [
            "2025-06-17 05:52:38,756 INFO sqlalchemy.engine.Engine COMMIT\n"
          ]
        },
        {
          "output_type": "stream",
          "name": "stderr",
          "text": [
            "INFO:sqlalchemy.engine.Engine:COMMIT\n"
          ]
        },
        {
          "output_type": "error",
          "ename": "ValueError",
          "evalue": "Found AIMessages with tool_calls that do not have a corresponding ToolMessage. Here are the first few of those tool calls: [{'name': 'get_albums_by_artist', 'args': {'artist': 'U2'}, 'id': 'call_ShF7sEZUniEIdXNCuIbrOHQ9', 'type': 'tool_call'}].\n\nEvery tool call (LLM requesting to call a tool) in the message history MUST have a corresponding ToolMessage (result of a tool invocation to return to the LLM) - this is required by most LLM providers.\nFor troubleshooting, visit: https://python.langchain.com/docs/troubleshooting/errors/INVALID_CHAT_HISTORY",
          "traceback": [
            "\u001b[0;31m---------------------------------------------------------------------------\u001b[0m",
            "\u001b[0;31mValueError\u001b[0m                                Traceback (most recent call last)",
            "\u001b[0;32m<ipython-input-56-391637775>\u001b[0m in \u001b[0;36m<cell line: 0>\u001b[0;34m()\u001b[0m\n\u001b[1;32m     10\u001b[0m \u001b[0;31m# Invoke the supervisor workflow with the multi-part question\u001b[0m\u001b[0;34m\u001b[0m\u001b[0;34m\u001b[0m\u001b[0m\n\u001b[1;32m     11\u001b[0m \u001b[0;31m# The supervisor will route to appropriate subagents for invoice and music queries\u001b[0m\u001b[0;34m\u001b[0m\u001b[0;34m\u001b[0m\u001b[0m\n\u001b[0;32m---> 12\u001b[0;31m \u001b[0mresult\u001b[0m \u001b[0;34m=\u001b[0m \u001b[0msupervisor_prebuilt\u001b[0m\u001b[0;34m.\u001b[0m\u001b[0minvoke\u001b[0m\u001b[0;34m(\u001b[0m\u001b[0;34m{\u001b[0m\u001b[0;34m\"messages\"\u001b[0m\u001b[0;34m:\u001b[0m \u001b[0;34m[\u001b[0m\u001b[0mHumanMessage\u001b[0m\u001b[0;34m(\u001b[0m\u001b[0mcontent\u001b[0m\u001b[0;34m=\u001b[0m\u001b[0mquestion\u001b[0m\u001b[0;34m)\u001b[0m\u001b[0;34m]\u001b[0m\u001b[0;34m}\u001b[0m\u001b[0;34m,\u001b[0m \u001b[0mconfig\u001b[0m\u001b[0;34m=\u001b[0m\u001b[0mconfig\u001b[0m\u001b[0;34m)\u001b[0m\u001b[0;34m\u001b[0m\u001b[0;34m\u001b[0m\u001b[0m\n\u001b[0m\u001b[1;32m     13\u001b[0m \u001b[0;34m\u001b[0m\u001b[0m\n\u001b[1;32m     14\u001b[0m \u001b[0;31m# Display all messages from the conversation in a formatted way\u001b[0m\u001b[0;34m\u001b[0m\u001b[0;34m\u001b[0m\u001b[0m\n",
            "\u001b[0;32m/usr/local/lib/python3.11/dist-packages/langgraph/pregel/__init__.py\u001b[0m in \u001b[0;36minvoke\u001b[0;34m(self, input, config, stream_mode, output_keys, interrupt_before, interrupt_after, checkpoint_during, debug, **kwargs)\u001b[0m\n\u001b[1;32m   2717\u001b[0m         \u001b[0minterrupts\u001b[0m\u001b[0;34m:\u001b[0m \u001b[0mlist\u001b[0m\u001b[0;34m[\u001b[0m\u001b[0mInterrupt\u001b[0m\u001b[0;34m]\u001b[0m \u001b[0;34m=\u001b[0m \u001b[0;34m[\u001b[0m\u001b[0;34m]\u001b[0m\u001b[0;34m\u001b[0m\u001b[0;34m\u001b[0m\u001b[0m\n\u001b[1;32m   2718\u001b[0m \u001b[0;34m\u001b[0m\u001b[0m\n\u001b[0;32m-> 2719\u001b[0;31m         for chunk in self.stream(\n\u001b[0m\u001b[1;32m   2720\u001b[0m             \u001b[0minput\u001b[0m\u001b[0;34m,\u001b[0m\u001b[0;34m\u001b[0m\u001b[0;34m\u001b[0m\u001b[0m\n\u001b[1;32m   2721\u001b[0m             \u001b[0mconfig\u001b[0m\u001b[0;34m,\u001b[0m\u001b[0;34m\u001b[0m\u001b[0;34m\u001b[0m\u001b[0m\n",
            "\u001b[0;32m/usr/local/lib/python3.11/dist-packages/langgraph/pregel/__init__.py\u001b[0m in \u001b[0;36mstream\u001b[0;34m(self, input, config, stream_mode, output_keys, interrupt_before, interrupt_after, checkpoint_during, debug, subgraphs)\u001b[0m\n\u001b[1;32m   2434\u001b[0m                     \u001b[0;32mfor\u001b[0m \u001b[0mtask\u001b[0m \u001b[0;32min\u001b[0m \u001b[0mloop\u001b[0m\u001b[0;34m.\u001b[0m\u001b[0mmatch_cached_writes\u001b[0m\u001b[0;34m(\u001b[0m\u001b[0;34m)\u001b[0m\u001b[0;34m:\u001b[0m\u001b[0;34m\u001b[0m\u001b[0;34m\u001b[0m\u001b[0m\n\u001b[1;32m   2435\u001b[0m                         \u001b[0mloop\u001b[0m\u001b[0;34m.\u001b[0m\u001b[0moutput_writes\u001b[0m\u001b[0;34m(\u001b[0m\u001b[0mtask\u001b[0m\u001b[0;34m.\u001b[0m\u001b[0mid\u001b[0m\u001b[0;34m,\u001b[0m \u001b[0mtask\u001b[0m\u001b[0;34m.\u001b[0m\u001b[0mwrites\u001b[0m\u001b[0;34m,\u001b[0m \u001b[0mcached\u001b[0m\u001b[0;34m=\u001b[0m\u001b[0;32mTrue\u001b[0m\u001b[0;34m)\u001b[0m\u001b[0;34m\u001b[0m\u001b[0;34m\u001b[0m\u001b[0m\n\u001b[0;32m-> 2436\u001b[0;31m                     for _ in runner.tick(\n\u001b[0m\u001b[1;32m   2437\u001b[0m                         \u001b[0;34m[\u001b[0m\u001b[0mt\u001b[0m \u001b[0;32mfor\u001b[0m \u001b[0mt\u001b[0m \u001b[0;32min\u001b[0m \u001b[0mloop\u001b[0m\u001b[0;34m.\u001b[0m\u001b[0mtasks\u001b[0m\u001b[0;34m.\u001b[0m\u001b[0mvalues\u001b[0m\u001b[0;34m(\u001b[0m\u001b[0;34m)\u001b[0m \u001b[0;32mif\u001b[0m \u001b[0;32mnot\u001b[0m \u001b[0mt\u001b[0m\u001b[0;34m.\u001b[0m\u001b[0mwrites\u001b[0m\u001b[0;34m]\u001b[0m\u001b[0;34m,\u001b[0m\u001b[0;34m\u001b[0m\u001b[0;34m\u001b[0m\u001b[0m\n\u001b[1;32m   2438\u001b[0m                         \u001b[0mtimeout\u001b[0m\u001b[0;34m=\u001b[0m\u001b[0mself\u001b[0m\u001b[0;34m.\u001b[0m\u001b[0mstep_timeout\u001b[0m\u001b[0;34m,\u001b[0m\u001b[0;34m\u001b[0m\u001b[0;34m\u001b[0m\u001b[0m\n",
            "\u001b[0;32m/usr/local/lib/python3.11/dist-packages/langgraph/pregel/__init__.py\u001b[0m in \u001b[0;36minvoke\u001b[0;34m(self, input, config, stream_mode, output_keys, interrupt_before, interrupt_after, checkpoint_during, debug, **kwargs)\u001b[0m\n\u001b[1;32m   2717\u001b[0m         \u001b[0minterrupts\u001b[0m\u001b[0;34m:\u001b[0m \u001b[0mlist\u001b[0m\u001b[0;34m[\u001b[0m\u001b[0mInterrupt\u001b[0m\u001b[0;34m]\u001b[0m \u001b[0;34m=\u001b[0m \u001b[0;34m[\u001b[0m\u001b[0;34m]\u001b[0m\u001b[0;34m\u001b[0m\u001b[0;34m\u001b[0m\u001b[0m\n\u001b[1;32m   2718\u001b[0m \u001b[0;34m\u001b[0m\u001b[0m\n\u001b[0;32m-> 2719\u001b[0;31m         for chunk in self.stream(\n\u001b[0m\u001b[1;32m   2720\u001b[0m             \u001b[0minput\u001b[0m\u001b[0;34m,\u001b[0m\u001b[0;34m\u001b[0m\u001b[0;34m\u001b[0m\u001b[0m\n\u001b[1;32m   2721\u001b[0m             \u001b[0mconfig\u001b[0m\u001b[0;34m,\u001b[0m\u001b[0;34m\u001b[0m\u001b[0;34m\u001b[0m\u001b[0m\n",
            "\u001b[0;32m/usr/local/lib/python3.11/dist-packages/langgraph/pregel/__init__.py\u001b[0m in \u001b[0;36mstream\u001b[0;34m(self, input, config, stream_mode, output_keys, interrupt_before, interrupt_after, checkpoint_during, debug, subgraphs)\u001b[0m\n\u001b[1;32m   2434\u001b[0m                     \u001b[0;32mfor\u001b[0m \u001b[0mtask\u001b[0m \u001b[0;32min\u001b[0m \u001b[0mloop\u001b[0m\u001b[0;34m.\u001b[0m\u001b[0mmatch_cached_writes\u001b[0m\u001b[0;34m(\u001b[0m\u001b[0;34m)\u001b[0m\u001b[0;34m:\u001b[0m\u001b[0;34m\u001b[0m\u001b[0;34m\u001b[0m\u001b[0m\n\u001b[1;32m   2435\u001b[0m                         \u001b[0mloop\u001b[0m\u001b[0;34m.\u001b[0m\u001b[0moutput_writes\u001b[0m\u001b[0;34m(\u001b[0m\u001b[0mtask\u001b[0m\u001b[0;34m.\u001b[0m\u001b[0mid\u001b[0m\u001b[0;34m,\u001b[0m \u001b[0mtask\u001b[0m\u001b[0;34m.\u001b[0m\u001b[0mwrites\u001b[0m\u001b[0;34m,\u001b[0m \u001b[0mcached\u001b[0m\u001b[0;34m=\u001b[0m\u001b[0;32mTrue\u001b[0m\u001b[0;34m)\u001b[0m\u001b[0;34m\u001b[0m\u001b[0;34m\u001b[0m\u001b[0m\n\u001b[0;32m-> 2436\u001b[0;31m                     for _ in runner.tick(\n\u001b[0m\u001b[1;32m   2437\u001b[0m                         \u001b[0;34m[\u001b[0m\u001b[0mt\u001b[0m \u001b[0;32mfor\u001b[0m \u001b[0mt\u001b[0m \u001b[0;32min\u001b[0m \u001b[0mloop\u001b[0m\u001b[0;34m.\u001b[0m\u001b[0mtasks\u001b[0m\u001b[0;34m.\u001b[0m\u001b[0mvalues\u001b[0m\u001b[0;34m(\u001b[0m\u001b[0;34m)\u001b[0m \u001b[0;32mif\u001b[0m \u001b[0;32mnot\u001b[0m \u001b[0mt\u001b[0m\u001b[0;34m.\u001b[0m\u001b[0mwrites\u001b[0m\u001b[0;34m]\u001b[0m\u001b[0;34m,\u001b[0m\u001b[0;34m\u001b[0m\u001b[0;34m\u001b[0m\u001b[0m\n\u001b[1;32m   2438\u001b[0m                         \u001b[0mtimeout\u001b[0m\u001b[0;34m=\u001b[0m\u001b[0mself\u001b[0m\u001b[0;34m.\u001b[0m\u001b[0mstep_timeout\u001b[0m\u001b[0;34m,\u001b[0m\u001b[0;34m\u001b[0m\u001b[0;34m\u001b[0m\u001b[0m\n",
            "\u001b[0;32m/usr/local/lib/python3.11/dist-packages/langgraph/prebuilt/chat_agent_executor.py\u001b[0m in \u001b[0;36mcall_model\u001b[0;34m(state, config)\u001b[0m\n\u001b[1;32m    502\u001b[0m     \u001b[0;31m# Define the function that calls the model\u001b[0m\u001b[0;34m\u001b[0m\u001b[0;34m\u001b[0m\u001b[0m\n\u001b[1;32m    503\u001b[0m     \u001b[0;32mdef\u001b[0m \u001b[0mcall_model\u001b[0m\u001b[0;34m(\u001b[0m\u001b[0mstate\u001b[0m\u001b[0;34m:\u001b[0m \u001b[0mStateSchema\u001b[0m\u001b[0;34m,\u001b[0m \u001b[0mconfig\u001b[0m\u001b[0;34m:\u001b[0m \u001b[0mRunnableConfig\u001b[0m\u001b[0;34m)\u001b[0m \u001b[0;34m->\u001b[0m \u001b[0mStateSchema\u001b[0m\u001b[0;34m:\u001b[0m\u001b[0;34m\u001b[0m\u001b[0;34m\u001b[0m\u001b[0m\n\u001b[0;32m--> 504\u001b[0;31m         \u001b[0mstate\u001b[0m \u001b[0;34m=\u001b[0m \u001b[0m_get_model_input_state\u001b[0m\u001b[0;34m(\u001b[0m\u001b[0mstate\u001b[0m\u001b[0;34m)\u001b[0m\u001b[0;34m\u001b[0m\u001b[0;34m\u001b[0m\u001b[0m\n\u001b[0m\u001b[1;32m    505\u001b[0m         \u001b[0mresponse\u001b[0m \u001b[0;34m=\u001b[0m \u001b[0mcast\u001b[0m\u001b[0;34m(\u001b[0m\u001b[0mAIMessage\u001b[0m\u001b[0;34m,\u001b[0m \u001b[0mmodel_runnable\u001b[0m\u001b[0;34m.\u001b[0m\u001b[0minvoke\u001b[0m\u001b[0;34m(\u001b[0m\u001b[0mstate\u001b[0m\u001b[0;34m,\u001b[0m \u001b[0mconfig\u001b[0m\u001b[0;34m)\u001b[0m\u001b[0;34m)\u001b[0m\u001b[0;34m\u001b[0m\u001b[0;34m\u001b[0m\u001b[0m\n\u001b[1;32m    506\u001b[0m         \u001b[0;31m# add agent name to the AIMessage\u001b[0m\u001b[0;34m\u001b[0m\u001b[0;34m\u001b[0m\u001b[0m\n",
            "\u001b[0;32m/usr/local/lib/python3.11/dist-packages/langgraph/prebuilt/chat_agent_executor.py\u001b[0m in \u001b[0;36m_get_model_input_state\u001b[0;34m(state)\u001b[0m\n\u001b[1;32m    491\u001b[0m             \u001b[0;32mraise\u001b[0m \u001b[0mValueError\u001b[0m\u001b[0;34m(\u001b[0m\u001b[0merror_msg\u001b[0m\u001b[0;34m)\u001b[0m\u001b[0;34m\u001b[0m\u001b[0;34m\u001b[0m\u001b[0m\n\u001b[1;32m    492\u001b[0m \u001b[0;34m\u001b[0m\u001b[0m\n\u001b[0;32m--> 493\u001b[0;31m         \u001b[0m_validate_chat_history\u001b[0m\u001b[0;34m(\u001b[0m\u001b[0mmessages\u001b[0m\u001b[0;34m)\u001b[0m\u001b[0;34m\u001b[0m\u001b[0;34m\u001b[0m\u001b[0m\n\u001b[0m\u001b[1;32m    494\u001b[0m         \u001b[0;31m# we're passing messages under `messages` key, as this is expected by the prompt\u001b[0m\u001b[0;34m\u001b[0m\u001b[0;34m\u001b[0m\u001b[0m\n\u001b[1;32m    495\u001b[0m         \u001b[0;32mif\u001b[0m \u001b[0misinstance\u001b[0m\u001b[0;34m(\u001b[0m\u001b[0mstate_schema\u001b[0m\u001b[0;34m,\u001b[0m \u001b[0mtype\u001b[0m\u001b[0;34m)\u001b[0m \u001b[0;32mand\u001b[0m \u001b[0missubclass\u001b[0m\u001b[0;34m(\u001b[0m\u001b[0mstate_schema\u001b[0m\u001b[0;34m,\u001b[0m \u001b[0mBaseModel\u001b[0m\u001b[0;34m)\u001b[0m\u001b[0;34m:\u001b[0m\u001b[0;34m\u001b[0m\u001b[0;34m\u001b[0m\u001b[0m\n",
            "\u001b[0;32m/usr/local/lib/python3.11/dist-packages/langgraph/prebuilt/chat_agent_executor.py\u001b[0m in \u001b[0;36m_validate_chat_history\u001b[0;34m(messages)\u001b[0m\n\u001b[1;32m    236\u001b[0m         \u001b[0merror_code\u001b[0m\u001b[0;34m=\u001b[0m\u001b[0mErrorCode\u001b[0m\u001b[0;34m.\u001b[0m\u001b[0mINVALID_CHAT_HISTORY\u001b[0m\u001b[0;34m,\u001b[0m\u001b[0;34m\u001b[0m\u001b[0;34m\u001b[0m\u001b[0m\n\u001b[1;32m    237\u001b[0m     )\n\u001b[0;32m--> 238\u001b[0;31m     \u001b[0;32mraise\u001b[0m \u001b[0mValueError\u001b[0m\u001b[0;34m(\u001b[0m\u001b[0merror_message\u001b[0m\u001b[0;34m)\u001b[0m\u001b[0;34m\u001b[0m\u001b[0;34m\u001b[0m\u001b[0m\n\u001b[0m\u001b[1;32m    239\u001b[0m \u001b[0;34m\u001b[0m\u001b[0m\n\u001b[1;32m    240\u001b[0m \u001b[0;34m\u001b[0m\u001b[0m\n",
            "\u001b[0;31mValueError\u001b[0m: Found AIMessages with tool_calls that do not have a corresponding ToolMessage. Here are the first few of those tool calls: [{'name': 'get_albums_by_artist', 'args': {'artist': 'U2'}, 'id': 'call_ShF7sEZUniEIdXNCuIbrOHQ9', 'type': 'tool_call'}].\n\nEvery tool call (LLM requesting to call a tool) in the message history MUST have a corresponding ToolMessage (result of a tool invocation to return to the LLM) - this is required by most LLM providers.\nFor troubleshooting, visit: https://python.langchain.com/docs/troubleshooting/errors/INVALID_CHAT_HISTORY"
          ]
        }
      ]
    },
    {
      "cell_type": "markdown",
      "source": [
        "**There is a lot happening around, which is great our multi agent is having a very detailed conversation with our user. Let’s understand this.**\n",
        "\n",
        "**In this example, the user asks a question involving both invoice details and music catalog data. Here’s what happens:**\n",
        "\n",
        "* **The supervisor receives the query.**\n",
        "* **It detects the invoice-related part (“most recent purchase”) and sends it to the invoice_information_subagent.**\n",
        "* **The invoice sub-agent processes that part, fetches the invoice, but can’t answer the U2 albums question, so it hands control back to the supervisor.**\n",
        "* **The supervisor then routes the remaining music query to the music_catalog_subagent.**\n",
        "* **The music sub-agent retrieves the U2 albums info and returns control to the supervisor.**\n",
        "* **The supervisor wraps up, having coordinated both sub-agents to fully answer the user’s multi-part question.**"
      ],
      "metadata": {
        "id": "UTBbEiERPuS8"
      }
    },
    {
      "cell_type": "markdown",
      "source": [
        "## **Adding Human-in-the-loop**"
      ],
      "metadata": {
        "id": "6zgkEhRRP-EE"
      }
    },
    {
      "cell_type": "markdown",
      "source": [
        "**So far we have built a multi-agent system that routes custom queries to specialized sub-agents. However, in real world customer support scenarios, we don't always have customer_id readily available**\n",
        "\n",
        "**Before allowing an agent to access sensitive information like invoice history, we typically need to verify the customer's identity**\n",
        "\n",
        "<img src = \"https://camo.githubusercontent.com/566ee23a242312e7a55da9215d447a75e2a006225e616bfc64326fd1bf540ad2/68747470733a2f2f6d69726f2e6d656469756d2e636f6d2f76322f726573697a653a6669743a313130302f666f726d61743a776562702f312a68444b736530704d6b663935526638345479514141512e706e67\"/>"
      ],
      "metadata": {
        "id": "l-VGSS8QQNro"
      }
    },
    {
      "cell_type": "markdown",
      "source": [
        "**In this step, we will enhance our workflow by adding a customer verification layer. This will involve a human-in-the-loop component, where the system might pause and prompt the customer to provide their account information if it’s missing or unverified.**\n",
        "\n",
        "**To implement this, we introduce two new nodes:**\n",
        "\n",
        "* **`verify_info node` attempts to extract and verify customer identification (ID, email, or phone) from the user input using our database.**\n",
        "* **`human_input node` is triggered if verification fails. It pauses the graph and prompts the user for the missing information. This is easily handled using LangGraph interrupt() feature.**\n",
        "\n",
        "**First, let’s define a Pydantic schema for parsing user input and a system prompt for an LLM to extract this information reliably.**"
      ],
      "metadata": {
        "id": "aUfTjyOHQqmu"
      }
    },
    {
      "cell_type": "code",
      "source": [
        "from pydantic import BaseModel, Field"
      ],
      "metadata": {
        "id": "dGkDbU6sL0iN"
      },
      "execution_count": null,
      "outputs": []
    },
    {
      "cell_type": "code",
      "source": [
        "class UserInput(BaseModel):\n",
        "  \"\"\"Schema for parsing user-provided account information\"\"\"\n",
        "\n",
        "  identifier: str = Field(description=\"Identifier, which can be customer ID, email or phone number\")\n",
        "\n",
        "structured_llm = llm.with_structured_output(schema = UserInput)\n",
        "\n",
        "structured_system_prompt = \"\"\"You are a customer service representative responsible for extracting customer identifier.\n",
        "Only extract the customer's account information from the message history.\n",
        "If they haven't provided the information yet, return an empty string for the identifier.\"\"\""
      ],
      "metadata": {
        "id": "Uap9H2L_Q6xI"
      },
      "execution_count": null,
      "outputs": []
    },
    {
      "cell_type": "markdown",
      "source": [
        "**The `UserInput` Pydantic model defines the expected data as a single identifier.**\n",
        "\n",
        "**We use `with_structured_output()` to make the LLM return JSON in this format. A system prompt helps the LLM focus only on extracting the identifier.**"
      ],
      "metadata": {
        "id": "_zW8fW3DS1ll"
      }
    },
    {
      "cell_type": "markdown",
      "source": [
        "**Next, we need a helper function to take the extracted identifier (which could be a customer ID, phone number, or email) and look it up in our Chinook database to retrieve the actual `customer_id`.**"
      ],
      "metadata": {
        "id": "nQjhMCp6S74a"
      }
    },
    {
      "cell_type": "code",
      "source": [
        "from typing import Optional"
      ],
      "metadata": {
        "id": "dzgwZTepR77e"
      },
      "execution_count": null,
      "outputs": []
    },
    {
      "cell_type": "code",
      "source": [
        "def get_customer_id_from_identifier(identifier: str) -> Optional[int]:\n",
        "  \"\"\"\n",
        "  Retrieve customer ID using an identifier, which can be customer Id, email, or phone number.\n",
        "\n",
        "  This function supports three types of identifiers:\n",
        "  1. Direct Customer ID (Numeric String)\n",
        "  2. Phone Number (starts with '+')\n",
        "  3. Email Address (contains '@')\n",
        "\n",
        "   Args:\n",
        "        identifier (str): The identifier can be customer ID, email, or phone number.\n",
        "\n",
        "    Returns:\n",
        "        Optional[int]: The CustomerId if found, otherwise None.\n",
        "  \"\"\"\n",
        "  # Check if identifier is a direct customer ID (numeric)\n",
        "  if identifier.isdigit():\n",
        "    return int(identifier)\n",
        "\n",
        "  # Check if identifier is a phone number (starts with '+')\n",
        "  elif identifier[0] == \"+\":\n",
        "    query = f\"SELECT CustomerId FROM Customer WHERE Phone = '{identifier}';\"\n",
        "    result = db.run(query)\n",
        "    formatted_result = ast.literal_eval(result)\n",
        "    if formatted_result:\n",
        "      return formatted_result[0][0]\n",
        "\n",
        "  # Check if identifier is an email address (contain '@')\n",
        "  elif \"@\" in identifier:\n",
        "    query = f\"SELECT CustomerId FROM Customer WHERE Email = '{identifier}';\"\n",
        "    resp = db.run(query)\n",
        "    formatted_result = ast.literal_eval(resp)\n",
        "    if formatted_result:\n",
        "      return formatted_result[0][0]\n",
        "\n",
        "  # If no match is found then\n",
        "  return None"
      ],
      "metadata": {
        "id": "EpB5RWmRTAPM"
      },
      "execution_count": null,
      "outputs": []
    },
    {
      "cell_type": "markdown",
      "source": [
        "**This utility function tries to interpret the provided identifier as a customer ID, phone number, or email, then queries the database to find the corresponding numeric `CustomerId`.**\n",
        "\n",
        "**Now, we define our `verify_info` node. This node orchestrates the identifier extraction and verification process.**"
      ],
      "metadata": {
        "id": "3MfcnJFWUiec"
      }
    },
    {
      "cell_type": "code",
      "source": [
        "def verify_info(state: State, config: RunnableConfig):\n",
        "    \"\"\"\n",
        "    Verify the customer's account by parsing their input and matching it with the database.\n",
        "\n",
        "    This node handles customer identity verification as the first step in the support process.\n",
        "    It extracts customer identifiers (ID, email, or phone) from user messages and validates\n",
        "    them against the database.\n",
        "\n",
        "    Args:\n",
        "        state (State): Current state containing messages and potentially customer_id\n",
        "        config (RunnableConfig): Configuration for the runnable execution\n",
        "\n",
        "    Returns:\n",
        "        dict: Updated state with customer_id if verified, or request for more info\n",
        "    \"\"\"\n",
        "    # Only verify if customer_id is not already set\n",
        "    if state.get(\"customer_id\") is None:\n",
        "        # System instructions for prompting customer verification\n",
        "        system_instructions = \"\"\"You are a music store agent, where you are trying to verify the customer identity\n",
        "        as the first step of the customer support process.\n",
        "        Only after their account is verified, you would be able to support them on resolving the issue.\n",
        "        In order to verify their identity, one of their customer ID, email, or phone number needs to be provided.\n",
        "        If the customer has not provided the information yet, please ask them for it.\n",
        "        If they have provided the identifier but cannot be found, please ask them to revise it.\"\"\"\n",
        "\n",
        "        # Get the most recent user message\n",
        "        user_input = state[\"messages\"][-1]\n",
        "\n",
        "        # Use structured LLM to parse customer identifier from the message\n",
        "        parsed_info = structured_llm.invoke([SystemMessage(content=structured_system_prompt)] + [user_input])\n",
        "\n",
        "        # Extract the identifier from parsed response\n",
        "        identifier = parsed_info.identifier\n",
        "\n",
        "        # Initialize customer_id as empty\n",
        "        customer_id = \"\"\n",
        "\n",
        "        # Attempt to find the customer ID using the provided identifier\n",
        "        if (identifier):\n",
        "            customer_id = get_customer_id_from_identifier(identifier)\n",
        "\n",
        "        # If customer found, confirm verification and set customer_id in state\n",
        "        if customer_id != \"\":\n",
        "            intent_message = SystemMessage(\n",
        "                content= f\"Thank you for providing your information! I was able to verify your account with customer id {customer_id}.\"\n",
        "            )\n",
        "            return {\n",
        "                  \"customer_id\": customer_id,\n",
        "                  \"messages\" : [intent_message]\n",
        "                  }\n",
        "        else:\n",
        "            # If customer not found, ask for correct information\n",
        "            response = llm.invoke([SystemMessage(content=system_instructions)]+state['messages'])\n",
        "            return {\"messages\": [response]}\n",
        "\n",
        "    else:\n",
        "        # Customer already verified, no action needed\n",
        "        pass"
      ],
      "metadata": {
        "id": "F1pEL0z8UWYT"
      },
      "execution_count": null,
      "outputs": []
    },
    {
      "cell_type": "markdown",
      "source": [
        "**So this `verify_info` node first checks if `customer_id` is already in the State. If not, it uses the `structured_llm` to extract an identifier from user_input and validates it with `get_customer_id_from_identifier`.**\n",
        "\n",
        "**If valid, it updates the State and confirms with a message. If not, it uses the main LLM and system instructions to politely ask the user for their info.**\n",
        "\n",
        "**Now, let’s create our `human_input` node. This node acts as a placeholder that triggers interrupt() in the graph, pausing execution to wait for user input. This is important for human-in-the-loop interactions, allowing the agent to directly request missing information**"
      ],
      "metadata": {
        "id": "FuNVgBXlZfhv"
      }
    },
    {
      "cell_type": "code",
      "source": [
        "from langgraph.types import interrupt"
      ],
      "metadata": {
        "id": "CITzczhvZYuK"
      },
      "execution_count": null,
      "outputs": []
    },
    {
      "cell_type": "code",
      "source": [
        "def human_input(state: State, config: RunnableConfig):\n",
        "  \"\"\"\n",
        "  Human in-the-loop node that interrupt the workflow to request user input\n",
        "\n",
        "  This node creates a interrupting point in the workflow, allowing the system\n",
        "  to pause and wait for human input before continuing. It's typically used for\n",
        "  customer verification or when additional information is needed.\n",
        "\n",
        "  Args:\n",
        "    state (State): Current state containting message and workflow data\n",
        "\n",
        "  Returns:\n",
        "    dict: Updated State with the user's input message\n",
        "  \"\"\"\n",
        "\n",
        "  # Interrupt the workflow and prompt for user input\n",
        "  user_input = interrupt(\"Please provide input: \")\n",
        "\n",
        "  # Return the user input as new message in the state\n",
        "  return {\"messages\": [user_input]}"
      ],
      "metadata": {
        "id": "AHfj3pyjaA5U"
      },
      "execution_count": null,
      "outputs": []
    },
    {
      "cell_type": "markdown",
      "source": [
        "**The `interrupt()` function is a powerful Langgraph feature. When executed it, pauses the graph's execution and signals that human intervention is required.**\n",
        "\n",
        "**The `run_graph` function (which we will update later for evaluation) will need to handle this interrupt by providing new input to resume the graph**\n",
        "\n",
        "**Now, we need to just put these all together. We need to define a new conditional edge (`should_interrup`) that routes to the `human_input` node if the `customer_id` is not yet verified**\n",
        "\n",
        "**Otherwise, it allows the flow to continue to the main supervisor agent**"
      ],
      "metadata": {
        "id": "Qb8to3mIbH5z"
      }
    },
    {
      "cell_type": "code",
      "source": [
        "def should_interrupt(state: State, config: RunnableConfig):\n",
        "  \"\"\"\n",
        "  Determine whether the workflow should interrupt and ask for human input\n",
        "\n",
        "  If the customer_is is present in the state (meaning verification is complete),\n",
        "  the workflow comtinues. Otherwise, it interrupts to get human input for verification\n",
        "  \"\"\"\n",
        "  if state.get(\"customer_id\") is not None:\n",
        "    return \"continue\"\n",
        "  else:\n",
        "    return \"interrupt\""
      ],
      "metadata": {
        "id": "mgejF8VXbG3u"
      },
      "execution_count": null,
      "outputs": []
    },
    {
      "cell_type": "markdown",
      "source": [
        "**Now, let's integrate the new nodes & edges into our graph**"
      ],
      "metadata": {
        "id": "D2NxeHQKtMA3"
      }
    },
    {
      "cell_type": "code",
      "source": [
        "# Create new stategraph instance for the multi-agent workflow with verification\n",
        "multi_agent_verify = StateGraph(State)"
      ],
      "metadata": {
        "id": "LoSqjMi1tLgP"
      },
      "execution_count": null,
      "outputs": []
    },
    {
      "cell_type": "code",
      "source": [
        "# Create a new StateGraph instance for the multi-agent workflow with verification\n",
        "multi_agent_verify = StateGraph(State)\n",
        "\n",
        "# Add new nodes for customer verification and human interaction\n",
        "multi_agent_verify.add_node(\"verify_info\", verify_info)\n",
        "multi_agent_verify.add_node(\"human_input\", human_input)\n",
        "# Add the existing supervisor agent as a node\n",
        "multi_agent_verify.add_node(\"supervisor\", supervisor_prebuilt)\n",
        "\n",
        "# Define the graph's entry point: always start with information verification\n",
        "multi_agent_verify.add_edge(START, \"verify_info\")\n",
        "\n",
        "# Add a conditional edge from verify_info to decide whether to continue or interrupt\n",
        "multi_agent_verify.add_conditional_edges(\n",
        "    \"verify_info\",\n",
        "    should_interrupt, # The function that checks if customer_id is verified\n",
        "    {\n",
        "        \"continue\": \"supervisor\", # If verified, proceed to the supervisor\n",
        "        \"interrupt\": \"human_input\", # If not verified, interrupt for human input\n",
        "    },\n",
        ")\n",
        "# After human input, always loop back to verify_info to re-attempt verification\n",
        "multi_agent_verify.add_edge(\"human_input\", \"verify_info\")\n",
        "# After the supervisor completes its task, the workflow ends\n",
        "multi_agent_verify.add_edge(\"supervisor\", END)\n",
        "\n",
        "# Compile the complete graph with checkpointer and long-term memory store\n",
        "multi_agent_verify_graph = multi_agent_verify.compile(\n",
        "    name=\"multi_agent_verify\",\n",
        "    checkpointer=checkpointer,\n",
        "    store=in_memory_store\n",
        ")\n",
        "\n",
        "# Display the updated graph structure\n",
        "show_graph(multi_agent_verify_graph)"
      ],
      "metadata": {
        "colab": {
          "base_uri": "https://localhost:8080/",
          "height": 374
        },
        "id": "V9l-u8Xw0cFH",
        "outputId": "1f166a4e-c7f3-4047-ec03-651bb9153c02"
      },
      "execution_count": null,
      "outputs": [
        {
          "output_type": "execute_result",
          "data": {
            "image/png": "[encoded data removed]",
            "text/plain": [
              "<IPython.core.display.Image object>"
            ]
          },
          "metadata": {},
          "execution_count": 68
        }
      ]
    },
    {
      "cell_type": "markdown",
      "source": [
        "**The new graph starts at `verify_info`. If verification succeeds, it moves to the supervisor. If not, it routes to `human_input`, which interrupts the flow and waits for user input.**\n",
        "\n",
        "**Once input is provided, it loop back to `verify_info` to try again. The `supervisor` is the final processing step before reaching `END`. This `show_graph` function will visually display this verification loop.**"
      ],
      "metadata": {
        "id": "j_6zgolo4kBJ"
      }
    },
    {
      "cell_type": "markdown",
      "source": [
        "## **Testing the new WorkFlow**"
      ],
      "metadata": {
        "id": "wjH1jtNi4-1-"
      }
    },
    {
      "cell_type": "code",
      "source": [
        "thread_id = uuid.uuid4()\n",
        "\n",
        "question = \"How much is the cost of my most recent purchase?\"\n",
        "\n",
        "config = {\"configurable\": {\"thread_id\": thread_id}}\n",
        "\n",
        "resp = multi_agent_verify_graph.invoke({\n",
        "    \"messages\":[HumanMessage(content=question)]\n",
        "}, config=config)"
      ],
      "metadata": {
        "id": "E_I0u11d4Rr_"
      },
      "execution_count": null,
      "outputs": []
    },
    {
      "cell_type": "code",
      "source": [
        "for message in resp[\"messages\"]:\n",
        "    message.pretty_print()"
      ],
      "metadata": {
        "colab": {
          "base_uri": "https://localhost:8080/"
        },
        "id": "Tgc1PLeB5Qh_",
        "outputId": "6c730829-991e-4945-d7d4-8053861eb132"
      },
      "execution_count": null,
      "outputs": [
        {
          "output_type": "stream",
          "name": "stdout",
          "text": [
            "================================\u001b[1m Human Message \u001b[0m=================================\n",
            "\n",
            "How much is the cost of my most recent purchase?\n",
            "==================================\u001b[1m Ai Message \u001b[0m==================================\n",
            "\n",
            "I can help you with that. To verify your identity and access your purchase history, could you please provide either your customer ID, email address, or phone number?\n"
          ]
        }
      ]
    },
    {
      "cell_type": "markdown",
      "source": [
        "**As expected, the agent will interrupt and ask for your customer ID, email and phone number inorder to verify `customer_id` is initially `None` in the state**\n",
        "\n",
        "**Now, we are about to resume the conversation and provide the agent with the requested information. Langgraph `invoke` method can accept a `Command(resume..)` to pick up from an interrupt**"
      ],
      "metadata": {
        "id": "kLKJdRxy5Y3R"
      }
    },
    {
      "cell_type": "code",
      "source": [
        "from langgraph.types import Command"
      ],
      "metadata": {
        "id": "Yd6U_a3_5SRd"
      },
      "execution_count": null,
      "outputs": []
    },
    {
      "cell_type": "code",
      "source": [
        "# Resuming the conversation from the interrupt\n",
        "question = \"My phone number is +55 (12) 3923-5555\""
      ],
      "metadata": {
        "id": "4tIf6MhK5346"
      },
      "execution_count": null,
      "outputs": []
    },
    {
      "cell_type": "code",
      "source": [
        "resp = multi_agent_verify_graph.invoke(Command(resume = question), config = config)"
      ],
      "metadata": {
        "colab": {
          "base_uri": "https://localhost:8080/"
        },
        "id": "FFjFzo6D6BEk",
        "outputId": "46b6abed-4bc3-415f-ff6d-05a67eef6ad9"
      },
      "execution_count": null,
      "outputs": [
        {
          "output_type": "stream",
          "name": "stdout",
          "text": [
            "2025-06-17 05:53:29,308 INFO sqlalchemy.engine.Engine BEGIN (implicit)\n"
          ]
        },
        {
          "output_type": "stream",
          "name": "stderr",
          "text": [
            "INFO:sqlalchemy.engine.Engine:BEGIN (implicit)\n"
          ]
        },
        {
          "output_type": "stream",
          "name": "stdout",
          "text": [
            "2025-06-17 05:53:29,311 INFO sqlalchemy.engine.Engine SELECT CustomerId FROM Customer WHERE Phone = '+55 (12) 3923-5555';\n"
          ]
        },
        {
          "output_type": "stream",
          "name": "stderr",
          "text": [
            "INFO:sqlalchemy.engine.Engine:SELECT CustomerId FROM Customer WHERE Phone = '+55 (12) 3923-5555';\n"
          ]
        },
        {
          "output_type": "stream",
          "name": "stdout",
          "text": [
            "2025-06-17 05:53:29,313 INFO sqlalchemy.engine.Engine [generated in 0.00191s] ()\n"
          ]
        },
        {
          "output_type": "stream",
          "name": "stderr",
          "text": [
            "INFO:sqlalchemy.engine.Engine:[generated in 0.00191s] ()\n"
          ]
        },
        {
          "output_type": "stream",
          "name": "stdout",
          "text": [
            "2025-06-17 05:53:29,315 INFO sqlalchemy.engine.Engine COMMIT\n"
          ]
        },
        {
          "output_type": "stream",
          "name": "stderr",
          "text": [
            "INFO:sqlalchemy.engine.Engine:COMMIT\n"
          ]
        },
        {
          "output_type": "stream",
          "name": "stdout",
          "text": [
            "2025-06-17 05:53:30,042 INFO sqlalchemy.engine.Engine BEGIN (implicit)\n"
          ]
        },
        {
          "output_type": "stream",
          "name": "stderr",
          "text": [
            "INFO:sqlalchemy.engine.Engine:BEGIN (implicit)\n"
          ]
        },
        {
          "output_type": "stream",
          "name": "stdout",
          "text": [
            "2025-06-17 05:53:30,045 INFO sqlalchemy.engine.Engine \n",
            "      SELECT * FROM Invoice\n",
            "      WHERE CustomerId = 1\n",
            "      ORDER BY InvoiceDate DESC;\n",
            "      \n"
          ]
        },
        {
          "output_type": "stream",
          "name": "stderr",
          "text": [
            "INFO:sqlalchemy.engine.Engine:\n",
            "      SELECT * FROM Invoice\n",
            "      WHERE CustomerId = 1\n",
            "      ORDER BY InvoiceDate DESC;\n",
            "      \n"
          ]
        },
        {
          "output_type": "stream",
          "name": "stdout",
          "text": [
            "2025-06-17 05:53:30,047 INFO sqlalchemy.engine.Engine [cached since 107.5s ago] ()\n"
          ]
        },
        {
          "output_type": "stream",
          "name": "stderr",
          "text": [
            "INFO:sqlalchemy.engine.Engine:[cached since 107.5s ago] ()\n"
          ]
        },
        {
          "output_type": "stream",
          "name": "stdout",
          "text": [
            "2025-06-17 05:53:30,050 INFO sqlalchemy.engine.Engine COMMIT\n"
          ]
        },
        {
          "output_type": "stream",
          "name": "stderr",
          "text": [
            "INFO:sqlalchemy.engine.Engine:COMMIT\n"
          ]
        }
      ]
    },
    {
      "cell_type": "code",
      "source": [
        "for x in resp[\"messages\"]:\n",
        "  x.pretty_print()"
      ],
      "metadata": {
        "colab": {
          "base_uri": "https://localhost:8080/"
        },
        "id": "ZW_IURJc6Pf5",
        "outputId": "8e39488b-3d06-4621-f7e9-f15323bec027"
      },
      "execution_count": null,
      "outputs": [
        {
          "output_type": "stream",
          "name": "stdout",
          "text": [
            "================================\u001b[1m Human Message \u001b[0m=================================\n",
            "\n",
            "How much is the cost of my most recent purchase?\n",
            "==================================\u001b[1m Ai Message \u001b[0m==================================\n",
            "\n",
            "I can help you with that. To verify your identity and access your purchase history, could you please provide either your customer ID, email address, or phone number?\n",
            "================================\u001b[1m Human Message \u001b[0m=================================\n",
            "\n",
            "My phone number is +55 (12) 3923-5555\n",
            "================================\u001b[1m System Message \u001b[0m================================\n",
            "\n",
            "Thank you for providing your information! I was able to verify your account with customer id 1.\n",
            "==================================\u001b[1m Ai Message \u001b[0m==================================\n",
            "Name: supervisor\n",
            "Tool Calls:\n",
            "  transfer_to_invoice_information_subagent (call_FS066O64C0ztOSwo0juyWsNl)\n",
            " Call ID: call_FS066O64C0ztOSwo0juyWsNl\n",
            "  Args:\n",
            "=================================\u001b[1m Tool Message \u001b[0m=================================\n",
            "Name: transfer_to_invoice_information_subagent\n",
            "\n",
            "Successfully transferred to invoice_information_subagent\n",
            "==================================\u001b[1m Ai Message \u001b[0m==================================\n",
            "Name: invoice_information_subagent\n",
            "\n",
            "Your most recent purchase was on August 7, 2025, and the total cost was $8.91. Would you like any additional information or assistance?\n",
            "==================================\u001b[1m Ai Message \u001b[0m==================================\n",
            "Name: invoice_information_subagent\n",
            "\n",
            "Transferring back to supervisor\n",
            "Tool Calls:\n",
            "  transfer_back_to_supervisor (632530a2-312c-4ab5-8709-2e7927799f14)\n",
            " Call ID: 632530a2-312c-4ab5-8709-2e7927799f14\n",
            "  Args:\n",
            "=================================\u001b[1m Tool Message \u001b[0m=================================\n",
            "Name: transfer_back_to_supervisor\n",
            "\n",
            "Successfully transferred back to supervisor\n",
            "==================================\u001b[1m Ai Message \u001b[0m==================================\n",
            "Name: supervisor\n",
            "\n",
            "Your most recent purchase was on August 7, 2025, and the total cost was $8.91. Is there anything else I can assist you with?\n"
          ]
        }
      ]
    },
    {
      "cell_type": "markdown",
      "source": [
        "**As seen, we have provided the user information and then the agents used the `verify_info node` to verify the information. This will confirm the verfication of the user and then further down the road we can route the request to `supervisor`**"
      ],
      "metadata": {
        "id": "4fizKFqXXBx_"
      }
    },
    {
      "cell_type": "code",
      "source": [
        "question = \"What albums do you have by the Rolling Stones?\"\n",
        "result = multi_agent_verify_graph.invoke({\"messages\": [HumanMessage(content=question)]}, config=config)\n",
        "for message in result[\"messages\"]:\n",
        "    message.pretty_print()"
      ],
      "metadata": {
        "id": "6OpyousZ6U2x",
        "colab": {
          "base_uri": "https://localhost:8080/",
          "height": 425
        },
        "outputId": "6e49d7a0-2e6b-4114-a32a-8a12bfb6905c"
      },
      "execution_count": null,
      "outputs": [
        {
          "output_type": "error",
          "ename": "ValueError",
          "evalue": "Found AIMessages with tool_calls that do not have a corresponding ToolMessage. Here are the first few of those tool calls: [{'name': 'get_albums_by_artist', 'args': {'artist': 'The Rolling Stones'}, 'id': 'call_6ixZqSXOoUh3LqBU0iJ3ypEU', 'type': 'tool_call'}].\n\nEvery tool call (LLM requesting to call a tool) in the message history MUST have a corresponding ToolMessage (result of a tool invocation to return to the LLM) - this is required by most LLM providers.\nFor troubleshooting, visit: https://python.langchain.com/docs/troubleshooting/errors/INVALID_CHAT_HISTORY",
          "traceback": [
            "\u001b[0;31m---------------------------------------------------------------------------\u001b[0m",
            "\u001b[0;31mValueError\u001b[0m                                Traceback (most recent call last)",
            "\u001b[0;32m<ipython-input-75-591413184>\u001b[0m in \u001b[0;36m<cell line: 0>\u001b[0;34m()\u001b[0m\n\u001b[1;32m      1\u001b[0m \u001b[0mquestion\u001b[0m \u001b[0;34m=\u001b[0m \u001b[0;34m\"What albums do you have by the Rolling Stones?\"\u001b[0m\u001b[0;34m\u001b[0m\u001b[0;34m\u001b[0m\u001b[0m\n\u001b[0;32m----> 2\u001b[0;31m \u001b[0mresult\u001b[0m \u001b[0;34m=\u001b[0m \u001b[0mmulti_agent_verify_graph\u001b[0m\u001b[0;34m.\u001b[0m\u001b[0minvoke\u001b[0m\u001b[0;34m(\u001b[0m\u001b[0;34m{\u001b[0m\u001b[0;34m\"messages\"\u001b[0m\u001b[0;34m:\u001b[0m \u001b[0;34m[\u001b[0m\u001b[0mHumanMessage\u001b[0m\u001b[0;34m(\u001b[0m\u001b[0mcontent\u001b[0m\u001b[0;34m=\u001b[0m\u001b[0mquestion\u001b[0m\u001b[0;34m)\u001b[0m\u001b[0;34m]\u001b[0m\u001b[0;34m}\u001b[0m\u001b[0;34m,\u001b[0m \u001b[0mconfig\u001b[0m\u001b[0;34m=\u001b[0m\u001b[0mconfig\u001b[0m\u001b[0;34m)\u001b[0m\u001b[0;34m\u001b[0m\u001b[0;34m\u001b[0m\u001b[0m\n\u001b[0m\u001b[1;32m      3\u001b[0m \u001b[0;32mfor\u001b[0m \u001b[0mmessage\u001b[0m \u001b[0;32min\u001b[0m \u001b[0mresult\u001b[0m\u001b[0;34m[\u001b[0m\u001b[0;34m\"messages\"\u001b[0m\u001b[0;34m]\u001b[0m\u001b[0;34m:\u001b[0m\u001b[0;34m\u001b[0m\u001b[0;34m\u001b[0m\u001b[0m\n\u001b[1;32m      4\u001b[0m     \u001b[0mmessage\u001b[0m\u001b[0;34m.\u001b[0m\u001b[0mpretty_print\u001b[0m\u001b[0;34m(\u001b[0m\u001b[0;34m)\u001b[0m\u001b[0;34m\u001b[0m\u001b[0;34m\u001b[0m\u001b[0m\n",
            "\u001b[0;32m/usr/local/lib/python3.11/dist-packages/langgraph/pregel/__init__.py\u001b[0m in \u001b[0;36minvoke\u001b[0;34m(self, input, config, stream_mode, output_keys, interrupt_before, interrupt_after, checkpoint_during, debug, **kwargs)\u001b[0m\n\u001b[1;32m   2717\u001b[0m         \u001b[0minterrupts\u001b[0m\u001b[0;34m:\u001b[0m \u001b[0mlist\u001b[0m\u001b[0;34m[\u001b[0m\u001b[0mInterrupt\u001b[0m\u001b[0;34m]\u001b[0m \u001b[0;34m=\u001b[0m \u001b[0;34m[\u001b[0m\u001b[0;34m]\u001b[0m\u001b[0;34m\u001b[0m\u001b[0;34m\u001b[0m\u001b[0m\n\u001b[1;32m   2718\u001b[0m \u001b[0;34m\u001b[0m\u001b[0m\n\u001b[0;32m-> 2719\u001b[0;31m         for chunk in self.stream(\n\u001b[0m\u001b[1;32m   2720\u001b[0m             \u001b[0minput\u001b[0m\u001b[0;34m,\u001b[0m\u001b[0;34m\u001b[0m\u001b[0;34m\u001b[0m\u001b[0m\n\u001b[1;32m   2721\u001b[0m             \u001b[0mconfig\u001b[0m\u001b[0;34m,\u001b[0m\u001b[0;34m\u001b[0m\u001b[0;34m\u001b[0m\u001b[0m\n",
            "\u001b[0;32m/usr/local/lib/python3.11/dist-packages/langgraph/pregel/__init__.py\u001b[0m in \u001b[0;36mstream\u001b[0;34m(self, input, config, stream_mode, output_keys, interrupt_before, interrupt_after, checkpoint_during, debug, subgraphs)\u001b[0m\n\u001b[1;32m   2434\u001b[0m                     \u001b[0;32mfor\u001b[0m \u001b[0mtask\u001b[0m \u001b[0;32min\u001b[0m \u001b[0mloop\u001b[0m\u001b[0;34m.\u001b[0m\u001b[0mmatch_cached_writes\u001b[0m\u001b[0;34m(\u001b[0m\u001b[0;34m)\u001b[0m\u001b[0;34m:\u001b[0m\u001b[0;34m\u001b[0m\u001b[0;34m\u001b[0m\u001b[0m\n\u001b[1;32m   2435\u001b[0m                         \u001b[0mloop\u001b[0m\u001b[0;34m.\u001b[0m\u001b[0moutput_writes\u001b[0m\u001b[0;34m(\u001b[0m\u001b[0mtask\u001b[0m\u001b[0;34m.\u001b[0m\u001b[0mid\u001b[0m\u001b[0;34m,\u001b[0m \u001b[0mtask\u001b[0m\u001b[0;34m.\u001b[0m\u001b[0mwrites\u001b[0m\u001b[0;34m,\u001b[0m \u001b[0mcached\u001b[0m\u001b[0;34m=\u001b[0m\u001b[0;32mTrue\u001b[0m\u001b[0;34m)\u001b[0m\u001b[0;34m\u001b[0m\u001b[0;34m\u001b[0m\u001b[0m\n\u001b[0;32m-> 2436\u001b[0;31m                     for _ in runner.tick(\n\u001b[0m\u001b[1;32m   2437\u001b[0m                         \u001b[0;34m[\u001b[0m\u001b[0mt\u001b[0m \u001b[0;32mfor\u001b[0m \u001b[0mt\u001b[0m \u001b[0;32min\u001b[0m \u001b[0mloop\u001b[0m\u001b[0;34m.\u001b[0m\u001b[0mtasks\u001b[0m\u001b[0;34m.\u001b[0m\u001b[0mvalues\u001b[0m\u001b[0;34m(\u001b[0m\u001b[0;34m)\u001b[0m \u001b[0;32mif\u001b[0m \u001b[0;32mnot\u001b[0m \u001b[0mt\u001b[0m\u001b[0;34m.\u001b[0m\u001b[0mwrites\u001b[0m\u001b[0;34m]\u001b[0m\u001b[0;34m,\u001b[0m\u001b[0;34m\u001b[0m\u001b[0;34m\u001b[0m\u001b[0m\n\u001b[1;32m   2438\u001b[0m                         \u001b[0mtimeout\u001b[0m\u001b[0;34m=\u001b[0m\u001b[0mself\u001b[0m\u001b[0;34m.\u001b[0m\u001b[0mstep_timeout\u001b[0m\u001b[0;34m,\u001b[0m\u001b[0;34m\u001b[0m\u001b[0;34m\u001b[0m\u001b[0m\n",
            "\u001b[0;32m/usr/local/lib/python3.11/dist-packages/langgraph/pregel/__init__.py\u001b[0m in \u001b[0;36minvoke\u001b[0;34m(self, input, config, stream_mode, output_keys, interrupt_before, interrupt_after, checkpoint_during, debug, **kwargs)\u001b[0m\n\u001b[1;32m   2717\u001b[0m         \u001b[0minterrupts\u001b[0m\u001b[0;34m:\u001b[0m \u001b[0mlist\u001b[0m\u001b[0;34m[\u001b[0m\u001b[0mInterrupt\u001b[0m\u001b[0;34m]\u001b[0m \u001b[0;34m=\u001b[0m \u001b[0;34m[\u001b[0m\u001b[0;34m]\u001b[0m\u001b[0;34m\u001b[0m\u001b[0;34m\u001b[0m\u001b[0m\n\u001b[1;32m   2718\u001b[0m \u001b[0;34m\u001b[0m\u001b[0m\n\u001b[0;32m-> 2719\u001b[0;31m         for chunk in self.stream(\n\u001b[0m\u001b[1;32m   2720\u001b[0m             \u001b[0minput\u001b[0m\u001b[0;34m,\u001b[0m\u001b[0;34m\u001b[0m\u001b[0;34m\u001b[0m\u001b[0m\n\u001b[1;32m   2721\u001b[0m             \u001b[0mconfig\u001b[0m\u001b[0;34m,\u001b[0m\u001b[0;34m\u001b[0m\u001b[0;34m\u001b[0m\u001b[0m\n",
            "\u001b[0;32m/usr/local/lib/python3.11/dist-packages/langgraph/pregel/__init__.py\u001b[0m in \u001b[0;36mstream\u001b[0;34m(self, input, config, stream_mode, output_keys, interrupt_before, interrupt_after, checkpoint_during, debug, subgraphs)\u001b[0m\n\u001b[1;32m   2434\u001b[0m                     \u001b[0;32mfor\u001b[0m \u001b[0mtask\u001b[0m \u001b[0;32min\u001b[0m \u001b[0mloop\u001b[0m\u001b[0;34m.\u001b[0m\u001b[0mmatch_cached_writes\u001b[0m\u001b[0;34m(\u001b[0m\u001b[0;34m)\u001b[0m\u001b[0;34m:\u001b[0m\u001b[0;34m\u001b[0m\u001b[0;34m\u001b[0m\u001b[0m\n\u001b[1;32m   2435\u001b[0m                         \u001b[0mloop\u001b[0m\u001b[0;34m.\u001b[0m\u001b[0moutput_writes\u001b[0m\u001b[0;34m(\u001b[0m\u001b[0mtask\u001b[0m\u001b[0;34m.\u001b[0m\u001b[0mid\u001b[0m\u001b[0;34m,\u001b[0m \u001b[0mtask\u001b[0m\u001b[0;34m.\u001b[0m\u001b[0mwrites\u001b[0m\u001b[0;34m,\u001b[0m \u001b[0mcached\u001b[0m\u001b[0;34m=\u001b[0m\u001b[0;32mTrue\u001b[0m\u001b[0;34m)\u001b[0m\u001b[0;34m\u001b[0m\u001b[0;34m\u001b[0m\u001b[0m\n\u001b[0;32m-> 2436\u001b[0;31m                     for _ in runner.tick(\n\u001b[0m\u001b[1;32m   2437\u001b[0m                         \u001b[0;34m[\u001b[0m\u001b[0mt\u001b[0m \u001b[0;32mfor\u001b[0m \u001b[0mt\u001b[0m \u001b[0;32min\u001b[0m \u001b[0mloop\u001b[0m\u001b[0;34m.\u001b[0m\u001b[0mtasks\u001b[0m\u001b[0;34m.\u001b[0m\u001b[0mvalues\u001b[0m\u001b[0;34m(\u001b[0m\u001b[0;34m)\u001b[0m \u001b[0;32mif\u001b[0m \u001b[0;32mnot\u001b[0m \u001b[0mt\u001b[0m\u001b[0;34m.\u001b[0m\u001b[0mwrites\u001b[0m\u001b[0;34m]\u001b[0m\u001b[0;34m,\u001b[0m\u001b[0;34m\u001b[0m\u001b[0;34m\u001b[0m\u001b[0m\n\u001b[1;32m   2438\u001b[0m                         \u001b[0mtimeout\u001b[0m\u001b[0;34m=\u001b[0m\u001b[0mself\u001b[0m\u001b[0;34m.\u001b[0m\u001b[0mstep_timeout\u001b[0m\u001b[0;34m,\u001b[0m\u001b[0;34m\u001b[0m\u001b[0;34m\u001b[0m\u001b[0m\n",
            "\u001b[0;32m/usr/local/lib/python3.11/dist-packages/langgraph/pregel/__init__.py\u001b[0m in \u001b[0;36minvoke\u001b[0;34m(self, input, config, stream_mode, output_keys, interrupt_before, interrupt_after, checkpoint_during, debug, **kwargs)\u001b[0m\n\u001b[1;32m   2717\u001b[0m         \u001b[0minterrupts\u001b[0m\u001b[0;34m:\u001b[0m \u001b[0mlist\u001b[0m\u001b[0;34m[\u001b[0m\u001b[0mInterrupt\u001b[0m\u001b[0;34m]\u001b[0m \u001b[0;34m=\u001b[0m \u001b[0;34m[\u001b[0m\u001b[0;34m]\u001b[0m\u001b[0;34m\u001b[0m\u001b[0;34m\u001b[0m\u001b[0m\n\u001b[1;32m   2718\u001b[0m \u001b[0;34m\u001b[0m\u001b[0m\n\u001b[0;32m-> 2719\u001b[0;31m         for chunk in self.stream(\n\u001b[0m\u001b[1;32m   2720\u001b[0m             \u001b[0minput\u001b[0m\u001b[0;34m,\u001b[0m\u001b[0;34m\u001b[0m\u001b[0;34m\u001b[0m\u001b[0m\n\u001b[1;32m   2721\u001b[0m             \u001b[0mconfig\u001b[0m\u001b[0;34m,\u001b[0m\u001b[0;34m\u001b[0m\u001b[0;34m\u001b[0m\u001b[0m\n",
            "\u001b[0;32m/usr/local/lib/python3.11/dist-packages/langgraph/pregel/__init__.py\u001b[0m in \u001b[0;36mstream\u001b[0;34m(self, input, config, stream_mode, output_keys, interrupt_before, interrupt_after, checkpoint_during, debug, subgraphs)\u001b[0m\n\u001b[1;32m   2434\u001b[0m                     \u001b[0;32mfor\u001b[0m \u001b[0mtask\u001b[0m \u001b[0;32min\u001b[0m \u001b[0mloop\u001b[0m\u001b[0;34m.\u001b[0m\u001b[0mmatch_cached_writes\u001b[0m\u001b[0;34m(\u001b[0m\u001b[0;34m)\u001b[0m\u001b[0;34m:\u001b[0m\u001b[0;34m\u001b[0m\u001b[0;34m\u001b[0m\u001b[0m\n\u001b[1;32m   2435\u001b[0m                         \u001b[0mloop\u001b[0m\u001b[0;34m.\u001b[0m\u001b[0moutput_writes\u001b[0m\u001b[0;34m(\u001b[0m\u001b[0mtask\u001b[0m\u001b[0;34m.\u001b[0m\u001b[0mid\u001b[0m\u001b[0;34m,\u001b[0m \u001b[0mtask\u001b[0m\u001b[0;34m.\u001b[0m\u001b[0mwrites\u001b[0m\u001b[0;34m,\u001b[0m \u001b[0mcached\u001b[0m\u001b[0;34m=\u001b[0m\u001b[0;32mTrue\u001b[0m\u001b[0;34m)\u001b[0m\u001b[0;34m\u001b[0m\u001b[0;34m\u001b[0m\u001b[0m\n\u001b[0;32m-> 2436\u001b[0;31m                     for _ in runner.tick(\n\u001b[0m\u001b[1;32m   2437\u001b[0m                         \u001b[0;34m[\u001b[0m\u001b[0mt\u001b[0m \u001b[0;32mfor\u001b[0m \u001b[0mt\u001b[0m \u001b[0;32min\u001b[0m \u001b[0mloop\u001b[0m\u001b[0;34m.\u001b[0m\u001b[0mtasks\u001b[0m\u001b[0;34m.\u001b[0m\u001b[0mvalues\u001b[0m\u001b[0;34m(\u001b[0m\u001b[0;34m)\u001b[0m \u001b[0;32mif\u001b[0m \u001b[0;32mnot\u001b[0m \u001b[0mt\u001b[0m\u001b[0;34m.\u001b[0m\u001b[0mwrites\u001b[0m\u001b[0;34m]\u001b[0m\u001b[0;34m,\u001b[0m\u001b[0;34m\u001b[0m\u001b[0;34m\u001b[0m\u001b[0m\n\u001b[1;32m   2438\u001b[0m                         \u001b[0mtimeout\u001b[0m\u001b[0;34m=\u001b[0m\u001b[0mself\u001b[0m\u001b[0;34m.\u001b[0m\u001b[0mstep_timeout\u001b[0m\u001b[0;34m,\u001b[0m\u001b[0;34m\u001b[0m\u001b[0;34m\u001b[0m\u001b[0m\n",
            "\u001b[0;32m/usr/local/lib/python3.11/dist-packages/langgraph/prebuilt/chat_agent_executor.py\u001b[0m in \u001b[0;36mcall_model\u001b[0;34m(state, config)\u001b[0m\n\u001b[1;32m    502\u001b[0m     \u001b[0;31m# Define the function that calls the model\u001b[0m\u001b[0;34m\u001b[0m\u001b[0;34m\u001b[0m\u001b[0m\n\u001b[1;32m    503\u001b[0m     \u001b[0;32mdef\u001b[0m \u001b[0mcall_model\u001b[0m\u001b[0;34m(\u001b[0m\u001b[0mstate\u001b[0m\u001b[0;34m:\u001b[0m \u001b[0mStateSchema\u001b[0m\u001b[0;34m,\u001b[0m \u001b[0mconfig\u001b[0m\u001b[0;34m:\u001b[0m \u001b[0mRunnableConfig\u001b[0m\u001b[0;34m)\u001b[0m \u001b[0;34m->\u001b[0m \u001b[0mStateSchema\u001b[0m\u001b[0;34m:\u001b[0m\u001b[0;34m\u001b[0m\u001b[0;34m\u001b[0m\u001b[0m\n\u001b[0;32m--> 504\u001b[0;31m         \u001b[0mstate\u001b[0m \u001b[0;34m=\u001b[0m \u001b[0m_get_model_input_state\u001b[0m\u001b[0;34m(\u001b[0m\u001b[0mstate\u001b[0m\u001b[0;34m)\u001b[0m\u001b[0;34m\u001b[0m\u001b[0;34m\u001b[0m\u001b[0m\n\u001b[0m\u001b[1;32m    505\u001b[0m         \u001b[0mresponse\u001b[0m \u001b[0;34m=\u001b[0m \u001b[0mcast\u001b[0m\u001b[0;34m(\u001b[0m\u001b[0mAIMessage\u001b[0m\u001b[0;34m,\u001b[0m \u001b[0mmodel_runnable\u001b[0m\u001b[0;34m.\u001b[0m\u001b[0minvoke\u001b[0m\u001b[0;34m(\u001b[0m\u001b[0mstate\u001b[0m\u001b[0;34m,\u001b[0m \u001b[0mconfig\u001b[0m\u001b[0;34m)\u001b[0m\u001b[0;34m)\u001b[0m\u001b[0;34m\u001b[0m\u001b[0;34m\u001b[0m\u001b[0m\n\u001b[1;32m    506\u001b[0m         \u001b[0;31m# add agent name to the AIMessage\u001b[0m\u001b[0;34m\u001b[0m\u001b[0;34m\u001b[0m\u001b[0m\n",
            "\u001b[0;32m/usr/local/lib/python3.11/dist-packages/langgraph/prebuilt/chat_agent_executor.py\u001b[0m in \u001b[0;36m_get_model_input_state\u001b[0;34m(state)\u001b[0m\n\u001b[1;32m    491\u001b[0m             \u001b[0;32mraise\u001b[0m \u001b[0mValueError\u001b[0m\u001b[0;34m(\u001b[0m\u001b[0merror_msg\u001b[0m\u001b[0;34m)\u001b[0m\u001b[0;34m\u001b[0m\u001b[0;34m\u001b[0m\u001b[0m\n\u001b[1;32m    492\u001b[0m \u001b[0;34m\u001b[0m\u001b[0m\n\u001b[0;32m--> 493\u001b[0;31m         \u001b[0m_validate_chat_history\u001b[0m\u001b[0;34m(\u001b[0m\u001b[0mmessages\u001b[0m\u001b[0;34m)\u001b[0m\u001b[0;34m\u001b[0m\u001b[0;34m\u001b[0m\u001b[0m\n\u001b[0m\u001b[1;32m    494\u001b[0m         \u001b[0;31m# we're passing messages under `messages` key, as this is expected by the prompt\u001b[0m\u001b[0;34m\u001b[0m\u001b[0;34m\u001b[0m\u001b[0m\n\u001b[1;32m    495\u001b[0m         \u001b[0;32mif\u001b[0m \u001b[0misinstance\u001b[0m\u001b[0;34m(\u001b[0m\u001b[0mstate_schema\u001b[0m\u001b[0;34m,\u001b[0m \u001b[0mtype\u001b[0m\u001b[0;34m)\u001b[0m \u001b[0;32mand\u001b[0m \u001b[0missubclass\u001b[0m\u001b[0;34m(\u001b[0m\u001b[0mstate_schema\u001b[0m\u001b[0;34m,\u001b[0m \u001b[0mBaseModel\u001b[0m\u001b[0;34m)\u001b[0m\u001b[0;34m:\u001b[0m\u001b[0;34m\u001b[0m\u001b[0;34m\u001b[0m\u001b[0m\n",
            "\u001b[0;32m/usr/local/lib/python3.11/dist-packages/langgraph/prebuilt/chat_agent_executor.py\u001b[0m in \u001b[0;36m_validate_chat_history\u001b[0;34m(messages)\u001b[0m\n\u001b[1;32m    236\u001b[0m         \u001b[0merror_code\u001b[0m\u001b[0;34m=\u001b[0m\u001b[0mErrorCode\u001b[0m\u001b[0;34m.\u001b[0m\u001b[0mINVALID_CHAT_HISTORY\u001b[0m\u001b[0;34m,\u001b[0m\u001b[0;34m\u001b[0m\u001b[0;34m\u001b[0m\u001b[0m\n\u001b[1;32m    237\u001b[0m     )\n\u001b[0;32m--> 238\u001b[0;31m     \u001b[0;32mraise\u001b[0m \u001b[0mValueError\u001b[0m\u001b[0;34m(\u001b[0m\u001b[0merror_message\u001b[0m\u001b[0;34m)\u001b[0m\u001b[0;34m\u001b[0m\u001b[0;34m\u001b[0m\u001b[0m\n\u001b[0m\u001b[1;32m    239\u001b[0m \u001b[0;34m\u001b[0m\u001b[0m\n\u001b[1;32m    240\u001b[0m \u001b[0;34m\u001b[0m\u001b[0m\n",
            "\u001b[0;31mValueError\u001b[0m: Found AIMessages with tool_calls that do not have a corresponding ToolMessage. Here are the first few of those tool calls: [{'name': 'get_albums_by_artist', 'args': {'artist': 'The Rolling Stones'}, 'id': 'call_6ixZqSXOoUh3LqBU0iJ3ypEU', 'type': 'tool_call'}].\n\nEvery tool call (LLM requesting to call a tool) in the message history MUST have a corresponding ToolMessage (result of a tool invocation to return to the LLM) - this is required by most LLM providers.\nFor troubleshooting, visit: https://python.langchain.com/docs/troubleshooting/errors/INVALID_CHAT_HISTORY"
          ]
        }
      ]
    },
    {
      "cell_type": "markdown",
      "source": [
        "## **Adding Long-Term Memory**"
      ],
      "metadata": {
        "id": "HmDmVbFxdg3-"
      }
    },
    {
      "cell_type": "markdown",
      "source": [
        "**We've already initialized our InMemoryStore for `Long-term` Memory in the setting up `short-term and long-term` memory section**\n",
        "\n",
        "<img src = \"https://camo.githubusercontent.com/f8ca3f7c02b405ee4ff5496cfea9ceb6fa0209e188699baf994916ba121f318c/68747470733a2f2f6d69726f2e6d656469756d2e636f6d2f76322f726573697a653a6669743a313130302f666f726d61743a776562702f312a64464d783778313275726346736c434b4271755757512e706e67\"/>"
      ],
      "metadata": {
        "id": "zkf37HjTdjns"
      }
    },
    {
      "cell_type": "markdown",
      "source": [
        "**Now, it’s time to fully integrate it into our multi-agent workflow. Long-term memory is incredibly powerful because it allows the agent to recall and leverage information from past conversations, leading to more personalized and context-aware interactions over time.**\n",
        "\n",
        "**In this step, we add two new nodes to handle long-term memory:**\n",
        "\n",
        "* **`load_memory` retrieves the user’s existing preferences from the in_memory_store at the start of the conversation (after verification).**\n",
        "* **`create_memory` saves any new music interests shared by the user during the conversation to the in_memory_store for future use.**\n",
        "\n",
        "**First, a helper function to format the user’s stored music preferences into a readable string that can be easily injected into an LLM’s prompt.**"
      ],
      "metadata": {
        "id": "eV9hOatieFNK"
      }
    },
    {
      "cell_type": "code",
      "source": [
        "from langgraph.store.base import BaseStore"
      ],
      "metadata": {
        "id": "wojWtbWKXeNQ"
      },
      "execution_count": null,
      "outputs": []
    },
    {
      "cell_type": "code",
      "source": [
        "# Helper function to format user memory data for LLM prompts\n",
        "def format_user_memory(user_data):\n",
        "  \"\"\"Formats music preferences from users, if available\"\"\"\n",
        "  # Access the \"memory\" key which holds the UserProfile Object\n",
        "  profile = user_data[\"memory\"]\n",
        "  results = \"\"\n",
        "  # Check if the music_preferences attribute exists and is not empty\n",
        "  if hasattr(profile, \"music_preferences\") and profile.music_preferences:\n",
        "    result += f\"Music Preferences: {', '.join(profile.music_preferences)}\"\n",
        "  return results.strip()"
      ],
      "metadata": {
        "id": "xMzEB8_Teuc8"
      },
      "execution_count": null,
      "outputs": []
    },
    {
      "cell_type": "code",
      "source": [
        "# Node: load_memory\n",
        "def load_memory(state: State, config: RunnableConfig, store: BaseStore):\n",
        "  \"\"\"\n",
        "  Loads music preferences from the long-term memory store for a given user.\n",
        "\n",
        "  This node fetches previously saved user preferences to provide context\n",
        "  for the current conversation, enablig personalized responses.\n",
        "  \"\"\"\n",
        "  # Getting user_id from the configurable part of the config\n",
        "  # in our evaluation setup, we might pass user_id via config\n",
        "  user_id = config[\"configurable\"].get(\"user_id\", state[\"customer_id\"])\n",
        "\n",
        "  # Define the namespace and key for accessing memory in store\n",
        "  namespace = (\"memory_profile\", user_id)\n",
        "  key = \"user_memory\"\n",
        "\n",
        "  # Retrieve existing memory for the user\n",
        "  existing_memory = store.get(namespace, key)\n",
        "  formatted_memory = \"\"\n",
        "\n",
        "  # Format the retrieved memory if it exists and has content\n",
        "  if existing_memory and existing_memory.value:\n",
        "    formatted_memory = format_user_memory(existing_memory.value)\n",
        "\n",
        "  # update the state with the loaded and formatted memory\n",
        "  return {\"loaded_memory\": formatted_memory}"
      ],
      "metadata": {
        "id": "xXMvDxBahkf0"
      },
      "execution_count": null,
      "outputs": []
    },
    {
      "cell_type": "markdown",
      "source": [
        "**The `load_memory` node uses the user_id (from config or state) to build a namespace key and fetch existing `user_memory` from the `in_memory_store`.**\n",
        "\n",
        "**It formats this memory and updates the `loaded_memory` field in the State. This memory is then included in the `music_assistant` prompt, as set up in `generate_music_assistant_prompt`**\n",
        "\n",
        "**Next, we need a Pydantic schema to structure the user’s profile for saving to memory.**"
      ],
      "metadata": {
        "id": "uZuMr0vPmz8Y"
      }
    },
    {
      "cell_type": "code",
      "source": [
        "from typing import List\n",
        "from pydantic import BaseModel, Field"
      ],
      "metadata": {
        "id": "ICCJUIGgmypl"
      },
      "execution_count": null,
      "outputs": []
    },
    {
      "cell_type": "code",
      "source": [
        "class UserProfile(BaseModel):\n",
        "    customer_id: str = Field(\n",
        "        description=\"The customer ID of the customer\"\n",
        "    )\n",
        "    music_preferences: List[str] = Field(\n",
        "        description=\"The music preferences of the customer\"\n",
        "    )"
      ],
      "metadata": {
        "id": "SLubUH5HoBre"
      },
      "execution_count": null,
      "outputs": []
    },
    {
      "cell_type": "markdown",
      "source": [
        "**Now, we define the `create_memory` node. This node will use an LLM-as-a-judge pattern to analyze the conversation history and existing memory, then update the `UserProfile` with any newly identified music interests**"
      ],
      "metadata": {
        "id": "VtM0AHq0ohXc"
      }
    },
    {
      "cell_type": "code",
      "source": [
        "# Prompt for the create_memory agent, guiding it to update user memory\n",
        "create_memory_prompt = \"\"\"You are an expert analyst that is observing a conversation that has taken place between a customer and a customer support assistant. The customer support assistant works for a digital music store, and has utilized a multi-agent team to answer the customer's request.\n",
        "You are tasked with analyzing the conversation that has taken place between the customer and the customer support assistant, and updating the memory profile associated with the customer. The memory profile may be empty. If it's empty, you should create a new memory profile for the customer.\n",
        "\n",
        "You specifically care about saving any music interest the customer has shared about themselves, particularly their music preferences to their memory profile.\n",
        "\n",
        "To help you with this task, I have attached the conversation that has taken place between the customer and the customer support assistant below, as well as the existing memory profile associated with the customer that you should either update or create.\n",
        "\n",
        "The customer's memory profile should have the following fields:\n",
        "- customer_id: the customer ID of the customer\n",
        "- music_preferences: the music preferences of the customer\n",
        "\n",
        "These are the fields you should keep track of and update in the memory profile. If there has been no new information shared by the customer, you should not update the memory profile. It is completely okay if you do not have new information to update the memory profile with. In that case, just leave the values as they are.\n",
        "\n",
        "*IMPORTANT INFORMATION BELOW*\n",
        "\n",
        "The conversation between the customer and the customer support assistant that you should analyze is as follows:\n",
        "{conversation}\n",
        "\n",
        "The existing memory profile associated with the customer that you should either update or create based on the conversation is as follows:\n",
        "{memory_profile}\n",
        "\n",
        "Ensure your response is an object that has the following fields:\n",
        "- customer_id: the customer ID of the customer\n",
        "- music_preferences: the music preferences of the customer\n",
        "\n",
        "For each key in the object, if there is no new information, do not update the value, just keep the value that is already there. If there is new information, update the value.\n",
        "\n",
        "Take a deep breath and think carefully before responding.\n",
        "\"\"\""
      ],
      "metadata": {
        "id": "in5vz1Qpoeo1"
      },
      "execution_count": null,
      "outputs": []
    },
    {
      "cell_type": "markdown",
      "source": [
        "**So we have define the memory prompt. Let’s create the memory node function.**"
      ],
      "metadata": {
        "id": "N-69CjUFowrU"
      }
    },
    {
      "cell_type": "code",
      "source": [
        "# Node: Create Memory\n",
        "from langchain_core.messages import SystemMessage"
      ],
      "metadata": {
        "id": "ZcEEd2PKoxbX"
      },
      "execution_count": null,
      "outputs": []
    },
    {
      "cell_type": "code",
      "source": [
        "def create_memory(state: State, config: RunnableConfig, store: BaseStore):\n",
        "    \"\"\"\n",
        "    Analyzes conversation history and updates the user's long-term memory profile.\n",
        "\n",
        "    This node extracts new music preferences shared by the customer during the\n",
        "    conversation and persists them in the InMemoryStore for future interactions.\n",
        "    \"\"\"\n",
        "    # Get the user_id from the configurable part of the config or from the state\n",
        "    user_id = str(config[\"configurable\"].get(\"user_id\", state[\"customer_id\"]))\n",
        "\n",
        "    # Define the namespace and key for the memory profile\n",
        "    namespace = (\"memory_profile\", user_id)\n",
        "    key = \"user_memory\"\n",
        "\n",
        "    # Retrieve the existing memory profile for the user\n",
        "    existing_memory = store.get(namespace, key)\n",
        "\n",
        "    # Format the existing memory for the LLM prompt\n",
        "    formatted_memory = \"\"\n",
        "    if existing_memory and existing_memory.value:\n",
        "        existing_memory_dict = existing_memory.value\n",
        "        # Ensure 'music_preferences' is treated as a list, even if it might be missing or None\n",
        "        music_prefs = existing_memory_dict.get('music_preferences', [])\n",
        "        if music_prefs:\n",
        "            formatted_memory = f\"Music Preferences: {', '.join(music_prefs)}\"\n",
        "\n",
        "    # Prepare the system message for the LLM to update memory\n",
        "    formatted_system_message = SystemMessage(content=create_memory_prompt.format(\n",
        "        conversation=state[\"messages\"],\n",
        "        memory_profile=formatted_memory\n",
        "    ))\n",
        "\n",
        "    # Invoke the LLM with the UserProfile schema to get structured updated memory\n",
        "    updated_memory = llm.with_structured_output(UserProfile).invoke([formatted_system_message])\n",
        "\n",
        "    # Store the updated memory profile\n",
        "    store.put(namespace, key, {\"memory\": updated_memory})"
      ],
      "metadata": {
        "id": "n8oZXtbEpCdJ"
      },
      "execution_count": null,
      "outputs": []
    },
    {
      "cell_type": "markdown",
      "source": [
        "**The create_memory node retrieves the current user memory from the store, formats it, and sends it along with the full conversation (state[\"messages\"]) to the LLM.**\n",
        "\n",
        "**The LLM extracts new music preferences into a UserProfile object, merging them with existing data. The updated memory is then saved back to the in_memory_store using store.put().**\n",
        "\n",
        "**Let’s integrate the memory nodes into our graph:**\n",
        "\n",
        "* **The load_memory node runs right after verification to load user preferences.**\n",
        "* **The create_memory node runs just before the graph ends, saving any update**\n",
        "\n",
        "**This make sure that memory is loaded at the start and saved at the end of each interaction.**"
      ],
      "metadata": {
        "id": "QuKOMKN3qsct"
      }
    },
    {
      "cell_type": "code",
      "source": [
        "multi_agent_final = StateGraph(State)"
      ],
      "metadata": {
        "id": "dk69WsyOqzd-"
      },
      "execution_count": null,
      "outputs": []
    },
    {
      "cell_type": "code",
      "source": [
        "# Add all existing and new nodes to the graph\n",
        "multi_agent_final.add_node(\"verify_info\", verify_info)\n",
        "multi_agent_final.add_node(\"human_input\", human_input)\n",
        "multi_agent_final.add_node(\"load_memory\", load_memory)\n",
        "multi_agent_final.add_node(\"supervisor\", supervisor_prebuilt) # Our supervisor agent\n",
        "multi_agent_final.add_node(\"create_memory\", create_memory)"
      ],
      "metadata": {
        "colab": {
          "base_uri": "https://localhost:8080/"
        },
        "id": "XaqhLLhJzc4z",
        "outputId": "e0a8bc49-fb12-45ef-feb3-8cefb61b6280"
      },
      "execution_count": null,
      "outputs": [
        {
          "output_type": "execute_result",
          "data": {
            "text/plain": [
              "<langgraph.graph.state.StateGraph at 0x783ee873fb50>"
            ]
          },
          "metadata": {},
          "execution_count": 89
        }
      ]
    },
    {
      "cell_type": "code",
      "source": [
        "# Defining the graph's entry point: always start with information verification\n",
        "multi_agent_final.add_edge(START, \"verify_info\")"
      ],
      "metadata": {
        "id": "dNrdfd-OzePB",
        "colab": {
          "base_uri": "https://localhost:8080/"
        },
        "outputId": "0d2d7464-bd30-4877-b798-b9f753ba5460"
      },
      "execution_count": null,
      "outputs": [
        {
          "output_type": "execute_result",
          "data": {
            "text/plain": [
              "<langgraph.graph.state.StateGraph at 0x783ee873fb50>"
            ]
          },
          "metadata": {},
          "execution_count": 90
        }
      ]
    },
    {
      "cell_type": "code",
      "source": [
        "# Conditional routing after verification: interrupt if needed, else load memory\n",
        "multi_agent_final.add_conditional_edges(\n",
        "    \"verify_info\",\n",
        "    should_interrupt,\n",
        "    {\n",
        "        \"continue\":\"load_memory\",\n",
        "        \"interrupt\":\"human_input\",\n",
        "    }\n",
        ")"
      ],
      "metadata": {
        "colab": {
          "base_uri": "https://localhost:8080/"
        },
        "id": "WTcZEgorbTHv",
        "outputId": "3a8ee91a-0bec-44fb-87d7-16a383adf83d"
      },
      "execution_count": null,
      "outputs": [
        {
          "output_type": "execute_result",
          "data": {
            "text/plain": [
              "<langgraph.graph.state.StateGraph at 0x783ee873fb50>"
            ]
          },
          "metadata": {},
          "execution_count": 91
        }
      ]
    },
    {
      "cell_type": "code",
      "source": [
        "# After human input, looping back to verify information\n",
        "multi_agent_final.add_edge(\"human_input\", \"verify_info\")"
      ],
      "metadata": {
        "colab": {
          "base_uri": "https://localhost:8080/"
        },
        "id": "IcheDVn9cMk0",
        "outputId": "ab7a19b9-6f12-4681-adfc-f24dfc340ced"
      },
      "execution_count": null,
      "outputs": [
        {
          "output_type": "execute_result",
          "data": {
            "text/plain": [
              "<langgraph.graph.state.StateGraph at 0x783ee873fb50>"
            ]
          },
          "metadata": {},
          "execution_count": 92
        }
      ]
    },
    {
      "cell_type": "code",
      "source": [
        "# Loading the memory and then passing the control to the supervisor\n",
        "multi_agent_final.add_edge(\"load_memory\", \"supervisor\")"
      ],
      "metadata": {
        "colab": {
          "base_uri": "https://localhost:8080/"
        },
        "id": "pGuG-54ucVar",
        "outputId": "7d88ca4d-70e0-464b-dedc-73e09b0e91fe"
      },
      "execution_count": null,
      "outputs": [
        {
          "output_type": "execute_result",
          "data": {
            "text/plain": [
              "<langgraph.graph.state.StateGraph at 0x783ee873fb50>"
            ]
          },
          "metadata": {},
          "execution_count": 93
        }
      ]
    },
    {
      "cell_type": "code",
      "source": [
        "# After supervisor is done, save new memory\n",
        "multi_agent_final.add_edge(\"supervisor\", \"create_memory\")"
      ],
      "metadata": {
        "colab": {
          "base_uri": "https://localhost:8080/"
        },
        "id": "EOpTsyEicd1Z",
        "outputId": "daede1e9-d73c-48d1-a071-2fd37ad86037"
      },
      "execution_count": null,
      "outputs": [
        {
          "output_type": "execute_result",
          "data": {
            "text/plain": [
              "<langgraph.graph.state.StateGraph at 0x783ee873fb50>"
            ]
          },
          "metadata": {},
          "execution_count": 94
        }
      ]
    },
    {
      "cell_type": "code",
      "source": [
        "# After creating/updating memory, the workflow ends\n",
        "multi_agent_final.add_edge(\"create_memory\", END)"
      ],
      "metadata": {
        "colab": {
          "base_uri": "https://localhost:8080/"
        },
        "id": "iS7Bqh4SclS4",
        "outputId": "4b5a6ab8-81c8-4f2b-8530-115491bfdafd"
      },
      "execution_count": null,
      "outputs": [
        {
          "output_type": "execute_result",
          "data": {
            "text/plain": [
              "<langgraph.graph.state.StateGraph at 0x783ee873fb50>"
            ]
          },
          "metadata": {},
          "execution_count": 95
        }
      ]
    },
    {
      "cell_type": "code",
      "source": [
        "# Compiling the final graph\n",
        "multi_agent_final_graph = multi_agent_final.compile(\n",
        "    name = \"multi_agent_final\",\n",
        "    checkpointer = checkpointer,\n",
        "    store = in_memory_store\n",
        ")"
      ],
      "metadata": {
        "id": "jPW4w9l2cp22"
      },
      "execution_count": null,
      "outputs": []
    },
    {
      "cell_type": "code",
      "source": [
        "show_graph(multi_agent_final_graph)"
      ],
      "metadata": {
        "colab": {
          "base_uri": "https://localhost:8080/",
          "height": 572
        },
        "id": "kcgJ2_FXcwJH",
        "outputId": "c12ffedd-2fc4-42ce-fb3f-3c2bbf1ca3cc"
      },
      "execution_count": null,
      "outputs": [
        {
          "output_type": "execute_result",
          "data": {
            "image/png": "[encoded data removed]",
            "text/plain": [
              "<IPython.core.display.Image object>"
            ]
          },
          "metadata": {},
          "execution_count": 97
        }
      ]
    },
    {
      "cell_type": "markdown",
      "source": [
        "**The show_graph output now shows the complete, sophisticated workflow:`START -> verify_info (with a loop to human_input if needed) -> load_memory -> supervisor (which internally orchestrates sub-agents) -> create_memory -> END`.**\n",
        "\n",
        "**This architecture combines verification, multi-agent routing, and long-term personalization.**"
      ],
      "metadata": {
        "id": "CxP-jIYbeuGN"
      }
    },
    {
      "cell_type": "markdown",
      "source": [
        "## **Testing our Long-term Memory Multi-agent**\n",
        "\n",
        "**Let’s test this fully integrated graph! We will give it a complex query, including an identifier for verification and a music preference to be saved.**"
      ],
      "metadata": {
        "id": "cXVgp4VobpF0"
      }
    },
    {
      "cell_type": "code",
      "source": [
        "thread_id = uuid.uuid4()\n",
        "\n",
        "question = \"My phone number is +55 (12) 3923-5555. How much was my most recent purchase? What albums do you have by the Rolling Stones?\"\n",
        "config = {\"configurable\": {\"thread_id\": thread_id}}\n",
        "\n",
        "result = multi_agent_final_graph.invoke({\"messages\": [HumanMessage(content=question)]}, config=config)\n",
        "for message in result[\"messages\"]:\n",
        "    message.pretty_print()"
      ],
      "metadata": {
        "id": "N43QeBPkczKh",
        "colab": {
          "base_uri": "https://localhost:8080/"
        },
        "outputId": "789d4726-099e-4c87-d0c9-84c2b7529a42"
      },
      "execution_count": null,
      "outputs": [
        {
          "output_type": "stream",
          "name": "stdout",
          "text": [
            "2025-06-17 05:54:07,755 INFO sqlalchemy.engine.Engine BEGIN (implicit)\n"
          ]
        },
        {
          "output_type": "stream",
          "name": "stderr",
          "text": [
            "INFO:sqlalchemy.engine.Engine:BEGIN (implicit)\n"
          ]
        },
        {
          "output_type": "stream",
          "name": "stdout",
          "text": [
            "2025-06-17 05:54:07,759 INFO sqlalchemy.engine.Engine SELECT CustomerId FROM Customer WHERE Phone = '+55 (12) 3923-5555';\n"
          ]
        },
        {
          "output_type": "stream",
          "name": "stderr",
          "text": [
            "INFO:sqlalchemy.engine.Engine:SELECT CustomerId FROM Customer WHERE Phone = '+55 (12) 3923-5555';\n"
          ]
        },
        {
          "output_type": "stream",
          "name": "stdout",
          "text": [
            "2025-06-17 05:54:07,760 INFO sqlalchemy.engine.Engine [cached since 38.45s ago] ()\n"
          ]
        },
        {
          "output_type": "stream",
          "name": "stderr",
          "text": [
            "INFO:sqlalchemy.engine.Engine:[cached since 38.45s ago] ()\n"
          ]
        },
        {
          "output_type": "stream",
          "name": "stdout",
          "text": [
            "2025-06-17 05:54:07,762 INFO sqlalchemy.engine.Engine COMMIT\n"
          ]
        },
        {
          "output_type": "stream",
          "name": "stderr",
          "text": [
            "INFO:sqlalchemy.engine.Engine:COMMIT\n"
          ]
        },
        {
          "output_type": "stream",
          "name": "stdout",
          "text": [
            "2025-06-17 05:54:08,489 INFO sqlalchemy.engine.Engine BEGIN (implicit)\n"
          ]
        },
        {
          "output_type": "stream",
          "name": "stderr",
          "text": [
            "INFO:sqlalchemy.engine.Engine:BEGIN (implicit)\n"
          ]
        },
        {
          "output_type": "stream",
          "name": "stdout",
          "text": [
            "2025-06-17 05:54:08,491 INFO sqlalchemy.engine.Engine \n",
            "      SELECT * FROM Invoice\n",
            "      WHERE CustomerId = 1\n",
            "      ORDER BY InvoiceDate DESC;\n",
            "      \n"
          ]
        },
        {
          "output_type": "stream",
          "name": "stderr",
          "text": [
            "INFO:sqlalchemy.engine.Engine:\n",
            "      SELECT * FROM Invoice\n",
            "      WHERE CustomerId = 1\n",
            "      ORDER BY InvoiceDate DESC;\n",
            "      \n"
          ]
        },
        {
          "output_type": "stream",
          "name": "stdout",
          "text": [
            "2025-06-17 05:54:08,493 INFO sqlalchemy.engine.Engine [cached since 145.9s ago] ()\n"
          ]
        },
        {
          "output_type": "stream",
          "name": "stderr",
          "text": [
            "INFO:sqlalchemy.engine.Engine:[cached since 145.9s ago] ()\n"
          ]
        },
        {
          "output_type": "stream",
          "name": "stdout",
          "text": [
            "2025-06-17 05:54:08,496 INFO sqlalchemy.engine.Engine COMMIT\n"
          ]
        },
        {
          "output_type": "stream",
          "name": "stderr",
          "text": [
            "INFO:sqlalchemy.engine.Engine:COMMIT\n"
          ]
        },
        {
          "output_type": "stream",
          "name": "stdout",
          "text": [
            "================================\u001b[1m Human Message \u001b[0m=================================\n",
            "\n",
            "My phone number is +55 (12) 3923-5555. How much was my most recent purchase? What albums do you have by the Rolling Stones?\n",
            "================================\u001b[1m System Message \u001b[0m================================\n",
            "\n",
            "Thank you for providing your information! I was able to verify your account with customer id 1.\n",
            "==================================\u001b[1m Ai Message \u001b[0m==================================\n",
            "Name: supervisor\n",
            "Tool Calls:\n",
            "  transfer_to_invoice_information_subagent (call_XEZ3qJNrsD6uSWziCR33puIo)\n",
            " Call ID: call_XEZ3qJNrsD6uSWziCR33puIo\n",
            "  Args:\n",
            "=================================\u001b[1m Tool Message \u001b[0m=================================\n",
            "Name: transfer_to_invoice_information_subagent\n",
            "\n",
            "Successfully transferred to invoice_information_subagent\n",
            "==================================\u001b[1m Ai Message \u001b[0m==================================\n",
            "Name: invoice_information_subagent\n",
            "\n",
            "Your most recent purchase was on August 7, 2025, with a total amount of $8.91. \n",
            "\n",
            "Regarding albums by the Rolling Stones, I currently do not have that information available. Would you like to search for something else or need assistance with another inquiry?\n",
            "==================================\u001b[1m Ai Message \u001b[0m==================================\n",
            "Name: invoice_information_subagent\n",
            "\n",
            "Transferring back to supervisor\n",
            "Tool Calls:\n",
            "  transfer_back_to_supervisor (edd1f1bf-695c-43e4-b728-991899777888)\n",
            " Call ID: edd1f1bf-695c-43e4-b728-991899777888\n",
            "  Args:\n",
            "=================================\u001b[1m Tool Message \u001b[0m=================================\n",
            "Name: transfer_back_to_supervisor\n",
            "\n",
            "Successfully transferred back to supervisor\n",
            "==================================\u001b[1m Ai Message \u001b[0m==================================\n",
            "Name: supervisor\n",
            "\n",
            "Would you like me to help you find albums by the Rolling Stones from our catalog or assist you with something else?\n"
          ]
        }
      ]
    },
    {
      "cell_type": "markdown",
      "source": [
        "**This interaction shows the full flow:**\n",
        "\n",
        "* **`Verification`: `verify_info` extracts the phone number, gets customer_id = 1, and updates the state.**\n",
        "* **`Load Memory`: `load_memory` runs next. Since it's likely the first session, it loads \"None\".**\n",
        "* **`Supervisor Routing`: The supervisor routes the query to `invoice_information_subagent` and `music_catalog_subagent` as needed.**\n",
        "* **`Create Memory`: After the response about “The Rolling Stones” create_memory analyzes the conversation, identifies the artist as a new preference, and saves it to the `in_memory_store` for customer_id = 1.**\n",
        "\n",
        "**This flow is purely showing how long term memory is gettinh handled by our agent, but infact we take a look at the memory.**\n",
        "\n",
        "**We can directly access our in_memory_store to check if the music preference was saved.**"
      ],
      "metadata": {
        "id": "EQX-TsQxdAaN"
      }
    },
    {
      "cell_type": "code",
      "source": [
        "user_id = \"1\" # Assuming customer ID 1 was used in the previous interaction\n",
        "namespace = (\"memory_profile\", user_id)\n",
        "memory = in_memory_store.get(namespace, \"user_memory\")\n",
        "\n",
        "# Access the UserProfile object stored under the \"memory\" key\n",
        "saved_music_preferences = memory.value.get(\"memory\").music_preferences\n",
        "\n",
        "print(saved_music_preferences)"
      ],
      "metadata": {
        "colab": {
          "base_uri": "https://localhost:8080/"
        },
        "id": "-yDAvDWsb-UN",
        "outputId": "24033ac2-2537-4a08-e41e-9777e0050d11"
      },
      "execution_count": null,
      "outputs": [
        {
          "output_type": "stream",
          "name": "stdout",
          "text": [
            "[]\n"
          ]
        }
      ]
    },
    {
      "cell_type": "markdown",
      "source": [
        "## **Evaluating our Multi-AI Agent**\n",
        "\n",
        "**Evaluations help you measure how well your agents perform, which is critical because LLM behavior can vary with even small prompt or model changes. Evaluations give you a structured way to catch failures, compare versions, and improve reliability.**\n",
        "\n",
        "<img src = \"https://camo.githubusercontent.com/5bef8358326e022ba0fc53e33983ebb96089f33f0511462015cd8c6b54629474/68747470733a2f2f6d69726f2e6d656469756d2e636f6d2f76322f726573697a653a6669743a313130302f666f726d61743a776562702f312a4d6663493769442d71735a66566838697673767658672e706e67\"/>\n",
        "\n",
        "**Evaluations consist of 3 parts:**\n",
        "\n",
        "* **Dataset: A set of test inputs and expected outputs.**\n",
        "* **Target function: The app or agent you’re testing; it takes inputs and returns outputs.**\n",
        "* **Evaluators: Tools that score the agent’s outputs.**\n",
        "\n",
        "**And some Common Agent Evaluation Types:**\n",
        "\n",
        "* **Final Response: Check if the agent gave the correct final answer.**\n",
        "* **Single Step: Evaluate one step (e.g. was the right tool chosen?).**\n",
        "* **Trajectory: Evaluate the full reasoning path the agent took to reach the answer.**\n",
        "\n",
        "**One of the most straightforward ways to evaluate an agent is to assess its overall performance on a task.**\n",
        "\n",
        "**This is like treating the agent as a “black box” and simply evaluating whether or not its final response successfully addresses the user’s query and meets the expected criteria.**\n",
        "\n",
        "* **Input: The user’s initial query.**\n",
        "* **Output: The agent’s final generated response.**\n",
        "\n",
        "**First, we need a dataset of questions and their corresponding expected (ground truth) final responses. This dataset will serve as the benchmark for our evaluation. We’ll use the langsmith.Client to create and upload this dataset.**"
      ],
      "metadata": {
        "id": "Sr-Jyd4eerB5"
      }
    },
    {
      "cell_type": "code",
      "source": [
        "from langsmith import Client\n",
        "\n",
        "client = Client()\n",
        "\n",
        "# Define example questions and their expected final responses for evaluation\n",
        "examples = [\n",
        "    {\n",
        "        \"question\": \"My name is Aaron Mitchell. My number associated with my account is +1 (204) 452-6452. I am trying to find the invoice number for my most recent song purchase. Could you help me with it?\",\n",
        "        \"response\": \"The Invoice ID of your most recent purchase was 342.\",\n",
        "    },\n",
        "    {\n",
        "        \"question\": \"I'd like a refund.\",\n",
        "        \"response\": \"I need additional information to help you with the refund. Could you please provide your customer identifier so that we can fetch your purchase history?\",\n",
        "    },\n",
        "    {\n",
        "        \"question\": \"Who recorded Wish You Were Here again?\",\n",
        "        \"response\": \"Wish You Were Here is an album by Pink Floyd\", # Note: The model might return more details, but this is the core expected fact.\n",
        "    },\n",
        "    {\n",
        "        \"question\": \"What albums do you have by Coldplay?\",\n",
        "        \"response\": \"There are no Coldplay albums available in our catalog at the moment.\",\n",
        "    },\n",
        "]\n",
        "\n",
        "dataset_name = \"LangGraph 101 Multi-Agent: Final Response\"\n",
        "\n",
        "# Check if the dataset already exists to avoid recreation errors\n",
        "if not client.has_dataset(dataset_name=dataset_name):\n",
        "    dataset = client.create_dataset(dataset_name=dataset_name)\n",
        "    client.create_examples(\n",
        "        inputs=[{\"question\": ex[\"question\"]} for ex in examples],\n",
        "        outputs=[{\"response\": ex[\"response\"]} for ex in examples],\n",
        "        dataset_id=dataset.id\n",
        "    )"
      ],
      "metadata": {
        "id": "BMVzkVPOemOk"
      },
      "execution_count": null,
      "outputs": []
    },
    {
      "cell_type": "markdown",
      "source": [
        "**Now we defines four example scenarios, each with a question (the input to our agent) and an expected response (what we consider a correct final output).**\n",
        "\n",
        "**It then creates a dataset in LangSmith and populates it with these examples.**\n",
        "\n",
        "**Next, we define a target function that encapsulates how our agent (multi_agent_final_graph) should be run for evaluation.**\n",
        "\n",
        "**This function will take the question from our dataset as input and return the agent’s final generated response.**"
      ],
      "metadata": {
        "id": "qjY_PuL6fXPV"
      }
    },
    {
      "cell_type": "code",
      "source": [
        "import uuid\n",
        "from langgraph.types import Command\n",
        "\n",
        "graph = multi_agent_final_graph\n",
        "\n",
        "async def run_graph(inputs: dict):\n",
        "    \"\"\"\n",
        "    Run the multi-agent graph workflow and return the final response.\n",
        "\n",
        "    This function handles the complete workflow including:\n",
        "    1. Initial invocation with user question\n",
        "    2. Handling human-in-the-loop interruption for customer verification\n",
        "    3. Resuming with customer ID to complete the request\n",
        "\n",
        "    Args:\n",
        "        inputs (dict): Dictionary containing the user's question\n",
        "\n",
        "    Returns:\n",
        "        dict: Dictionary containing the final response from the agent\n",
        "    \"\"\"\n",
        "    # Create a unique thread ID for this conversation session\n",
        "    thread_id = uuid.uuid4()\n",
        "    configuration = {\"configurable\": {\"thread_id\": thread_id, \"user_id\": \"10\"}}\n",
        "\n",
        "    # Initial invocation of the graph with the user's question\n",
        "    # This will trigger the verification process and likely hit the interrupt\n",
        "    result = await graph.ainvoke({\n",
        "        \"messages\": [{\"role\": \"user\", \"content\": inputs['question']}]\n",
        "    }, config=configuration)\n",
        "\n",
        "    # Resume from the human-in-the-loop interrupt by providing customer ID\n",
        "    # This allows the workflow to continue past the verification step\n",
        "    result = await graph.ainvoke(\n",
        "        Command(resume=\"My customer ID is 10\"),\n",
        "        config={\"configurable\": {\"thread_id\": thread_id, \"user_id\": \"10\"}}\n",
        "    )\n",
        "\n",
        "    # Return the final response content from the last message\n",
        "    return {\"response\": result['messages'][-1].content}"
      ],
      "metadata": {
        "id": "8QHO3-93fT5I"
      },
      "execution_count": null,
      "outputs": []
    },
    {
      "cell_type": "markdown",
      "source": [
        "**Now, let’s define how to run our graph. Note that we must continue past the interrupt() by supplying a Command(resume=\"\") to the graph.**"
      ],
      "metadata": {
        "id": "IGF5Gr8tffrL"
      }
    },
    {
      "cell_type": "code",
      "source": [
        "from openevals.llm import create_llm_as_judge\n",
        "from openevals.prompts import CORRECTNESS_PROMPT\n",
        "\n",
        "# Using Open Eval pre-built\n",
        "correctness_evaluator = create_llm_as_judge(\n",
        "    prompt=CORRECTNESS_PROMPT,\n",
        "    feedback_key=\"correctness\",\n",
        "    judge=llm\n",
        ")"
      ],
      "metadata": {
        "id": "kFuLHyPVfc6Y"
      },
      "execution_count": null,
      "outputs": []
    },
    {
      "cell_type": "markdown",
      "source": [
        "**We can also define our own evaluator too, like this.**"
      ],
      "metadata": {
        "id": "AcVjoP6xfk2R"
      }
    },
    {
      "cell_type": "code",
      "source": [
        "from typing import TypedDict, Annotated\n",
        "from langchain_core.messages import SystemMessage, HumanMessage\n",
        "\n",
        "# Custom definition of LLM-as-judge instructions\n",
        "grader_instructions = \"\"\"You are a teacher grading a quiz.\n",
        "\n",
        "You will be given a QUESTION, the GROUND TRUTH (correct) RESPONSE, and the STUDENT RESPONSE.\n",
        "\n",
        "Here is the grade criteria to follow:\n",
        "(1) Grade the student responses based ONLY on their factual accuracy relative to the ground truth answer.\n",
        "(2) Ensure that the student response does not contain any conflicting statements.\n",
        "(3) It is OK if the student response contains more information than the ground truth response, as long as it is factually accurate relative to the ground truth response.\n",
        "\n",
        "Correctness:\n",
        "True means that the student's response meets all of the criteria.\n",
        "False means that the student's response does not meet all of the criteria.\n",
        "\n",
        "Explain your reasoning in a step-by-step manner to ensure your reasoning and conclusion are correct.\"\"\"\n",
        "\n",
        "# LLM-as-judge output schema\n",
        "class Grade(TypedDict):\n",
        "    \"\"\"Compare the expected and actual answers and grade the actual answer.\"\"\"\n",
        "    reasoning: Annotated[str, ..., \"Explain your reasoning for whether the actual response is correct or not.\"]\n",
        "    is_correct: Annotated[bool, ..., \"True if the student response is mostly or exactly correct, otherwise False.\"]\n",
        "\n",
        "# Judge LLM\n",
        "grader_llm = llm.with_structured_output(Grade, method=\"json_schema\", strict=True)\n",
        "\n",
        "# Evaluator function\n",
        "async def final_answer_correct(inputs: dict, outputs: dict, reference_outputs: dict) -> bool:\n",
        "    \"\"\"Evaluate if the final response is equivalent to reference response.\"\"\"\n",
        "    # Note that we assume the outputs has a 'response' dictionary. We'll need to make sure\n",
        "    # that the target function we define includes this key.\n",
        "    user = f\"\"\"QUESTION: {inputs['question']}\n",
        "    GROUND TRUTH RESPONSE: {reference_outputs['response']}\n",
        "    STUDENT RESPONSE: {outputs['response']}\"\"\"\n",
        "\n",
        "    grade = await grader_llm.ainvoke([SystemMessage(content=grader_instructions), HumanMessage(content=user)])\n",
        "    return grade[\"is_correct\"]"
      ],
      "metadata": {
        "id": "achVuY0yfi1r"
      },
      "execution_count": null,
      "outputs": []
    },
    {
      "cell_type": "markdown",
      "source": [
        "**We can use LLM as a judge to between our ground truth and our ai agent response. Now that we have compile each and everything, let’s run the evaluation.**"
      ],
      "metadata": {
        "id": "r0gKVOxvfp3A"
      }
    },
    {
      "cell_type": "code",
      "source": [
        "# Run the evaluation experiment\n",
        "# This will test our multi-agent graph against the dataset using both evaluators\n",
        "experiment_results = await client.aevaluate(\n",
        "    run_graph,                                    # The application function to evaluate\n",
        "    data=dataset_name,                           # Dataset containing test questions and expected responses\n",
        "    evaluators=[final_answer_correct, correctness_evaluator],  # List of evaluators to assess performance\n",
        "    experiment_prefix=\"agent-result\",       # Prefix for organizing experiment results in LangSmith\n",
        "    num_repetitions=1,                           # Number of times to run each test case\n",
        "    max_concurrency=5,                           # Maximum number of concurrent evaluations\n",
        ")"
      ],
      "metadata": {
        "colab": {
          "base_uri": "https://localhost:8080/",
          "height": 1000,
          "referenced_widgets": [
            "ad6381264fea4684834938285dee74e3",
            "0470c69682ff4f359f21881c05a45bde",
            "f6fc9dc6573c40618b8393c4660ad31c",
            "e91e593f05554204a5739457a515180c",
            "56574283c43348b4b07cc623f7400dff",
            "bc46e2fa09fd4955964faf39b488c343",
            "c603be3ef059418fbb86b9a7feeb5f92",
            "981e17a423e54d99ba94f735b84572a1",
            "093b407107954780a76362fa16700391",
            "be1cd82c08264428acb50e36704fc396",
            "20df13eaf21947c2a8fd7e43909c7ab4"
          ]
        },
        "id": "NI-5HrqGfnwT",
        "outputId": "2724c388-cbb7-48c1-b0a7-27f4c5c4c3b1"
      },
      "execution_count": null,
      "outputs": [
        {
          "output_type": "stream",
          "name": "stdout",
          "text": [
            "View the evaluation results for experiment: 'agent-result-f25eb19e' at:\n",
            "https://smith.langchain.com/o/a121c439-e88d-4b7f-a7b5-c2ef794d362b/datasets/6fac66a5-59e8-4666-bac8-c95a3587845f/compare?selectedSessions=041cafe7-744d-4a65-a4a1-6b7f15a7b0bd\n",
            "\n",
            "\n"
          ]
        },
        {
          "output_type": "display_data",
          "data": {
            "text/plain": [
              "0it [00:00, ?it/s]"
            ],
            "application/vnd.jupyter.widget-view+json": {
              "version_major": 2,
              "version_minor": 0,
              "model_id": "ad6381264fea4684834938285dee74e3"
            }
          },
          "metadata": {}
        },
        {
          "output_type": "stream",
          "name": "stdout",
          "text": [
            "2025-06-17 06:06:36,823 INFO sqlalchemy.engine.Engine BEGIN (implicit)\n"
          ]
        },
        {
          "output_type": "stream",
          "name": "stderr",
          "text": [
            "INFO:sqlalchemy.engine.Engine:BEGIN (implicit)\n"
          ]
        },
        {
          "output_type": "stream",
          "name": "stdout",
          "text": [
            "2025-06-17 06:06:36,826 INFO sqlalchemy.engine.Engine SELECT CustomerId FROM Customer WHERE Phone = '+1 (204) 452-6452';\n"
          ]
        },
        {
          "output_type": "stream",
          "name": "stderr",
          "text": [
            "INFO:sqlalchemy.engine.Engine:SELECT CustomerId FROM Customer WHERE Phone = '+1 (204) 452-6452';\n"
          ]
        },
        {
          "output_type": "stream",
          "name": "stdout",
          "text": [
            "2025-06-17 06:06:36,828 INFO sqlalchemy.engine.Engine [generated in 0.00168s] ()\n"
          ]
        },
        {
          "output_type": "stream",
          "name": "stderr",
          "text": [
            "INFO:sqlalchemy.engine.Engine:[generated in 0.00168s] ()\n"
          ]
        },
        {
          "output_type": "stream",
          "name": "stdout",
          "text": [
            "2025-06-17 06:06:36,831 INFO sqlalchemy.engine.Engine COMMIT\n"
          ]
        },
        {
          "output_type": "stream",
          "name": "stderr",
          "text": [
            "INFO:sqlalchemy.engine.Engine:COMMIT\n"
          ]
        },
        {
          "output_type": "stream",
          "name": "stdout",
          "text": [
            "2025-06-17 06:06:38,040 INFO sqlalchemy.engine.Engine BEGIN (implicit)\n"
          ]
        },
        {
          "output_type": "stream",
          "name": "stderr",
          "text": [
            "INFO:sqlalchemy.engine.Engine:BEGIN (implicit)\n"
          ]
        },
        {
          "output_type": "stream",
          "name": "stdout",
          "text": [
            "2025-06-17 06:06:38,042 INFO sqlalchemy.engine.Engine \n",
            "      SELECT * FROM Invoice\n",
            "      WHERE CustomerId = 32\n",
            "      ORDER BY InvoiceDate DESC;\n",
            "      \n"
          ]
        },
        {
          "output_type": "stream",
          "name": "stderr",
          "text": [
            "INFO:sqlalchemy.engine.Engine:\n",
            "      SELECT * FROM Invoice\n",
            "      WHERE CustomerId = 32\n",
            "      ORDER BY InvoiceDate DESC;\n",
            "      \n"
          ]
        },
        {
          "output_type": "stream",
          "name": "stdout",
          "text": [
            "2025-06-17 06:06:38,045 INFO sqlalchemy.engine.Engine [generated in 0.00292s] ()\n"
          ]
        },
        {
          "output_type": "stream",
          "name": "stderr",
          "text": [
            "INFO:sqlalchemy.engine.Engine:[generated in 0.00292s] ()\n"
          ]
        },
        {
          "output_type": "stream",
          "name": "stdout",
          "text": [
            "2025-06-17 06:06:38,047 INFO sqlalchemy.engine.Engine COMMIT\n"
          ]
        },
        {
          "output_type": "stream",
          "name": "stderr",
          "text": [
            "INFO:sqlalchemy.engine.Engine:COMMIT\n",
            "ERROR:langsmith.evaluation._arunner:Error running target function: Found AIMessages with tool_calls that do not have a corresponding ToolMessage. Here are the first few of those tool calls: [{'name': 'check_for_songs', 'args': {'song_title': 'Wish You Were Here'}, 'id': 'call_ZA9EZgL367JmofGZ1UIZ2viS', 'type': 'tool_call'}].\n",
            "\n",
            "Every tool call (LLM requesting to call a tool) in the message history MUST have a corresponding ToolMessage (result of a tool invocation to return to the LLM) - this is required by most LLM providers.\n",
            "For troubleshooting, visit: https://python.langchain.com/docs/troubleshooting/errors/INVALID_CHAT_HISTORY\n",
            "Traceback (most recent call last):\n",
            "  File \"/usr/local/lib/python3.11/dist-packages/langsmith/evaluation/_arunner.py\", line 1239, in _aforward\n",
            "    await fn(\n",
            "  File \"<ipython-input-101-1216847919>\", line 33, in run_graph\n",
            "    result = await graph.ainvoke(\n",
            "             ^^^^^^^^^^^^^^^^^^^^\n",
            "  File \"/usr/local/lib/python3.11/dist-packages/langgraph/pregel/__init__.py\", line 2788, in ainvoke\n",
            "    async for chunk in self.astream(\n",
            "  File \"/usr/local/lib/python3.11/dist-packages/langgraph/pregel/__init__.py\", line 2655, in astream\n",
            "    async for _ in runner.atick(\n",
            "  File \"/usr/local/lib/python3.11/dist-packages/langgraph/pregel/__init__.py\", line 2788, in ainvoke\n",
            "    async for chunk in self.astream(\n",
            "  File \"/usr/local/lib/python3.11/dist-packages/langgraph/pregel/__init__.py\", line 2655, in astream\n",
            "    async for _ in runner.atick(\n",
            "  File \"/usr/local/lib/python3.11/dist-packages/langgraph/pregel/__init__.py\", line 2788, in ainvoke\n",
            "    async for chunk in self.astream(\n",
            "  File \"/usr/local/lib/python3.11/dist-packages/langgraph/pregel/__init__.py\", line 2655, in astream\n",
            "    async for _ in runner.atick(\n",
            "  File \"/usr/local/lib/python3.11/dist-packages/langgraph/prebuilt/chat_agent_executor.py\", line 522, in acall_model\n",
            "    state = _get_model_input_state(state)\n",
            "            ^^^^^^^^^^^^^^^^^^^^^^^^^^^^^\n",
            "  File \"/usr/local/lib/python3.11/dist-packages/langgraph/prebuilt/chat_agent_executor.py\", line 493, in _get_model_input_state\n",
            "    _validate_chat_history(messages)\n",
            "  File \"/usr/local/lib/python3.11/dist-packages/langgraph/prebuilt/chat_agent_executor.py\", line 238, in _validate_chat_history\n",
            "    raise ValueError(error_message)\n",
            "ValueError: Found AIMessages with tool_calls that do not have a corresponding ToolMessage. Here are the first few of those tool calls: [{'name': 'check_for_songs', 'args': {'song_title': 'Wish You Were Here'}, 'id': 'call_ZA9EZgL367JmofGZ1UIZ2viS', 'type': 'tool_call'}].\n",
            "\n",
            "Every tool call (LLM requesting to call a tool) in the message history MUST have a corresponding ToolMessage (result of a tool invocation to return to the LLM) - this is required by most LLM providers.\n",
            "For troubleshooting, visit: https://python.langchain.com/docs/troubleshooting/errors/INVALID_CHAT_HISTORY\n",
            "During task with name 'agent' and id 'a8f94663-9ed7-7664-448e-06548ba641bf'\n",
            "During task with name 'supervisor' and id 'e943ca39-698f-af7a-3bc7-3b1ef51b05c5'\n",
            "During task with name 'supervisor' and id '595dda87-30f7-a0af-8f3a-ebaaec8e83c7'\n",
            "ERROR:langsmith.evaluation._arunner:Error running target function: Found AIMessages with tool_calls that do not have a corresponding ToolMessage. Here are the first few of those tool calls: [{'name': 'get_albums_by_artist', 'args': {'artist': 'Coldplay'}, 'id': 'call_XwcWahvTTwKQ2DFou36CmfVt', 'type': 'tool_call'}].\n",
            "\n",
            "Every tool call (LLM requesting to call a tool) in the message history MUST have a corresponding ToolMessage (result of a tool invocation to return to the LLM) - this is required by most LLM providers.\n",
            "For troubleshooting, visit: https://python.langchain.com/docs/troubleshooting/errors/INVALID_CHAT_HISTORY\n",
            "Traceback (most recent call last):\n",
            "  File \"/usr/local/lib/python3.11/dist-packages/langsmith/evaluation/_arunner.py\", line 1239, in _aforward\n",
            "    await fn(\n",
            "  File \"<ipython-input-101-1216847919>\", line 33, in run_graph\n",
            "    result = await graph.ainvoke(\n",
            "             ^^^^^^^^^^^^^^^^^^^^\n",
            "  File \"/usr/local/lib/python3.11/dist-packages/langgraph/pregel/__init__.py\", line 2788, in ainvoke\n",
            "    async for chunk in self.astream(\n",
            "  File \"/usr/local/lib/python3.11/dist-packages/langgraph/pregel/__init__.py\", line 2655, in astream\n",
            "    async for _ in runner.atick(\n",
            "  File \"/usr/local/lib/python3.11/dist-packages/langgraph/pregel/__init__.py\", line 2788, in ainvoke\n",
            "    async for chunk in self.astream(\n",
            "  File \"/usr/local/lib/python3.11/dist-packages/langgraph/pregel/__init__.py\", line 2655, in astream\n",
            "    async for _ in runner.atick(\n",
            "  File \"/usr/local/lib/python3.11/dist-packages/langgraph/pregel/__init__.py\", line 2788, in ainvoke\n",
            "    async for chunk in self.astream(\n",
            "  File \"/usr/local/lib/python3.11/dist-packages/langgraph/pregel/__init__.py\", line 2655, in astream\n",
            "    async for _ in runner.atick(\n",
            "  File \"/usr/local/lib/python3.11/dist-packages/langgraph/prebuilt/chat_agent_executor.py\", line 522, in acall_model\n",
            "    state = _get_model_input_state(state)\n",
            "            ^^^^^^^^^^^^^^^^^^^^^^^^^^^^^\n",
            "  File \"/usr/local/lib/python3.11/dist-packages/langgraph/prebuilt/chat_agent_executor.py\", line 493, in _get_model_input_state\n",
            "    _validate_chat_history(messages)\n",
            "  File \"/usr/local/lib/python3.11/dist-packages/langgraph/prebuilt/chat_agent_executor.py\", line 238, in _validate_chat_history\n",
            "    raise ValueError(error_message)\n",
            "ValueError: Found AIMessages with tool_calls that do not have a corresponding ToolMessage. Here are the first few of those tool calls: [{'name': 'get_albums_by_artist', 'args': {'artist': 'Coldplay'}, 'id': 'call_XwcWahvTTwKQ2DFou36CmfVt', 'type': 'tool_call'}].\n",
            "\n",
            "Every tool call (LLM requesting to call a tool) in the message history MUST have a corresponding ToolMessage (result of a tool invocation to return to the LLM) - this is required by most LLM providers.\n",
            "For troubleshooting, visit: https://python.langchain.com/docs/troubleshooting/errors/INVALID_CHAT_HISTORY\n",
            "During task with name 'agent' and id '55d153c1-97ea-5bb3-b358-8d46344eb5eb'\n",
            "During task with name 'supervisor' and id '9433056f-c7cf-5ea4-8d0a-26770b93f1cd'\n",
            "During task with name 'supervisor' and id 'c7cdd573-18a8-7d04-bcc4-6359c45efa9f'\n"
          ]
        }
      ]
    },
    {
      "cell_type": "code",
      "source": [],
      "metadata": {
        "id": "f-I1o-UyfyRC"
      },
      "execution_count": null,
      "outputs": []
    }
  ]
}